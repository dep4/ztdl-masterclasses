{
 "cells": [
  {
   "cell_type": "markdown",
   "metadata": {
    "colab_type": "text",
    "id": "view-in-github"
   },
   "source": [
    "<a href=\"https://colab.research.google.com/github/zerotodeeplearning/ztdl-masterclasses/blob/master/solutions_do_not_open/Gradient_Boosting_with_XGBoost_and_LightGBM_solution.ipynb\" target=\"_parent\"><img src=\"https://colab.research.google.com/assets/colab-badge.svg\" alt=\"Open In Colab\"/></a>"
   ]
  },
  {
   "cell_type": "markdown",
   "metadata": {
    "colab_type": "text",
    "id": "2bwH96hViwS7"
   },
   "source": [
    "## Learn with us: www.zerotodeeplearning.com\n",
    "\n",
    "Copyright © 2021: Zero to Deep Learning ® Catalit LLC."
   ]
  },
  {
   "cell_type": "code",
   "execution_count": null,
   "metadata": {
    "colab": {},
    "colab_type": "code",
    "id": "bFidPKNdkVPg"
   },
   "outputs": [],
   "source": [
    "# Licensed under the Apache License, Version 2.0 (the \"License\");\n",
    "# you may not use this file except in compliance with the License.\n",
    "# You may obtain a copy of the License at\n",
    "#\n",
    "# https://www.apache.org/licenses/LICENSE-2.0\n",
    "#\n",
    "# Unless required by applicable law or agreed to in writing, software\n",
    "# distributed under the License is distributed on an \"AS IS\" BASIS,\n",
    "# WITHOUT WARRANTIES OR CONDITIONS OF ANY KIND, either express or implied.\n",
    "# See the License for the specific language governing permissions and\n",
    "# limitations under the License."
   ]
  },
  {
   "cell_type": "markdown",
   "metadata": {
    "colab_type": "text",
    "id": "DvoukA2tkGV4"
   },
   "source": [
    "# Gradient Boosting with XGBoost and LightGBM"
   ]
  },
  {
   "cell_type": "code",
   "execution_count": null,
   "metadata": {
    "colab": {},
    "colab_type": "code",
    "id": "N_r-QBApVpI5"
   },
   "outputs": [],
   "source": [
    "import pandas as pd\n",
    "import numpy as np\n",
    "import matplotlib.pyplot as plt"
   ]
  },
  {
   "cell_type": "code",
   "execution_count": null,
   "metadata": {
    "colab": {},
    "colab_type": "code",
    "id": "E3uToT-HVrXA"
   },
   "outputs": [],
   "source": [
    "df = pd.read_csv(\"https://raw.githubusercontent.com/zerotodeeplearning/ztdl-masterclasses/master/data/australian_credit.csv\")"
   ]
  },
  {
   "cell_type": "code",
   "execution_count": null,
   "metadata": {
    "colab": {
     "base_uri": "https://localhost:8080/",
     "height": 204
    },
    "colab_type": "code",
    "id": "Ghb7PWZmV1SY",
    "outputId": "a4c7cceb-5f49-4737-e486-92599b9edea0"
   },
   "outputs": [
    {
     "data": {
      "text/html": [
       "<div>\n",
       "<style scoped>\n",
       "    .dataframe tbody tr th:only-of-type {\n",
       "        vertical-align: middle;\n",
       "    }\n",
       "\n",
       "    .dataframe tbody tr th {\n",
       "        vertical-align: top;\n",
       "    }\n",
       "\n",
       "    .dataframe thead th {\n",
       "        text-align: right;\n",
       "    }\n",
       "</style>\n",
       "<table border=\"1\" class=\"dataframe\">\n",
       "  <thead>\n",
       "    <tr style=\"text-align: right;\">\n",
       "      <th></th>\n",
       "      <th>sex</th>\n",
       "      <th>age</th>\n",
       "      <th>time_at_addr</th>\n",
       "      <th>home_status</th>\n",
       "      <th>occupation</th>\n",
       "      <th>job_status</th>\n",
       "      <th>time_w_empl</th>\n",
       "      <th>investments</th>\n",
       "      <th>bank_account</th>\n",
       "      <th>time_w_bank</th>\n",
       "      <th>liability_ref</th>\n",
       "      <th>account_ref</th>\n",
       "      <th>monthly_housing</th>\n",
       "      <th>savings_balance</th>\n",
       "      <th>class</th>\n",
       "    </tr>\n",
       "  </thead>\n",
       "  <tbody>\n",
       "    <tr>\n",
       "      <th>0</th>\n",
       "      <td>b</td>\n",
       "      <td>30.83</td>\n",
       "      <td>0.000</td>\n",
       "      <td>u</td>\n",
       "      <td>w</td>\n",
       "      <td>v</td>\n",
       "      <td>1.25</td>\n",
       "      <td>t</td>\n",
       "      <td>t</td>\n",
       "      <td>1</td>\n",
       "      <td>f</td>\n",
       "      <td>g</td>\n",
       "      <td>202.0</td>\n",
       "      <td>0</td>\n",
       "      <td>1</td>\n",
       "    </tr>\n",
       "    <tr>\n",
       "      <th>1</th>\n",
       "      <td>a</td>\n",
       "      <td>58.67</td>\n",
       "      <td>4.460</td>\n",
       "      <td>u</td>\n",
       "      <td>q</td>\n",
       "      <td>h</td>\n",
       "      <td>3.04</td>\n",
       "      <td>t</td>\n",
       "      <td>t</td>\n",
       "      <td>6</td>\n",
       "      <td>f</td>\n",
       "      <td>g</td>\n",
       "      <td>43.0</td>\n",
       "      <td>560</td>\n",
       "      <td>1</td>\n",
       "    </tr>\n",
       "    <tr>\n",
       "      <th>2</th>\n",
       "      <td>a</td>\n",
       "      <td>24.50</td>\n",
       "      <td>0.500</td>\n",
       "      <td>u</td>\n",
       "      <td>q</td>\n",
       "      <td>h</td>\n",
       "      <td>1.50</td>\n",
       "      <td>t</td>\n",
       "      <td>f</td>\n",
       "      <td>0</td>\n",
       "      <td>f</td>\n",
       "      <td>g</td>\n",
       "      <td>280.0</td>\n",
       "      <td>824</td>\n",
       "      <td>1</td>\n",
       "    </tr>\n",
       "    <tr>\n",
       "      <th>3</th>\n",
       "      <td>b</td>\n",
       "      <td>27.83</td>\n",
       "      <td>1.540</td>\n",
       "      <td>u</td>\n",
       "      <td>w</td>\n",
       "      <td>v</td>\n",
       "      <td>3.75</td>\n",
       "      <td>t</td>\n",
       "      <td>t</td>\n",
       "      <td>5</td>\n",
       "      <td>t</td>\n",
       "      <td>g</td>\n",
       "      <td>100.0</td>\n",
       "      <td>3</td>\n",
       "      <td>1</td>\n",
       "    </tr>\n",
       "    <tr>\n",
       "      <th>4</th>\n",
       "      <td>b</td>\n",
       "      <td>20.17</td>\n",
       "      <td>5.625</td>\n",
       "      <td>u</td>\n",
       "      <td>w</td>\n",
       "      <td>v</td>\n",
       "      <td>1.71</td>\n",
       "      <td>t</td>\n",
       "      <td>f</td>\n",
       "      <td>0</td>\n",
       "      <td>f</td>\n",
       "      <td>s</td>\n",
       "      <td>120.0</td>\n",
       "      <td>0</td>\n",
       "      <td>1</td>\n",
       "    </tr>\n",
       "  </tbody>\n",
       "</table>\n",
       "</div>"
      ],
      "text/plain": [
       "  sex    age  time_at_addr  ... monthly_housing savings_balance class\n",
       "0   b  30.83         0.000  ...           202.0               0     1\n",
       "1   a  58.67         4.460  ...            43.0             560     1\n",
       "2   a  24.50         0.500  ...           280.0             824     1\n",
       "3   b  27.83         1.540  ...           100.0               3     1\n",
       "4   b  20.17         5.625  ...           120.0               0     1\n",
       "\n",
       "[5 rows x 15 columns]"
      ]
     },
     "execution_count": 3,
     "metadata": {
      "tags": []
     },
     "output_type": "execute_result"
    }
   ],
   "source": [
    "df.head()"
   ]
  },
  {
   "cell_type": "code",
   "execution_count": null,
   "metadata": {
    "colab": {
     "base_uri": "https://localhost:8080/",
     "height": 391
    },
    "colab_type": "code",
    "id": "4Idz_ZvOV8t5",
    "outputId": "d5179977-53af-4415-9abc-3c46b98bd266"
   },
   "outputs": [
    {
     "name": "stdout",
     "output_type": "stream",
     "text": [
      "<class 'pandas.core.frame.DataFrame'>\n",
      "RangeIndex: 653 entries, 0 to 652\n",
      "Data columns (total 15 columns):\n",
      " #   Column           Non-Null Count  Dtype  \n",
      "---  ------           --------------  -----  \n",
      " 0   sex              653 non-null    object \n",
      " 1   age              653 non-null    float64\n",
      " 2   time_at_addr     653 non-null    float64\n",
      " 3   home_status      653 non-null    object \n",
      " 4   occupation       653 non-null    object \n",
      " 5   job_status       653 non-null    object \n",
      " 6   time_w_empl      653 non-null    float64\n",
      " 7   investments      653 non-null    object \n",
      " 8   bank_account     653 non-null    object \n",
      " 9   time_w_bank      653 non-null    int64  \n",
      " 10  liability_ref    653 non-null    object \n",
      " 11  account_ref      653 non-null    object \n",
      " 12  monthly_housing  653 non-null    float64\n",
      " 13  savings_balance  653 non-null    int64  \n",
      " 14  class            653 non-null    int64  \n",
      "dtypes: float64(4), int64(3), object(8)\n",
      "memory usage: 76.6+ KB\n"
     ]
    }
   ],
   "source": [
    "df.info()"
   ]
  },
  {
   "cell_type": "code",
   "execution_count": null,
   "metadata": {
    "colab": {
     "base_uri": "https://localhost:8080/",
     "height": 68
    },
    "colab_type": "code",
    "id": "U8ndw9Xf3iB_",
    "outputId": "99b574a3-5d3f-46d1-aeb3-9535ba3b7d63"
   },
   "outputs": [
    {
     "data": {
      "text/plain": [
       "0    357\n",
       "1    296\n",
       "Name: class, dtype: int64"
      ]
     },
     "execution_count": 5,
     "metadata": {
      "tags": []
     },
     "output_type": "execute_result"
    }
   ],
   "source": [
    "y = df.pop('class')\n",
    "y.value_counts()"
   ]
  },
  {
   "cell_type": "code",
   "execution_count": null,
   "metadata": {
    "colab": {
     "base_uri": "https://localhost:8080/",
     "height": 119
    },
    "colab_type": "code",
    "id": "MzrBjhp03TN1",
    "outputId": "25b245eb-b777-46bf-cee3-db81bb854b1c"
   },
   "outputs": [
    {
     "data": {
      "text/plain": [
       "['age',\n",
       " 'time_at_addr',\n",
       " 'time_w_empl',\n",
       " 'time_w_bank',\n",
       " 'monthly_housing',\n",
       " 'savings_balance']"
      ]
     },
     "execution_count": 6,
     "metadata": {
      "tags": []
     },
     "output_type": "execute_result"
    }
   ],
   "source": [
    "numerical_features = list(df.select_dtypes(include='number').columns)\n",
    "numerical_features"
   ]
  },
  {
   "cell_type": "code",
   "execution_count": null,
   "metadata": {
    "colab": {
     "base_uri": "https://localhost:8080/",
     "height": 153
    },
    "colab_type": "code",
    "id": "lFR6UURa3bA0",
    "outputId": "7adfea3c-7aad-4ebf-ee5a-7b20158b0b9a"
   },
   "outputs": [
    {
     "data": {
      "text/plain": [
       "['sex',\n",
       " 'home_status',\n",
       " 'occupation',\n",
       " 'job_status',\n",
       " 'investments',\n",
       " 'bank_account',\n",
       " 'liability_ref',\n",
       " 'account_ref']"
      ]
     },
     "execution_count": 7,
     "metadata": {
      "tags": []
     },
     "output_type": "execute_result"
    }
   ],
   "source": [
    "categorical_features = list(df.select_dtypes(exclude='number').columns)\n",
    "categorical_features"
   ]
  },
  {
   "cell_type": "markdown",
   "metadata": {
    "colab_type": "text",
    "id": "NVJBfdGT3rFZ"
   },
   "source": [
    "## Baselines"
   ]
  },
  {
   "cell_type": "code",
   "execution_count": null,
   "metadata": {
    "colab": {},
    "colab_type": "code",
    "id": "Xv4Z6OMD3u__"
   },
   "outputs": [],
   "source": [
    "from sklearn.dummy import DummyClassifier\n",
    "from sklearn.linear_model import LogisticRegression\n",
    "from sklearn.tree import DecisionTreeClassifier\n",
    "from sklearn.model_selection import train_test_split"
   ]
  },
  {
   "cell_type": "code",
   "execution_count": null,
   "metadata": {
    "colab": {},
    "colab_type": "code",
    "id": "dlGT_ZHn343l"
   },
   "outputs": [],
   "source": [
    "X_train, X_test, y_train, y_test = train_test_split(\n",
    "  df[numerical_features], y, test_size=0.2, random_state=0)"
   ]
  },
  {
   "cell_type": "code",
   "execution_count": null,
   "metadata": {
    "colab": {},
    "colab_type": "code",
    "id": "PjVbZQ__4Fhm"
   },
   "outputs": [],
   "source": [
    "def train_eval(model):\n",
    "  model.fit(X_train, y_train)\n",
    "\n",
    "  train_score = model.score(X_train, y_train)\n",
    "  test_score = model.score(X_test, y_test)\n",
    "  return train_score, test_score"
   ]
  },
  {
   "cell_type": "code",
   "execution_count": null,
   "metadata": {
    "colab": {
     "base_uri": "https://localhost:8080/",
     "height": 142
    },
    "colab_type": "code",
    "id": "KXpgWq4f4UQa",
    "outputId": "9df427aa-780f-4ccf-e81a-7837b0dc939e"
   },
   "outputs": [
    {
     "data": {
      "text/html": [
       "<div>\n",
       "<style scoped>\n",
       "    .dataframe tbody tr th:only-of-type {\n",
       "        vertical-align: middle;\n",
       "    }\n",
       "\n",
       "    .dataframe tbody tr th {\n",
       "        vertical-align: top;\n",
       "    }\n",
       "\n",
       "    .dataframe thead th {\n",
       "        text-align: right;\n",
       "    }\n",
       "</style>\n",
       "<table border=\"1\" class=\"dataframe\">\n",
       "  <thead>\n",
       "    <tr style=\"text-align: right;\">\n",
       "      <th></th>\n",
       "      <th>model_name</th>\n",
       "      <th>train_accuracy</th>\n",
       "      <th>test_accuracy</th>\n",
       "    </tr>\n",
       "  </thead>\n",
       "  <tbody>\n",
       "    <tr>\n",
       "      <th>1</th>\n",
       "      <td>LogisticRegression</td>\n",
       "      <td>0.766284</td>\n",
       "      <td>0.801527</td>\n",
       "    </tr>\n",
       "    <tr>\n",
       "      <th>2</th>\n",
       "      <td>DecisionTreeClassifier</td>\n",
       "      <td>1.000000</td>\n",
       "      <td>0.732824</td>\n",
       "    </tr>\n",
       "    <tr>\n",
       "      <th>0</th>\n",
       "      <td>DummyClassifier</td>\n",
       "      <td>0.547893</td>\n",
       "      <td>0.541985</td>\n",
       "    </tr>\n",
       "  </tbody>\n",
       "</table>\n",
       "</div>"
      ],
      "text/plain": [
       "               model_name  train_accuracy  test_accuracy\n",
       "1      LogisticRegression        0.766284       0.801527\n",
       "2  DecisionTreeClassifier        1.000000       0.732824\n",
       "0         DummyClassifier        0.547893       0.541985"
      ]
     },
     "execution_count": 11,
     "metadata": {
      "tags": []
     },
     "output_type": "execute_result"
    }
   ],
   "source": [
    "models = [DummyClassifier(strategy='most_frequent'),\n",
    "          LogisticRegression(solver='liblinear'),\n",
    "          DecisionTreeClassifier()]\n",
    "\n",
    "res = []\n",
    "\n",
    "for model in models:\n",
    "  mname = model.__class__.__name__\n",
    "  tr, te = train_eval(model)\n",
    "  res.append([mname, tr, te])\n",
    "\n",
    "df_results = pd.DataFrame(res, columns=['model_name',\n",
    "                                        'train_accuracy',\n",
    "                                        'test_accuracy'])\n",
    "\n",
    "df_results.sort_values('test_accuracy', ascending=False)"
   ]
  },
  {
   "cell_type": "markdown",
   "metadata": {
    "colab_type": "text",
    "id": "fakvNLxR4XTM"
   },
   "source": [
    "## Exercise 1: Scikit-Learn\n",
    "\n",
    "Extend the above measurements with the following models from Scikit Learn:\n",
    "\n",
    "- Random Forest\n",
    "- Extra Trees\n",
    "- AdaBoost\n"
   ]
  },
  {
   "cell_type": "code",
   "execution_count": null,
   "metadata": {
    "colab": {},
    "colab_type": "code",
    "id": "CoQXC6OQ5aDH",
    "tags": [
     "solution",
     "empty"
    ]
   },
   "outputs": [],
   "source": [
    "from sklearn.ensemble import AdaBoostClassifier, ExtraTreesClassifier, RandomForestClassifier"
   ]
  },
  {
   "cell_type": "code",
   "execution_count": null,
   "metadata": {
    "colab": {
     "base_uri": "https://localhost:8080/",
     "height": 235
    },
    "colab_type": "code",
    "id": "45YFDm0u5eYo",
    "outputId": "302b026f-83aa-4d2a-a4e0-8030941d6de3",
    "tags": [
     "solution"
    ]
   },
   "outputs": [
    {
     "data": {
      "text/html": [
       "<div>\n",
       "<style scoped>\n",
       "    .dataframe tbody tr th:only-of-type {\n",
       "        vertical-align: middle;\n",
       "    }\n",
       "\n",
       "    .dataframe tbody tr th {\n",
       "        vertical-align: top;\n",
       "    }\n",
       "\n",
       "    .dataframe thead th {\n",
       "        text-align: right;\n",
       "    }\n",
       "</style>\n",
       "<table border=\"1\" class=\"dataframe\">\n",
       "  <thead>\n",
       "    <tr style=\"text-align: right;\">\n",
       "      <th></th>\n",
       "      <th>model_name</th>\n",
       "      <th>train_accuracy</th>\n",
       "      <th>test_accuracy</th>\n",
       "    </tr>\n",
       "  </thead>\n",
       "  <tbody>\n",
       "    <tr>\n",
       "      <th>1</th>\n",
       "      <td>LogisticRegression</td>\n",
       "      <td>0.766284</td>\n",
       "      <td>0.801527</td>\n",
       "    </tr>\n",
       "    <tr>\n",
       "      <th>3</th>\n",
       "      <td>RandomForestClassifier</td>\n",
       "      <td>1.000000</td>\n",
       "      <td>0.786260</td>\n",
       "    </tr>\n",
       "    <tr>\n",
       "      <th>4</th>\n",
       "      <td>ExtraTreesClassifier</td>\n",
       "      <td>1.000000</td>\n",
       "      <td>0.786260</td>\n",
       "    </tr>\n",
       "    <tr>\n",
       "      <th>5</th>\n",
       "      <td>AdaBoostClassifier</td>\n",
       "      <td>0.842912</td>\n",
       "      <td>0.778626</td>\n",
       "    </tr>\n",
       "    <tr>\n",
       "      <th>2</th>\n",
       "      <td>DecisionTreeClassifier</td>\n",
       "      <td>1.000000</td>\n",
       "      <td>0.732824</td>\n",
       "    </tr>\n",
       "    <tr>\n",
       "      <th>0</th>\n",
       "      <td>DummyClassifier</td>\n",
       "      <td>0.547893</td>\n",
       "      <td>0.541985</td>\n",
       "    </tr>\n",
       "  </tbody>\n",
       "</table>\n",
       "</div>"
      ],
      "text/plain": [
       "               model_name  train_accuracy  test_accuracy\n",
       "1      LogisticRegression        0.766284       0.801527\n",
       "3  RandomForestClassifier        1.000000       0.786260\n",
       "4    ExtraTreesClassifier        1.000000       0.786260\n",
       "5      AdaBoostClassifier        0.842912       0.778626\n",
       "2  DecisionTreeClassifier        1.000000       0.732824\n",
       "0         DummyClassifier        0.547893       0.541985"
      ]
     },
     "execution_count": 13,
     "metadata": {
      "tags": []
     },
     "output_type": "execute_result"
    }
   ],
   "source": [
    "models = [RandomForestClassifier(),\n",
    "          ExtraTreesClassifier(),\n",
    "          AdaBoostClassifier()]\n",
    "\n",
    "res = []\n",
    "\n",
    "for model in models:\n",
    "  mname = model.__class__.__name__\n",
    "  tr, te = train_eval(model)\n",
    "  res.append([mname, tr, te])\n",
    "\n",
    "df_results = pd.concat([df_results,\n",
    "                        pd.DataFrame(res,\n",
    "                                     columns=['model_name',\n",
    "                                              'train_accuracy',\n",
    "                                              'test_accuracy'])],\n",
    "                       axis=0).reset_index(drop=True)\n",
    "\n",
    "df_results.sort_values('test_accuracy', ascending=False)"
   ]
  },
  {
   "cell_type": "markdown",
   "metadata": {
    "colab_type": "text",
    "id": "hAUEkIZA54Cp"
   },
   "source": [
    "## Exercise 2: XGBoost with 1-hot encoded variables\n",
    "\n",
    "Let's use XGBoost to classify our data.\n",
    "\n",
    "- Import `XGBClassifier` from `xgboost`\n",
    "- create a new dataset called `df_one_hot` where all categorical variables are one-hot encoded\n",
    "- perform a train/test split again\n",
    "- re-train all the models previously trained on the new dataset\n",
    "- include `XGBClassifier` in the list of models\n",
    "- compare their scores\n",
    "- BONUS: use `GridSearchCV` to optimize the hyperparameters of `XGBClassifier`"
   ]
  },
  {
   "cell_type": "code",
   "execution_count": null,
   "metadata": {
    "colab": {},
    "colab_type": "code",
    "id": "XbcmXsYK7KSO",
    "tags": [
     "solution",
     "empty"
    ]
   },
   "outputs": [],
   "source": [
    "from xgboost import XGBClassifier"
   ]
  },
  {
   "cell_type": "code",
   "execution_count": null,
   "metadata": {
    "colab": {
     "base_uri": "https://localhost:8080/",
     "height": 867
    },
    "colab_type": "code",
    "id": "FVXPWKkX7VnF",
    "outputId": "678c1906-801b-4f65-e148-cf1d880266dd",
    "tags": [
     "solution"
    ]
   },
   "outputs": [
    {
     "name": "stdout",
     "output_type": "stream",
     "text": [
      "<class 'pandas.core.frame.DataFrame'>\n",
      "RangeIndex: 653 entries, 0 to 652\n",
      "Data columns (total 43 columns):\n",
      " #   Column           Non-Null Count  Dtype  \n",
      "---  ------           --------------  -----  \n",
      " 0   age              653 non-null    float64\n",
      " 1   time_at_addr     653 non-null    float64\n",
      " 2   time_w_empl      653 non-null    float64\n",
      " 3   time_w_bank      653 non-null    int64  \n",
      " 4   monthly_housing  653 non-null    float64\n",
      " 5   savings_balance  653 non-null    int64  \n",
      " 6   sex_a            653 non-null    uint8  \n",
      " 7   sex_b            653 non-null    uint8  \n",
      " 8   home_status_l    653 non-null    uint8  \n",
      " 9   home_status_u    653 non-null    uint8  \n",
      " 10  home_status_y    653 non-null    uint8  \n",
      " 11  occupation_aa    653 non-null    uint8  \n",
      " 12  occupation_c     653 non-null    uint8  \n",
      " 13  occupation_cc    653 non-null    uint8  \n",
      " 14  occupation_d     653 non-null    uint8  \n",
      " 15  occupation_e     653 non-null    uint8  \n",
      " 16  occupation_ff    653 non-null    uint8  \n",
      " 17  occupation_i     653 non-null    uint8  \n",
      " 18  occupation_j     653 non-null    uint8  \n",
      " 19  occupation_k     653 non-null    uint8  \n",
      " 20  occupation_m     653 non-null    uint8  \n",
      " 21  occupation_q     653 non-null    uint8  \n",
      " 22  occupation_r     653 non-null    uint8  \n",
      " 23  occupation_w     653 non-null    uint8  \n",
      " 24  occupation_x     653 non-null    uint8  \n",
      " 25  job_status_bb    653 non-null    uint8  \n",
      " 26  job_status_dd    653 non-null    uint8  \n",
      " 27  job_status_ff    653 non-null    uint8  \n",
      " 28  job_status_h     653 non-null    uint8  \n",
      " 29  job_status_j     653 non-null    uint8  \n",
      " 30  job_status_n     653 non-null    uint8  \n",
      " 31  job_status_o     653 non-null    uint8  \n",
      " 32  job_status_v     653 non-null    uint8  \n",
      " 33  job_status_z     653 non-null    uint8  \n",
      " 34  investments_f    653 non-null    uint8  \n",
      " 35  investments_t    653 non-null    uint8  \n",
      " 36  bank_account_f   653 non-null    uint8  \n",
      " 37  bank_account_t   653 non-null    uint8  \n",
      " 38  liability_ref_f  653 non-null    uint8  \n",
      " 39  liability_ref_t  653 non-null    uint8  \n",
      " 40  account_ref_g    653 non-null    uint8  \n",
      " 41  account_ref_p    653 non-null    uint8  \n",
      " 42  account_ref_s    653 non-null    uint8  \n",
      "dtypes: float64(4), int64(2), uint8(37)\n",
      "memory usage: 54.3 KB\n"
     ]
    }
   ],
   "source": [
    "df_one_hot = pd.get_dummies(df)\n",
    "df_one_hot.info()"
   ]
  },
  {
   "cell_type": "code",
   "execution_count": null,
   "metadata": {
    "colab": {},
    "colab_type": "code",
    "id": "WambQAJT74A5",
    "tags": [
     "solution"
    ]
   },
   "outputs": [],
   "source": [
    "X_train, X_test, y_train, y_test = train_test_split(\n",
    "  df_one_hot, y, test_size=0.2, random_state=0)"
   ]
  },
  {
   "cell_type": "code",
   "execution_count": null,
   "metadata": {
    "colab": {
     "base_uri": "https://localhost:8080/",
     "height": 266
    },
    "colab_type": "code",
    "id": "CvXPuqFl78P2",
    "outputId": "f85d48f6-67fd-4d55-86f6-c75d1c665dfc",
    "tags": [
     "solution"
    ]
   },
   "outputs": [
    {
     "data": {
      "text/html": [
       "<div>\n",
       "<style scoped>\n",
       "    .dataframe tbody tr th:only-of-type {\n",
       "        vertical-align: middle;\n",
       "    }\n",
       "\n",
       "    .dataframe tbody tr th {\n",
       "        vertical-align: top;\n",
       "    }\n",
       "\n",
       "    .dataframe thead th {\n",
       "        text-align: right;\n",
       "    }\n",
       "</style>\n",
       "<table border=\"1\" class=\"dataframe\">\n",
       "  <thead>\n",
       "    <tr style=\"text-align: right;\">\n",
       "      <th></th>\n",
       "      <th>model_name</th>\n",
       "      <th>train_accuracy</th>\n",
       "      <th>test_accuracy</th>\n",
       "    </tr>\n",
       "  </thead>\n",
       "  <tbody>\n",
       "    <tr>\n",
       "      <th>1</th>\n",
       "      <td>LogisticRegression</td>\n",
       "      <td>0.877395</td>\n",
       "      <td>0.877863</td>\n",
       "    </tr>\n",
       "    <tr>\n",
       "      <th>4</th>\n",
       "      <td>ExtraTreesClassifier</td>\n",
       "      <td>1.000000</td>\n",
       "      <td>0.877863</td>\n",
       "    </tr>\n",
       "    <tr>\n",
       "      <th>3</th>\n",
       "      <td>RandomForestClassifier</td>\n",
       "      <td>1.000000</td>\n",
       "      <td>0.870229</td>\n",
       "    </tr>\n",
       "    <tr>\n",
       "      <th>6</th>\n",
       "      <td>XGBClassifier</td>\n",
       "      <td>0.950192</td>\n",
       "      <td>0.862595</td>\n",
       "    </tr>\n",
       "    <tr>\n",
       "      <th>5</th>\n",
       "      <td>AdaBoostClassifier</td>\n",
       "      <td>0.921456</td>\n",
       "      <td>0.847328</td>\n",
       "    </tr>\n",
       "    <tr>\n",
       "      <th>2</th>\n",
       "      <td>DecisionTreeClassifier</td>\n",
       "      <td>1.000000</td>\n",
       "      <td>0.816794</td>\n",
       "    </tr>\n",
       "    <tr>\n",
       "      <th>0</th>\n",
       "      <td>DummyClassifier</td>\n",
       "      <td>0.547893</td>\n",
       "      <td>0.541985</td>\n",
       "    </tr>\n",
       "  </tbody>\n",
       "</table>\n",
       "</div>"
      ],
      "text/plain": [
       "               model_name  train_accuracy  test_accuracy\n",
       "1      LogisticRegression        0.877395       0.877863\n",
       "4    ExtraTreesClassifier        1.000000       0.877863\n",
       "3  RandomForestClassifier        1.000000       0.870229\n",
       "6           XGBClassifier        0.950192       0.862595\n",
       "5      AdaBoostClassifier        0.921456       0.847328\n",
       "2  DecisionTreeClassifier        1.000000       0.816794\n",
       "0         DummyClassifier        0.547893       0.541985"
      ]
     },
     "execution_count": 17,
     "metadata": {
      "tags": []
     },
     "output_type": "execute_result"
    }
   ],
   "source": [
    "models = [DummyClassifier(strategy='most_frequent'),\n",
    "          LogisticRegression(solver='liblinear'),\n",
    "          DecisionTreeClassifier(),\n",
    "          RandomForestClassifier(),\n",
    "          ExtraTreesClassifier(),\n",
    "          AdaBoostClassifier(),\n",
    "          XGBClassifier()\n",
    "          ]\n",
    "\n",
    "res = []\n",
    "\n",
    "for model in models:\n",
    "  mname = model.__class__.__name__\n",
    "  tr, te = train_eval(model)\n",
    "  res.append([mname, tr, te])\n",
    "\n",
    "df_results_2 = pd.DataFrame(res, columns=['model_name',\n",
    "                                          'train_accuracy',\n",
    "                                          'test_accuracy'])\n",
    "\n",
    "df_results_2.sort_values('test_accuracy', ascending=False)"
   ]
  },
  {
   "cell_type": "code",
   "execution_count": null,
   "metadata": {
    "colab": {},
    "colab_type": "code",
    "id": "XLZT8mpf8YXm",
    "tags": [
     "solution"
    ]
   },
   "outputs": [],
   "source": [
    "from sklearn.model_selection import GridSearchCV"
   ]
  },
  {
   "cell_type": "code",
   "execution_count": null,
   "metadata": {
    "colab": {
     "base_uri": "https://localhost:8080/",
     "height": 527
    },
    "colab_type": "code",
    "id": "VW1fxzWT7OzO",
    "outputId": "b108b0a0-b1eb-44ce-a631-7e494decc7a3",
    "tags": [
     "solution"
    ]
   },
   "outputs": [
    {
     "name": "stdout",
     "output_type": "stream",
     "text": [
      "Fitting 3 folds for each of 27 candidates, totalling 81 fits\n"
     ]
    },
    {
     "name": "stderr",
     "output_type": "stream",
     "text": [
      "[Parallel(n_jobs=-1)]: Using backend LokyBackend with 2 concurrent workers.\n",
      "[Parallel(n_jobs=-1)]: Done   1 tasks      | elapsed:    1.6s\n",
      "[Parallel(n_jobs=-1)]: Done   4 tasks      | elapsed:    2.1s\n",
      "[Parallel(n_jobs=-1)]: Done   9 tasks      | elapsed:    2.8s\n",
      "[Parallel(n_jobs=-1)]: Done  14 tasks      | elapsed:    3.7s\n",
      "[Parallel(n_jobs=-1)]: Done  21 tasks      | elapsed:    4.8s\n",
      "[Parallel(n_jobs=-1)]: Done  28 tasks      | elapsed:    5.7s\n",
      "[Parallel(n_jobs=-1)]: Done  37 tasks      | elapsed:    7.0s\n",
      "[Parallel(n_jobs=-1)]: Done  46 tasks      | elapsed:    8.2s\n",
      "[Parallel(n_jobs=-1)]: Done  57 tasks      | elapsed:    9.7s\n",
      "[Parallel(n_jobs=-1)]: Done  68 tasks      | elapsed:   11.1s\n",
      "[Parallel(n_jobs=-1)]: Done  81 out of  81 | elapsed:   12.6s finished\n"
     ]
    },
    {
     "data": {
      "text/plain": [
       "GridSearchCV(cv=3, error_score=nan,\n",
       "             estimator=XGBClassifier(base_score=0.5, booster='gbtree',\n",
       "                                     colsample_bylevel=1, colsample_bynode=1,\n",
       "                                     colsample_bytree=1, gamma=0,\n",
       "                                     learning_rate=0.1, max_delta_step=0,\n",
       "                                     max_depth=3, min_child_weight=1,\n",
       "                                     missing=None, n_estimators=100, n_jobs=1,\n",
       "                                     nthread=None, objective='binary:logistic',\n",
       "                                     random_state=0, reg_alpha=0, reg_lambda=1,\n",
       "                                     scale_pos_weight=1, seed=None, silent=None,\n",
       "                                     subsample=1, verbosity=1),\n",
       "             iid='deprecated', n_jobs=-1,\n",
       "             param_grid={'learning_rate': [0.05, 0.1, 0.16],\n",
       "                         'max_depth': [10, 30, 50],\n",
       "                         'min_child_weight': [1, 3, 6], 'n_estimators': [200]},\n",
       "             pre_dispatch='2*n_jobs', refit=True, return_train_score=False,\n",
       "             scoring=None, verbose=10)"
      ]
     },
     "execution_count": 19,
     "metadata": {
      "tags": []
     },
     "output_type": "execute_result"
    }
   ],
   "source": [
    "param_dist = {\"max_depth\": [10,30,50],\n",
    "              \"min_child_weight\" : [1,3,6],\n",
    "              \"n_estimators\": [200],\n",
    "              \"learning_rate\": [0.05, 0.1,0.16],}\n",
    "\n",
    "model = XGBClassifier()\n",
    "\n",
    "grid_search = GridSearchCV(model,\n",
    "                           param_grid=param_dist,\n",
    "                           cv = 3, \n",
    "                           verbose=10, n_jobs=-1)\n",
    "\n",
    "grid_search.fit(X_train, y_train)"
   ]
  },
  {
   "cell_type": "code",
   "execution_count": null,
   "metadata": {
    "colab": {},
    "colab_type": "code",
    "id": "iOmDysSQ8hsa",
    "tags": [
     "solution"
    ]
   },
   "outputs": [],
   "source": [
    "model = grid_search.best_estimator_"
   ]
  },
  {
   "cell_type": "code",
   "execution_count": null,
   "metadata": {
    "colab": {},
    "colab_type": "code",
    "id": "fRjR_sMv7QAn",
    "tags": [
     "solution"
    ]
   },
   "outputs": [],
   "source": [
    "tr, te = train_eval(model)"
   ]
  },
  {
   "cell_type": "code",
   "execution_count": null,
   "metadata": {
    "colab": {},
    "colab_type": "code",
    "id": "kZTZrtl-7Mf6",
    "tags": [
     "solution"
    ]
   },
   "outputs": [],
   "source": [
    "df_results_2.loc[df_results_2.index.max() + 1] = ['xgboost_optimized', tr, te]"
   ]
  },
  {
   "cell_type": "code",
   "execution_count": null,
   "metadata": {
    "colab": {
     "base_uri": "https://localhost:8080/",
     "height": 297
    },
    "colab_type": "code",
    "id": "-tGJHpb_9B-D",
    "outputId": "52bd3a51-0c16-41ba-e746-25c39458ae83",
    "tags": [
     "solution"
    ]
   },
   "outputs": [
    {
     "data": {
      "text/html": [
       "<div>\n",
       "<style scoped>\n",
       "    .dataframe tbody tr th:only-of-type {\n",
       "        vertical-align: middle;\n",
       "    }\n",
       "\n",
       "    .dataframe tbody tr th {\n",
       "        vertical-align: top;\n",
       "    }\n",
       "\n",
       "    .dataframe thead th {\n",
       "        text-align: right;\n",
       "    }\n",
       "</style>\n",
       "<table border=\"1\" class=\"dataframe\">\n",
       "  <thead>\n",
       "    <tr style=\"text-align: right;\">\n",
       "      <th></th>\n",
       "      <th>model_name</th>\n",
       "      <th>train_accuracy</th>\n",
       "      <th>test_accuracy</th>\n",
       "    </tr>\n",
       "  </thead>\n",
       "  <tbody>\n",
       "    <tr>\n",
       "      <th>7</th>\n",
       "      <td>xgboost_optimized</td>\n",
       "      <td>0.938697</td>\n",
       "      <td>0.885496</td>\n",
       "    </tr>\n",
       "    <tr>\n",
       "      <th>1</th>\n",
       "      <td>LogisticRegression</td>\n",
       "      <td>0.877395</td>\n",
       "      <td>0.877863</td>\n",
       "    </tr>\n",
       "    <tr>\n",
       "      <th>4</th>\n",
       "      <td>ExtraTreesClassifier</td>\n",
       "      <td>1.000000</td>\n",
       "      <td>0.877863</td>\n",
       "    </tr>\n",
       "    <tr>\n",
       "      <th>3</th>\n",
       "      <td>RandomForestClassifier</td>\n",
       "      <td>1.000000</td>\n",
       "      <td>0.870229</td>\n",
       "    </tr>\n",
       "    <tr>\n",
       "      <th>6</th>\n",
       "      <td>XGBClassifier</td>\n",
       "      <td>0.950192</td>\n",
       "      <td>0.862595</td>\n",
       "    </tr>\n",
       "    <tr>\n",
       "      <th>5</th>\n",
       "      <td>AdaBoostClassifier</td>\n",
       "      <td>0.921456</td>\n",
       "      <td>0.847328</td>\n",
       "    </tr>\n",
       "    <tr>\n",
       "      <th>2</th>\n",
       "      <td>DecisionTreeClassifier</td>\n",
       "      <td>1.000000</td>\n",
       "      <td>0.816794</td>\n",
       "    </tr>\n",
       "    <tr>\n",
       "      <th>0</th>\n",
       "      <td>DummyClassifier</td>\n",
       "      <td>0.547893</td>\n",
       "      <td>0.541985</td>\n",
       "    </tr>\n",
       "  </tbody>\n",
       "</table>\n",
       "</div>"
      ],
      "text/plain": [
       "               model_name  train_accuracy  test_accuracy\n",
       "7       xgboost_optimized        0.938697       0.885496\n",
       "1      LogisticRegression        0.877395       0.877863\n",
       "4    ExtraTreesClassifier        1.000000       0.877863\n",
       "3  RandomForestClassifier        1.000000       0.870229\n",
       "6           XGBClassifier        0.950192       0.862595\n",
       "5      AdaBoostClassifier        0.921456       0.847328\n",
       "2  DecisionTreeClassifier        1.000000       0.816794\n",
       "0         DummyClassifier        0.547893       0.541985"
      ]
     },
     "execution_count": 23,
     "metadata": {
      "tags": []
     },
     "output_type": "execute_result"
    }
   ],
   "source": [
    "df_results_2.sort_values('test_accuracy', ascending=False)"
   ]
  },
  {
   "cell_type": "markdown",
   "metadata": {
    "colab_type": "text",
    "id": "_o8YtRoL9S3f"
   },
   "source": [
    "## Exercise 3: LightGBM\n",
    "\n",
    "Let's use LightGBM to classify our data.\n",
    "\n",
    "- import `LGBMClassifier` from `lightgbm`\n",
    "- train your best model on the one-hot encoded features\n",
    "- compare the results\n",
    "\n",
    "- BONUS:\n",
    "- create a new dataset called `df_cat_enc` where all categorical variables are encoded with the `OrdinalEncoder` from `sklearn.preprocessing`, while the numerical features are preserved\n",
    "- perform a new train/test split\n",
    "- train a lgbm model on this data. You will need to use the following code:\n",
    "```python\n",
    "ds_train = lgb.Dataset(X_train, label=y_train)\n",
    "model3 = lgb.train(params, ds_train, \n",
    "                   categorical_feature = categorical_features)\n",
    "```\n",
    "refer to the [documentation](https://lightgbm.readthedocs.io/en/latest/Python-Intro.html) if you're unsure about how to proceed for this step.\n",
    "- compare their scores\n"
   ]
  },
  {
   "cell_type": "code",
   "execution_count": null,
   "metadata": {
    "colab": {},
    "colab_type": "code",
    "id": "qQZ3JeJD9wV5",
    "tags": [
     "solution",
     "empty"
    ]
   },
   "outputs": [],
   "source": [
    "import lightgbm as lgb\n",
    "from sklearn.metrics import accuracy_score"
   ]
  },
  {
   "cell_type": "code",
   "execution_count": null,
   "metadata": {
    "colab": {
     "base_uri": "https://localhost:8080/",
     "height": 561
    },
    "colab_type": "code",
    "id": "xklATPYn917t",
    "outputId": "02f28ca2-db6d-4f0e-cbd5-df8f491d17da",
    "tags": [
     "solution"
    ]
   },
   "outputs": [
    {
     "name": "stdout",
     "output_type": "stream",
     "text": [
      "Fitting 3 folds for each of 27 candidates, totalling 81 fits\n"
     ]
    },
    {
     "name": "stderr",
     "output_type": "stream",
     "text": [
      "[Parallel(n_jobs=-1)]: Using backend LokyBackend with 2 concurrent workers.\n",
      "[Parallel(n_jobs=-1)]: Done   1 tasks      | elapsed:    0.3s\n",
      "[Parallel(n_jobs=-1)]: Done   4 tasks      | elapsed:    0.6s\n",
      "[Parallel(n_jobs=-1)]: Done   9 tasks      | elapsed:    1.2s\n",
      "[Parallel(n_jobs=-1)]: Done  14 tasks      | elapsed:    1.7s\n",
      "[Parallel(n_jobs=-1)]: Done  21 tasks      | elapsed:    2.5s\n",
      "[Parallel(n_jobs=-1)]: Done  28 tasks      | elapsed:    3.4s\n",
      "[Parallel(n_jobs=-1)]: Done  37 tasks      | elapsed:    4.4s\n",
      "[Parallel(n_jobs=-1)]: Done  46 tasks      | elapsed:    5.4s\n",
      "[Parallel(n_jobs=-1)]: Done  57 tasks      | elapsed:    6.7s\n",
      "[Parallel(n_jobs=-1)]: Done  68 tasks      | elapsed:    8.0s\n",
      "[Parallel(n_jobs=-1)]: Done  81 out of  81 | elapsed:    9.5s finished\n"
     ]
    },
    {
     "data": {
      "text/plain": [
       "GridSearchCV(cv=3, error_score=nan,\n",
       "             estimator=LGBMClassifier(boosting_type='gbdt', class_weight=None,\n",
       "                                      colsample_bytree=1.0,\n",
       "                                      importance_type='split',\n",
       "                                      learning_rate=0.1, max_depth=-1,\n",
       "                                      min_child_samples=20,\n",
       "                                      min_child_weight=0.001,\n",
       "                                      min_split_gain=0.0, n_estimators=100,\n",
       "                                      n_jobs=-1, num_leaves=31, objective=None,\n",
       "                                      random_state=None, reg_alpha=0.0,\n",
       "                                      reg_lambda=0.0, silent=False,\n",
       "                                      subsample=1.0, subsample_for_bin=200000,\n",
       "                                      subsample_freq=0),\n",
       "             iid='deprecated', n_jobs=-1,\n",
       "             param_grid={'learning_rate': [0.01, 0.05, 0.1],\n",
       "                         'max_depth': [25, 50, 75], 'n_estimators': [200],\n",
       "                         'num_leaves': [300, 900, 1200]},\n",
       "             pre_dispatch='2*n_jobs', refit=True, return_train_score=False,\n",
       "             scoring=None, verbose=10)"
      ]
     },
     "execution_count": 25,
     "metadata": {
      "tags": []
     },
     "output_type": "execute_result"
    }
   ],
   "source": [
    "model = lgb.LGBMClassifier(silent=False)\n",
    "\n",
    "param_dist = {\"max_depth\": [25,50, 75],\n",
    "              \"learning_rate\" : [0.01,0.05,0.1],\n",
    "              \"num_leaves\": [300,900,1200],\n",
    "              \"n_estimators\": [200]\n",
    "             }\n",
    "grid_search = GridSearchCV(model,\n",
    "                           param_grid=param_dist,\n",
    "                           cv = 3, \n",
    "                           verbose=10, n_jobs=-1)\n",
    "\n",
    "grid_search.fit(X_train, y_train)"
   ]
  },
  {
   "cell_type": "code",
   "execution_count": null,
   "metadata": {
    "colab": {},
    "colab_type": "code",
    "id": "yDK_Yq6E913W",
    "tags": [
     "solution"
    ]
   },
   "outputs": [],
   "source": [
    "params = grid_search.best_params_"
   ]
  },
  {
   "cell_type": "code",
   "execution_count": null,
   "metadata": {
    "colab": {
     "base_uri": "https://localhost:8080/",
     "height": 51
    },
    "colab_type": "code",
    "id": "oG5_9hGL9dYA",
    "outputId": "2861497d-1187-435b-eff9-23f41233b251",
    "tags": [
     "solution"
    ]
   },
   "outputs": [
    {
     "name": "stderr",
     "output_type": "stream",
     "text": [
      "/usr/local/lib/python3.6/dist-packages/lightgbm/engine.py:118: UserWarning: Found `n_estimators` in params. Will use it instead of argument\n",
      "  warnings.warn(\"Found `{}` in params. Will use it instead of argument\".format(alias))\n"
     ]
    }
   ],
   "source": [
    "ds_train = lgb.Dataset(X_train, label=y_train)\n",
    "\n",
    "model2 = lgb.train(params, ds_train)"
   ]
  },
  {
   "cell_type": "code",
   "execution_count": null,
   "metadata": {
    "colab": {},
    "colab_type": "code",
    "id": "s2TduePm-kUl",
    "tags": [
     "solution"
    ]
   },
   "outputs": [],
   "source": [
    "y_pred_train = model2.predict(X_train).round(0).astype(int)\n",
    "y_pred_test = model2.predict(X_test).round(0).astype(int)"
   ]
  },
  {
   "cell_type": "code",
   "execution_count": null,
   "metadata": {
    "colab": {},
    "colab_type": "code",
    "id": "eMBKlT95-wub",
    "tags": [
     "solution"
    ]
   },
   "outputs": [],
   "source": [
    "tr = accuracy_score(y_train, y_pred_train)\n",
    "te = accuracy_score(y_test, y_pred_test)"
   ]
  },
  {
   "cell_type": "code",
   "execution_count": null,
   "metadata": {
    "colab": {},
    "colab_type": "code",
    "id": "nm7B4i7IAzbV",
    "tags": [
     "solution"
    ]
   },
   "outputs": [],
   "source": [
    "df_results_2.loc[df_results_2.index.max() + 1] = ['lgboost_optimized', tr, te]"
   ]
  },
  {
   "cell_type": "code",
   "execution_count": null,
   "metadata": {
    "colab": {
     "base_uri": "https://localhost:8080/",
     "height": 328
    },
    "colab_type": "code",
    "id": "aTYDJQgZBHSu",
    "outputId": "4fa66fe1-0bb1-454b-9337-3ead72328ef3",
    "tags": [
     "solution"
    ]
   },
   "outputs": [
    {
     "data": {
      "text/html": [
       "<div>\n",
       "<style scoped>\n",
       "    .dataframe tbody tr th:only-of-type {\n",
       "        vertical-align: middle;\n",
       "    }\n",
       "\n",
       "    .dataframe tbody tr th {\n",
       "        vertical-align: top;\n",
       "    }\n",
       "\n",
       "    .dataframe thead th {\n",
       "        text-align: right;\n",
       "    }\n",
       "</style>\n",
       "<table border=\"1\" class=\"dataframe\">\n",
       "  <thead>\n",
       "    <tr style=\"text-align: right;\">\n",
       "      <th></th>\n",
       "      <th>model_name</th>\n",
       "      <th>train_accuracy</th>\n",
       "      <th>test_accuracy</th>\n",
       "    </tr>\n",
       "  </thead>\n",
       "  <tbody>\n",
       "    <tr>\n",
       "      <th>8</th>\n",
       "      <td>lgboost_optimized</td>\n",
       "      <td>0.913793</td>\n",
       "      <td>0.893130</td>\n",
       "    </tr>\n",
       "    <tr>\n",
       "      <th>7</th>\n",
       "      <td>xgboost_optimized</td>\n",
       "      <td>0.938697</td>\n",
       "      <td>0.885496</td>\n",
       "    </tr>\n",
       "    <tr>\n",
       "      <th>1</th>\n",
       "      <td>LogisticRegression</td>\n",
       "      <td>0.877395</td>\n",
       "      <td>0.877863</td>\n",
       "    </tr>\n",
       "    <tr>\n",
       "      <th>4</th>\n",
       "      <td>ExtraTreesClassifier</td>\n",
       "      <td>1.000000</td>\n",
       "      <td>0.877863</td>\n",
       "    </tr>\n",
       "    <tr>\n",
       "      <th>3</th>\n",
       "      <td>RandomForestClassifier</td>\n",
       "      <td>1.000000</td>\n",
       "      <td>0.870229</td>\n",
       "    </tr>\n",
       "    <tr>\n",
       "      <th>6</th>\n",
       "      <td>XGBClassifier</td>\n",
       "      <td>0.950192</td>\n",
       "      <td>0.862595</td>\n",
       "    </tr>\n",
       "    <tr>\n",
       "      <th>5</th>\n",
       "      <td>AdaBoostClassifier</td>\n",
       "      <td>0.921456</td>\n",
       "      <td>0.847328</td>\n",
       "    </tr>\n",
       "    <tr>\n",
       "      <th>2</th>\n",
       "      <td>DecisionTreeClassifier</td>\n",
       "      <td>1.000000</td>\n",
       "      <td>0.816794</td>\n",
       "    </tr>\n",
       "    <tr>\n",
       "      <th>0</th>\n",
       "      <td>DummyClassifier</td>\n",
       "      <td>0.547893</td>\n",
       "      <td>0.541985</td>\n",
       "    </tr>\n",
       "  </tbody>\n",
       "</table>\n",
       "</div>"
      ],
      "text/plain": [
       "               model_name  train_accuracy  test_accuracy\n",
       "8       lgboost_optimized        0.913793       0.893130\n",
       "7       xgboost_optimized        0.938697       0.885496\n",
       "1      LogisticRegression        0.877395       0.877863\n",
       "4    ExtraTreesClassifier        1.000000       0.877863\n",
       "3  RandomForestClassifier        1.000000       0.870229\n",
       "6           XGBClassifier        0.950192       0.862595\n",
       "5      AdaBoostClassifier        0.921456       0.847328\n",
       "2  DecisionTreeClassifier        1.000000       0.816794\n",
       "0         DummyClassifier        0.547893       0.541985"
      ]
     },
     "execution_count": 32,
     "metadata": {
      "tags": []
     },
     "output_type": "execute_result"
    }
   ],
   "source": [
    "df_results_2.sort_values('test_accuracy', ascending=False)"
   ]
  },
  {
   "cell_type": "code",
   "execution_count": null,
   "metadata": {
    "colab": {},
    "colab_type": "code",
    "id": "WxtE0_IZ_CKj",
    "tags": [
     "solution"
    ]
   },
   "outputs": [],
   "source": [
    "from sklearn.preprocessing import OrdinalEncoder"
   ]
  },
  {
   "cell_type": "code",
   "execution_count": null,
   "metadata": {
    "colab": {
     "base_uri": "https://localhost:8080/",
     "height": 204
    },
    "colab_type": "code",
    "id": "H8_jqtAU_hNy",
    "outputId": "e84d8435-7bc9-4b3c-9776-810b332ecdb5",
    "tags": [
     "solution"
    ]
   },
   "outputs": [
    {
     "data": {
      "text/html": [
       "<div>\n",
       "<style scoped>\n",
       "    .dataframe tbody tr th:only-of-type {\n",
       "        vertical-align: middle;\n",
       "    }\n",
       "\n",
       "    .dataframe tbody tr th {\n",
       "        vertical-align: top;\n",
       "    }\n",
       "\n",
       "    .dataframe thead th {\n",
       "        text-align: right;\n",
       "    }\n",
       "</style>\n",
       "<table border=\"1\" class=\"dataframe\">\n",
       "  <thead>\n",
       "    <tr style=\"text-align: right;\">\n",
       "      <th></th>\n",
       "      <th>sex</th>\n",
       "      <th>age</th>\n",
       "      <th>time_at_addr</th>\n",
       "      <th>home_status</th>\n",
       "      <th>occupation</th>\n",
       "      <th>job_status</th>\n",
       "      <th>time_w_empl</th>\n",
       "      <th>investments</th>\n",
       "      <th>bank_account</th>\n",
       "      <th>time_w_bank</th>\n",
       "      <th>liability_ref</th>\n",
       "      <th>account_ref</th>\n",
       "      <th>monthly_housing</th>\n",
       "      <th>savings_balance</th>\n",
       "    </tr>\n",
       "  </thead>\n",
       "  <tbody>\n",
       "    <tr>\n",
       "      <th>0</th>\n",
       "      <td>1</td>\n",
       "      <td>30.83</td>\n",
       "      <td>0.000</td>\n",
       "      <td>1</td>\n",
       "      <td>12</td>\n",
       "      <td>7</td>\n",
       "      <td>1.25</td>\n",
       "      <td>1</td>\n",
       "      <td>1</td>\n",
       "      <td>1</td>\n",
       "      <td>0</td>\n",
       "      <td>0</td>\n",
       "      <td>202.0</td>\n",
       "      <td>0</td>\n",
       "    </tr>\n",
       "    <tr>\n",
       "      <th>1</th>\n",
       "      <td>0</td>\n",
       "      <td>58.67</td>\n",
       "      <td>4.460</td>\n",
       "      <td>1</td>\n",
       "      <td>10</td>\n",
       "      <td>3</td>\n",
       "      <td>3.04</td>\n",
       "      <td>1</td>\n",
       "      <td>1</td>\n",
       "      <td>6</td>\n",
       "      <td>0</td>\n",
       "      <td>0</td>\n",
       "      <td>43.0</td>\n",
       "      <td>560</td>\n",
       "    </tr>\n",
       "    <tr>\n",
       "      <th>2</th>\n",
       "      <td>0</td>\n",
       "      <td>24.50</td>\n",
       "      <td>0.500</td>\n",
       "      <td>1</td>\n",
       "      <td>10</td>\n",
       "      <td>3</td>\n",
       "      <td>1.50</td>\n",
       "      <td>1</td>\n",
       "      <td>0</td>\n",
       "      <td>0</td>\n",
       "      <td>0</td>\n",
       "      <td>0</td>\n",
       "      <td>280.0</td>\n",
       "      <td>824</td>\n",
       "    </tr>\n",
       "    <tr>\n",
       "      <th>3</th>\n",
       "      <td>1</td>\n",
       "      <td>27.83</td>\n",
       "      <td>1.540</td>\n",
       "      <td>1</td>\n",
       "      <td>12</td>\n",
       "      <td>7</td>\n",
       "      <td>3.75</td>\n",
       "      <td>1</td>\n",
       "      <td>1</td>\n",
       "      <td>5</td>\n",
       "      <td>1</td>\n",
       "      <td>0</td>\n",
       "      <td>100.0</td>\n",
       "      <td>3</td>\n",
       "    </tr>\n",
       "    <tr>\n",
       "      <th>4</th>\n",
       "      <td>1</td>\n",
       "      <td>20.17</td>\n",
       "      <td>5.625</td>\n",
       "      <td>1</td>\n",
       "      <td>12</td>\n",
       "      <td>7</td>\n",
       "      <td>1.71</td>\n",
       "      <td>1</td>\n",
       "      <td>0</td>\n",
       "      <td>0</td>\n",
       "      <td>0</td>\n",
       "      <td>2</td>\n",
       "      <td>120.0</td>\n",
       "      <td>0</td>\n",
       "    </tr>\n",
       "  </tbody>\n",
       "</table>\n",
       "</div>"
      ],
      "text/plain": [
       "   sex    age  time_at_addr  ...  account_ref  monthly_housing  savings_balance\n",
       "0    1  30.83         0.000  ...            0            202.0                0\n",
       "1    0  58.67         4.460  ...            0             43.0              560\n",
       "2    0  24.50         0.500  ...            0            280.0              824\n",
       "3    1  27.83         1.540  ...            0            100.0                3\n",
       "4    1  20.17         5.625  ...            2            120.0                0\n",
       "\n",
       "[5 rows x 14 columns]"
      ]
     },
     "execution_count": 34,
     "metadata": {
      "tags": []
     },
     "output_type": "execute_result"
    }
   ],
   "source": [
    "df_cat_enc = df.copy()\n",
    "\n",
    "enc = OrdinalEncoder()\n",
    "\n",
    "df_cat_enc[categorical_features] = enc.fit_transform(df[categorical_features])\n",
    "df_cat_enc[categorical_features] = df_cat_enc[categorical_features].astype(int)\n",
    "\n",
    "df_cat_enc.head()"
   ]
  },
  {
   "cell_type": "code",
   "execution_count": null,
   "metadata": {
    "colab": {},
    "colab_type": "code",
    "id": "_NJC83X0AoW4",
    "tags": [
     "solution"
    ]
   },
   "outputs": [],
   "source": [
    "X_train, X_test, y_train, y_test = train_test_split(df_cat_enc, y, test_size=0.2, random_state=0)"
   ]
  },
  {
   "cell_type": "code",
   "execution_count": null,
   "metadata": {
    "colab": {},
    "colab_type": "code",
    "id": "Uw91_nN9AoTY",
    "tags": [
     "solution"
    ]
   },
   "outputs": [],
   "source": [
    "ds_train = lgb.Dataset(X_train, label=y_train)"
   ]
  },
  {
   "cell_type": "code",
   "execution_count": null,
   "metadata": {
    "colab": {
     "base_uri": "https://localhost:8080/",
     "height": 102
    },
    "colab_type": "code",
    "id": "oGumUQtc9jMW",
    "outputId": "93a8052d-33ee-4317-ddfc-ef41457c9430",
    "tags": [
     "solution"
    ]
   },
   "outputs": [
    {
     "name": "stderr",
     "output_type": "stream",
     "text": [
      "/usr/local/lib/python3.6/dist-packages/lightgbm/engine.py:118: UserWarning: Found `n_estimators` in params. Will use it instead of argument\n",
      "  warnings.warn(\"Found `{}` in params. Will use it instead of argument\".format(alias))\n",
      "/usr/local/lib/python3.6/dist-packages/lightgbm/basic.py:1209: UserWarning: categorical_feature in Dataset is overridden.\n",
      "New categorical_feature is ['account_ref', 'bank_account', 'home_status', 'investments', 'job_status', 'liability_ref', 'occupation', 'sex']\n",
      "  'New categorical_feature is {}'.format(sorted(list(categorical_feature))))\n"
     ]
    }
   ],
   "source": [
    "model3 = lgb.train(params, ds_train, \n",
    "                   categorical_feature = categorical_features)"
   ]
  },
  {
   "cell_type": "code",
   "execution_count": null,
   "metadata": {
    "colab": {},
    "colab_type": "code",
    "id": "czDSWRfoAbQB",
    "tags": [
     "solution"
    ]
   },
   "outputs": [],
   "source": [
    "y_pred_train = model3.predict(X_train).round(0).astype(int)\n",
    "y_pred_test = model3.predict(X_test).round(0).astype(int)"
   ]
  },
  {
   "cell_type": "code",
   "execution_count": null,
   "metadata": {
    "colab": {},
    "colab_type": "code",
    "id": "MgW9JFM4Bbes",
    "tags": [
     "solution"
    ]
   },
   "outputs": [],
   "source": [
    "tr = accuracy_score(y_train, y_pred_train)\n",
    "te = accuracy_score(y_test, y_pred_test)"
   ]
  },
  {
   "cell_type": "code",
   "execution_count": null,
   "metadata": {
    "colab": {},
    "colab_type": "code",
    "id": "tMM41N_LBJPo",
    "tags": [
     "solution"
    ]
   },
   "outputs": [],
   "source": [
    "df_results_2.loc[df_results_2.index.max() + 1] = ['lgboost_optimized_cat_enc', tr, te]"
   ]
  },
  {
   "cell_type": "code",
   "execution_count": null,
   "metadata": {
    "colab": {
     "base_uri": "https://localhost:8080/",
     "height": 359
    },
    "colab_type": "code",
    "id": "aLCUpAX3BVrw",
    "outputId": "7a74ac3b-9be5-4784-a7f1-4a7d8a05c3f4",
    "tags": [
     "solution"
    ]
   },
   "outputs": [
    {
     "data": {
      "text/html": [
       "<div>\n",
       "<style scoped>\n",
       "    .dataframe tbody tr th:only-of-type {\n",
       "        vertical-align: middle;\n",
       "    }\n",
       "\n",
       "    .dataframe tbody tr th {\n",
       "        vertical-align: top;\n",
       "    }\n",
       "\n",
       "    .dataframe thead th {\n",
       "        text-align: right;\n",
       "    }\n",
       "</style>\n",
       "<table border=\"1\" class=\"dataframe\">\n",
       "  <thead>\n",
       "    <tr style=\"text-align: right;\">\n",
       "      <th></th>\n",
       "      <th>model_name</th>\n",
       "      <th>train_accuracy</th>\n",
       "      <th>test_accuracy</th>\n",
       "    </tr>\n",
       "  </thead>\n",
       "  <tbody>\n",
       "    <tr>\n",
       "      <th>9</th>\n",
       "      <td>lgboost_optimized_cat_enc</td>\n",
       "      <td>0.917625</td>\n",
       "      <td>0.900763</td>\n",
       "    </tr>\n",
       "    <tr>\n",
       "      <th>8</th>\n",
       "      <td>lgboost_optimized</td>\n",
       "      <td>0.913793</td>\n",
       "      <td>0.893130</td>\n",
       "    </tr>\n",
       "    <tr>\n",
       "      <th>7</th>\n",
       "      <td>xgboost_optimized</td>\n",
       "      <td>0.938697</td>\n",
       "      <td>0.885496</td>\n",
       "    </tr>\n",
       "    <tr>\n",
       "      <th>1</th>\n",
       "      <td>LogisticRegression</td>\n",
       "      <td>0.877395</td>\n",
       "      <td>0.877863</td>\n",
       "    </tr>\n",
       "    <tr>\n",
       "      <th>4</th>\n",
       "      <td>ExtraTreesClassifier</td>\n",
       "      <td>1.000000</td>\n",
       "      <td>0.877863</td>\n",
       "    </tr>\n",
       "    <tr>\n",
       "      <th>3</th>\n",
       "      <td>RandomForestClassifier</td>\n",
       "      <td>1.000000</td>\n",
       "      <td>0.870229</td>\n",
       "    </tr>\n",
       "    <tr>\n",
       "      <th>6</th>\n",
       "      <td>XGBClassifier</td>\n",
       "      <td>0.950192</td>\n",
       "      <td>0.862595</td>\n",
       "    </tr>\n",
       "    <tr>\n",
       "      <th>5</th>\n",
       "      <td>AdaBoostClassifier</td>\n",
       "      <td>0.921456</td>\n",
       "      <td>0.847328</td>\n",
       "    </tr>\n",
       "    <tr>\n",
       "      <th>2</th>\n",
       "      <td>DecisionTreeClassifier</td>\n",
       "      <td>1.000000</td>\n",
       "      <td>0.816794</td>\n",
       "    </tr>\n",
       "    <tr>\n",
       "      <th>0</th>\n",
       "      <td>DummyClassifier</td>\n",
       "      <td>0.547893</td>\n",
       "      <td>0.541985</td>\n",
       "    </tr>\n",
       "  </tbody>\n",
       "</table>\n",
       "</div>"
      ],
      "text/plain": [
       "                  model_name  train_accuracy  test_accuracy\n",
       "9  lgboost_optimized_cat_enc        0.917625       0.900763\n",
       "8          lgboost_optimized        0.913793       0.893130\n",
       "7          xgboost_optimized        0.938697       0.885496\n",
       "1         LogisticRegression        0.877395       0.877863\n",
       "4       ExtraTreesClassifier        1.000000       0.877863\n",
       "3     RandomForestClassifier        1.000000       0.870229\n",
       "6              XGBClassifier        0.950192       0.862595\n",
       "5         AdaBoostClassifier        0.921456       0.847328\n",
       "2     DecisionTreeClassifier        1.000000       0.816794\n",
       "0            DummyClassifier        0.547893       0.541985"
      ]
     },
     "execution_count": 41,
     "metadata": {
      "tags": []
     },
     "output_type": "execute_result"
    }
   ],
   "source": [
    "df_results_2.sort_values('test_accuracy', ascending=False)"
   ]
  },
  {
   "cell_type": "code",
   "execution_count": null,
   "metadata": {
    "colab": {},
    "colab_type": "code",
    "id": "nbJW3Oe0BXZP"
   },
   "outputs": [],
   "source": []
  }
 ],
 "metadata": {
  "celltoolbar": "Tags",
  "colab": {
   "authorship_tag": "ABX9TyOJWB9s6S9wS5YLk8la7mLZ",
   "include_colab_link": true,
   "name": "Gradient_Boosting_with_XGBoost_and_LightGBM.ipynb",
   "provenance": []
  },
  "kernelspec": {
   "display_name": "Python 3",
   "language": "python",
   "name": "python3"
  },
  "language_info": {
   "codemirror_mode": {
    "name": "ipython",
    "version": 3
   },
   "file_extension": ".py",
   "mimetype": "text/x-python",
   "name": "python",
   "nbconvert_exporter": "python",
   "pygments_lexer": "ipython3",
   "version": "3.7.6"
  }
 },
 "nbformat": 4,
 "nbformat_minor": 1
}
