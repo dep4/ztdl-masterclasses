{
 "cells": [
  {
   "cell_type": "markdown",
   "metadata": {
    "colab_type": "text",
    "id": "view-in-github"
   },
   "source": [
    "<a href=\"https://colab.research.google.com/github/zerotodeeplearning/ztdl-masterclasses/blob/master/solutions_do_not_open/Introduction_to_Deep_Learning_with_Keras_solution.ipynb\" target=\"_parent\"><img src=\"https://colab.research.google.com/assets/colab-badge.svg\" alt=\"Open In Colab\"/></a>"
   ]
  },
  {
   "cell_type": "markdown",
   "metadata": {
    "colab_type": "text",
    "id": "2bwH96hViwS7"
   },
   "source": [
    "## Learn with us: www.zerotodeeplearning.com\n",
    "\n",
    "Copyright © 2021: Zero to Deep Learning ® Catalit LLC."
   ]
  },
  {
   "cell_type": "code",
   "execution_count": null,
   "metadata": {
    "colab": {},
    "colab_type": "code",
    "id": "bFidPKNdkVPg"
   },
   "outputs": [],
   "source": [
    "# Licensed under the Apache License, Version 2.0 (the \"License\");\n",
    "# you may not use this file except in compliance with the License.\n",
    "# You may obtain a copy of the License at\n",
    "#\n",
    "# https://www.apache.org/licenses/LICENSE-2.0\n",
    "#\n",
    "# Unless required by applicable law or agreed to in writing, software\n",
    "# distributed under the License is distributed on an \"AS IS\" BASIS,\n",
    "# WITHOUT WARRANTIES OR CONDITIONS OF ANY KIND, either express or implied.\n",
    "# See the License for the specific language governing permissions and\n",
    "# limitations under the License."
   ]
  },
  {
   "cell_type": "markdown",
   "metadata": {
    "colab_type": "text",
    "id": "DvoukA2tkGV4"
   },
   "source": [
    "# Introduction to Deep Learning with Keras"
   ]
  },
  {
   "cell_type": "code",
   "execution_count": null,
   "metadata": {
    "colab": {},
    "colab_type": "code",
    "id": "N7gPH8x3bpc0"
   },
   "outputs": [],
   "source": [
    "import numpy as np\n",
    "import pandas as pd\n",
    "import matplotlib.pyplot as plt\n",
    "import seaborn as sns\n",
    "from sklearn.model_selection import train_test_split"
   ]
  },
  {
   "cell_type": "code",
   "execution_count": null,
   "metadata": {
    "colab": {},
    "colab_type": "code",
    "id": "ThYOAIfubyax"
   },
   "outputs": [],
   "source": [
    "url = 'https://raw.githubusercontent.com/zerotodeeplearning/ztdl-masterclasses/master/data/'"
   ]
  },
  {
   "cell_type": "code",
   "execution_count": null,
   "metadata": {
    "colab": {},
    "colab_type": "code",
    "id": "0VMfMaGJbytD"
   },
   "outputs": [],
   "source": [
    "df = pd.read_csv(url + 'geoloc_elev.csv')\n",
    "\n",
    "# we only use the 2 features that matter\n",
    "X = df[['lat', 'lon']].values\n",
    "y = df['target'].values\n",
    "\n",
    "X_train, X_test, y_train, y_test = train_test_split(X, y, \n",
    "    test_size = 0.2, random_state=0)"
   ]
  },
  {
   "cell_type": "code",
   "execution_count": null,
   "metadata": {
    "colab": {
     "base_uri": "https://localhost:8080/",
     "height": 258
    },
    "colab_type": "code",
    "id": "b8AjBPDbb9LC",
    "outputId": "1591799e-2ef1-41c5-9852-dbacab4f831e"
   },
   "outputs": [],
   "source": [
    "df.plot.scatter(x='lat', y='lon',\n",
    "                c='target', cmap='bwr');"
   ]
  },
  {
   "cell_type": "code",
   "execution_count": null,
   "metadata": {
    "colab": {},
    "colab_type": "code",
    "id": "m_vbwNTKcnQi"
   },
   "outputs": [],
   "source": [
    "from tensorflow.keras.models import Sequential\n",
    "from tensorflow.keras.layers import Dense\n",
    "from tensorflow.keras.optimizers import SGD, Adam"
   ]
  },
  {
   "cell_type": "code",
   "execution_count": null,
   "metadata": {
    "colab": {
     "base_uri": "https://localhost:8080/",
     "height": 357
    },
    "colab_type": "code",
    "id": "botmrbHocrJA",
    "outputId": "77ad7d03-8800-40ef-f8f1-925d0f61420c"
   },
   "outputs": [],
   "source": [
    "model = Sequential([\n",
    "    Dense(1, input_shape=(2,), activation='sigmoid')\n",
    "])\n",
    "\n",
    "model.compile(SGD(learning_rate=0.5), 'binary_crossentropy', metrics=['accuracy'])\n",
    "\n",
    "h = model.fit(X_train, y_train, epochs=10, validation_split=0.1)"
   ]
  },
  {
   "cell_type": "code",
   "execution_count": null,
   "metadata": {
    "colab": {
     "base_uri": "https://localhost:8080/",
     "height": 282
    },
    "colab_type": "code",
    "id": "1Ed-jSqncue3",
    "outputId": "52169532-bba2-4acb-c1b9-c05f257d9c6c"
   },
   "outputs": [],
   "source": [
    "pd.DataFrame(h.history).plot(ylim=(-0.05, 1.05));"
   ]
  },
  {
   "cell_type": "code",
   "execution_count": null,
   "metadata": {
    "colab": {},
    "colab_type": "code",
    "id": "6htm97pYeJYN"
   },
   "outputs": [],
   "source": [
    "def score(model):\n",
    "  bm_score = pd.Series(y).value_counts()[0] / len(y)\n",
    "  train_score = model.evaluate(X_train, y_train, verbose=0)[1]\n",
    "  test_score = model.evaluate(X_test, y_test,  verbose=0)[1]\n",
    "\n",
    "  print(\"\"\"Accuracy scores:\n",
    "    Benchmark:\\t{:0.3}\n",
    "    Train:\\t{:0.3}\n",
    "    Test:\\t{:0.3}\"\"\".format(bm_score, train_score, test_score))"
   ]
  },
  {
   "cell_type": "code",
   "execution_count": null,
   "metadata": {
    "colab": {
     "base_uri": "https://localhost:8080/",
     "height": 85
    },
    "colab_type": "code",
    "id": "qimJqtCXepPT",
    "outputId": "fb769800-03fa-4421-da37-7eda1f1ef8ce"
   },
   "outputs": [],
   "source": [
    "score(model)"
   ]
  },
  {
   "cell_type": "code",
   "execution_count": null,
   "metadata": {
    "colab": {},
    "colab_type": "code",
    "id": "hNTEvUateJVT"
   },
   "outputs": [],
   "source": [
    "def plot_decision_boundary(model):\n",
    "  hticks = np.linspace(-2, 2, 101)\n",
    "  vticks = np.linspace(-2, 2, 101)\n",
    "  aa, bb = np.meshgrid(hticks, vticks)\n",
    "  ab = np.c_[aa.ravel(), bb.ravel()]\n",
    "\n",
    "  c = model.predict(ab)\n",
    "  cc = c.reshape(aa.shape)\n",
    "\n",
    "  ax = df.plot(kind='scatter', c='target', x='lat', y='lon', cmap='bwr')\n",
    "  ax.contourf(aa, bb, cc, cmap='bwr', alpha=0.5);"
   ]
  },
  {
   "cell_type": "code",
   "execution_count": null,
   "metadata": {
    "colab": {
     "base_uri": "https://localhost:8080/",
     "height": 258
    },
    "colab_type": "code",
    "id": "KcQn6NMTeJSH",
    "outputId": "3c028d2c-ad3e-4e1f-9f7c-e399df80169c"
   },
   "outputs": [],
   "source": [
    "plot_decision_boundary(model)"
   ]
  },
  {
   "cell_type": "markdown",
   "metadata": {
    "colab_type": "text",
    "id": "vlHV6IN7eJBv"
   },
   "source": [
    "### Exercise 1: Deep network\n",
    "\n",
    "- Extend the neural network defined above by adding a few inner layers.\n",
    "    - add a few more nodes to the first layer\n",
    "    - change the activation function of the first layer from `sigmoid` to something else\n",
    "    - remember that you only need to specify the `input_shape` in the first layer, the others infer it automatically\n",
    "    - insert at least another layer or more, after the first one\n",
    "    - regardless of how many layers you have, the last layer (output) should have a single node and a `sigmoid` activation function\n",
    "    \n",
    "Your model should look like:\n",
    "\n",
    "```python\n",
    "model = Sequential([\n",
    "    Dense(...),\n",
    "    ...\n",
    "    ...\n",
    "])\n",
    "```\n",
    "\n",
    "- Retrain the model for 20 epochs. Does your model learn to separate the two classes?\n",
    "- Display the history as done above\n",
    "- Evaluate the score using the `score` function defined above\n",
    "- Display the decision boundary using the `plot_decision_boundary`\n",
    "- Bonus points if you also calculate the confusion matrix. (hint: the `model.predict` method returns probabilities, so you will need to round the results to the nearest integer before comparing them with the labels)"
   ]
  },
  {
   "cell_type": "code",
   "execution_count": null,
   "metadata": {
    "colab": {
     "base_uri": "https://localhost:8080/",
     "height": 717
    },
    "colab_type": "code",
    "id": "P33f3YWNc2KI",
    "outputId": "a9cac211-d83c-4dd4-d49f-2f0d0481ba31",
    "tags": [
     "solution",
     "empty"
    ]
   },
   "outputs": [],
   "source": [
    "model = Sequential([\n",
    "    Dense(4, input_shape=(2,), activation='tanh'),\n",
    "    Dense(4, activation='tanh'),\n",
    "    Dense(1, activation='sigmoid')\n",
    "])\n",
    "\n",
    "model.compile(SGD(learning_rate=0.5), 'binary_crossentropy', metrics=['accuracy'])\n",
    "\n",
    "h = model.fit(X_train, y_train, epochs=20, validation_split=0.1)"
   ]
  },
  {
   "cell_type": "code",
   "execution_count": null,
   "metadata": {
    "colab": {
     "base_uri": "https://localhost:8080/",
     "height": 282
    },
    "colab_type": "code",
    "id": "8tYCWfyHc8TQ",
    "outputId": "b19e04b0-40a1-457d-b8c2-0a3cb43abdae",
    "tags": [
     "solution"
    ]
   },
   "outputs": [],
   "source": [
    "pd.DataFrame(h.history).plot(ylim=(-0.05, 1.05));"
   ]
  },
  {
   "cell_type": "code",
   "execution_count": null,
   "metadata": {
    "colab": {
     "base_uri": "https://localhost:8080/",
     "height": 85
    },
    "colab_type": "code",
    "id": "SVRKDdQdc_Ay",
    "outputId": "bc901e82-3859-406a-b384-e6f5c5286273",
    "tags": [
     "solution"
    ]
   },
   "outputs": [],
   "source": [
    "score(model)"
   ]
  },
  {
   "cell_type": "code",
   "execution_count": null,
   "metadata": {
    "colab": {
     "base_uri": "https://localhost:8080/",
     "height": 258
    },
    "colab_type": "code",
    "id": "zfdnXmesexgX",
    "outputId": "5b060c4d-93ce-4e77-c88f-d9117d969e5c",
    "tags": [
     "solution"
    ]
   },
   "outputs": [],
   "source": [
    "plot_decision_boundary(model)"
   ]
  },
  {
   "cell_type": "code",
   "execution_count": null,
   "metadata": {
    "tags": [
     "solution"
    ]
   },
   "outputs": [],
   "source": [
    "from sklearn.metrics import confusion_matrix"
   ]
  },
  {
   "cell_type": "code",
   "execution_count": null,
   "metadata": {
    "colab": {},
    "colab_type": "code",
    "id": "AwoPqF1SdGFI",
    "tags": [
     "solution"
    ]
   },
   "outputs": [],
   "source": [
    "y_pred_proba = model.predict(X_test)"
   ]
  },
  {
   "cell_type": "code",
   "execution_count": null,
   "metadata": {
    "colab": {
     "base_uri": "https://localhost:8080/",
     "height": 85
    },
    "colab_type": "code",
    "id": "0Ny35zVWdJnz",
    "outputId": "90b38a6a-398e-4025-a819-a86f48a443e3",
    "tags": [
     "solution"
    ]
   },
   "outputs": [],
   "source": [
    "y_pred_proba[:4]"
   ]
  },
  {
   "cell_type": "code",
   "execution_count": null,
   "metadata": {
    "colab": {},
    "colab_type": "code",
    "id": "MA2naWDadQri",
    "tags": [
     "solution"
    ]
   },
   "outputs": [],
   "source": [
    "y_pred = y_pred_proba.round(0).astype(int)"
   ]
  },
  {
   "cell_type": "code",
   "execution_count": null,
   "metadata": {
    "colab": {
     "base_uri": "https://localhost:8080/",
     "height": 111
    },
    "colab_type": "code",
    "id": "xxwc417VduTW",
    "outputId": "b2af370f-e69f-4473-ddd6-1c9ff5a4064d",
    "tags": [
     "solution"
    ]
   },
   "outputs": [],
   "source": [
    "cm = confusion_matrix(y_test, y_pred)\n",
    "\n",
    "pd.DataFrame(cm,\n",
    "             index=[\"Miss\", \"Hit\"],\n",
    "             columns=['pred_Miss', 'pred_Hit'])\n"
   ]
  },
  {
   "cell_type": "markdown",
   "metadata": {
    "colab_type": "text",
    "id": "Q41gq8m7dxfO"
   },
   "source": [
    "### Exercise 2: Regression\n",
    "\n",
    "In this exercise we will perform a non-linear regression of a function with 5 input features and 1 output. A detailed explanation of the function can be found [here](https://scikit-learn.org/stable/modules/generated/sklearn.datasets.make_friedman1.html).\n",
    "\n",
    "- The data is generated for your convenience and added to a Pandas DataFrame\n",
    "- Use `sns.pairplot` to visualize the data. It may be convenient to specify the `x_vars` and `y_vars` arguments so that you only plot the target as a function of the features\n",
    "- Define a deep neural network that will be able to learn this function.\n",
    "    - Specify the `input_shape` in the first layer\n",
    "    - Use at least 2 layers and a few nodes to allow the network to learn nonlinear relations\n",
    "    - The output layer should have a single node and no activation function, as we are doing a regression\n",
    "\n",
    "    ```python\n",
    "    model = Sequential([\n",
    "        Dense(...)\n",
    "        ....\n",
    "    ])\n",
    "    ```\n",
    "- Compile the model\n",
    "    - use an optimizer of your choice\n",
    "    - make sure to select the appropriate loss function for a regression\n",
    "    - since it's a regression, you won't be able to calculate the accuracy score\n",
    "- Fit the model for at least 100 epochs with a `validation_split=0.1`\n",
    "- Plot the history, does the loss go to zero?\n",
    "- Bonus points if you plot the predictions of the trained model against the true values using a scatter plot"
   ]
  },
  {
   "cell_type": "code",
   "execution_count": null,
   "metadata": {
    "colab": {},
    "colab_type": "code",
    "id": "qKeq4Fxcd7Ei"
   },
   "outputs": [],
   "source": [
    "from sklearn.datasets import make_friedman1\n",
    "\n",
    "X, y = make_friedman1(n_samples=1000, n_features=5, noise=0., random_state=0)\n",
    "features = ['x0', 'x1', 'x2', 'x3', 'x4']\n",
    "df = pd.DataFrame(X, columns=features)\n",
    "df['target'] = y/10.0\n",
    "\n",
    "df.head()"
   ]
  },
  {
   "cell_type": "code",
   "execution_count": null,
   "metadata": {
    "colab": {
     "base_uri": "https://localhost:8080/",
     "height": 1000
    },
    "colab_type": "code",
    "id": "Kmk213I7gF_u",
    "outputId": "e8517d13-24d5-4ef7-f70a-bbbf46433ae8",
    "tags": [
     "solution",
     "empty"
    ]
   },
   "outputs": [],
   "source": [
    "sns.pairplot(df, x_vars=features, y_vars='target');"
   ]
  },
  {
   "cell_type": "code",
   "execution_count": null,
   "metadata": {
    "colab": {
     "base_uri": "https://localhost:8080/",
     "height": 1000
    },
    "colab_type": "code",
    "id": "XUgFwa_Fhe8n",
    "outputId": "369239b8-78d1-4d54-ad20-79092476c8a4",
    "tags": [
     "solution"
    ]
   },
   "outputs": [],
   "source": [
    "model = Sequential([\n",
    "    Dense(50, input_shape=(5,), activation='tanh'),\n",
    "    Dense(50, activation='tanh'),\n",
    "    Dense(10, activation='tanh'),\n",
    "    Dense(1)\n",
    "])\n",
    "\n",
    "model.compile('adam', 'mse')\n",
    "\n",
    "h = model.fit(X, y, epochs=200, validation_split=0.1)"
   ]
  },
  {
   "cell_type": "code",
   "execution_count": null,
   "metadata": {
    "colab": {
     "base_uri": "https://localhost:8080/",
     "height": 282
    },
    "colab_type": "code",
    "id": "LcTNiX1viFBV",
    "outputId": "108e8a0c-6904-4884-9c8e-fd40a19685c3",
    "tags": [
     "solution"
    ]
   },
   "outputs": [],
   "source": [
    "pd.DataFrame(h.history).plot();"
   ]
  },
  {
   "cell_type": "code",
   "execution_count": null,
   "metadata": {
    "colab": {},
    "colab_type": "code",
    "id": "UkDUeeE9iUJR",
    "tags": [
     "solution"
    ]
   },
   "outputs": [],
   "source": [
    "y_pred = model.predict(X)"
   ]
  },
  {
   "cell_type": "code",
   "execution_count": null,
   "metadata": {
    "colab": {
     "base_uri": "https://localhost:8080/",
     "height": 282
    },
    "colab_type": "code",
    "id": "IxhegQZqivOo",
    "outputId": "7318e6d2-bef6-44a8-de54-f388abb47e4f",
    "tags": [
     "solution"
    ]
   },
   "outputs": [],
   "source": [
    "plt.scatter(y_pred, y);"
   ]
  },
  {
   "cell_type": "markdown",
   "metadata": {
    "colab_type": "text",
    "id": "ItxxNKrCixnk"
   },
   "source": [
    "### Exercise 3: Multi-class classification\n",
    "\n",
    "In this exercise we extend a neural network to work with more than 2 classes. The data is the usual Iris Dataset, which has 3 classes.\n",
    "\n",
    "- Plot the data using a pairplot\n",
    "- Define and train a deep neural network model\n",
    "    - The number of output nodes should match the number of classes\n",
    "    - Choose the correct output activation function\n",
    "    - Choose the correct loss for a multi-class classification with class index labels\n",
    "    - Use a `validation_split=0.2`\n",
    "- Experiment with different network architectures, add and remove layers and nodes.\n",
    "- Experiment with different values for the learning rate. This dataset is a bit tricky."
   ]
  },
  {
   "cell_type": "code",
   "execution_count": null,
   "metadata": {
    "colab": {},
    "colab_type": "code",
    "id": "7D09zctai-Rb"
   },
   "outputs": [],
   "source": [
    "df = pd.read_csv(url + 'iris.csv')\n",
    "X = df.drop('species', axis=1)\n",
    "y = df['species'].map({\"setosa\": 0, \"versicolor\": 1 , \"virginica\": 2})"
   ]
  },
  {
   "cell_type": "code",
   "execution_count": null,
   "metadata": {
    "colab": {
     "base_uri": "https://localhost:8080/",
     "height": 765
    },
    "colab_type": "code",
    "id": "MaFjQ31ijBYk",
    "outputId": "2f86472a-564b-401e-89aa-70bd7a7920d8",
    "tags": [
     "solution",
     "empty"
    ]
   },
   "outputs": [],
   "source": [
    "sns.pairplot(df, hue=\"species\");"
   ]
  },
  {
   "cell_type": "code",
   "execution_count": null,
   "metadata": {
    "colab": {
     "base_uri": "https://localhost:8080/",
     "height": 282
    },
    "colab_type": "code",
    "id": "kDovYJoEjH93",
    "outputId": "4d9328fb-720f-4178-ae94-5e1f9794f32a",
    "tags": [
     "solution"
    ]
   },
   "outputs": [],
   "source": [
    "model = Sequential([\n",
    "    Dense(20, input_shape=(4,), activation='tanh'),\n",
    "    Dense(10, activation='tanh'),\n",
    "    Dense(3, activation='softmax')\n",
    "])\n",
    "\n",
    "model.compile(Adam(learning_rate=0.001),\n",
    "              'sparse_categorical_crossentropy',\n",
    "              metrics=['accuracy'])\n",
    "\n",
    "h = model.fit(X, y,\n",
    "              epochs=200,\n",
    "              validation_split=0.2,\n",
    "              verbose=0)\n",
    "\n",
    "pd.DataFrame(h.history).plot();"
   ]
  }
 ],
 "metadata": {
  "celltoolbar": "Tags",
  "colab": {
   "authorship_tag": "ABX9TyOJWB9s6S9wS5YLk8la7mLZ",
   "include_colab_link": true,
   "name": "Introduction_to_Deep_Learning_with_Keras.ipynb",
   "provenance": []
  },
  "kernelspec": {
   "display_name": "Python 3",
   "language": "python",
   "name": "python3"
  },
  "language_info": {
   "codemirror_mode": {
    "name": "ipython",
    "version": 3
   },
   "file_extension": ".py",
   "mimetype": "text/x-python",
   "name": "python",
   "nbconvert_exporter": "python",
   "pygments_lexer": "ipython3",
   "version": "3.7.7"
  }
 },
 "nbformat": 4,
 "nbformat_minor": 1
}
