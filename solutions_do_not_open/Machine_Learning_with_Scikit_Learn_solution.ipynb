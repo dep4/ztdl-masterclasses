{
 "cells": [
  {
   "cell_type": "markdown",
   "source": [
    "<a href=\"https://colab.research.google.com/github/zerotodeeplearning/ztdl-masterclasses/blob/master/solutions_do_not_open/Machine_Learning_with_Scikit_Learn_solution.ipynb\" target=\"_parent\"><img src=\"https://colab.research.google.com/assets/colab-badge.svg\" alt=\"Open In Colab\"/></a>"
   ],
   "metadata": {
    "colab_type": "text",
    "id": "view-in-github"
   }
  },
  {
   "cell_type": "markdown",
   "source": [
    "## Learn with us: www.zerotodeeplearning.com\n",
    "\n",
    "Copyright © 2021: Zero to Deep Learning ® Catalit LLC."
   ],
   "metadata": {
    "colab_type": "text",
    "id": "2bwH96hViwS7"
   }
  },
  {
   "cell_type": "code",
   "execution_count": null,
   "source": [
    "# Licensed under the Apache License, Version 2.0 (the \"License\");\n",
    "# you may not use this file except in compliance with the License.\n",
    "# You may obtain a copy of the License at\n",
    "#\n",
    "# https://www.apache.org/licenses/LICENSE-2.0\n",
    "#\n",
    "# Unless required by applicable law or agreed to in writing, software\n",
    "# distributed under the License is distributed on an \"AS IS\" BASIS,\n",
    "# WITHOUT WARRANTIES OR CONDITIONS OF ANY KIND, either express or implied.\n",
    "# See the License for the specific language governing permissions and\n",
    "# limitations under the License."
   ],
   "outputs": [],
   "metadata": {
    "colab": {},
    "colab_type": "code",
    "id": "bFidPKNdkVPg"
   }
  },
  {
   "cell_type": "markdown",
   "source": [
    "# Machine Learning with Scikit Learn"
   ],
   "metadata": {
    "colab_type": "text",
    "id": "DvoukA2tkGV4"
   }
  },
  {
   "cell_type": "code",
   "execution_count": null,
   "source": [
    "import pandas as pd\n",
    "import numpy as np\n",
    "import matplotlib.pyplot as plt\n",
    "import seaborn as sns"
   ],
   "outputs": [],
   "metadata": {
    "colab": {
     "base_uri": "https://localhost:8080/",
     "height": 72
    },
    "colab_type": "code",
    "id": "98TLs8VzUFCy",
    "outputId": "034748a1-3614-4845-e357-50dd99e7bf73"
   }
  },
  {
   "cell_type": "code",
   "execution_count": null,
   "source": [
    "url = \"https://raw.githubusercontent.com/zerotodeeplearning/ztdl-masterclasses/master/data/\""
   ],
   "outputs": [],
   "metadata": {
    "colab": {},
    "colab_type": "code",
    "id": "NLPFRiHeUYeG"
   }
  },
  {
   "cell_type": "markdown",
   "source": [
    "## Regression"
   ],
   "metadata": {
    "colab_type": "text",
    "id": "Pg-dOwjgius9"
   }
  },
  {
   "cell_type": "code",
   "execution_count": null,
   "source": [
    "df = pd.read_csv(url + 'weight-height.csv')"
   ],
   "outputs": [],
   "metadata": {
    "colab": {},
    "colab_type": "code",
    "id": "_qIi0IgAUAD6"
   }
  },
  {
   "cell_type": "code",
   "execution_count": null,
   "source": [
    "df.head()"
   ],
   "outputs": [],
   "metadata": {
    "colab": {
     "base_uri": "https://localhost:8080/",
     "height": 198
    },
    "colab_type": "code",
    "id": "HKYK7qnCUmKU",
    "outputId": "a8568699-8223-43f0-daee-e20d577e5f9c"
   }
  },
  {
   "cell_type": "code",
   "execution_count": null,
   "source": [
    "sns.scatterplot(data=df, x='Height', y='Weight', hue='Gender');"
   ],
   "outputs": [],
   "metadata": {
    "colab": {
     "base_uri": "https://localhost:8080/",
     "height": 279
    },
    "colab_type": "code",
    "id": "a5DAwmRLUnFD",
    "outputId": "f730f824-20aa-4ac9-9e82-b37df905fe96"
   }
  },
  {
   "cell_type": "code",
   "execution_count": null,
   "source": [
    "from sklearn.linear_model import LinearRegression\n",
    "from sklearn.model_selection import train_test_split"
   ],
   "outputs": [],
   "metadata": {
    "colab": {},
    "colab_type": "code",
    "id": "umPAdLEeUvpA"
   }
  },
  {
   "cell_type": "code",
   "execution_count": null,
   "source": [
    "X = df[['Height']].values\n",
    "y = df['Weight'].values\n",
    "\n",
    "X_train, X_test, y_train, y_test = train_test_split(X, y, test_size=0.2, random_state=0)"
   ],
   "outputs": [],
   "metadata": {
    "colab": {},
    "colab_type": "code",
    "id": "1yXNzINaXxHk"
   }
  },
  {
   "cell_type": "code",
   "execution_count": null,
   "source": [
    "model = LinearRegression()\n",
    "model.fit(X_train, y_train)"
   ],
   "outputs": [],
   "metadata": {
    "colab": {
     "base_uri": "https://localhost:8080/",
     "height": 35
    },
    "colab_type": "code",
    "id": "PA-VT9HcZhjX",
    "outputId": "6cae6bb6-c7fc-4797-f16b-1b0f5e6e32e4"
   }
  },
  {
   "cell_type": "code",
   "execution_count": null,
   "source": [
    "model.score(X_train, y_train)"
   ],
   "outputs": [],
   "metadata": {
    "colab": {
     "base_uri": "https://localhost:8080/",
     "height": 35
    },
    "colab_type": "code",
    "id": "t7ELAzAeZkFk",
    "outputId": "4a5e3c5c-10a1-4b4a-a7a8-495b1ea346a5"
   }
  },
  {
   "cell_type": "code",
   "execution_count": null,
   "source": [
    "model.score(X_test, y_test)"
   ],
   "outputs": [],
   "metadata": {
    "colab": {
     "base_uri": "https://localhost:8080/",
     "height": 35
    },
    "colab_type": "code",
    "id": "WB9PB_6AZmEp",
    "outputId": "0ac2fd11-5d2f-4290-d5ae-4629df4f35f5"
   }
  },
  {
   "cell_type": "markdown",
   "source": [
    "### Exercise 1\n",
    "\n",
    "More features: `sqft`, `bdrms`, `age`, `price`\n",
    "\n",
    "- replace the dataset above with `housing-data.csv`\n",
    "- adapt the code so that there are no errors:\n",
    "    - plot it using `sns.pairplot`\n",
    "    - add more columns in the feature definition `X = ...`\n",
    "- train and evaluate the model\n",
    "- bonus points if you try with a different model like `Ridge` or `Lasso`"
   ],
   "metadata": {
    "colab_type": "text",
    "id": "o04rjdcoZq-x"
   }
  },
  {
   "cell_type": "code",
   "execution_count": null,
   "source": [
    "df = pd.read_csv(url + 'housing-data.csv')"
   ],
   "outputs": [],
   "metadata": {
    "colab": {},
    "colab_type": "code",
    "id": "2Cku_XmWag8p",
    "tags": [
     "solution",
     "empty"
    ]
   }
  },
  {
   "cell_type": "code",
   "execution_count": null,
   "source": [
    "df.head()"
   ],
   "outputs": [],
   "metadata": {
    "tags": [
     "solution"
    ]
   }
  },
  {
   "cell_type": "code",
   "execution_count": null,
   "source": [
    "sns.pairplot(df);"
   ],
   "outputs": [],
   "metadata": {
    "tags": [
     "solution"
    ]
   }
  },
  {
   "cell_type": "code",
   "execution_count": null,
   "source": [
    "X = df.drop('price', axis=1).values\n",
    "y = df['price'].values\n",
    "\n",
    "X_train, X_test, y_train, y_test = train_test_split(X, y, test_size=0.2, random_state=0)"
   ],
   "outputs": [],
   "metadata": {
    "tags": [
     "solution"
    ]
   }
  },
  {
   "cell_type": "code",
   "execution_count": null,
   "source": [
    "from sklearn.linear_model import Ridge"
   ],
   "outputs": [],
   "metadata": {
    "tags": [
     "solution"
    ]
   }
  },
  {
   "cell_type": "code",
   "execution_count": null,
   "source": [
    "model = Ridge()\n",
    "model.fit(X_train, y_train)"
   ],
   "outputs": [],
   "metadata": {
    "tags": [
     "solution"
    ]
   }
  },
  {
   "cell_type": "code",
   "execution_count": null,
   "source": [
    "model.score(X_train, y_train)"
   ],
   "outputs": [],
   "metadata": {
    "tags": [
     "solution"
    ]
   }
  },
  {
   "cell_type": "code",
   "execution_count": null,
   "source": [
    "model.score(X_test, y_test)"
   ],
   "outputs": [],
   "metadata": {
    "tags": [
     "solution"
    ]
   }
  },
  {
   "cell_type": "markdown",
   "source": [
    "## Classification"
   ],
   "metadata": {
    "colab_type": "text",
    "id": "_RBN_Jgnainp"
   }
  },
  {
   "cell_type": "code",
   "execution_count": null,
   "source": [
    "df = pd.read_csv(url + 'isp_data.csv')"
   ],
   "outputs": [],
   "metadata": {
    "colab": {},
    "colab_type": "code",
    "id": "NQVAGMY0anSH"
   }
  },
  {
   "cell_type": "code",
   "execution_count": null,
   "source": [
    "df.head()"
   ],
   "outputs": [],
   "metadata": {
    "colab": {
     "base_uri": "https://localhost:8080/",
     "height": 198
    },
    "colab_type": "code",
    "id": "EuR2HfUMa286",
    "outputId": "95237f60-ac22-4e7a-ea2e-49b23e4b4f94"
   }
  },
  {
   "cell_type": "code",
   "execution_count": null,
   "source": [
    "sns.scatterplot(data=df, x='download', y='upload', hue='label');"
   ],
   "outputs": [],
   "metadata": {
    "colab": {
     "base_uri": "https://localhost:8080/",
     "height": 279
    },
    "colab_type": "code",
    "id": "kSQimKKwa3hM",
    "outputId": "54e686a2-8190-4a11-949b-91ccd7fa56d8"
   }
  },
  {
   "cell_type": "code",
   "execution_count": null,
   "source": [
    "X = df[['download', 'upload']].values\n",
    "y = df['label'].values\n",
    "\n",
    "X_train, X_test, y_train, y_test = train_test_split(X, y, test_size=0.2, random_state=0)"
   ],
   "outputs": [],
   "metadata": {
    "colab": {},
    "colab_type": "code",
    "id": "ywZqwpvIa83D"
   }
  },
  {
   "cell_type": "code",
   "execution_count": null,
   "source": [
    "from sklearn.tree import DecisionTreeClassifier, plot_tree\n",
    "from sklearn.metrics import confusion_matrix"
   ],
   "outputs": [],
   "metadata": {
    "colab": {},
    "colab_type": "code",
    "id": "lcM8MB5hbCsx"
   }
  },
  {
   "cell_type": "code",
   "execution_count": null,
   "source": [
    "model = DecisionTreeClassifier(max_depth=3)\n",
    "model.fit(X_train, y_train)"
   ],
   "outputs": [],
   "metadata": {
    "colab": {
     "base_uri": "https://localhost:8080/",
     "height": 121
    },
    "colab_type": "code",
    "id": "3yuOel9rbQos",
    "outputId": "4c476459-8132-49b5-b3fb-020347d6aa7a"
   }
  },
  {
   "cell_type": "code",
   "execution_count": null,
   "source": [
    "model.score(X_train, y_train)"
   ],
   "outputs": [],
   "metadata": {
    "colab": {
     "base_uri": "https://localhost:8080/",
     "height": 35
    },
    "colab_type": "code",
    "id": "Dx6ldqnSbT2q",
    "outputId": "4b59a5af-c1f2-48a1-946c-a68ce6f5f8be"
   }
  },
  {
   "cell_type": "code",
   "execution_count": null,
   "source": [
    "model.score(X_test, y_test)"
   ],
   "outputs": [],
   "metadata": {
    "colab": {
     "base_uri": "https://localhost:8080/",
     "height": 35
    },
    "colab_type": "code",
    "id": "ZIoeJSrtbVSr",
    "outputId": "08a278bb-dd30-4969-d488-663b89c9729d"
   }
  },
  {
   "cell_type": "code",
   "execution_count": null,
   "source": [
    "y_pred = model.predict(X)"
   ],
   "outputs": [],
   "metadata": {
    "colab": {},
    "colab_type": "code",
    "id": "Mv6w2xHubXKY"
   }
  },
  {
   "cell_type": "code",
   "execution_count": null,
   "source": [
    "confusion_matrix(y, y_pred)"
   ],
   "outputs": [],
   "metadata": {
    "colab": {
     "base_uri": "https://localhost:8080/",
     "height": 52
    },
    "colab_type": "code",
    "id": "VyMOw3gicQPD",
    "outputId": "a551c205-c08d-4965-ce2b-c80746212c62"
   }
  },
  {
   "cell_type": "code",
   "execution_count": null,
   "source": [
    "wrong_pred = X[y != y_pred]"
   ],
   "outputs": [],
   "metadata": {
    "colab": {},
    "colab_type": "code",
    "id": "L_7IgfD-cbPv"
   }
  },
  {
   "cell_type": "code",
   "execution_count": null,
   "source": [
    "fig, ax = plt.subplots(figsize=(20, 10))\n",
    "plot_tree(model, fontsize=14, ax=ax, rounded=True, feature_names=['download', 'upload']);"
   ],
   "outputs": [],
   "metadata": {
    "colab": {
     "base_uri": "https://localhost:8080/",
     "height": 532
    },
    "colab_type": "code",
    "id": "fiOfJuWec1nB",
    "outputId": "94ec44de-79ee-4542-9d06-98751d26a6c7"
   }
  },
  {
   "cell_type": "code",
   "execution_count": null,
   "source": [
    "def plot_decision_boundary(model, X, ax):\n",
    "    x_min = X[:, 0].min() - 0.1\n",
    "    x_max = X[:, 0].max() + 0.1\n",
    "    y_min = X[:, 1].min() - 0.1\n",
    "    y_max = X[:, 1].max() + 0.1\n",
    "    hticks = np.linspace(x_min, x_max, 101)\n",
    "    vticks = np.linspace(y_min, y_max, 101)\n",
    "    aa, bb = np.meshgrid(hticks, vticks)\n",
    "    ab = np.c_[aa.ravel(), bb.ravel()]\n",
    "\n",
    "    c = model.predict(ab)\n",
    "    cc = c.reshape(aa.shape)\n",
    "\n",
    "    ax.contourf(aa, bb, cc, cmap='bwr', alpha=0.2)"
   ],
   "outputs": [],
   "metadata": {}
  },
  {
   "cell_type": "code",
   "execution_count": null,
   "source": [
    "ax = sns.scatterplot(data=df, x='download', y='upload', hue='label');\n",
    "ax.plot(wrong_pred[:, 0], wrong_pred[:, 1], 'or', markersize=10, alpha=0.4);\n",
    "plot_decision_boundary(model, X, ax)"
   ],
   "outputs": [],
   "metadata": {}
  },
  {
   "cell_type": "markdown",
   "source": [
    "### Exercise 2\n",
    "\n",
    "Use a different classifier. Replace the `DecisionTreeClassifier` with another classifier, e.g.:\n",
    "- `LogisticRegression`\n",
    "- `SVC`\n",
    "- `RandomForestClassifier`\n",
    "\n",
    "or any other model you can find here: https://scikit-learn.org/stable/auto_examples/classification/plot_classifier_comparison.html\n",
    "and compare their behavior with the decision tree."
   ],
   "metadata": {}
  },
  {
   "cell_type": "code",
   "execution_count": null,
   "source": [
    "from sklearn.linear_model import LogisticRegression"
   ],
   "outputs": [],
   "metadata": {
    "tags": [
     "solution",
     "empty"
    ]
   }
  },
  {
   "cell_type": "code",
   "execution_count": null,
   "source": [
    "model = LogisticRegression()\n",
    "model.fit(X_train, y_train)"
   ],
   "outputs": [],
   "metadata": {
    "tags": [
     "solution"
    ]
   }
  },
  {
   "cell_type": "code",
   "execution_count": null,
   "source": [
    "model.score(X_train, y_train)"
   ],
   "outputs": [],
   "metadata": {
    "tags": [
     "solution"
    ]
   }
  },
  {
   "cell_type": "code",
   "execution_count": null,
   "source": [
    "model.score(X_test, y_test)"
   ],
   "outputs": [],
   "metadata": {
    "tags": [
     "solution"
    ]
   }
  },
  {
   "cell_type": "code",
   "execution_count": null,
   "source": [
    "y_pred = model.predict(X)"
   ],
   "outputs": [],
   "metadata": {
    "tags": [
     "solution"
    ]
   }
  },
  {
   "cell_type": "code",
   "execution_count": null,
   "source": [
    "confusion_matrix(y, y_pred)"
   ],
   "outputs": [],
   "metadata": {
    "tags": [
     "solution"
    ]
   }
  },
  {
   "cell_type": "code",
   "execution_count": null,
   "source": [
    "wrong_pred = X[y != y_pred]"
   ],
   "outputs": [],
   "metadata": {
    "tags": [
     "solution"
    ]
   }
  },
  {
   "cell_type": "code",
   "execution_count": null,
   "source": [
    "ax = sns.scatterplot(data=df, x='download', y='upload', hue='label');\n",
    "ax.plot(wrong_pred[:, 0], wrong_pred[:, 1], 'or', markersize=10, alpha=0.4);\n",
    "plot_decision_boundary(model, X, ax)"
   ],
   "outputs": [],
   "metadata": {
    "tags": [
     "solution"
    ]
   }
  },
  {
   "cell_type": "markdown",
   "source": [
    "## Clustering"
   ],
   "metadata": {}
  },
  {
   "cell_type": "code",
   "execution_count": null,
   "source": [
    "df = pd.read_csv(url + '/iris.csv')"
   ],
   "outputs": [],
   "metadata": {}
  },
  {
   "cell_type": "code",
   "execution_count": null,
   "source": [
    "df.head()"
   ],
   "outputs": [],
   "metadata": {}
  },
  {
   "cell_type": "code",
   "execution_count": null,
   "source": [
    "df.plot.scatter(x='sepal_length', y='petal_length', title='Iris Flowers');"
   ],
   "outputs": [],
   "metadata": {}
  },
  {
   "cell_type": "code",
   "execution_count": null,
   "source": [
    "X = df.drop('species', axis=1).values"
   ],
   "outputs": [],
   "metadata": {}
  },
  {
   "cell_type": "code",
   "execution_count": null,
   "source": [
    "from sklearn.cluster import KMeans"
   ],
   "outputs": [],
   "metadata": {}
  },
  {
   "cell_type": "code",
   "execution_count": null,
   "source": [
    "model = KMeans(2)\n",
    "model.fit(X)"
   ],
   "outputs": [],
   "metadata": {}
  },
  {
   "cell_type": "code",
   "execution_count": null,
   "source": [
    "centers = model.cluster_centers_\n",
    "centers"
   ],
   "outputs": [],
   "metadata": {}
  },
  {
   "cell_type": "code",
   "execution_count": null,
   "source": [
    "plt.scatter(df.sepal_length, df.petal_length, c=model.labels_)\n",
    "plt.scatter(centers[:,0], centers[:,2], marker='o', c='r', s=100)\n",
    "plt.xlabel('sepal_length')\n",
    "plt.ylabel('petal_length');"
   ],
   "outputs": [],
   "metadata": {}
  }
 ],
 "metadata": {
  "celltoolbar": "Tags",
  "colab": {
   "name": "Machine_Learning_with_Scikit_Learn_solution.ipynb",
   "provenance": []
  },
  "kernelspec": {
   "display_name": "Python 3",
   "language": "python",
   "name": "python3"
  },
  "language_info": {
   "codemirror_mode": {
    "name": "ipython",
    "version": 3
   },
   "file_extension": ".py",
   "mimetype": "text/x-python",
   "name": "python",
   "nbconvert_exporter": "python",
   "pygments_lexer": "ipython3",
   "version": "3.7.7"
  }
 },
 "nbformat": 4,
 "nbformat_minor": 1
}