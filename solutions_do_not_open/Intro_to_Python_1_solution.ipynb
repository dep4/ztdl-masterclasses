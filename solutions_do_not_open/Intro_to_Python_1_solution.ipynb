{
 "cells": [
  {
   "cell_type": "markdown",
   "metadata": {
    "id": "view-in-github"
   },
   "source": [
    "<a href=\"https://colab.research.google.com/github/zerotodeeplearning/ztdl-masterclasses/blob/master/solutions_do_not_open/Intro_to_Python_1_solution.ipynb\" target=\"_parent\"><img src=\"https://colab.research.google.com/assets/colab-badge.svg\" alt=\"Open In Colab\"/></a>"
   ]
  },
  {
   "cell_type": "markdown",
   "metadata": {
    "id": "2bwH96hViwS7"
   },
   "source": [
    "## Learn with us: www.zerotodeeplearning.com\n",
    "\n",
    "Copyright © 2021: Zero to Deep Learning ® Catalit LLC."
   ]
  },
  {
   "cell_type": "code",
   "execution_count": null,
   "metadata": {
    "id": "bFidPKNdkVPg"
   },
   "outputs": [],
   "source": [
    "# Licensed under the Apache License, Version 2.0 (the \"License\");\n",
    "# you may not use this file except in compliance with the License.\n",
    "# You may obtain a copy of the License at\n",
    "#\n",
    "# https://www.apache.org/licenses/LICENSE-2.0\n",
    "#\n",
    "# Unless required by applicable law or agreed to in writing, software\n",
    "# distributed under the License is distributed on an \"AS IS\" BASIS,\n",
    "# WITHOUT WARRANTIES OR CONDITIONS OF ANY KIND, either express or implied.\n",
    "# See the License for the specific language governing permissions and\n",
    "# limitations under the License."
   ]
  },
  {
   "cell_type": "markdown",
   "metadata": {
    "id": "bb5e400f"
   },
   "source": [
    "# Introduction to Python 1"
   ]
  },
  {
   "cell_type": "markdown",
   "metadata": {
    "id": "39695a3d"
   },
   "source": [
    "## Operators"
   ]
  },
  {
   "cell_type": "markdown",
   "metadata": {
    "id": "a2c1e756"
   },
   "source": [
    "### Arithmetic"
   ]
  },
  {
   "cell_type": "code",
   "execution_count": null,
   "metadata": {
    "id": "6b195670"
   },
   "outputs": [],
   "source": [
    "# addition\n",
    "2 + 3"
   ]
  },
  {
   "cell_type": "code",
   "execution_count": null,
   "metadata": {
    "id": "35c20bdb"
   },
   "outputs": [],
   "source": [
    "# subtraction\n",
    "3 - 1.4"
   ]
  },
  {
   "cell_type": "code",
   "execution_count": null,
   "metadata": {
    "id": "6afcfa41"
   },
   "outputs": [],
   "source": [
    "# multiplication\n",
    "4 * 3"
   ]
  },
  {
   "cell_type": "code",
   "execution_count": null,
   "metadata": {
    "id": "b6ba571e"
   },
   "outputs": [],
   "source": [
    "# float division\n",
    "5 / 3"
   ]
  },
  {
   "cell_type": "code",
   "execution_count": null,
   "metadata": {
    "id": "e3ac882b"
   },
   "outputs": [],
   "source": [
    "# integer division\n",
    "5 // 3"
   ]
  },
  {
   "cell_type": "code",
   "execution_count": null,
   "metadata": {
    "id": "fcfe8b4c"
   },
   "outputs": [],
   "source": [
    "# remainder\n",
    "5 % 3"
   ]
  },
  {
   "cell_type": "code",
   "execution_count": null,
   "metadata": {
    "id": "4e6de98c"
   },
   "outputs": [],
   "source": [
    "# power\n",
    "2**3"
   ]
  },
  {
   "cell_type": "markdown",
   "metadata": {
    "id": "bea349bc"
   },
   "source": [
    "### Comparisons"
   ]
  },
  {
   "cell_type": "code",
   "execution_count": null,
   "metadata": {
    "id": "8556e586"
   },
   "outputs": [],
   "source": [
    "# greater than\n",
    "4 > 3"
   ]
  },
  {
   "cell_type": "code",
   "execution_count": null,
   "metadata": {
    "id": "3bbc4cbd"
   },
   "outputs": [],
   "source": [
    "# greater than or equal to\n",
    "4 >= 3"
   ]
  },
  {
   "cell_type": "code",
   "execution_count": null,
   "metadata": {
    "id": "5944564f"
   },
   "outputs": [],
   "source": [
    "# less than\n",
    "4 < 3"
   ]
  },
  {
   "cell_type": "code",
   "execution_count": null,
   "metadata": {
    "id": "c4f1c157"
   },
   "outputs": [],
   "source": [
    "# less than or equal to\n",
    "4 <= 3"
   ]
  },
  {
   "cell_type": "code",
   "execution_count": null,
   "metadata": {
    "id": "750dbb5c"
   },
   "outputs": [],
   "source": [
    "# is equal to\n",
    "4 == 3"
   ]
  },
  {
   "cell_type": "code",
   "execution_count": null,
   "metadata": {
    "id": "8a93a705"
   },
   "outputs": [],
   "source": [
    "# is not equal to\n",
    "4 != 3"
   ]
  },
  {
   "cell_type": "markdown",
   "metadata": {
    "id": "b9f6b1a5"
   },
   "source": [
    "## Exercise 1"
   ]
  },
  {
   "cell_type": "markdown",
   "metadata": {
    "id": "7c18dd42"
   },
   "source": [
    "Solve the following problem:\n",
    "\n",
    "There are 340 kits in the lab, each containing 3 samples. Each sample contains a volume of 10 ml of water. 7 kits are damaged and therefore not usable. Is the total amount of water required to fill all the usable samples more or less than 8 liters?"
   ]
  },
  {
   "cell_type": "code",
   "execution_count": null,
   "metadata": {
    "id": "387f6748",
    "tags": [
     "solution",
     "empty"
    ]
   },
   "outputs": [],
   "source": [
    "((340 - 7) * 3) * 0.01 > 8"
   ]
  },
  {
   "cell_type": "markdown",
   "metadata": {
    "id": "a59641af"
   },
   "source": [
    "### Logical"
   ]
  },
  {
   "cell_type": "code",
   "execution_count": null,
   "metadata": {
    "id": "1146694e"
   },
   "outputs": [],
   "source": [
    "# Binary OR\n",
    "True | False"
   ]
  },
  {
   "cell_type": "code",
   "execution_count": null,
   "metadata": {
    "id": "b23ee92e"
   },
   "outputs": [],
   "source": [
    "# Logical OR\n",
    "True or False"
   ]
  },
  {
   "cell_type": "code",
   "execution_count": null,
   "metadata": {
    "id": "6eff2bb5"
   },
   "outputs": [],
   "source": [
    "# Binary AND\n",
    "True & False"
   ]
  },
  {
   "cell_type": "code",
   "execution_count": null,
   "metadata": {
    "id": "19a18994"
   },
   "outputs": [],
   "source": [
    "# Logical AND\n",
    "True and False"
   ]
  },
  {
   "cell_type": "markdown",
   "metadata": {
    "id": "f05435e6"
   },
   "source": [
    "## Variables"
   ]
  },
  {
   "cell_type": "code",
   "execution_count": null,
   "metadata": {
    "id": "60049e33"
   },
   "outputs": [],
   "source": [
    "# Assign the value 5 to the variable x\n",
    "x = 5"
   ]
  },
  {
   "cell_type": "markdown",
   "metadata": {
    "id": "85e21422"
   },
   "source": [
    "## Useful functions (Helpers)\n",
    "\n",
    "Here is a list of useful helper functions, \n",
    "\n",
    "- `type(object)`: Get object type\n",
    "- `help(object)`: Get help for object (list of available methods, attributes, signatures and so on)\n",
    "- `dir(object)`: Get list of object attributes (fields, functions)\n",
    "- `str(object)`: Transform an object to string object? Shows documentations about the object"
   ]
  },
  {
   "cell_type": "code",
   "execution_count": null,
   "metadata": {
    "id": "d585b4e4"
   },
   "outputs": [],
   "source": [
    "type(x)"
   ]
  },
  {
   "cell_type": "code",
   "execution_count": null,
   "metadata": {
    "id": "d07a2da8"
   },
   "outputs": [],
   "source": [
    "help(x)"
   ]
  },
  {
   "cell_type": "code",
   "execution_count": null,
   "metadata": {
    "id": "bab3acb0"
   },
   "outputs": [],
   "source": [
    "dir(x)"
   ]
  },
  {
   "cell_type": "code",
   "execution_count": null,
   "metadata": {
    "id": "8c7a52af"
   },
   "outputs": [],
   "source": [
    "str(x)"
   ]
  },
  {
   "cell_type": "markdown",
   "metadata": {
    "id": "f2214a54"
   },
   "source": [
    "## Type casting"
   ]
  },
  {
   "cell_type": "code",
   "execution_count": null,
   "metadata": {
    "id": "4c4e9615"
   },
   "outputs": [],
   "source": [
    "x"
   ]
  },
  {
   "cell_type": "code",
   "execution_count": null,
   "metadata": {
    "id": "305f1f85"
   },
   "outputs": [],
   "source": [
    "type(x)"
   ]
  },
  {
   "cell_type": "code",
   "execution_count": null,
   "metadata": {
    "id": "12b81fdf"
   },
   "outputs": [],
   "source": [
    "y = float(x)"
   ]
  },
  {
   "cell_type": "code",
   "execution_count": null,
   "metadata": {
    "id": "b7c32cc4"
   },
   "outputs": [],
   "source": [
    "y"
   ]
  },
  {
   "cell_type": "code",
   "execution_count": null,
   "metadata": {
    "id": "56660752"
   },
   "outputs": [],
   "source": [
    "type(y)"
   ]
  },
  {
   "cell_type": "code",
   "execution_count": null,
   "metadata": {
    "id": "c3468c15"
   },
   "outputs": [],
   "source": [
    "z = str(y)"
   ]
  },
  {
   "cell_type": "code",
   "execution_count": null,
   "metadata": {
    "id": "7894e3e9"
   },
   "outputs": [],
   "source": [
    "z"
   ]
  },
  {
   "cell_type": "code",
   "execution_count": null,
   "metadata": {
    "id": "9eff8317"
   },
   "outputs": [],
   "source": [
    "type(z)"
   ]
  },
  {
   "cell_type": "code",
   "execution_count": null,
   "metadata": {
    "id": "3791704f"
   },
   "outputs": [],
   "source": [
    "b = bool(z)"
   ]
  },
  {
   "cell_type": "code",
   "execution_count": null,
   "metadata": {
    "id": "260aaca6"
   },
   "outputs": [],
   "source": [
    "b"
   ]
  },
  {
   "cell_type": "code",
   "execution_count": null,
   "metadata": {
    "id": "e2dbd60b"
   },
   "outputs": [],
   "source": [
    "type(b)"
   ]
  },
  {
   "cell_type": "markdown",
   "metadata": {
    "id": "226ee5c6"
   },
   "source": [
    "## Strings and Lists"
   ]
  },
  {
   "cell_type": "code",
   "execution_count": null,
   "metadata": {
    "id": "c25651a0"
   },
   "outputs": [],
   "source": [
    "a = 'a string is not a list of characters'\n",
    "b = ['my', 'list', [x, 4], 2]\n",
    "c = [[1,2,3,4], [5,6,7,8]]"
   ]
  },
  {
   "cell_type": "markdown",
   "metadata": {
    "id": "c89febf0"
   },
   "source": [
    "### Selecting List Elements"
   ]
  },
  {
   "cell_type": "markdown",
   "metadata": {
    "id": "4d0101d7"
   },
   "source": [
    "#### Subset"
   ]
  },
  {
   "cell_type": "code",
   "execution_count": null,
   "metadata": {
    "id": "4e9a8227"
   },
   "outputs": [],
   "source": [
    "# Select item at index 0 (first item)\n",
    "# a string is not a list of characters\n",
    "# ^\n",
    "a[0]"
   ]
  },
  {
   "cell_type": "code",
   "execution_count": null,
   "metadata": {
    "id": "949c338d"
   },
   "outputs": [],
   "source": [
    "# Select 2nd to last item\n",
    "# a string is not a list of characters\n",
    "#                               ^\n",
    "a[-2]"
   ]
  },
  {
   "cell_type": "markdown",
   "metadata": {
    "id": "d8a965f8"
   },
   "source": [
    "#### Slices"
   ]
  },
  {
   "cell_type": "code",
   "execution_count": null,
   "metadata": {
    "id": "ffc695ab"
   },
   "outputs": [],
   "source": [
    "# Select items from index 0 included to 5 excluded [0, 5)\n",
    "# a string is not a list of characters\n",
    "# ^^^^^\n",
    "a[:5]"
   ]
  },
  {
   "cell_type": "code",
   "execution_count": null,
   "metadata": {
    "id": "05aed079"
   },
   "outputs": [],
   "source": [
    "# Select items from index 9 included to 16 excluded [9, 16)\n",
    "# a string is not a list of characters\n",
    "#          ^^^^^ˆˆ\n",
    "a[9:16]"
   ]
  },
  {
   "cell_type": "code",
   "execution_count": null,
   "metadata": {
    "id": "766fa678"
   },
   "outputs": [],
   "source": [
    "# Select items from 5th to last till the end\n",
    "# a string is not a list of characters\n",
    "#                                ^^^^^\n",
    "a[-5:]"
   ]
  },
  {
   "cell_type": "code",
   "execution_count": null,
   "metadata": {
    "id": "b4f0f7d3"
   },
   "outputs": [],
   "source": [
    "# Select all items:\n",
    "a[:]"
   ]
  },
  {
   "cell_type": "markdown",
   "metadata": {
    "id": "79bb5bad"
   },
   "source": [
    "#### Subset Lists of Lists"
   ]
  },
  {
   "cell_type": "code",
   "execution_count": null,
   "metadata": {
    "id": "32148ad6"
   },
   "outputs": [],
   "source": [
    "# Select second subitem in first item\n",
    "# b = ['my', 'list', [x, 4], 2]\n",
    "#        ^\n",
    "b[0][1]"
   ]
  },
  {
   "cell_type": "code",
   "execution_count": null,
   "metadata": {
    "id": "ed228f58"
   },
   "outputs": [],
   "source": [
    "# Select second subitem in third item\n",
    "# b = ['my', 'list', [x, 4], 2]\n",
    "#                        ^\n",
    "b[2][1]"
   ]
  },
  {
   "cell_type": "code",
   "execution_count": null,
   "metadata": {
    "id": "bd41b051"
   },
   "outputs": [],
   "source": [
    "# Select slice in second item\n",
    "# c = [[1,2,3,4], [5,6,7,8]]\n",
    "#                    ^ ^\n",
    "c[1][1:3]"
   ]
  },
  {
   "cell_type": "markdown",
   "metadata": {
    "id": "ae00996b"
   },
   "source": [
    "### List operations"
   ]
  },
  {
   "cell_type": "code",
   "execution_count": null,
   "metadata": {
    "id": "b100d2d2"
   },
   "outputs": [],
   "source": [
    "type(a)"
   ]
  },
  {
   "cell_type": "code",
   "execution_count": null,
   "metadata": {
    "id": "1dbc2e9f"
   },
   "outputs": [],
   "source": [
    "type(b)"
   ]
  },
  {
   "cell_type": "code",
   "execution_count": null,
   "metadata": {
    "id": "522cff08"
   },
   "outputs": [],
   "source": [
    "dir(b)"
   ]
  },
  {
   "cell_type": "code",
   "execution_count": null,
   "metadata": {
    "id": "6f898ce3"
   },
   "outputs": [],
   "source": [
    "a + b"
   ]
  },
  {
   "cell_type": "code",
   "execution_count": null,
   "metadata": {
    "id": "08d450c2"
   },
   "outputs": [],
   "source": [
    "a + ' and this is another string'"
   ]
  },
  {
   "cell_type": "code",
   "execution_count": null,
   "metadata": {
    "id": "3731b265"
   },
   "outputs": [],
   "source": [
    "b + c"
   ]
  },
  {
   "cell_type": "code",
   "execution_count": null,
   "metadata": {
    "id": "4cace7f7"
   },
   "outputs": [],
   "source": [
    "[b, c]"
   ]
  },
  {
   "cell_type": "code",
   "execution_count": null,
   "metadata": {
    "id": "d39a1341"
   },
   "outputs": [],
   "source": [
    "b * 2"
   ]
  },
  {
   "cell_type": "markdown",
   "metadata": {
    "id": "8c505d69"
   },
   "source": [
    "### Exercise 2: Explore list methods\n",
    "\n",
    "Choose one of the following methods and try to understand what it does.\n",
    "\n",
    "- `.append`\n",
    "- `.clear`\n",
    "- `.copy`\n",
    "- `.count`\n",
    "- `.extend`\n",
    "- `.index`\n",
    "- `.insert`\n",
    "- `.pop`\n",
    "- `.remove`\n",
    "- `.reverse`\n",
    "- `.sort`\n",
    "\n",
    "Hints:\n",
    "- use the inline documentation explorer from Colab\n",
    "- try to execute it and see if you understand what it does\n"
   ]
  },
  {
   "cell_type": "code",
   "execution_count": null,
   "metadata": {
    "id": "36090a07",
    "tags": [
     "empty",
     "solution"
    ]
   },
   "outputs": [],
   "source": [
    "b.append(4)"
   ]
  },
  {
   "cell_type": "code",
   "execution_count": null,
   "metadata": {
    "id": "ad9c5af2",
    "tags": [
     "solution"
    ]
   },
   "outputs": [],
   "source": [
    "b"
   ]
  },
  {
   "cell_type": "code",
   "execution_count": null,
   "metadata": {
    "id": "43908c37",
    "tags": [
     "solution"
    ]
   },
   "outputs": [],
   "source": [
    "d = [1, 2, 3]\n",
    "d.clear()\n",
    "d"
   ]
  },
  {
   "cell_type": "code",
   "execution_count": null,
   "metadata": {
    "id": "c2791614",
    "tags": [
     "solution"
    ]
   },
   "outputs": [],
   "source": [
    "b.count('my')"
   ]
  },
  {
   "cell_type": "code",
   "execution_count": null,
   "metadata": {
    "id": "47129085",
    "tags": [
     "solution"
    ]
   },
   "outputs": [],
   "source": [
    "b.extend(['this', 5, 2])\n",
    "b"
   ]
  },
  {
   "cell_type": "code",
   "execution_count": null,
   "metadata": {
    "id": "9c451663",
    "tags": [
     "solution"
    ]
   },
   "outputs": [],
   "source": [
    "b.index('this')"
   ]
  },
  {
   "cell_type": "code",
   "execution_count": null,
   "metadata": {
    "id": "211fd7dd",
    "tags": [
     "solution"
    ]
   },
   "outputs": [],
   "source": [
    "b.insert(5, 'that')\n",
    "b"
   ]
  },
  {
   "cell_type": "code",
   "execution_count": null,
   "metadata": {
    "id": "9a60f70f",
    "tags": [
     "solution"
    ]
   },
   "outputs": [],
   "source": [
    "p = b.pop(1)"
   ]
  },
  {
   "cell_type": "code",
   "execution_count": null,
   "metadata": {
    "id": "88829097",
    "tags": [
     "solution"
    ]
   },
   "outputs": [],
   "source": [
    "p"
   ]
  },
  {
   "cell_type": "code",
   "execution_count": null,
   "metadata": {
    "id": "a13d3856",
    "tags": [
     "solution"
    ]
   },
   "outputs": [],
   "source": [
    "b"
   ]
  },
  {
   "cell_type": "code",
   "execution_count": null,
   "metadata": {
    "id": "c4400697",
    "tags": [
     "solution"
    ]
   },
   "outputs": [],
   "source": [
    "b.remove('that')\n",
    "b"
   ]
  },
  {
   "cell_type": "code",
   "execution_count": null,
   "metadata": {
    "id": "57faca80",
    "tags": [
     "solution"
    ]
   },
   "outputs": [],
   "source": [
    "b.reverse()\n",
    "b"
   ]
  },
  {
   "cell_type": "code",
   "execution_count": null,
   "metadata": {
    "id": "8975058b",
    "tags": [
     "solution"
    ]
   },
   "outputs": [],
   "source": [
    "d = [4, 1, 3, 2]\n",
    "d.sort()\n",
    "d"
   ]
  },
  {
   "cell_type": "markdown",
   "metadata": {
    "id": "c91e3f93"
   },
   "source": [
    "## Dictionaries"
   ]
  },
  {
   "cell_type": "code",
   "execution_count": null,
   "metadata": {
    "id": "6888bdf4"
   },
   "outputs": [],
   "source": [
    "d1 = {'trial': 1,\n",
    "      'descr': 'very complex experiment',\n",
    "      'samples': [1,4,5]\n",
    "     }\n",
    "\n",
    "d2 = {'trial': 2,\n",
    "      'descr': 'simple experiment',\n",
    "      'samples': [2, 3]\n",
    "     }\n",
    "\n",
    "d3 = {'notes': 'these are some notes',\n",
    "      'lab': 23}"
   ]
  },
  {
   "cell_type": "code",
   "execution_count": null,
   "metadata": {
    "id": "663e07f4"
   },
   "outputs": [],
   "source": [
    "d1['trial']"
   ]
  },
  {
   "cell_type": "code",
   "execution_count": null,
   "metadata": {
    "id": "e642cd1b"
   },
   "outputs": [],
   "source": [
    "d1.get('trial')"
   ]
  },
  {
   "cell_type": "code",
   "execution_count": null,
   "metadata": {
    "id": "d6a1f4d8"
   },
   "outputs": [],
   "source": [
    "d1['not_existing_key']"
   ]
  },
  {
   "cell_type": "code",
   "execution_count": null,
   "metadata": {
    "id": "23c9637b"
   },
   "outputs": [],
   "source": [
    "d1.get('not_existing_key', -99)"
   ]
  },
  {
   "cell_type": "code",
   "execution_count": null,
   "metadata": {
    "id": "72065fa8"
   },
   "outputs": [],
   "source": [
    "d1.items()"
   ]
  },
  {
   "cell_type": "code",
   "execution_count": null,
   "metadata": {
    "id": "ebf0bffe"
   },
   "outputs": [],
   "source": [
    "d1.keys()"
   ]
  },
  {
   "cell_type": "code",
   "execution_count": null,
   "metadata": {
    "id": "e81f4a5a"
   },
   "outputs": [],
   "source": [
    "d1.values()"
   ]
  },
  {
   "cell_type": "code",
   "execution_count": null,
   "metadata": {
    "id": "855a4321"
   },
   "outputs": [],
   "source": [
    "d4 = d1.copy()\n",
    "d4"
   ]
  },
  {
   "cell_type": "code",
   "execution_count": null,
   "metadata": {
    "id": "c0dd4eae"
   },
   "outputs": [],
   "source": [
    "d4.update(d3)"
   ]
  },
  {
   "cell_type": "code",
   "execution_count": null,
   "metadata": {
    "id": "012e0468"
   },
   "outputs": [],
   "source": [
    "d4"
   ]
  },
  {
   "cell_type": "code",
   "execution_count": null,
   "metadata": {
    "id": "c8b0821a"
   },
   "outputs": [],
   "source": [
    "d4.update(d2)"
   ]
  },
  {
   "cell_type": "code",
   "execution_count": null,
   "metadata": {
    "id": "b354544c"
   },
   "outputs": [],
   "source": [
    "d4"
   ]
  },
  {
   "cell_type": "code",
   "execution_count": null,
   "metadata": {
    "id": "819406df"
   },
   "outputs": [],
   "source": [
    "d4.pop('lab')"
   ]
  },
  {
   "cell_type": "code",
   "execution_count": null,
   "metadata": {
    "id": "a10149b8"
   },
   "outputs": [],
   "source": [
    "d4"
   ]
  },
  {
   "cell_type": "markdown",
   "metadata": {
    "id": "ef24e543"
   },
   "source": [
    "## Flow Control"
   ]
  },
  {
   "cell_type": "code",
   "execution_count": null,
   "metadata": {
    "id": "c5692eb3"
   },
   "outputs": [],
   "source": [
    "n = 5\n",
    "while n > 0:\n",
    "  print(n)\n",
    "  n = n - 1"
   ]
  },
  {
   "cell_type": "code",
   "execution_count": null,
   "metadata": {
    "id": "6a60a74b"
   },
   "outputs": [],
   "source": [
    "n = 5\n",
    "while n > 0:\n",
    "  if n % 2 == 0:\n",
    "    print(f\"{n} is even\")\n",
    "  else:\n",
    "    print(f\"{n} is odd\")\n",
    "  n = n - 1"
   ]
  },
  {
   "cell_type": "code",
   "execution_count": null,
   "metadata": {
    "id": "e16a7656"
   },
   "outputs": [],
   "source": [
    "n = 1\n",
    "while n <= 4:\n",
    "  if n == 1:\n",
    "    print(f\"{n} is one\")\n",
    "  elif n == 2:\n",
    "    print(f\"{n} is two\")\n",
    "  else:\n",
    "    print(f\"{n} is not one or two\")\n",
    "  n = n + 1"
   ]
  },
  {
   "cell_type": "code",
   "execution_count": null,
   "metadata": {
    "id": "7be1c1ea"
   },
   "outputs": [],
   "source": [
    "for i in range(3):\n",
    "  print(i)"
   ]
  },
  {
   "cell_type": "code",
   "execution_count": null,
   "metadata": {
    "id": "5651ae22"
   },
   "outputs": [],
   "source": [
    "for i in range(0, 10, 3):\n",
    "  print(i)"
   ]
  },
  {
   "cell_type": "code",
   "execution_count": null,
   "metadata": {
    "id": "c4d93b3c"
   },
   "outputs": [],
   "source": [
    "for i in range(4, 0, -1):\n",
    "  print(i)"
   ]
  },
  {
   "cell_type": "code",
   "execution_count": null,
   "metadata": {
    "id": "7afdd464"
   },
   "outputs": [],
   "source": [
    "numbers = []\n",
    "squares = []\n",
    "\n",
    "for i in range(0, 10, 3):\n",
    "  numbers.append(i)\n",
    "  squares.append(i*i)\n",
    "\n",
    "print(\"numbers:\", numbers)\n",
    "print(\"squares:\", squares)"
   ]
  },
  {
   "cell_type": "code",
   "execution_count": null,
   "metadata": {
    "id": "6177446f"
   },
   "outputs": [],
   "source": [
    "numbers_squares_dict = {}\n",
    "\n",
    "for k, v in zip(numbers, squares):\n",
    "  numbers_squares_dict[k] = v\n",
    "\n",
    "numbers_squares_dict"
   ]
  },
  {
   "cell_type": "code",
   "execution_count": null,
   "metadata": {
    "id": "c8fa603a"
   },
   "outputs": [],
   "source": [
    "numbers_squares_dict[3]"
   ]
  },
  {
   "cell_type": "code",
   "execution_count": null,
   "metadata": {
    "id": "c0726d66"
   },
   "outputs": [],
   "source": [
    "numbers_squares_dict[4]"
   ]
  },
  {
   "cell_type": "markdown",
   "metadata": {
    "id": "c710ff44"
   },
   "source": [
    "### List and dictionary comprehensions"
   ]
  },
  {
   "cell_type": "code",
   "execution_count": null,
   "metadata": {
    "id": "868cee3c"
   },
   "outputs": [],
   "source": [
    "squares_2 = [i*i for i in range(0, 10, 3)]\n",
    "\n",
    "squares_2"
   ]
  },
  {
   "cell_type": "code",
   "execution_count": null,
   "metadata": {
    "id": "bfeab7b8"
   },
   "outputs": [],
   "source": [
    "numbers_squares_dict_2 = {i: i*i for i in range(0, 10, 3)}\n",
    "\n",
    "numbers_squares_dict_2"
   ]
  },
  {
   "cell_type": "markdown",
   "metadata": {
    "id": "66cd3a39"
   },
   "source": [
    "## Exercise 3: FizzBuzz"
   ]
  },
  {
   "cell_type": "markdown",
   "metadata": {
    "id": "8a5a2822"
   },
   "source": [
    "Write a program that prints the numbers from 1 to 30 included. For multiples of three print “Fizz” instead of the number and for the multiples of five print “Buzz”. For numbers which are multiples of both three and five print “FizzBuzz”.\n",
    "\n",
    "Bonus points: instead of printing, accumulate the results in a list and then print the list."
   ]
  },
  {
   "cell_type": "code",
   "execution_count": null,
   "metadata": {
    "id": "42e3f5c8",
    "tags": [
     "solution",
     "empty"
    ]
   },
   "outputs": [],
   "source": [
    "for i in range(1, 31):\n",
    "    if i % 3 == 0 and i % 5 == 0:\n",
    "        print ('FizzBuzz')\n",
    "    elif i % 3 == 0:\n",
    "        print ('Fizz')\n",
    "    elif i % 5 == 0:\n",
    "        print ('Buzz')\n",
    "    else:\n",
    "        print (str(i))"
   ]
  },
  {
   "cell_type": "code",
   "execution_count": null,
   "metadata": {
    "id": "e8b70145",
    "tags": [
     "solution"
    ]
   },
   "outputs": [],
   "source": [
    "results = []\n",
    "\n",
    "for i in range(1, 31):\n",
    "    if i % 3 == 0 and i % 5 == 0:\n",
    "        results.append('FizzBuzz')\n",
    "    elif i % 3 == 0:\n",
    "        results.append('Fizz')\n",
    "    elif i % 5 == 0:\n",
    "        results.append('Buzz')\n",
    "    else:\n",
    "        results.append(str(i))\n",
    "\n",
    "results"
   ]
  }
 ],
 "metadata": {
  "colab": {
   "authorship_tag": "ABX9TyOJWB9s6S9wS5YLk8la7mLZ",
   "include_colab_link": true,
   "name": "Intro_to_Python_1.ipynb",
   "provenance": []
  },
  "kernelspec": {
   "display_name": "Python 3 (ipykernel)",
   "language": "python",
   "name": "python3"
  },
  "language_info": {
   "codemirror_mode": {
    "name": "ipython",
    "version": 3
   },
   "file_extension": ".py",
   "mimetype": "text/x-python",
   "name": "python",
   "nbconvert_exporter": "python",
   "pygments_lexer": "ipython3",
   "version": "3.9.12"
  }
 },
 "nbformat": 4,
 "nbformat_minor": 1
}
