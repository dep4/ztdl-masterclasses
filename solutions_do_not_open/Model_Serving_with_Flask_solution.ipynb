{
 "cells": [
  {
   "cell_type": "markdown",
   "metadata": {
    "colab_type": "text",
    "id": "view-in-github"
   },
   "source": [
    "<a href=\"https://colab.research.google.com/github/zerotodeeplearning/ztdl-masterclasses/blob/master/solutions_do_not_open/Model_Serving_with_Flask_solution.ipynb\" target=\"_parent\"><img src=\"https://colab.research.google.com/assets/colab-badge.svg\" alt=\"Open In Colab\"/></a>"
   ]
  },
  {
   "cell_type": "markdown",
   "metadata": {
    "colab_type": "text",
    "id": "2bwH96hViwS7"
   },
   "source": [
    "## Learn with us: www.zerotodeeplearning.com\n",
    "\n",
    "Copyright © 2021: Zero to Deep Learning ® Catalit LLC."
   ]
  },
  {
   "cell_type": "code",
   "execution_count": null,
   "metadata": {
    "colab": {},
    "colab_type": "code",
    "id": "bFidPKNdkVPg"
   },
   "outputs": [],
   "source": [
    "# Licensed under the Apache License, Version 2.0 (the \"License\");\n",
    "# you may not use this file except in compliance with the License.\n",
    "# You may obtain a copy of the License at\n",
    "#\n",
    "# https://www.apache.org/licenses/LICENSE-2.0\n",
    "#\n",
    "# Unless required by applicable law or agreed to in writing, software\n",
    "# distributed under the License is distributed on an \"AS IS\" BASIS,\n",
    "# WITHOUT WARRANTIES OR CONDITIONS OF ANY KIND, either express or implied.\n",
    "# See the License for the specific language governing permissions and\n",
    "# limitations under the License."
   ]
  },
  {
   "cell_type": "markdown",
   "metadata": {
    "colab_type": "text",
    "id": "DvoukA2tkGV4"
   },
   "source": [
    "# Model Serving with Flask"
   ]
  },
  {
   "cell_type": "code",
   "execution_count": null,
   "metadata": {
    "colab": {
     "base_uri": "https://localhost:8080/",
     "height": 71
    },
    "colab_type": "code",
    "id": "HIgE8lBRe0QI",
    "outputId": "350d02b1-1540-4afb-f647-0288aa04296d"
   },
   "outputs": [],
   "source": [
    "import pandas as pd\n",
    "import numpy as np\n",
    "import matplotlib.pyplot as plt\n",
    "import seaborn as sns\n",
    "import tensorflow as tf\n",
    "\n",
    "from sklearn.feature_extraction.text import TfidfVectorizer\n",
    "from sklearn.pipeline import make_pipeline\n",
    "from sklearn.linear_model import LogisticRegression\n",
    "from sklearn.model_selection import train_test_split\n",
    "from sklearn.metrics import classification_report, confusion_matrix\n",
    "\n",
    "from tensorflow.keras.models import Model\n",
    "from tensorflow.keras.layers import Input, Dense, BatchNormalization\n",
    "\n",
    "import os\n",
    "import json\n",
    "import shutil\n",
    "import gzip\n",
    "import dill\n",
    "import requests"
   ]
  },
  {
   "cell_type": "markdown",
   "metadata": {
    "colab_type": "text",
    "id": "gM_BZTmNm_nn"
   },
   "source": [
    "### Scikit Learn model serving with Flask"
   ]
  },
  {
   "cell_type": "code",
   "execution_count": null,
   "metadata": {
    "colab": {},
    "colab_type": "code",
    "id": "MBCOyn-zgF9B"
   },
   "outputs": [],
   "source": [
    "url = \"https://raw.githubusercontent.com/zerotodeeplearning/ztdl-masterclasses/master/data/\""
   ]
  },
  {
   "cell_type": "code",
   "execution_count": null,
   "metadata": {
    "colab": {},
    "colab_type": "code",
    "id": "N4AcuC45gJlg"
   },
   "outputs": [],
   "source": [
    "df = pd.read_csv(url + 'wikipedia_languages.csv')\n",
    "classes = df['language'].unique()\n",
    "\n",
    "X = df['sentence']\n",
    "y = df['language']"
   ]
  },
  {
   "cell_type": "markdown",
   "metadata": {
    "colab_type": "text",
    "id": "Rn8erxDaqxwA"
   },
   "source": [
    "### Exercise 1\n",
    "\n",
    "Build and train simple model using Scikit-Learn that classifies the sentences into their respective languages. For this exercise you can avoid doing train/test split.\n",
    "\n",
    "\n",
    "\n",
    "Your code should look like:\n",
    "```python\n",
    "vect = # YOUR CODE HERE\n",
    "estimator = # YOUR CODE HERE\n",
    "model = # YOUR CODE HERE\n",
    "model.fit(# YOUR CODE HERE\n",
    "```"
   ]
  },
  {
   "cell_type": "code",
   "execution_count": null,
   "metadata": {
    "colab": {
     "base_uri": "https://localhost:8080/",
     "height": 408
    },
    "colab_type": "code",
    "id": "wFD6hk33gKoc",
    "outputId": "366acc97-780c-4e75-9146-6cbdeb47a364",
    "tags": [
     "solution",
     "empty"
    ]
   },
   "outputs": [],
   "source": [
    "tfidf_vect = TfidfVectorizer(ngram_range=(1, 3),\n",
    "                             analyzer='char',\n",
    "                             max_features=5000)\n",
    "estimator = LogisticRegression(solver='liblinear', C=10)\n",
    "\n",
    "model = make_pipeline(tfidf_vect, estimator)\n",
    "\n",
    "model.fit(X, y)"
   ]
  },
  {
   "cell_type": "markdown",
   "metadata": {
    "colab_type": "text",
    "id": "5LEyKc3NrEiK"
   },
   "source": [
    "#### Model saving and sanity check:"
   ]
  },
  {
   "cell_type": "code",
   "execution_count": null,
   "metadata": {
    "colab": {},
    "colab_type": "code",
    "id": "9_bjzuqngpHj"
   },
   "outputs": [],
   "source": [
    "with gzip.open('sklearn_model.dill.gz', 'wb') as f:\n",
    "    dill.dump(model, f)"
   ]
  },
  {
   "cell_type": "code",
   "execution_count": null,
   "metadata": {
    "colab": {},
    "colab_type": "code",
    "id": "yDx-HbMtjWUP"
   },
   "outputs": [],
   "source": [
    "test_sentences = ['this is a sentence in english',\n",
    "                  'questa è una frase in Italiano']"
   ]
  },
  {
   "cell_type": "code",
   "execution_count": null,
   "metadata": {
    "colab": {
     "base_uri": "https://localhost:8080/",
     "height": 34
    },
    "colab_type": "code",
    "id": "Ehrtov7xiPPn",
    "outputId": "138a03bc-6ed8-416c-c820-9ae72fa8417d"
   },
   "outputs": [],
   "source": [
    "model.predict(test_sentences)"
   ]
  },
  {
   "cell_type": "markdown",
   "metadata": {
    "colab_type": "text",
    "id": "-TtnvGcdrLAh"
   },
   "source": [
    "#### Flask serving"
   ]
  },
  {
   "cell_type": "code",
   "execution_count": null,
   "metadata": {
    "colab": {
     "base_uri": "https://localhost:8080/",
     "height": 34
    },
    "colab_type": "code",
    "id": "HR0i1ScKhZty",
    "outputId": "f1b44ed3-6d3c-4c5c-dcde-ee1d5389df09"
   },
   "outputs": [],
   "source": [
    "%%writefile flask_sklearn.py\n",
    "import dill\n",
    "import gzip\n",
    "import json\n",
    "import numpy as np\n",
    "from flask import Flask\n",
    "from flask import request, jsonify\n",
    "\n",
    "\n",
    "app = Flask(__name__)\n",
    "\n",
    "# Load model\n",
    "with gzip.open('sklearn_model.dill.gz') as fin:\n",
    "  loaded_model = dill.load(fin)\n",
    "print(\"Model loaded in memory. Ready to roll!\")\n",
    "\n",
    "\n",
    "# convert json to array\n",
    "def preprocess(data):\n",
    "  res = json.loads(data)\n",
    "  return np.array(res['data'])\n",
    "\n",
    "\n",
    "# generate predictions\n",
    "@app.route('/', methods=[\"POST\"])\n",
    "def predict():\n",
    "  if request.method == \"POST\":\n",
    "    data = request.data\n",
    "    print(\"Data:\", data)\n",
    "\n",
    "    processed = preprocess(data)\n",
    "    print(\"Processed:\", processed)\n",
    "\n",
    "    predictions = loaded_model.predict(processed)\n",
    "    print(\"Predictions:\", predictions)\n",
    "\n",
    "    return jsonify(predictions.tolist())\n",
    "\n",
    "if __name__ == '__main__':\n",
    "    app.run(host='0.0.0.0', debug=True)"
   ]
  },
  {
   "cell_type": "code",
   "execution_count": null,
   "metadata": {
    "colab": {},
    "colab_type": "code",
    "id": "15234pvdkjEA"
   },
   "outputs": [],
   "source": [
    "!pkill -f flask_sklearn.py\n",
    "!pkill -f flask_keras.py"
   ]
  },
  {
   "cell_type": "code",
   "execution_count": null,
   "metadata": {
    "colab": {},
    "colab_type": "code",
    "id": "2S_9pbfNi3lH"
   },
   "outputs": [],
   "source": [
    "get_ipython().system_raw(\n",
    "    'python3 flask_sklearn.py > sklearn_logs.txt 2>&1 &'\n",
    ")"
   ]
  },
  {
   "cell_type": "code",
   "execution_count": null,
   "metadata": {
    "colab": {
     "base_uri": "https://localhost:8080/",
     "height": 187
    },
    "colab_type": "code",
    "id": "DAIpGipPi3fI",
    "outputId": "ae058a73-90a0-4390-ae16-247a0d940ec8"
   },
   "outputs": [],
   "source": [
    "!tail sklearn_logs.txt"
   ]
  },
  {
   "cell_type": "markdown",
   "metadata": {
    "colab_type": "text",
    "id": "eaiWIKnerRsp"
   },
   "source": [
    "#### Predictions with Curl"
   ]
  },
  {
   "cell_type": "code",
   "execution_count": null,
   "metadata": {
    "colab": {
     "base_uri": "https://localhost:8080/",
     "height": 85
    },
    "colab_type": "code",
    "id": "iuOq5vg4jMZ8",
    "outputId": "c10a68bd-6221-4bfa-c9cc-e1af8cf4fe76"
   },
   "outputs": [],
   "source": [
    "!curl -d '{\"data\": [\"this is a sentence in english\", \"questa è una frase in Italiano\"]}' \\\n",
    "     -H \"Content-Type: application/json\" \\\n",
    "     -X POST http://localhost:5000"
   ]
  },
  {
   "cell_type": "markdown",
   "metadata": {
    "colab_type": "text",
    "id": "HhzRj56grUrz"
   },
   "source": [
    "#### Predictions with Python requests"
   ]
  },
  {
   "cell_type": "code",
   "execution_count": null,
   "metadata": {
    "colab": {},
    "colab_type": "code",
    "id": "QVreRAainEFI"
   },
   "outputs": [],
   "source": [
    "api_url = \"http://localhost:5000/\"\n",
    "payload = {'data': test_sentences}\n",
    "headers = {'content-type': 'application/json'}\n",
    "\n",
    "response = requests.post(api_url,\n",
    "                         data=json.dumps(payload),\n",
    "                         headers=headers)"
   ]
  },
  {
   "cell_type": "code",
   "execution_count": null,
   "metadata": {
    "colab": {
     "base_uri": "https://localhost:8080/",
     "height": 34
    },
    "colab_type": "code",
    "id": "t32qCbwunEB9",
    "outputId": "0bf2b427-357c-4813-cd67-290bf44f6db0"
   },
   "outputs": [],
   "source": [
    "response.json()"
   ]
  },
  {
   "cell_type": "markdown",
   "metadata": {
    "colab_type": "text",
    "id": "7lNffwt4nD_I"
   },
   "source": [
    "### Tensorflow model serving with Flask"
   ]
  },
  {
   "cell_type": "code",
   "execution_count": null,
   "metadata": {
    "colab": {
     "base_uri": "https://localhost:8080/",
     "height": 324
    },
    "colab_type": "code",
    "id": "R9XfYdgunD45",
    "outputId": "8bd8c7a3-cd13-42dc-877a-b9fdc2b70b14"
   },
   "outputs": [],
   "source": [
    "df = pd.read_csv(url + 'wifi_location.csv')\n",
    "df.head()"
   ]
  },
  {
   "cell_type": "code",
   "execution_count": null,
   "metadata": {
    "colab": {},
    "colab_type": "code",
    "id": "iW-m5Gm1ndxW"
   },
   "outputs": [],
   "source": [
    "X = df.drop('location', axis=1).values\n",
    "y = df['location'].values"
   ]
  },
  {
   "cell_type": "markdown",
   "metadata": {
    "colab_type": "text",
    "id": "BYGKNmspraWY"
   },
   "source": [
    "### Exercise 2\n",
    "\n",
    "Build and train simple model using Tensorflow and Keras that classifies the Wi-Fi data into their respective rooms. For this exercise you can avoid doing train/test split. Bonus points if you use the functional API.\n",
    "\n",
    "\n",
    "Your code should look like:\n",
    "```python\n",
    "\n",
    "inputs = Input(# YOUR CODE HERE\n",
    "    \n",
    "# YOUR CODE HERE\n",
    "    \n",
    "model.compile(# YOUR CODE HERE\n",
    "    \n",
    "model.fit(# YOUR CODE HERE\n",
    "    \n",
    "```\n"
   ]
  },
  {
   "cell_type": "code",
   "execution_count": null,
   "metadata": {
    "colab": {},
    "colab_type": "code",
    "id": "DdgI-bF7ndpB",
    "tags": [
     "solution",
     "empty"
    ]
   },
   "outputs": [],
   "source": [
    "inputs = Input(shape=(7,))\n",
    "x = BatchNormalization()(inputs)\n",
    "x = Dense(50, activation='relu')(x)\n",
    "x = Dense(30, activation='relu')(x)\n",
    "x = Dense(10, activation='relu')(x)\n",
    "predictions = Dense(4, activation='softmax')(x)\n",
    "\n",
    "model = Model(inputs=inputs, outputs=predictions)\n",
    "\n",
    "model.compile('adam',\n",
    "              'sparse_categorical_crossentropy',\n",
    "              metrics=['accuracy'])\n",
    "\n",
    "h = model.fit(X, y,\n",
    "              batch_size=128,\n",
    "              epochs=40,\n",
    "              verbose=0,\n",
    "              validation_split=0.1)\n",
    "\n",
    "pd.DataFrame(h.history).plot()\n",
    "plt.ylim(0, 1);"
   ]
  },
  {
   "cell_type": "markdown",
   "metadata": {
    "colab_type": "text",
    "id": "VeJXVjIerkzf"
   },
   "source": [
    "#### Model saving and sanity check:"
   ]
  },
  {
   "cell_type": "code",
   "execution_count": null,
   "metadata": {
    "colab": {},
    "colab_type": "code",
    "id": "XNn1CGE4ndlh"
   },
   "outputs": [],
   "source": [
    "model.save('keras_model')"
   ]
  },
  {
   "cell_type": "code",
   "execution_count": null,
   "metadata": {
    "colab": {},
    "colab_type": "code",
    "id": "f1u62FDxrupc"
   },
   "outputs": [],
   "source": [
    "test_indexes = [0, 550, 1032]"
   ]
  },
  {
   "cell_type": "code",
   "execution_count": null,
   "metadata": {
    "colab": {},
    "colab_type": "code",
    "id": "uw45iR3mryd-"
   },
   "outputs": [],
   "source": [
    "test_data = X[test_indexes].tolist()\n",
    "test_labels = y[test_indexes].tolist()\n",
    "print(\"Test data:\", test_data)\n",
    "print(\"Test labels:\", test_labels)"
   ]
  },
  {
   "cell_type": "code",
   "execution_count": null,
   "metadata": {
    "colab": {},
    "colab_type": "code",
    "id": "oLiFaJo6r25u"
   },
   "outputs": [],
   "source": [
    "model.predict(test_data).argmax(axis=1)"
   ]
  },
  {
   "cell_type": "markdown",
   "metadata": {
    "colab_type": "text",
    "id": "SjtmjuHQtGI9"
   },
   "source": [
    "### Exercise 3: Model serving with Flask\n",
    "\n",
    "Modify the scikit learn script to work with tensorflow:\n",
    "\n",
    "- adapt the imports\n",
    "- replace the model loading part using `tf.keras.models.load_model`\n",
    "- adapt the prediction part so that it returns the room number\n",
    "\n",
    "Your script should look like:\n",
    "```python\n",
    "%%writefile flask_keras.py\n",
    "# YOUR CODE HERE\n",
    "\n",
    "\n",
    "app = Flask(__name__)\n",
    "\n",
    "# Load model\n",
    "\n",
    "# YOUR CODE HERE\n",
    "\n",
    "print(\"Model loaded in memory. Ready to roll!\")\n",
    "\n",
    "\n",
    "# convert json to array\n",
    "def preprocess(data):\n",
    "  res = json.loads(data)\n",
    "  return np.array(res['data'])\n",
    "\n",
    "\n",
    "# generate predictions\n",
    "@app.route('/', methods=[\"POST\"])\n",
    "def predict():\n",
    "  if request.method == \"POST\":\n",
    "    data = request.data\n",
    "    print(\"Data:\", data)\n",
    "\n",
    "    processed = preprocess(data)\n",
    "    print(\"Processed:\", processed)\n",
    "\n",
    "    # YOUR CODE HERE\n",
    "    print(\"Predictions:\", predictions)\n",
    "\n",
    "    return jsonify(predictions.tolist())\n",
    "\n",
    "if __name__ == '__main__':\n",
    "    app.run(host='0.0.0.0', debug=True)\n",
    "```\n",
    "\n",
    "\n",
    "- Run the script using the code above\n",
    "- Check in the logs that it's running correctly\n",
    "- Send some test data to the flask server using either `curl` or `requests`"
   ]
  },
  {
   "cell_type": "code",
   "execution_count": null,
   "metadata": {
    "colab": {},
    "colab_type": "code",
    "id": "bcwhLUS7ndfF",
    "tags": [
     "solution",
     "empty"
    ]
   },
   "outputs": [],
   "source": [
    "%%writefile flask_keras.py\n",
    "import json\n",
    "import numpy as np\n",
    "from flask import Flask\n",
    "from flask import request, jsonify\n",
    "import tensorflow as tf\n",
    "\n",
    "\n",
    "app = Flask(__name__)\n",
    "\n",
    "# Load model\n",
    "loaded_model = tf.keras.models.load_model('keras_model')\n",
    "print(\"Model loaded in memory. Ready to roll!\")\n",
    "\n",
    "\n",
    "# convert json to array\n",
    "def preprocess(data):\n",
    "  res = json.loads(data)\n",
    "  return np.array(res['data'])\n",
    "\n",
    "\n",
    "# generate predictions\n",
    "@app.route('/', methods=[\"POST\"])\n",
    "def predict():\n",
    "  if request.method == \"POST\":\n",
    "    data = request.data\n",
    "    print(\"Data:\", data)\n",
    "\n",
    "    processed = preprocess(data)\n",
    "    print(\"Processed:\", processed)\n",
    "\n",
    "    probabilities = loaded_model.predict(processed)\n",
    "    predictions = probabilities.argmax(axis=1)\n",
    "    print(\"Predictions:\", predictions)\n",
    "\n",
    "    return jsonify(predictions.tolist())\n",
    "\n",
    "if __name__ == '__main__':\n",
    "    app.run(host='0.0.0.0', debug=True)"
   ]
  },
  {
   "cell_type": "code",
   "execution_count": null,
   "metadata": {
    "colab": {},
    "colab_type": "code",
    "id": "IrEZCV-0ndbu",
    "tags": [
     "solution"
    ]
   },
   "outputs": [],
   "source": [
    "!pkill -f flask_sklearn.py\n",
    "!pkill -f flask_keras.py"
   ]
  },
  {
   "cell_type": "code",
   "execution_count": null,
   "metadata": {
    "colab": {},
    "colab_type": "code",
    "id": "7MizsiFGjMW-",
    "tags": [
     "solution"
    ]
   },
   "outputs": [],
   "source": [
    "get_ipython().system_raw(\n",
    "    'python3 flask_keras.py > keras_logs.txt 2>&1 &'\n",
    ")"
   ]
  },
  {
   "cell_type": "code",
   "execution_count": null,
   "metadata": {
    "colab": {},
    "colab_type": "code",
    "id": "wSq9J5Hzpf5_",
    "tags": [
     "solution"
    ]
   },
   "outputs": [],
   "source": [
    "!tail keras_logs.txt"
   ]
  },
  {
   "cell_type": "code",
   "execution_count": null,
   "metadata": {
    "colab": {},
    "colab_type": "code",
    "id": "-5GbK3d_pnh0",
    "tags": [
     "solution"
    ]
   },
   "outputs": [],
   "source": [
    "!curl -d '{{\"data\": {test_data} }}' \\\n",
    "     -H \"Content-Type: application/json\" \\\n",
    "     -X POST http://localhost:5000"
   ]
  },
  {
   "cell_type": "code",
   "execution_count": null,
   "metadata": {
    "colab": {},
    "colab_type": "code",
    "id": "yLwR9lilpnfD",
    "tags": [
     "solution"
    ]
   },
   "outputs": [],
   "source": [
    "api_url = \"http://localhost:5000/\"\n",
    "payload = {'data': test_data}\n",
    "headers = {'content-type': 'application/json'}\n",
    "\n",
    "response = requests.post(api_url,\n",
    "                         data=json.dumps(payload),\n",
    "                         headers=headers)\n",
    "response.json()"
   ]
  }
 ],
 "metadata": {
  "celltoolbar": "Tags",
  "colab": {
   "authorship_tag": "ABX9TyOJWB9s6S9wS5YLk8la7mLZ",
   "include_colab_link": true,
   "name": "Model_Serving_with_Flask.ipynb",
   "provenance": []
  },
  "kernelspec": {
   "display_name": "Python 3",
   "language": "python",
   "name": "python3"
  },
  "language_info": {
   "codemirror_mode": {
    "name": "ipython",
    "version": 3
   },
   "file_extension": ".py",
   "mimetype": "text/x-python",
   "name": "python",
   "nbconvert_exporter": "python",
   "pygments_lexer": "ipython3",
   "version": "3.7.7"
  }
 },
 "nbformat": 4,
 "nbformat_minor": 1
}
