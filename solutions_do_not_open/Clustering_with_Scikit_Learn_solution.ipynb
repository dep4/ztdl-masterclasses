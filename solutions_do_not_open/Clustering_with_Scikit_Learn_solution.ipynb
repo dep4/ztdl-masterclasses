{
 "cells": [
  {
   "cell_type": "markdown",
   "metadata": {
    "colab_type": "text",
    "id": "view-in-github"
   },
   "source": [
    "<a href=\"https://colab.research.google.com/github/zerotodeeplearning/ztdl-masterclasses/blob/master/solutions_do_not_open/Clustering_with_Scikit_Learn_solution.ipynb\" target=\"_parent\"><img src=\"https://colab.research.google.com/assets/colab-badge.svg\" alt=\"Open In Colab\"/></a>"
   ]
  },
  {
   "cell_type": "markdown",
   "metadata": {
    "colab_type": "text",
    "id": "2bwH96hViwS7"
   },
   "source": [
    "## Learn with us: www.zerotodeeplearning.com\n",
    "\n",
    "Copyright © 2021: Zero to Deep Learning ® Catalit LLC."
   ]
  },
  {
   "cell_type": "code",
   "execution_count": null,
   "metadata": {
    "colab": {},
    "colab_type": "code",
    "id": "bFidPKNdkVPg"
   },
   "outputs": [],
   "source": [
    "# Licensed under the Apache License, Version 2.0 (the \"License\");\n",
    "# you may not use this file except in compliance with the License.\n",
    "# You may obtain a copy of the License at\n",
    "#\n",
    "# https://www.apache.org/licenses/LICENSE-2.0\n",
    "#\n",
    "# Unless required by applicable law or agreed to in writing, software\n",
    "# distributed under the License is distributed on an \"AS IS\" BASIS,\n",
    "# WITHOUT WARRANTIES OR CONDITIONS OF ANY KIND, either express or implied.\n",
    "# See the License for the specific language governing permissions and\n",
    "# limitations under the License."
   ]
  },
  {
   "cell_type": "markdown",
   "metadata": {
    "colab_type": "text",
    "id": "jk6RnoWjEtF5"
   },
   "source": [
    "Documentation links:\n",
    "\n",
    "- [Google Colab](https://colab.research.google.com/notebooks/intro.ipynb)\n",
    "- [Numpy](https://docs.scipy.org/doc/)\n",
    "- [Pandas](https://pandas.pydata.org/docs/getting_started/index.html)\n",
    "- [Pandas Cheatsheet](https://pandas.pydata.org/Pandas_Cheat_Sheet.pdf)\n",
    "- [Matplotlib](https://matplotlib.org/)\n",
    "- [Matplotlib Cheat Sheet](https://s3.amazonaws.com/assets.datacamp.com/blog_assets/Python_Matplotlib_Cheat_Sheet.pdf)\n",
    "- [Seaborn](https://seaborn.pydata.org/)\n",
    "- [Scikit-learn](https://scikit-learn.org/stable/user_guide.html)\n",
    "- [Scikit-learn Cheat Sheet](https://s3.amazonaws.com/assets.datacamp.com/blog_assets/Scikit_Learn_Cheat_Sheet_Python.pdf)\n",
    "- [Scikit-learn Flow Chart](https://scikit-learn.org/stable/tutorial/machine_learning_map/index.html)"
   ]
  },
  {
   "cell_type": "markdown",
   "metadata": {
    "colab_type": "text",
    "id": "MVBRJoxuEve7"
   },
   "source": [
    "# Clustering with Scikit Learn"
   ]
  },
  {
   "cell_type": "code",
   "execution_count": null,
   "metadata": {
    "colab": {
     "base_uri": "https://localhost:8080/",
     "height": 71
    },
    "colab_type": "code",
    "id": "Iha6GGOQEzOc",
    "outputId": "a3e0cae3-5d34-450c-fdad-c3633a26f4d8"
   },
   "outputs": [],
   "source": [
    "import numpy as np\n",
    "import pandas as pd\n",
    "import matplotlib.pyplot as plt\n",
    "import seaborn as sns"
   ]
  },
  {
   "cell_type": "code",
   "execution_count": null,
   "metadata": {
    "colab": {},
    "colab_type": "code",
    "id": "EfsHvLq3E0kK"
   },
   "outputs": [],
   "source": [
    "url = \"https://raw.githubusercontent.com/zerotodeeplearning/ztdl-masterclasses/master/data/\""
   ]
  },
  {
   "cell_type": "code",
   "execution_count": null,
   "metadata": {
    "colab": {},
    "colab_type": "code",
    "id": "CYR9PoN8FEuF"
   },
   "outputs": [],
   "source": [
    "df = pd.read_csv(url + 'iris.csv')"
   ]
  },
  {
   "cell_type": "code",
   "execution_count": null,
   "metadata": {
    "colab": {
     "base_uri": "https://localhost:8080/",
     "height": 204
    },
    "colab_type": "code",
    "id": "YbREm5vfFKf5",
    "outputId": "8cde4f1a-23d9-4631-aba4-a3f48fa715d7"
   },
   "outputs": [],
   "source": [
    "df.head()"
   ]
  },
  {
   "cell_type": "code",
   "execution_count": null,
   "metadata": {
    "colab": {
     "base_uri": "https://localhost:8080/",
     "height": 296
    },
    "colab_type": "code",
    "id": "Ep1epnwoFLjc",
    "outputId": "f2b9fc4a-5144-4ab0-a39e-4ac1834a6ef5"
   },
   "outputs": [],
   "source": [
    "df.plot.scatter(x='sepal_length', y='petal_length', title='Iris Flowers');"
   ]
  },
  {
   "cell_type": "code",
   "execution_count": null,
   "metadata": {
    "colab": {},
    "colab_type": "code",
    "id": "6zee5i0KFMua"
   },
   "outputs": [],
   "source": [
    "X = df.drop('species', axis=1).values"
   ]
  },
  {
   "cell_type": "code",
   "execution_count": null,
   "metadata": {
    "colab": {},
    "colab_type": "code",
    "id": "MqgnNmqjFOBy"
   },
   "outputs": [],
   "source": [
    "from sklearn.cluster import KMeans"
   ]
  },
  {
   "cell_type": "code",
   "execution_count": null,
   "metadata": {
    "colab": {
     "base_uri": "https://localhost:8080/",
     "height": 68
    },
    "colab_type": "code",
    "id": "RlszGiHFFQCE",
    "outputId": "860150bf-4f6a-4748-e164-17aee633a35c"
   },
   "outputs": [],
   "source": [
    "model = KMeans(2)\n",
    "model.fit(X)"
   ]
  },
  {
   "cell_type": "code",
   "execution_count": null,
   "metadata": {
    "colab": {
     "base_uri": "https://localhost:8080/",
     "height": 51
    },
    "colab_type": "code",
    "id": "didYXpdmFSYp",
    "outputId": "3e257626-01f1-414c-a338-6111be53c014"
   },
   "outputs": [],
   "source": [
    "centers = model.cluster_centers_\n",
    "centers"
   ]
  },
  {
   "cell_type": "code",
   "execution_count": null,
   "metadata": {
    "colab": {
     "base_uri": "https://localhost:8080/",
     "height": 280
    },
    "colab_type": "code",
    "id": "ZqPiYf7BFSv2",
    "outputId": "c61e7781-68f0-4141-bfd3-f396afdb0c06"
   },
   "outputs": [],
   "source": [
    "plt.scatter(df['sepal_length'], df['petal_length'], c=model.labels_)\n",
    "plt.scatter(centers[:, 0], centers[:, 2], marker='o', c='r', s=100)\n",
    "plt.xlabel('sepal_length')\n",
    "plt.ylabel('petal_length');"
   ]
  },
  {
   "cell_type": "markdown",
   "metadata": {},
   "source": [
    "### Exercise 1\n",
    "\n",
    "What is the optimal number of clusters in this dataset? One way to find it is to use the [Elbow Method](https://en.wikipedia.org/wiki/Elbow_method_(clustering)) that plots the sum of square distances from the nearest cluster center as a function of the number of clusters. We call this quantity \"inertia\". As the number of cluster increases, the total inertia will decrease as there will be more cluster centers and therefore each point will be closer to one such center. At some point, however, adding more centers will result in diminishing returns.\n",
    "\n",
    "- Iterate over `k` from 1 to 10\n",
    "- for each `k` fit a `KMeans` model to the data\n",
    "- Plot the `model.inertia_` as a function of `k`\n",
    "\n",
    "The ideal number of clusters is found at the \"Elbow\" of the curve."
   ]
  },
  {
   "cell_type": "code",
   "execution_count": null,
   "metadata": {
    "tags": [
     "solution",
     "empty"
    ]
   },
   "outputs": [],
   "source": [
    "ks = range(1, 10)\n",
    "evs = []\n",
    "\n",
    "for k in ks:\n",
    "  model = KMeans(k)\n",
    "  model.fit(X)\n",
    "  score = model.inertia_\n",
    "  evs.append(score)"
   ]
  },
  {
   "cell_type": "code",
   "execution_count": null,
   "metadata": {
    "tags": [
     "solution"
    ]
   },
   "outputs": [],
   "source": [
    "plt.figure(figsize=(10, 6))\n",
    "plt.plot(ks, evs, 'o-')\n",
    "plt.title(\"Squared distance from cluster centers\")\n",
    "plt.xlabel(\"K\")\n",
    "plt.ylabel(\"Inertia\");"
   ]
  },
  {
   "cell_type": "markdown",
   "metadata": {
    "colab_type": "text",
    "id": "wpciIMM3FT4n"
   },
   "source": [
    "### Exercise 2\n",
    "A different method to assess the goodness of a clustering in absence of labels is the [Silhouette Score](https://en.wikipedia.org/wiki/Silhouette_(clustering)).\n",
    "\n",
    "Let's explore how the `silhouette_score` changes as a function of `k`.\n",
    "\n",
    "- Iterate over `k` from 2 to 10\n",
    "- for each `k` fit a `KMeans` model to the data\n",
    "- evaluate the results with the `silhouette_score`\n",
    "\n",
    "- Bonus points if you plot the score as a function of `k`\n",
    "- Bonus points if you plot the clusters for each value of `k`. To accomplish this task you could define a helper function:\n",
    "```python\n",
    "def plot_clusters(model, centers=None):\n",
    "  # YOUR CODE HERE\n",
    "```\n",
    "that uses the plotting code from the previous cell."
   ]
  },
  {
   "cell_type": "code",
   "execution_count": null,
   "metadata": {
    "colab": {},
    "colab_type": "code",
    "id": "GtsETiOaFfrI"
   },
   "outputs": [],
   "source": [
    "from sklearn.metrics import silhouette_score"
   ]
  },
  {
   "cell_type": "code",
   "execution_count": null,
   "metadata": {
    "colab": {},
    "colab_type": "code",
    "id": "LiNqcMiKFcbG",
    "tags": [
     "solution",
     "empty"
    ]
   },
   "outputs": [],
   "source": [
    "def plot_clusters(model, centers=None):\n",
    "  plt.scatter(df['sepal_length'], df['petal_length'], c=model.labels_)\n",
    "\n",
    "  if centers is not None:\n",
    "    plt.scatter(centers[:, 0], centers[:, 2], marker='o', c='r', s=100)\n",
    "  \n",
    "  plt.xlabel('sepal_length')\n",
    "  plt.ylabel('petal_length');"
   ]
  },
  {
   "cell_type": "code",
   "execution_count": null,
   "metadata": {
    "colab": {
     "base_uri": "https://localhost:8080/",
     "height": 729
    },
    "colab_type": "code",
    "id": "xjW9vtVrFtga",
    "outputId": "9bc73241-de87-4881-ba0a-af77a6b6caa1",
    "tags": [
     "solution"
    ]
   },
   "outputs": [],
   "source": [
    "ks = range(2, 10)\n",
    "ss = []\n",
    "i = 1\n",
    "plt.figure(figsize=(10, 10))\n",
    "\n",
    "for k in ks:\n",
    "  model = KMeans(k)\n",
    "  model.fit(X)\n",
    "  score = silhouette_score(X, model.labels_)\n",
    "  ss.append(score)\n",
    "\n",
    "  plt.subplot(3, 3, i)\n",
    "  plot_clusters(model, model.cluster_centers_)\n",
    "  plt.title(\"k: {}\".format(k))\n",
    "  \n",
    "  i = i+1\n",
    "\n",
    "\n",
    "plt.subplot(3, 3, i)\n",
    "plt.plot(ks, ss)\n",
    "plt.title(\"Silhouette Score\")\n",
    "plt.xlabel(\"k\")\n",
    "\n",
    "plt.tight_layout()"
   ]
  },
  {
   "cell_type": "markdown",
   "metadata": {
    "colab_type": "text",
    "id": "n6qQM1-ZJEAq"
   },
   "source": [
    "### Exercise 3\n",
    "\n",
    "- Switch clustering method to `DBSCAN` and fit the model for various values of `eps`\n",
    "- calculate the `silhouette_score` for each value\n",
    "- determine how many clusters were found for each value\n",
    "- Bonus points if you plot the `silhouette_score` as a function of `eps`"
   ]
  },
  {
   "cell_type": "code",
   "execution_count": null,
   "metadata": {
    "colab": {},
    "colab_type": "code",
    "id": "647z290zLc7V"
   },
   "outputs": [],
   "source": [
    "from sklearn.cluster import DBSCAN"
   ]
  },
  {
   "cell_type": "code",
   "execution_count": null,
   "metadata": {
    "colab": {
     "base_uri": "https://localhost:8080/",
     "height": 729
    },
    "colab_type": "code",
    "id": "oEfFKOVwGjGe",
    "outputId": "a17a4d03-6745-46fb-eb4b-679736137eee",
    "tags": [
     "solution",
     "empty"
    ]
   },
   "outputs": [],
   "source": [
    "epss = [0.25, 0.3, 0.4, 0.5, 0.75, 1, 1.25, 1.5]\n",
    "ss = []\n",
    "i = 1\n",
    "\n",
    "plt.figure(figsize=(10, 10))\n",
    "\n",
    "for eps in epss:\n",
    "  model = DBSCAN(eps=eps)\n",
    "  model.fit(X)\n",
    "  score = silhouette_score(X, model.labels_)\n",
    "  ss.append(score)\n",
    "\n",
    "  plt.subplot(3, 3, i)\n",
    "  plot_clusters(model)\n",
    "  plt.title(\"Eps: {}, Labels: {}\".format(eps, np.unique(model.labels_)))\n",
    "  \n",
    "  i = i+1\n",
    "\n",
    "\n",
    "plt.subplot(3, 3, i)\n",
    "plt.plot(epss, ss)\n",
    "plt.title(\"Silhouette Score\")\n",
    "plt.xlabel(\"Epsilon\")\n",
    "\n",
    "plt.tight_layout()"
   ]
  }
 ],
 "metadata": {
  "celltoolbar": "Tags",
  "colab": {
   "authorship_tag": "ABX9TyOJWB9s6S9wS5YLk8la7mLZ",
   "include_colab_link": true,
   "name": "Clustering_with_Scikit_Learn.ipynb",
   "provenance": []
  },
  "kernelspec": {
   "display_name": "Python 3",
   "language": "python",
   "name": "python3"
  },
  "language_info": {
   "codemirror_mode": {
    "name": "ipython",
    "version": 3
   },
   "file_extension": ".py",
   "mimetype": "text/x-python",
   "name": "python",
   "nbconvert_exporter": "python",
   "pygments_lexer": "ipython3",
   "version": "3.7.6"
  }
 },
 "nbformat": 4,
 "nbformat_minor": 1
}
