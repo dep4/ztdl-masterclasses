{
 "cells": [
  {
   "cell_type": "markdown",
   "metadata": {
    "colab_type": "text",
    "id": "view-in-github"
   },
   "source": [
    "<a href=\"https://colab.research.google.com/github/zerotodeeplearning/ztdl-masterclasses/blob/master/solutions_do_not_open/The_Power_of_TensorFlow_solution.ipynb\" target=\"_parent\"><img src=\"https://colab.research.google.com/assets/colab-badge.svg\" alt=\"Open In Colab\"/></a>"
   ]
  },
  {
   "cell_type": "markdown",
   "metadata": {
    "colab_type": "text",
    "id": "2bwH96hViwS7"
   },
   "source": [
    "## Learn with us: www.zerotodeeplearning.com\n",
    "\n",
    "Copyright © 2021: Zero to Deep Learning ® Catalit LLC."
   ]
  },
  {
   "cell_type": "code",
   "execution_count": null,
   "metadata": {
    "colab": {},
    "colab_type": "code",
    "id": "bFidPKNdkVPg"
   },
   "outputs": [],
   "source": [
    "# Licensed under the Apache License, Version 2.0 (the \"License\");\n",
    "# you may not use this file except in compliance with the License.\n",
    "# You may obtain a copy of the License at\n",
    "#\n",
    "# https://www.apache.org/licenses/LICENSE-2.0\n",
    "#\n",
    "# Unless required by applicable law or agreed to in writing, software\n",
    "# distributed under the License is distributed on an \"AS IS\" BASIS,\n",
    "# WITHOUT WARRANTIES OR CONDITIONS OF ANY KIND, either express or implied.\n",
    "# See the License for the specific language governing permissions and\n",
    "# limitations under the License."
   ]
  },
  {
   "cell_type": "markdown",
   "metadata": {
    "colab_type": "text",
    "id": "DvoukA2tkGV4"
   },
   "source": [
    "# The Power of TensorFlow"
   ]
  },
  {
   "cell_type": "code",
   "execution_count": null,
   "metadata": {
    "colab": {},
    "colab_type": "code",
    "id": "lFuPE0Z8Qs7N"
   },
   "outputs": [],
   "source": [
    "import tensorflow as tf\n",
    "import pandas as pd\n",
    "import matplotlib.pyplot as plt"
   ]
  },
  {
   "cell_type": "code",
   "execution_count": null,
   "metadata": {
    "colab": {},
    "colab_type": "code",
    "id": "WkqvPnjxREsw"
   },
   "outputs": [],
   "source": [
    "file_path = tf.keras.utils.get_file(\"australian_credit.csv\",\n",
    "                                    \"https://raw.githubusercontent.com/zerotodeeplearning/ztdl-masterclasses/master/data/australian_credit.csv\")"
   ]
  },
  {
   "cell_type": "code",
   "execution_count": null,
   "metadata": {
    "colab": {
     "base_uri": "https://localhost:8080/",
     "height": 204
    },
    "colab_type": "code",
    "id": "u-c9O5LHSRgb",
    "outputId": "67040c55-e11b-4110-b582-06a3e561753e"
   },
   "outputs": [],
   "source": [
    "df = pd.read_csv(file_path)\n",
    "df.head()"
   ]
  },
  {
   "cell_type": "code",
   "execution_count": null,
   "metadata": {
    "colab": {},
    "colab_type": "code",
    "id": "rQZ8ibITca8K"
   },
   "outputs": [],
   "source": [
    "BATCH_SIZE=5"
   ]
  },
  {
   "cell_type": "markdown",
   "metadata": {
    "colab_type": "text",
    "id": "_FDN8UYdheE1"
   },
   "source": [
    "### tf.data API"
   ]
  },
  {
   "cell_type": "code",
   "execution_count": null,
   "metadata": {
    "colab": {},
    "colab_type": "code",
    "id": "Mwy7KmBdRAIa"
   },
   "outputs": [],
   "source": [
    "def get_dataset(file_path, **kwargs):\n",
    "  dataset = tf.data.experimental.make_csv_dataset(\n",
    "      file_path,\n",
    "      batch_size=BATCH_SIZE,\n",
    "      label_name=\"class\",\n",
    "      na_value=\"?\",\n",
    "      num_epochs=1,\n",
    "      ignore_errors=True, \n",
    "      **kwargs)\n",
    "  return dataset"
   ]
  },
  {
   "cell_type": "code",
   "execution_count": null,
   "metadata": {
    "colab": {},
    "colab_type": "code",
    "id": "uYc01zP-Sc6c"
   },
   "outputs": [],
   "source": [
    "raw_train_data = get_dataset(file_path)"
   ]
  },
  {
   "cell_type": "code",
   "execution_count": null,
   "metadata": {
    "colab": {
     "base_uri": "https://localhost:8080/",
     "height": 54
    },
    "colab_type": "code",
    "id": "ZyfMUqdqShsy",
    "outputId": "8ea3216b-aa96-4c35-fc5b-4a333ec6ad1e"
   },
   "outputs": [],
   "source": [
    "raw_train_data"
   ]
  },
  {
   "cell_type": "code",
   "execution_count": null,
   "metadata": {
    "colab": {},
    "colab_type": "code",
    "id": "yFLrj0fySiag"
   },
   "outputs": [],
   "source": [
    "def print_batch(batch):\n",
    "  for key, value in batch.items():\n",
    "    print(\"{:20s}: {}\".format(key, value.numpy()))"
   ]
  },
  {
   "cell_type": "code",
   "execution_count": null,
   "metadata": {
    "colab": {},
    "colab_type": "code",
    "id": "llKunuQBUwaa"
   },
   "outputs": [],
   "source": [
    "example_batch, example_labels = next(iter(raw_train_data))"
   ]
  },
  {
   "cell_type": "code",
   "execution_count": null,
   "metadata": {
    "colab": {
     "base_uri": "https://localhost:8080/",
     "height": 493
    },
    "colab_type": "code",
    "id": "EI6QxOeIU3aE",
    "outputId": "37b62921-3cb2-4474-e26c-a067c8bc5c2c"
   },
   "outputs": [],
   "source": [
    "example_batch"
   ]
  },
  {
   "cell_type": "code",
   "execution_count": null,
   "metadata": {
    "colab": {
     "base_uri": "https://localhost:8080/",
     "height": 34
    },
    "colab_type": "code",
    "id": "Cg4Sf_3GVCEN",
    "outputId": "78573e8d-c4b4-4f7a-957d-d839435258f7"
   },
   "outputs": [],
   "source": [
    "example_labels"
   ]
  },
  {
   "cell_type": "code",
   "execution_count": null,
   "metadata": {
    "colab": {
     "base_uri": "https://localhost:8080/",
     "height": 255
    },
    "colab_type": "code",
    "id": "hAewwFJ9Smgc",
    "outputId": "4e457ec3-2b1b-47e5-c082-d881a4d80635"
   },
   "outputs": [],
   "source": [
    "print_batch(example_batch)"
   ]
  },
  {
   "cell_type": "markdown",
   "metadata": {
    "colab_type": "text",
    "id": "ZCec7ivzhjdH"
   },
   "source": [
    "### Feature Columns API"
   ]
  },
  {
   "cell_type": "code",
   "execution_count": null,
   "metadata": {
    "colab": {},
    "colab_type": "code",
    "id": "4ccCSHbWW2Tv"
   },
   "outputs": [],
   "source": [
    "from tensorflow.keras.layers import DenseFeatures\n",
    "from tensorflow.feature_column import numeric_column, bucketized_column\n",
    "from tensorflow.feature_column import categorical_column_with_vocabulary_list, indicator_column\n",
    "from tensorflow.feature_column import embedding_column, crossed_column"
   ]
  },
  {
   "cell_type": "code",
   "execution_count": null,
   "metadata": {
    "colab": {},
    "colab_type": "code",
    "id": "SvFbImNSSoXu"
   },
   "outputs": [],
   "source": [
    "def demo(feature_column):\n",
    "    feature_layer = DenseFeatures(feature_column)\n",
    "    print(\"Feature column type:\")\n",
    "    print(feature_column)\n",
    "    print()\n",
    "    print(\"Example batch data:\")\n",
    "    print(feature_layer(example_batch).numpy())"
   ]
  },
  {
   "cell_type": "code",
   "execution_count": null,
   "metadata": {
    "colab": {
     "base_uri": "https://localhost:8080/",
     "height": 170
    },
    "colab_type": "code",
    "id": "FvVXz12rVVHa",
    "outputId": "62f50fce-b8c0-4bb3-a070-3b0d06b32afc"
   },
   "outputs": [],
   "source": [
    "age = numeric_column(\"age\")\n",
    "\n",
    "demo(age)"
   ]
  },
  {
   "cell_type": "code",
   "execution_count": null,
   "metadata": {
    "colab": {
     "base_uri": "https://localhost:8080/",
     "height": 170
    },
    "colab_type": "code",
    "id": "_zACBlGwVjMY",
    "outputId": "14df0e68-8c47-432a-9d51-1ad063a7832b"
   },
   "outputs": [],
   "source": [
    "age_buckets = bucketized_column(age, boundaries=[18, 25, 30, 35, 40, 45, 50, 55, 60, 65])\n",
    "\n",
    "demo(age_buckets)"
   ]
  },
  {
   "cell_type": "code",
   "execution_count": null,
   "metadata": {
    "colab": {
     "base_uri": "https://localhost:8080/",
     "height": 51
    },
    "colab_type": "code",
    "id": "I62AG-acVmo-",
    "outputId": "9ba90ec9-15e6-4676-c894-b9f04fa78fb8"
   },
   "outputs": [],
   "source": [
    "occupation_vocab = df['occupation'].unique()\n",
    "\n",
    "occupation_vocab"
   ]
  },
  {
   "cell_type": "code",
   "execution_count": null,
   "metadata": {
    "colab": {
     "base_uri": "https://localhost:8080/",
     "height": 190
    },
    "colab_type": "code",
    "id": "oL54lvTeV89c",
    "outputId": "0b6e3cbd-10b4-45c6-f819-389d85f7829b"
   },
   "outputs": [],
   "source": [
    "occupation = categorical_column_with_vocabulary_list(\n",
    "      'occupation', occupation_vocab)\n",
    "\n",
    "occupation_one_hot = indicator_column(occupation)\n",
    "\n",
    "demo(occupation_one_hot)"
   ]
  },
  {
   "cell_type": "code",
   "execution_count": null,
   "metadata": {
    "colab": {
     "base_uri": "https://localhost:8080/",
     "height": 275
    },
    "colab_type": "code",
    "id": "LbYGoSlcWmDA",
    "outputId": "00ccf1d9-1570-4b91-96fc-ff6c05488294"
   },
   "outputs": [],
   "source": [
    "occupation_embedding = embedding_column(\n",
    "    occupation, dimension=8)\n",
    "\n",
    "demo(occupation_embedding)"
   ]
  },
  {
   "cell_type": "markdown",
   "metadata": {
    "colab_type": "text",
    "id": "JUDNYpMMiWgN"
   },
   "source": [
    "### Exercise 1: other feature columns\n",
    "\n",
    "There are several other types of feature columns.\n",
    "\n",
    "- Create a feature column of type `crossed_column` using the `age_buckets` and `occupation` columns.\n",
    "\n",
    "    ```python\n",
    "    crossed_feature = crossed_column( ....\n",
    "    ```\n",
    "\n",
    "- wrap `crossed_feature` into an indicator column and use the `demo` function to check that it works as expected\n",
    "\n",
    "- Create a `numeric_column` for each of the following numeric features:\n",
    "\n",
    "    ```python\n",
    "    numeric_cols = ['age', 'time_at_addr', 'time_w_empl',\n",
    "                    'time_w_bank', 'monthly_housing', 'savings_balance']\n",
    "    ```\n",
    "\n",
    "- Combine all of the above feature columns and these columns into a single list of feature columns:\n",
    "\n",
    "    ```python\n",
    "    feature_columns = [....]\n",
    "    ```\n",
    "In the next part we will use these to train a model.\n",
    "\n",
    "\n"
   ]
  },
  {
   "cell_type": "code",
   "execution_count": null,
   "metadata": {
    "colab": {
     "base_uri": "https://localhost:8080/",
     "height": 190
    },
    "colab_type": "code",
    "id": "4sf61MKLXJOv",
    "outputId": "0d2dd5be-4b04-48dd-832e-605e3a2b4e19",
    "tags": [
     "solution",
     "empty"
    ]
   },
   "outputs": [],
   "source": [
    "crossed_feature = crossed_column(\n",
    "    [age_buckets, occupation], hash_bucket_size=1000)\n",
    "\n",
    "crossed_feature = indicator_column(crossed_feature)\n",
    "\n",
    "demo(crossed_feature)"
   ]
  },
  {
   "cell_type": "code",
   "execution_count": null,
   "metadata": {
    "colab": {},
    "colab_type": "code",
    "id": "8wBsEcooYkM4",
    "tags": [
     "solution"
    ]
   },
   "outputs": [],
   "source": [
    "numeric_cols = ['age', 'time_at_addr', 'time_w_empl',\n",
    "                'time_w_bank', 'monthly_housing', 'savings_balance']"
   ]
  },
  {
   "cell_type": "code",
   "execution_count": null,
   "metadata": {
    "colab": {},
    "colab_type": "code",
    "id": "dzycekqnYkJi",
    "tags": [
     "solution"
    ]
   },
   "outputs": [],
   "source": [
    "feature_columns = []\n",
    "\n",
    "for c in numeric_cols:\n",
    "    feature_columns.append(numeric_column(c))\n",
    "    \n",
    "feature_columns.append(age_buckets)\n",
    "feature_columns.append(occupation_one_hot)\n",
    "feature_columns.append(occupation_embedding)\n",
    "feature_columns.append(crossed_feature)"
   ]
  },
  {
   "cell_type": "markdown",
   "metadata": {
    "colab_type": "text",
    "id": "ozBYwEeshnL1"
   },
   "source": [
    "### Model and Layers API"
   ]
  },
  {
   "cell_type": "code",
   "execution_count": null,
   "metadata": {
    "colab": {},
    "colab_type": "code",
    "id": "cf62uUoNY29H"
   },
   "outputs": [],
   "source": [
    "from tensorflow.keras.layers import Dense\n",
    "from tensorflow.keras.models import Model, Sequential"
   ]
  },
  {
   "cell_type": "code",
   "execution_count": null,
   "metadata": {
    "colab": {},
    "colab_type": "code",
    "id": "dMOQMYajXs5z"
   },
   "outputs": [],
   "source": [
    "class MyDenseLayer(tf.keras.layers.Layer):\n",
    "  def __init__(self, num_outputs, activation):\n",
    "    super(MyDenseLayer, self).__init__()\n",
    "    self.num_outputs = num_outputs\n",
    "    self.activation = activation\n",
    "\n",
    "  def build(self, input_shape):\n",
    "    self.kernel = self.add_weight(\"kernel\", \n",
    "                                  shape=[int(input_shape[-1]), \n",
    "                                          self.num_outputs],\n",
    "                                  initializer='normal')\n",
    "\n",
    "    self.bias = self.add_weight(\"bias\", \n",
    "                                shape=[self.num_outputs,],\n",
    "                                initializer='normal')\n",
    "\n",
    "  def call(self, inputs):\n",
    "    return self.activation(tf.matmul(inputs, self.kernel) + self.bias)"
   ]
  },
  {
   "cell_type": "code",
   "execution_count": null,
   "metadata": {
    "colab": {},
    "colab_type": "code",
    "id": "0y2sKXKaYJ68"
   },
   "outputs": [],
   "source": [
    "class MyModel(tf.keras.Model):\n",
    "\n",
    "  def __init__(self):\n",
    "    super(MyModel, self).__init__()\n",
    "    self.features = DenseFeatures(feature_columns)\n",
    "    self.dense1 = MyDenseLayer(128, activation=tf.nn.tanh)\n",
    "    self.dense2 = MyDenseLayer(128, activation=tf.nn.tanh)\n",
    "    self.dense3 = Dense(1)\n",
    "\n",
    "  def call(self, inputs):\n",
    "    return self.dense3(self.dense2(self.dense1(self.features(inputs))))"
   ]
  },
  {
   "cell_type": "code",
   "execution_count": null,
   "metadata": {
    "colab": {},
    "colab_type": "code",
    "id": "gGwtORH_eejV"
   },
   "outputs": [],
   "source": [
    "model = MyModel()"
   ]
  },
  {
   "cell_type": "code",
   "execution_count": null,
   "metadata": {
    "colab": {
     "base_uri": "https://localhost:8080/",
     "height": 119
    },
    "colab_type": "code",
    "id": "Kw1NYj_6YFWM",
    "outputId": "909cf02b-8765-48c3-b9f5-24c82276597b"
   },
   "outputs": [],
   "source": [
    "model(example_batch)"
   ]
  },
  {
   "cell_type": "markdown",
   "metadata": {
    "colab_type": "text",
    "id": "4eG4959Gjdq5"
   },
   "source": [
    "### Exercise 2\n",
    "\n",
    "- Compile and train the model using an optimizer of your choice.\n",
    "\n",
    "- Pay attention to how you define the loss. The model defined above returns the logits at the output (there is no sigmoid function) so you will have to create an instance of `BinaryCrossentropy` that takes logits instead of probabilities."
   ]
  },
  {
   "cell_type": "code",
   "execution_count": null,
   "metadata": {
    "colab": {},
    "colab_type": "code",
    "id": "V0fy1QjmeHOB"
   },
   "outputs": [],
   "source": [
    "from tensorflow.keras.optimizers import RMSprop, Adam, SGD\n",
    "from tensorflow.keras.losses import BinaryCrossentropy\n",
    "from tensorflow.keras.metrics import BinaryAccuracy"
   ]
  },
  {
   "cell_type": "code",
   "execution_count": null,
   "metadata": {
    "colab": {},
    "colab_type": "code",
    "id": "XILu9YnBgqHx",
    "tags": [
     "solution",
     "empty"
    ]
   },
   "outputs": [],
   "source": [
    "optimizer = Adam(lr=0.0005)\n",
    "loss = BinaryCrossentropy(from_logits=True)\n",
    "accuracy_score = BinaryAccuracy()"
   ]
  },
  {
   "cell_type": "code",
   "execution_count": null,
   "metadata": {
    "colab": {},
    "colab_type": "code",
    "id": "YW1JUYZNd_fJ",
    "tags": [
     "solution"
    ]
   },
   "outputs": [],
   "source": [
    "model.compile(optimizer=optimizer,\n",
    "              loss=loss,\n",
    "              metrics=[accuracy_score])"
   ]
  },
  {
   "cell_type": "code",
   "execution_count": null,
   "metadata": {
    "colab": {
     "base_uri": "https://localhost:8080/",
     "height": 1000
    },
    "colab_type": "code",
    "id": "N4qOrwkvd_bp",
    "outputId": "17abcc2d-5cdc-4883-f351-68d11fff529c",
    "tags": [
     "solution"
    ]
   },
   "outputs": [],
   "source": [
    "h = model.fit(raw_train_data, epochs=50)"
   ]
  },
  {
   "cell_type": "code",
   "execution_count": null,
   "metadata": {
    "colab": {
     "base_uri": "https://localhost:8080/",
     "height": 283
    },
    "colab_type": "code",
    "id": "8zpqveNPd_Yg",
    "outputId": "e8905bba-350a-4365-fdb2-1e0649e949e6",
    "tags": [
     "solution"
    ]
   },
   "outputs": [],
   "source": [
    "pd.DataFrame(h.history).plot()"
   ]
  },
  {
   "cell_type": "code",
   "execution_count": null,
   "metadata": {},
   "outputs": [],
   "source": []
  }
 ],
 "metadata": {
  "celltoolbar": "Tags",
  "colab": {
   "authorship_tag": "ABX9TyOJWB9s6S9wS5YLk8la7mLZ",
   "include_colab_link": true,
   "name": "The_Power_of_TensorFlow.ipynb",
   "provenance": []
  },
  "kernelspec": {
   "display_name": "Python 3",
   "language": "python",
   "name": "python3"
  },
  "language_info": {
   "codemirror_mode": {
    "name": "ipython",
    "version": 3
   },
   "file_extension": ".py",
   "mimetype": "text/x-python",
   "name": "python",
   "nbconvert_exporter": "python",
   "pygments_lexer": "ipython3",
   "version": "3.7.7"
  }
 },
 "nbformat": 4,
 "nbformat_minor": 1
}
