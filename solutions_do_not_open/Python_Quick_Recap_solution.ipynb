{
 "cells": [
  {
   "cell_type": "markdown",
   "metadata": {
    "colab_type": "text",
    "id": "view-in-github"
   },
   "source": [
    "<a href=\"https://colab.research.google.com/github/zerotodeeplearning/ztdl-masterclasses/blob/master/solutions_do_not_open/Python_Quick_Recap_solution.ipynb\" target=\"_parent\"><img src=\"https://colab.research.google.com/assets/colab-badge.svg\" alt=\"Open In Colab\"/></a>"
   ]
  },
  {
   "cell_type": "markdown",
   "metadata": {
    "colab_type": "text",
    "id": "2bwH96hViwS7"
   },
   "source": [
    "## Learn with us: www.zerotodeeplearning.com\n",
    "\n",
    "Copyright © 2021: Zero to Deep Learning ® Catalit LLC."
   ]
  },
  {
   "cell_type": "code",
   "execution_count": null,
   "metadata": {
    "colab": {},
    "colab_type": "code",
    "id": "bFidPKNdkVPg"
   },
   "outputs": [],
   "source": [
    "# Licensed under the Apache License, Version 2.0 (the \"License\");\n",
    "# you may not use this file except in compliance with the License.\n",
    "# You may obtain a copy of the License at\n",
    "#\n",
    "# https://www.apache.org/licenses/LICENSE-2.0\n",
    "#\n",
    "# Unless required by applicable law or agreed to in writing, software\n",
    "# distributed under the License is distributed on an \"AS IS\" BASIS,\n",
    "# WITHOUT WARRANTIES OR CONDITIONS OF ANY KIND, either express or implied.\n",
    "# See the License for the specific language governing permissions and\n",
    "# limitations under the License."
   ]
  },
  {
   "cell_type": "markdown",
   "metadata": {
    "colab_type": "text",
    "id": "DvoukA2tkGV4"
   },
   "source": [
    "# Python Quick Recap"
   ]
  },
  {
   "cell_type": "markdown",
   "metadata": {
    "id": "85e21422"
   },
   "source": [
    "## Useful functions (Helpers)\n",
    "\n",
    "Here is a list of useful helper functions, \n",
    "\n",
    "- `type(object)`: Get object type\n",
    "- `help(object)`: Get help for object (list of available methods, attributes, signatures and so on)\n",
    "- `dir(object)`: Get list of object attributes (fields, functions)\n",
    "- `str(object)`: Transform an object to string object? Shows documentations about the object"
   ]
  },
  {
   "cell_type": "markdown",
   "metadata": {
    "id": "226ee5c6"
   },
   "source": [
    "## Variables, Strings, Lists, Tuples, Dictionaries"
   ]
  },
  {
   "cell_type": "code",
   "execution_count": null,
   "metadata": {},
   "outputs": [],
   "source": [
    "# Variable\n",
    "x = 3"
   ]
  },
  {
   "cell_type": "code",
   "execution_count": null,
   "metadata": {},
   "outputs": [],
   "source": [
    "x"
   ]
  },
  {
   "cell_type": "code",
   "execution_count": null,
   "metadata": {
    "id": "c25651a0"
   },
   "outputs": [],
   "source": [
    "# String\n",
    "s = 'a string is not a list of characters'"
   ]
  },
  {
   "cell_type": "code",
   "execution_count": null,
   "metadata": {},
   "outputs": [],
   "source": [
    "s"
   ]
  },
  {
   "cell_type": "code",
   "execution_count": null,
   "metadata": {},
   "outputs": [],
   "source": [
    "s[3:10]"
   ]
  },
  {
   "cell_type": "code",
   "execution_count": null,
   "metadata": {},
   "outputs": [],
   "source": [
    "# Lists\n",
    "b = ['my', 'list', [x, 4], 2]\n",
    "c = [[1,2,3,4], [5,6,7,8]]"
   ]
  },
  {
   "cell_type": "code",
   "execution_count": null,
   "metadata": {},
   "outputs": [],
   "source": [
    "c[1][2] = 0"
   ]
  },
  {
   "cell_type": "code",
   "execution_count": null,
   "metadata": {},
   "outputs": [],
   "source": [
    "c"
   ]
  },
  {
   "cell_type": "code",
   "execution_count": null,
   "metadata": {},
   "outputs": [],
   "source": [
    "# Tuples\n",
    "t = (1, 2, 3)"
   ]
  },
  {
   "cell_type": "code",
   "execution_count": null,
   "metadata": {},
   "outputs": [],
   "source": [
    "t[1] = 10"
   ]
  },
  {
   "cell_type": "code",
   "execution_count": null,
   "metadata": {},
   "outputs": [],
   "source": [
    "# Dictionaries\n",
    "d = {'trial': 1,\n",
    "      'descr': 'very complex experiment',\n",
    "      'samples': [1,4,5]\n",
    "     }"
   ]
  },
  {
   "cell_type": "code",
   "execution_count": null,
   "metadata": {},
   "outputs": [],
   "source": [
    "d['samples']"
   ]
  },
  {
   "cell_type": "markdown",
   "metadata": {
    "id": "ef24e543"
   },
   "source": [
    "## Flow Control"
   ]
  },
  {
   "cell_type": "code",
   "execution_count": null,
   "metadata": {
    "id": "6a60a74b"
   },
   "outputs": [],
   "source": [
    "n = 5\n",
    "while n > 0:\n",
    "  if n % 2 == 0:\n",
    "    print(f\"{n} is even\")\n",
    "  else:\n",
    "    print(f\"{n} is odd\")\n",
    "  n = n - 1"
   ]
  },
  {
   "cell_type": "code",
   "execution_count": null,
   "metadata": {
    "id": "7be1c1ea"
   },
   "outputs": [],
   "source": [
    "for i in range(3):\n",
    "  print(i)"
   ]
  },
  {
   "cell_type": "code",
   "execution_count": null,
   "metadata": {
    "id": "7afdd464"
   },
   "outputs": [],
   "source": [
    "numbers = []\n",
    "squares = []\n",
    "\n",
    "for i in range(0, 10, 3):\n",
    "  numbers.append(i)\n",
    "  squares.append(i*i)\n",
    "\n",
    "print(\"numbers:\", numbers)\n",
    "print(\"squares:\", squares)"
   ]
  },
  {
   "cell_type": "markdown",
   "metadata": {
    "id": "c710ff44"
   },
   "source": [
    "### List and dictionary comprehensions"
   ]
  },
  {
   "cell_type": "code",
   "execution_count": null,
   "metadata": {
    "id": "868cee3c"
   },
   "outputs": [],
   "source": [
    "squares_2 = [i*i for i in range(0, 10, 3)]\n",
    "\n",
    "squares_2"
   ]
  },
  {
   "cell_type": "code",
   "execution_count": null,
   "metadata": {
    "id": "bfeab7b8"
   },
   "outputs": [],
   "source": [
    "numbers_squares_dict_2 = {i: i*i for i in range(0, 10, 3)}\n",
    "\n",
    "numbers_squares_dict_2"
   ]
  },
  {
   "cell_type": "markdown",
   "metadata": {},
   "source": [
    "## Functions"
   ]
  },
  {
   "cell_type": "code",
   "execution_count": null,
   "metadata": {
    "id": "da6ed0a1"
   },
   "outputs": [],
   "source": [
    "def square(x):\n",
    "  return x**2"
   ]
  },
  {
   "cell_type": "code",
   "execution_count": null,
   "metadata": {
    "id": "082cd599"
   },
   "outputs": [],
   "source": [
    "square(2)"
   ]
  },
  {
   "cell_type": "code",
   "execution_count": null,
   "metadata": {
    "id": "14e103d1"
   },
   "outputs": [],
   "source": [
    "square(3.2)"
   ]
  },
  {
   "cell_type": "code",
   "execution_count": null,
   "metadata": {
    "id": "07666856"
   },
   "outputs": [],
   "source": [
    "def power(x, n=2):\n",
    "  return x**n"
   ]
  },
  {
   "cell_type": "code",
   "execution_count": null,
   "id": "b1cb5ab2",
   "metadata": {},
   "outputs": [],
   "source": [
    "power(4)"
   ]
  },
  {
   "cell_type": "code",
   "execution_count": null,
   "id": "a29db87b",
   "metadata": {},
   "outputs": [],
   "source": [
    "power(4, 3)"
   ]
  },
  {
   "cell_type": "code",
   "execution_count": null,
   "id": "c38a95a1",
   "metadata": {},
   "outputs": [],
   "source": [
    "power(4, 1.5)"
   ]
  },
  {
   "cell_type": "code",
   "execution_count": null,
   "id": "f7d7948a",
   "metadata": {},
   "outputs": [],
   "source": [
    "power?"
   ]
  },
  {
   "cell_type": "code",
   "execution_count": null,
   "id": "3a80d29d",
   "metadata": {},
   "outputs": [],
   "source": [
    "def power_with_doc(x, n=2):\n",
    "  \"\"\"\n",
    "  Elevates x to the power n\n",
    "  \n",
    "  Parameters\n",
    "  ----------\n",
    "  x : input number\n",
    "  n : exponent (default 2)\n",
    "  \n",
    "  Returns\n",
    "  -------\n",
    "  y : x**n\n",
    "  \"\"\"\n",
    "  return x**n"
   ]
  },
  {
   "cell_type": "code",
   "execution_count": null,
   "id": "a73c34b4",
   "metadata": {},
   "outputs": [],
   "source": [
    "power_with_doc?"
   ]
  },
  {
   "cell_type": "code",
   "execution_count": null,
   "id": "a2cf2b45",
   "metadata": {},
   "outputs": [],
   "source": [
    "def power_with_doc_and_variable_annotation(x: float, n: float =2) -> float:\n",
    "  \"\"\"\n",
    "  Elevates x to the power n\n",
    "  \n",
    "  Parameters\n",
    "  ----------\n",
    "  x : float, input number\n",
    "  n : float, exponent (default 2)\n",
    "  \n",
    "  Returns\n",
    "  -------\n",
    "  y : x**n\n",
    "  \"\"\"\n",
    "  return x**n"
   ]
  },
  {
   "cell_type": "markdown",
   "id": "89abc32b",
   "metadata": {},
   "source": [
    "## Exercise 1"
   ]
  },
  {
   "cell_type": "markdown",
   "id": "cf2928c6",
   "metadata": {},
   "source": [
    "Write the following functions:\n",
    "- A function `cube` that calculates the cube of a number.\n",
    "- A function `truncate` that takes a string and returns the first n characters, where n is s keyword argument of the function. If the input string is shorter than n, the function should pad the result with `#` so that the returned string always has a length of 10 characters.\n",
    "- A function `set_intersection` that takes 2 sets as input and it returns the subset of elements present in both sets\n",
    "\n",
    "Bonus points: Write some test cases to verify that your functions work correctly"
   ]
  },
  {
   "cell_type": "code",
   "execution_count": null,
   "id": "fb3f5d88",
   "metadata": {
    "tags": [
     "solution",
     "empty"
    ]
   },
   "outputs": [],
   "source": [
    "def cube(x):\n",
    "  \"\"\"\n",
    "  Return the cube of x\n",
    "  \n",
    "  Parameters\n",
    "  ----------\n",
    "  x : float, input number\n",
    "  \n",
    "  Returns\n",
    "  -------\n",
    "  y : x**3\n",
    "  \"\"\"\n",
    "  return x**3"
   ]
  },
  {
   "cell_type": "code",
   "execution_count": null,
   "id": "ec660833",
   "metadata": {
    "tags": [
     "solution"
    ]
   },
   "outputs": [],
   "source": [
    "assert cube(2) == 8\n",
    "assert cube(-3) == -27"
   ]
  },
  {
   "cell_type": "code",
   "execution_count": null,
   "id": "7286060a",
   "metadata": {
    "tags": [
     "solution"
    ]
   },
   "outputs": [],
   "source": [
    "def truncate(s, n=10):\n",
    "  return(f\"{s[:n]:#<{n}}\")\n",
    "\n",
    "assert truncate(\"this is\") == \"this is###\"\n",
    "assert truncate(\"much much longer string\") == \"much much \"\n",
    "\n",
    "\n",
    "def truncate_long(s, n=10):\n",
    "  truncated_s = s[:10]\n",
    "  l = len(truncated_s)\n",
    "  if l < n:\n",
    "    pad = n - l\n",
    "    padded_s = truncated_s + \"#\"*pad\n",
    "  else:\n",
    "    padded_s = truncated_s\n",
    "  return padded_s\n",
    "\n",
    "assert truncate_long(\"this is\") == \"this is###\"\n",
    "assert truncate_long(\"much much longer string\") == \"much much \""
   ]
  },
  {
   "cell_type": "code",
   "execution_count": null,
   "id": "786a4fa6",
   "metadata": {
    "tags": [
     "solution"
    ]
   },
   "outputs": [],
   "source": [
    "def set_intersection(s1, s2):\n",
    "  res = []\n",
    "  for element in s1:\n",
    "    if element in s2:\n",
    "      res.append(element)\n",
    "  return set(res)\n",
    "\n",
    "assert set_intersection({1, 2, 3}, {1, 2}) == {1, 2}\n",
    "assert set_intersection({1, 3, 10, 2}, {1, 2}) == {1, 2}\n",
    "assert set_intersection({1, 3, \"hello\"}, {1, 2, \"hello\"}) == {1, \"hello\"}"
   ]
  },
  {
   "cell_type": "markdown",
   "id": "e89a2288",
   "metadata": {},
   "source": [
    "## Classes"
   ]
  },
  {
   "cell_type": "code",
   "execution_count": null,
   "id": "4fee1b19",
   "metadata": {},
   "outputs": [],
   "source": [
    "class Person:\n",
    "  \n",
    "  def __init__(self, name, age=0):\n",
    "    self.name = name\n",
    "    self.age = age\n",
    "    self.relations = {}\n",
    "    \n",
    "  def birthday(self):\n",
    "    self.age = self.age + 1\n",
    "  \n",
    "  def marry(self, spouse):\n",
    "    self.relations['spouse'] = spouse\n",
    "    spouse.relations['spouse'] = self\n",
    "  \n",
    "  def have_baby(self, baby_name):\n",
    "    baby = Person(baby_name)\n",
    "    if 'babies' in self.relations.keys():\n",
    "      self.relations['babies'].append(baby)\n",
    "    else:\n",
    "      self.relations['babies'] = [baby]\n",
    "  \n",
    "  def __repr__(self):\n",
    "    return f\"{self.name}, {self.age} years old, with relations to {self.relations}\"\n"
   ]
  },
  {
   "cell_type": "code",
   "execution_count": null,
   "id": "f5b48797",
   "metadata": {},
   "outputs": [],
   "source": [
    "john = Person('John', 31)"
   ]
  },
  {
   "cell_type": "code",
   "execution_count": null,
   "id": "ea95f685",
   "metadata": {},
   "outputs": [],
   "source": [
    "john"
   ]
  },
  {
   "cell_type": "code",
   "execution_count": null,
   "id": "160f16c1",
   "metadata": {},
   "outputs": [],
   "source": [
    "john.birthday()"
   ]
  },
  {
   "cell_type": "code",
   "execution_count": null,
   "id": "71f0964d",
   "metadata": {},
   "outputs": [],
   "source": [
    "john"
   ]
  },
  {
   "cell_type": "code",
   "execution_count": null,
   "id": "67d2ac42",
   "metadata": {},
   "outputs": [],
   "source": [
    "jane = Person('Jane', 30)"
   ]
  },
  {
   "cell_type": "code",
   "execution_count": null,
   "id": "0a36dd3f",
   "metadata": {},
   "outputs": [],
   "source": [
    "jane"
   ]
  },
  {
   "cell_type": "code",
   "execution_count": null,
   "id": "1c1dc71e",
   "metadata": {},
   "outputs": [],
   "source": [
    "john.marry(jane)"
   ]
  },
  {
   "cell_type": "code",
   "execution_count": null,
   "id": "7ed9f607",
   "metadata": {},
   "outputs": [],
   "source": [
    "john"
   ]
  },
  {
   "cell_type": "code",
   "execution_count": null,
   "id": "af153d26",
   "metadata": {},
   "outputs": [],
   "source": [
    "jane"
   ]
  },
  {
   "cell_type": "code",
   "execution_count": null,
   "id": "61984838",
   "metadata": {},
   "outputs": [],
   "source": [
    "john.have_baby('jim')"
   ]
  },
  {
   "cell_type": "code",
   "execution_count": null,
   "id": "b95ef1b5",
   "metadata": {},
   "outputs": [],
   "source": [
    "john"
   ]
  },
  {
   "cell_type": "code",
   "execution_count": null,
   "id": "e559dcbb",
   "metadata": {},
   "outputs": [],
   "source": [
    "john.have_baby('Kat')"
   ]
  },
  {
   "cell_type": "code",
   "execution_count": null,
   "id": "eaed070b",
   "metadata": {},
   "outputs": [],
   "source": [
    "john"
   ]
  },
  {
   "cell_type": "markdown",
   "id": "471022ed",
   "metadata": {},
   "source": [
    "## Exercise 2"
   ]
  },
  {
   "cell_type": "markdown",
   "id": "cabb31f5",
   "metadata": {},
   "source": [
    "Write 2 classes:\n",
    "\n",
    "- write a class named `Sample`:\n",
    "    - attributes:\n",
    "        - sample_id: int\n",
    "        - content: string\n",
    "        - in_freezer: bool\n",
    "        - volume: float (default 0)\n",
    "    - methods:\n",
    "        - `freeze`: switches `in_freezer` to True\n",
    "        - `thaw`: switches `in_freezer` to False\n",
    "        - `add(volume)`: add volume to the current value of volume\n",
    "        - `collect()`: retuns the current value of volume\n",
    "        - `__repr__()`: returns a string with the id, content, in_freezer and volume\n",
    "\n",
    "\n",
    "\n",
    "- write a class named `Experiment`:\n",
    "    - attributes:\n",
    "        - experiment_id: int\n",
    "        - date: str or datetime\n",
    "        - samples: list of Samples (default to empty)\n",
    "        - volume: the total volume in the experiment (default to zero)\n",
    "    \n",
    "    - methods:\n",
    "        - `add_sample`: append a sample to the list\n",
    "        - `run`: iterates over the list of samples, thaws each of them and adds the amount to the total volume\n",
    "        - `__repr__()`: returns a string with the id, date, samples and total volume"
   ]
  },
  {
   "cell_type": "code",
   "execution_count": null,
   "id": "92b668e4",
   "metadata": {
    "tags": [
     "solution",
     "empty"
    ]
   },
   "outputs": [],
   "source": [
    "class Sample:\n",
    "  def __init__(self, sample_id, content, in_freezer, volume):\n",
    "    self.sample_id = sample_id\n",
    "    self.content = content\n",
    "    self.in_freezer = in_freezer\n",
    "    self.volume = volume\n",
    "\n",
    "  def freeze(self):\n",
    "    self.in_freezer = True\n",
    "\n",
    "  def thaw(self):\n",
    "    self.in_freezer = False\n",
    "    \n",
    "  def add(self, volume):\n",
    "    self.volume = self.volume + volume\n",
    "\n",
    "  def collect(self):\n",
    "    return self.volume\n",
    "  \n",
    "  def __repr__(self):\n",
    "    return f\"Sample {self.sample_id}: {self.content} | {self.in_freezer} | volume = {self.volume}\"\n",
    "\n",
    "  \n",
    "  \n",
    "  \n",
    "\n",
    "class Experiment:\n",
    "  def __init__(self, experiment_id, date, samples=[], volume=0):\n",
    "    self.experiment_id = experiment_id\n",
    "    self.date = date\n",
    "    self.samples = samples\n",
    "    self.volume = volume\n",
    "\n",
    "  def add_sample(self, sample):\n",
    "    self.samples.append(sample)\n",
    "\n",
    "  def run(self):\n",
    "    for sample in self.samples:\n",
    "      sample.thaw()\n",
    "      self.volume += sample.collect()\n",
    "\n",
    "  def __repr__(self):\n",
    "    return f\"Experiment {self.experiment_id} | {self.date} | {self.samples} | {self.volume}\""
   ]
  },
  {
   "cell_type": "code",
   "execution_count": null,
   "id": "310e2b74",
   "metadata": {
    "tags": [
     "solution"
    ]
   },
   "outputs": [],
   "source": [
    "s1 = Sample(1, 'water', True, 10)"
   ]
  },
  {
   "cell_type": "code",
   "execution_count": null,
   "id": "120a5ffe",
   "metadata": {
    "tags": [
     "solution"
    ]
   },
   "outputs": [],
   "source": [
    "s1"
   ]
  },
  {
   "cell_type": "code",
   "execution_count": null,
   "id": "b99256d9",
   "metadata": {
    "tags": [
     "solution"
    ]
   },
   "outputs": [],
   "source": [
    "s2 = Sample(2, 'wine', False, 5)"
   ]
  },
  {
   "cell_type": "code",
   "execution_count": null,
   "id": "2c8fdaa2",
   "metadata": {
    "tags": [
     "solution"
    ]
   },
   "outputs": [],
   "source": [
    "s2"
   ]
  },
  {
   "cell_type": "code",
   "execution_count": null,
   "id": "a2be57c0",
   "metadata": {
    "tags": [
     "solution"
    ]
   },
   "outputs": [],
   "source": [
    "s2.freeze()"
   ]
  },
  {
   "cell_type": "code",
   "execution_count": null,
   "id": "35981a00",
   "metadata": {
    "tags": [
     "solution"
    ]
   },
   "outputs": [],
   "source": [
    "s2"
   ]
  },
  {
   "cell_type": "code",
   "execution_count": null,
   "id": "c20388c7",
   "metadata": {
    "tags": [
     "solution"
    ]
   },
   "outputs": [],
   "source": [
    "exp1 = Experiment(1, '2022-07-13')"
   ]
  },
  {
   "cell_type": "code",
   "execution_count": null,
   "id": "1e897e2e",
   "metadata": {
    "tags": [
     "solution"
    ]
   },
   "outputs": [],
   "source": [
    "exp1.add_sample(s1)"
   ]
  },
  {
   "cell_type": "code",
   "execution_count": null,
   "id": "661306b1",
   "metadata": {
    "tags": [
     "solution"
    ]
   },
   "outputs": [],
   "source": [
    "exp1.add_sample(s2)"
   ]
  },
  {
   "cell_type": "code",
   "execution_count": null,
   "id": "88cbb68a",
   "metadata": {
    "tags": [
     "solution"
    ]
   },
   "outputs": [],
   "source": [
    "exp1"
   ]
  },
  {
   "cell_type": "code",
   "execution_count": null,
   "id": "825e5f30",
   "metadata": {
    "tags": [
     "solution"
    ]
   },
   "outputs": [],
   "source": [
    "exp1.run()"
   ]
  },
  {
   "cell_type": "code",
   "execution_count": null,
   "id": "030b2232",
   "metadata": {
    "tags": [
     "solution"
    ]
   },
   "outputs": [],
   "source": [
    "exp1"
   ]
  },
  {
   "cell_type": "code",
   "execution_count": null,
   "metadata": {},
   "outputs": [],
   "source": []
  }
 ],
 "metadata": {
  "colab": {
   "authorship_tag": "ABX9TyOJWB9s6S9wS5YLk8la7mLZ",
   "include_colab_link": true,
   "name": "Python_Quick_Recap.ipynb",
   "provenance": []
  },
  "kernelspec": {
   "display_name": "Python 3 (ipykernel)",
   "language": "python",
   "name": "python3"
  },
  "language_info": {
   "codemirror_mode": {
    "name": "ipython",
    "version": 3
   },
   "file_extension": ".py",
   "mimetype": "text/x-python",
   "name": "python",
   "nbconvert_exporter": "python",
   "pygments_lexer": "ipython3",
   "version": "3.9.12"
  }
 },
 "nbformat": 4,
 "nbformat_minor": 1
}
