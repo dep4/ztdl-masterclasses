{
 "cells": [
  {
   "cell_type": "markdown",
   "metadata": {
    "colab_type": "text",
    "id": "view-in-github"
   },
   "source": [
    "<a href=\"https://colab.research.google.com/github/zerotodeeplearning/ztdl-masterclasses/blob/master/solutions_do_not_open/Feature_Engineering_with_Scikit_Learn_solution.ipynb\" target=\"_parent\"><img src=\"https://colab.research.google.com/assets/colab-badge.svg\" alt=\"Open In Colab\"/></a>"
   ]
  },
  {
   "cell_type": "markdown",
   "metadata": {
    "colab_type": "text",
    "id": "2bwH96hViwS7"
   },
   "source": [
    "## Learn with us: www.zerotodeeplearning.com\n",
    "\n",
    "Copyright © 2021: Zero to Deep Learning ® Catalit LLC."
   ]
  },
  {
   "cell_type": "code",
   "execution_count": null,
   "metadata": {
    "colab": {},
    "colab_type": "code",
    "id": "bFidPKNdkVPg"
   },
   "outputs": [],
   "source": [
    "# Licensed under the Apache License, Version 2.0 (the \"License\");\n",
    "# you may not use this file except in compliance with the License.\n",
    "# You may obtain a copy of the License at\n",
    "#\n",
    "# https://www.apache.org/licenses/LICENSE-2.0\n",
    "#\n",
    "# Unless required by applicable law or agreed to in writing, software\n",
    "# distributed under the License is distributed on an \"AS IS\" BASIS,\n",
    "# WITHOUT WARRANTIES OR CONDITIONS OF ANY KIND, either express or implied.\n",
    "# See the License for the specific language governing permissions and\n",
    "# limitations under the License."
   ]
  },
  {
   "cell_type": "markdown",
   "metadata": {
    "colab_type": "text",
    "id": "DvoukA2tkGV4"
   },
   "source": [
    "# Feature Engineering with Scikit Learn"
   ]
  },
  {
   "cell_type": "code",
   "execution_count": null,
   "metadata": {
    "colab": {
     "base_uri": "https://localhost:8080/",
     "height": 71
    },
    "colab_type": "code",
    "id": "xkddBIZVmDC3",
    "outputId": "dcc01cf2-108e-409f-ae0e-18b34412b5dc"
   },
   "outputs": [],
   "source": [
    "import numpy as np\n",
    "import pandas as pd\n",
    "import matplotlib.pyplot as plt\n",
    "import seaborn as sns"
   ]
  },
  {
   "cell_type": "code",
   "execution_count": null,
   "metadata": {
    "colab": {},
    "colab_type": "code",
    "id": "3UEXlWZSt0Ws"
   },
   "outputs": [],
   "source": [
    "url = 'https://raw.githubusercontent.com/zerotodeeplearning/ztdl-masterclasses/master/data/'"
   ]
  },
  {
   "cell_type": "code",
   "execution_count": null,
   "metadata": {
    "colab": {
     "base_uri": "https://localhost:8080/",
     "height": 238
    },
    "colab_type": "code",
    "id": "UyHT2V_2ty-L",
    "outputId": "f0b670cb-fc36-4b79-c131-42de438bc428"
   },
   "outputs": [],
   "source": [
    "df = pd.read_csv(url + 'titanic-train.csv')\n",
    "df.head()"
   ]
  },
  {
   "cell_type": "code",
   "execution_count": null,
   "metadata": {
    "colab": {
     "base_uri": "https://localhost:8080/",
     "height": 340
    },
    "colab_type": "code",
    "id": "blP4VdkRWZhu",
    "outputId": "0527fe21-f746-4782-9faf-e52f76809a72"
   },
   "outputs": [],
   "source": [
    "df.info()"
   ]
  },
  {
   "cell_type": "markdown",
   "metadata": {
    "colab_type": "text",
    "id": "wEvAbjscX4xI"
   },
   "source": [
    "### Feature inspection\n"
   ]
  },
  {
   "cell_type": "code",
   "execution_count": null,
   "metadata": {
    "colab": {
     "base_uri": "https://localhost:8080/",
     "height": 238
    },
    "colab_type": "code",
    "id": "abBEwQsVWoqE",
    "outputId": "a53e175c-06af-4f3c-a6a4-e8338f4e5b1e"
   },
   "outputs": [],
   "source": [
    "df.isna().sum()"
   ]
  },
  {
   "cell_type": "code",
   "execution_count": null,
   "metadata": {
    "colab": {
     "base_uri": "https://localhost:8080/",
     "height": 119
    },
    "colab_type": "code",
    "id": "i30-z6WVXzK8",
    "outputId": "a5ccf678-c2da-443e-d160-77d5571fbacd"
   },
   "outputs": [],
   "source": [
    "df.select_dtypes('O').apply(lambda x:len(x.unique()), axis=0)"
   ]
  },
  {
   "cell_type": "code",
   "execution_count": null,
   "metadata": {
    "colab": {
     "base_uri": "https://localhost:8080/",
     "height": 441
    },
    "colab_type": "code",
    "id": "WhGfaygme3mv",
    "outputId": "62c8fc76-bc2d-4525-a3fe-5d7648fac64f"
   },
   "outputs": [],
   "source": [
    "plt.figure(figsize=(10, 6))\n",
    "i = 1\n",
    "for c in df.select_dtypes('number').columns:\n",
    "  plt.subplot(3, 3, i)\n",
    "  df[c].plot.hist()\n",
    "  plt.title(c)\n",
    "  i = i+1\n",
    "\n",
    "plt.tight_layout()"
   ]
  },
  {
   "cell_type": "markdown",
   "metadata": {
    "colab_type": "text",
    "id": "1fYer-b3YVQV"
   },
   "source": [
    "Missing data:\n",
    "- drop `'PassengerId', 'Name', 'Cabin', 'Ticket'`\n",
    "- drop 2 rows with missing Embarked\n",
    "- impute missing `Age` values with mean"
   ]
  },
  {
   "cell_type": "code",
   "execution_count": null,
   "metadata": {
    "colab": {},
    "colab_type": "code",
    "id": "tGqaiQLlee4s"
   },
   "outputs": [],
   "source": [
    "df1 = df.drop(['PassengerId', 'Name', 'Cabin', 'Ticket'], axis=1)"
   ]
  },
  {
   "cell_type": "code",
   "execution_count": null,
   "metadata": {
    "colab": {},
    "colab_type": "code",
    "id": "X1yycEt6ef-n"
   },
   "outputs": [],
   "source": [
    "df1 = df1.dropna(subset=['Embarked'])"
   ]
  },
  {
   "cell_type": "code",
   "execution_count": null,
   "metadata": {
    "colab": {},
    "colab_type": "code",
    "id": "O1CJF6mAacNZ"
   },
   "outputs": [],
   "source": [
    "df1['Age'] = df1['Age'].fillna(df1['Age'].mean())"
   ]
  },
  {
   "cell_type": "markdown",
   "metadata": {
    "colab_type": "text",
    "id": "7GuxFGLYgCBw"
   },
   "source": [
    "#### Scalers"
   ]
  },
  {
   "cell_type": "markdown",
   "metadata": {
    "colab_type": "text",
    "id": "HNwIrq67epWM"
   },
   "source": [
    "Explore `Age` and `Fare` transformations"
   ]
  },
  {
   "cell_type": "code",
   "execution_count": null,
   "metadata": {
    "colab": {},
    "colab_type": "code",
    "id": "3rU-IDxEeS3y"
   },
   "outputs": [],
   "source": [
    "from sklearn.preprocessing import OneHotEncoder, StandardScaler, FunctionTransformer, KBinsDiscretizer, QuantileTransformer"
   ]
  },
  {
   "cell_type": "code",
   "execution_count": null,
   "metadata": {
    "colab": {
     "base_uri": "https://localhost:8080/",
     "height": 281
    },
    "colab_type": "code",
    "id": "2fVtsxP_gB_M",
    "outputId": "b02198ac-d206-4a1b-d528-33f3446bd837"
   },
   "outputs": [],
   "source": [
    "df1['Age'].plot.hist(bins=30, title='Age Distribution');"
   ]
  },
  {
   "cell_type": "code",
   "execution_count": null,
   "metadata": {
    "colab": {},
    "colab_type": "code",
    "id": "3cmH0hXsgB8F"
   },
   "outputs": [],
   "source": [
    "scaled_age = StandardScaler().fit_transform(df1[['Age']])"
   ]
  },
  {
   "cell_type": "code",
   "execution_count": null,
   "metadata": {
    "colab": {
     "base_uri": "https://localhost:8080/",
     "height": 281
    },
    "colab_type": "code",
    "id": "_I431VGRgB5F",
    "outputId": "f9cfd043-803d-495b-dd19-e5b044a53c09"
   },
   "outputs": [],
   "source": [
    "plt.hist(scaled_age, bins=30)\n",
    "plt.title('Scaled Age Distribution');"
   ]
  },
  {
   "cell_type": "code",
   "execution_count": null,
   "metadata": {
    "colab": {
     "base_uri": "https://localhost:8080/",
     "height": 136
    },
    "colab_type": "code",
    "id": "dQ4ofYrIgBjq",
    "outputId": "4f420ecc-c50a-432c-b370-a19494e34d97"
   },
   "outputs": [],
   "source": [
    "kbd = KBinsDiscretizer(n_bins=7, encode='onehot-dense')\n",
    "\n",
    "age_discretized = kbd.fit_transform(df1[['Age']])\n",
    "\n",
    "age_discretized"
   ]
  },
  {
   "cell_type": "code",
   "execution_count": null,
   "metadata": {
    "colab": {
     "base_uri": "https://localhost:8080/",
     "height": 51
    },
    "colab_type": "code",
    "id": "1FiWXX5VhEeJ",
    "outputId": "5d824e19-7992-4cae-d15b-5108853489b6"
   },
   "outputs": [],
   "source": [
    "kbd.bin_edges_"
   ]
  },
  {
   "cell_type": "code",
   "execution_count": null,
   "metadata": {
    "colab": {
     "base_uri": "https://localhost:8080/",
     "height": 153
    },
    "colab_type": "code",
    "id": "elcgp5Dle6f9",
    "outputId": "3e2d186d-8501-4c2e-84d9-c6f6a57812f8"
   },
   "outputs": [],
   "source": [
    "pd.Series(age_discretized.argmax(axis=1)).value_counts(sort=False)"
   ]
  },
  {
   "cell_type": "code",
   "execution_count": null,
   "metadata": {
    "colab": {
     "base_uri": "https://localhost:8080/",
     "height": 281
    },
    "colab_type": "code",
    "id": "5GjHi0K_hET7",
    "outputId": "745bbcbc-338b-4b51-feeb-04390b016ace"
   },
   "outputs": [],
   "source": [
    "df1['Fare'].plot.hist(bins=30, title='Fare Distribution');"
   ]
  },
  {
   "cell_type": "code",
   "execution_count": null,
   "metadata": {
    "colab": {},
    "colab_type": "code",
    "id": "aX-1Js-ZhswR"
   },
   "outputs": [],
   "source": [
    "qt = QuantileTransformer(n_quantiles=100)\n",
    "\n",
    "scaled_fare = qt.fit_transform(df1[['Fare']])"
   ]
  },
  {
   "cell_type": "code",
   "execution_count": null,
   "metadata": {
    "colab": {
     "base_uri": "https://localhost:8080/",
     "height": 281
    },
    "colab_type": "code",
    "id": "BYo3mIQAhspI",
    "outputId": "e48bb59f-2d48-4193-af1c-968d2120a961"
   },
   "outputs": [],
   "source": [
    "plt.hist(scaled_fare, bins=30)\n",
    "plt.title('Scaled Fare Distribution');"
   ]
  },
  {
   "cell_type": "code",
   "execution_count": null,
   "metadata": {
    "colab": {
     "base_uri": "https://localhost:8080/",
     "height": 265
    },
    "colab_type": "code",
    "id": "r5mIsRkrhsfb",
    "outputId": "d5595edb-6f27-4ecb-84ca-f9be0f70319b"
   },
   "outputs": [],
   "source": [
    "plt.plot(qt.quantiles_);"
   ]
  },
  {
   "cell_type": "markdown",
   "metadata": {
    "colab_type": "text",
    "id": "ZMQDp9SehrGs"
   },
   "source": [
    "### Exercise 1\n",
    "- Create a label variable `y = df1['Survived']`\n",
    "- Create a variable `X` that only contains the following raw features: `['Pclass', 'Age', 'Fare', 'Parch', 'SibSp']`\n",
    "\n",
    "- Use the [`ColumnTransformer`](https://scikit-learn.org/stable/modules/generated/sklearn.compose.ColumnTransformer.html#sklearn.compose.ColumnTransformer) to perform all the following transformations at once on df1:\n",
    "  - Feature engineering:\n",
    "    - binarize Sex with `OneHotEncoder`\n",
    "    - One-hot encode Pclass and Embarked with `OneHotEncoder`\n",
    "    - Scale Age with `StandardScaler`\n",
    "    - Discretize Age with `KBinsDiscretizer` into 7 bins.\n",
    "    - Transform `Fare` with `QuantileTransformer` with 100 quantiles.\n",
    "    - Create boolean columns for `Parch` and `Sibsp` using `FunctionTransformer` (0 if 0, 1 if > 0)\n",
    "\n",
    "  - Also, use the `passthrough` option for:\n",
    "    - `Age`\n",
    "    - `SibSp`\n",
    "    - `Parch`\n",
    "\n",
    "- Create a new variable `X_new` with the transformed features.\n",
    "\n",
    "If you've done everything correctly you should have the following features:\n",
    "\n",
    "```python\n",
    "new_features = ['male',\n",
    "                'Pclass_1',\n",
    "                'Pclass_2',\n",
    "                'Pclass_3',\n",
    "                'Embarked_C',\n",
    "                'Embarked_Q',\n",
    "                'Embarked_S',\n",
    "                'Age_scaled',\n",
    "                'Age_bins_0',\n",
    "                'Age_bins_1',\n",
    "                'Age_bins_2',\n",
    "                'Age_bins_3',\n",
    "                'Age_bins_4',\n",
    "                'Age_bins_5',\n",
    "                'Age_bins_6',\n",
    "                'Fare_transformed',\n",
    "                'Parch_bool',\n",
    "                'SibSp_bool',\n",
    "                'Age',\n",
    "                'SibSp',\n",
    "                'Parch'\n",
    "                ]\n",
    "```"
   ]
  },
  {
   "cell_type": "code",
   "execution_count": null,
   "metadata": {
    "colab": {},
    "colab_type": "code",
    "id": "3HiKdIDUlA5J"
   },
   "outputs": [],
   "source": [
    "from sklearn.compose import ColumnTransformer"
   ]
  },
  {
   "cell_type": "code",
   "execution_count": null,
   "metadata": {
    "colab": {},
    "colab_type": "code",
    "id": "iLeUc7t-vTkI",
    "tags": [
     "solution",
     "empty"
    ]
   },
   "outputs": [],
   "source": [
    "features = ['Pclass', 'Age', 'Fare', 'Parch', 'SibSp']\n",
    "\n",
    "X = df1[features]\n",
    "y = df1['Survived']"
   ]
  },
  {
   "cell_type": "code",
   "execution_count": null,
   "metadata": {
    "colab": {},
    "colab_type": "code",
    "id": "lE1mZ_xCblDC",
    "tags": [
     "solution"
    ]
   },
   "outputs": [],
   "source": [
    "column_transformer = ColumnTransformer(\n",
    "    [('Male', OneHotEncoder(drop='first', dtype='int'), ['Sex']),\n",
    "     ('Pclass', OneHotEncoder(dtype='int'), ['Pclass']),\n",
    "     ('Embarked', OneHotEncoder(dtype='int'), ['Embarked']),\n",
    "     ('AgeScaled', StandardScaler(), ['Age']),\n",
    "     ('AgeDiscretized', KBinsDiscretizer(n_bins=7), ['Age']),\n",
    "     ('Fare', QuantileTransformer(n_quantiles=100), ['Fare']),\n",
    "     ('Parch_bool', FunctionTransformer(lambda x: x>0), ['Parch']),\n",
    "     ('SibSp_bool', FunctionTransformer(lambda x: x>0), ['SibSp']),\n",
    "     ('Age', 'passthrough', ['Age']),\n",
    "     ('SibSp', 'passthrough', ['SibSp']),\n",
    "     ('Parch', 'passthrough', ['Parch'])\n",
    "     ],\n",
    "    remainder='drop')"
   ]
  },
  {
   "cell_type": "code",
   "execution_count": null,
   "metadata": {
    "colab": {
     "base_uri": "https://localhost:8080/",
     "height": 578
    },
    "colab_type": "code",
    "id": "wpywCe3IcWfh",
    "outputId": "c59fb4c2-482e-4402-bd02-ff93c43365ad",
    "tags": [
     "solution"
    ]
   },
   "outputs": [],
   "source": [
    "column_transformer.fit(df1)"
   ]
  },
  {
   "cell_type": "code",
   "execution_count": null,
   "metadata": {
    "colab": {},
    "colab_type": "code",
    "id": "13K0W21hf356",
    "tags": [
     "solution"
    ]
   },
   "outputs": [],
   "source": [
    "X_new = column_transformer.transform(df1)"
   ]
  },
  {
   "cell_type": "code",
   "execution_count": null,
   "metadata": {
    "colab": {
     "base_uri": "https://localhost:8080/",
     "height": 34
    },
    "colab_type": "code",
    "id": "bcdD3jb6cZcx",
    "outputId": "905c0567-8ee9-4f4f-8f37-f2852b9917dc",
    "tags": [
     "solution"
    ]
   },
   "outputs": [],
   "source": [
    "X_new.shape"
   ]
  },
  {
   "cell_type": "code",
   "execution_count": null,
   "metadata": {
    "colab": {
     "base_uri": "https://localhost:8080/",
     "height": 34
    },
    "colab_type": "code",
    "id": "bRWlzZ-rdXdG",
    "outputId": "fb261e67-2f74-4720-be39-086d228eaf54",
    "tags": [
     "solution"
    ]
   },
   "outputs": [],
   "source": [
    "new_features = ['male',\n",
    "                'Pclass_1',\n",
    "                'Pclass_2',\n",
    "                'Pclass_3',\n",
    "                'Embarked_C',\n",
    "                'Embarked_Q',\n",
    "                'Embarked_S',\n",
    "                'Age_scaled',\n",
    "                'Age_bins_0',\n",
    "                'Age_bins_1',\n",
    "                'Age_bins_2',\n",
    "                'Age_bins_3',\n",
    "                'Age_bins_4',\n",
    "                'Age_bins_5',\n",
    "                'Age_bins_6',\n",
    "                'Fare_transformed',\n",
    "                'Parch_bool',\n",
    "                'SibSp_bool',\n",
    "                'Age',\n",
    "                'SibSp',\n",
    "                'Parch'\n",
    "                ]\n",
    "len(new_features)"
   ]
  },
  {
   "cell_type": "markdown",
   "metadata": {
    "colab_type": "text",
    "id": "PJPTr_VLv5u6"
   },
   "source": [
    "### Exercise 2\n",
    "\n",
    "- Train a `DecisionTreeClassifier` on `X` and `X_new` and compare their performance. For this exercise we will not perform a train/test split and just evaluate the performance on the whole dataset\n",
    "- Compare the feature importances for the 2 models using the `model.feature_importances_` calculated attribute.\n",
    "- Bonus points if you plot the features importances with a bar chart\n",
    "- Which model is performing better?"
   ]
  },
  {
   "cell_type": "code",
   "execution_count": null,
   "metadata": {
    "colab": {},
    "colab_type": "code",
    "id": "oHYb_iu8pe-M",
    "tags": [
     "solution",
     "empty"
    ]
   },
   "outputs": [],
   "source": [
    "from sklearn.tree import DecisionTreeClassifier"
   ]
  },
  {
   "cell_type": "code",
   "execution_count": null,
   "metadata": {
    "colab": {},
    "colab_type": "code",
    "id": "nb8ILMeMsI5Q",
    "tags": [
     "solution"
    ]
   },
   "outputs": [],
   "source": [
    "model = DecisionTreeClassifier()"
   ]
  },
  {
   "cell_type": "code",
   "execution_count": null,
   "metadata": {
    "colab": {
     "base_uri": "https://localhost:8080/",
     "height": 51
    },
    "colab_type": "code",
    "id": "m21micVssf-Y",
    "outputId": "b4fcdb44-cfe2-489c-a021-dc7668550da3",
    "tags": [
     "solution"
    ]
   },
   "outputs": [],
   "source": [
    "model.fit(X, y)\n",
    "raw_score = model.score(X, y)\n",
    "\n",
    "print(\"Raw features: \", features)\n",
    "print(\"Score: {:0.3}\".format(raw_score))"
   ]
  },
  {
   "cell_type": "code",
   "execution_count": null,
   "metadata": {
    "colab": {
     "base_uri": "https://localhost:8080/",
     "height": 34
    },
    "colab_type": "code",
    "id": "-gFOKBiDswVo",
    "outputId": "c7ce773f-d584-43a3-aeac-e37675fa7347",
    "tags": [
     "solution"
    ]
   },
   "outputs": [],
   "source": [
    "feature_impo = model.feature_importances_\n",
    "feature_impo"
   ]
  },
  {
   "cell_type": "code",
   "execution_count": null,
   "metadata": {
    "colab": {
     "base_uri": "https://localhost:8080/",
     "height": 265
    },
    "colab_type": "code",
    "id": "iD-XR-v1s3Gv",
    "outputId": "9d4780b6-3ffe-4bef-d659-6fbbdd084759",
    "tags": [
     "solution"
    ]
   },
   "outputs": [],
   "source": [
    "pd.Series(feature_impo, index=features).sort_values().plot.barh();"
   ]
  },
  {
   "cell_type": "code",
   "execution_count": null,
   "metadata": {
    "colab": {},
    "colab_type": "code",
    "id": "Q0MVVUqxtHWa",
    "tags": [
     "solution"
    ]
   },
   "outputs": [],
   "source": [
    "model_new = DecisionTreeClassifier()"
   ]
  },
  {
   "cell_type": "code",
   "execution_count": null,
   "metadata": {
    "colab": {
     "base_uri": "https://localhost:8080/",
     "height": 71
    },
    "colab_type": "code",
    "id": "dtJagteipk2Y",
    "outputId": "f767798a-32a1-4ea7-b142-ead90a733656",
    "tags": [
     "solution"
    ]
   },
   "outputs": [],
   "source": [
    "model_new.fit(X_new, y)\n",
    "new_score = model_new.score(X_new, y)\n",
    "\n",
    "print(\"Raw features: \", new_features)\n",
    "print(\"Score: {:0.3}\".format(new_score))"
   ]
  },
  {
   "cell_type": "code",
   "execution_count": null,
   "metadata": {
    "colab": {
     "base_uri": "https://localhost:8080/",
     "height": 119
    },
    "colab_type": "code",
    "id": "EHMHUvADp-G9",
    "outputId": "fd0ec3fa-2665-4168-9328-caaa753330c5",
    "tags": [
     "solution"
    ]
   },
   "outputs": [],
   "source": [
    "new_feature_impo = model_new.feature_importances_\n",
    "new_feature_impo"
   ]
  },
  {
   "cell_type": "code",
   "execution_count": null,
   "metadata": {
    "colab": {
     "base_uri": "https://localhost:8080/",
     "height": 265
    },
    "colab_type": "code",
    "id": "OE2ao0kzqAOC",
    "outputId": "082c5d16-d914-40e3-d39d-49e0069bb060",
    "tags": [
     "solution"
    ]
   },
   "outputs": [],
   "source": [
    "pd.Series(new_feature_impo, index=new_features).sort_values().plot.barh();"
   ]
  },
  {
   "cell_type": "markdown",
   "metadata": {
    "colab_type": "text",
    "id": "BwjZWxdRxzM_"
   },
   "source": [
    "### Exercise 3: Feature Selection\n",
    "\n",
    "- Create a final model using the [`Recursive Feature Elimination`](https://scikit-learn.org/stable/modules/generated/sklearn.feature_selection.RFE.html) transformer and re-train it on `X_new`\n",
    "- Which features are retained?\n",
    "- Does the model performance drop by a lot?"
   ]
  },
  {
   "cell_type": "code",
   "execution_count": null,
   "metadata": {
    "colab": {},
    "colab_type": "code",
    "id": "Y6uozAtrqMNd",
    "tags": [
     "solution",
     "empty"
    ]
   },
   "outputs": [],
   "source": [
    "from sklearn.feature_selection import RFE"
   ]
  },
  {
   "cell_type": "code",
   "execution_count": null,
   "metadata": {
    "colab": {},
    "colab_type": "code",
    "id": "408EuWScw6CU",
    "tags": [
     "solution"
    ]
   },
   "outputs": [],
   "source": [
    "model_final = RFE(DecisionTreeClassifier())"
   ]
  },
  {
   "cell_type": "code",
   "execution_count": null,
   "metadata": {
    "colab": {
     "base_uri": "https://localhost:8080/",
     "height": 71
    },
    "colab_type": "code",
    "id": "bPQ503JDxA1x",
    "outputId": "54453392-5064-4fe0-d3aa-b64f84635552",
    "tags": [
     "solution"
    ]
   },
   "outputs": [],
   "source": [
    "model_final.fit(X_new, y)\n",
    "final_score = model_final.score(X_new, y)\n",
    "\n",
    "print(\"Raw features: \", new_features)\n",
    "print(\"Score: {:0.3}\".format(final_score))"
   ]
  },
  {
   "cell_type": "code",
   "execution_count": null,
   "metadata": {
    "colab": {
     "base_uri": "https://localhost:8080/",
     "height": 34
    },
    "colab_type": "code",
    "id": "vG4R6B0UxFz3",
    "outputId": "5378ff9f-e411-4968-aeec-abf73ffdd45b",
    "tags": [
     "solution"
    ]
   },
   "outputs": [],
   "source": [
    "model_final.n_features_"
   ]
  },
  {
   "cell_type": "code",
   "execution_count": null,
   "metadata": {
    "colab": {
     "base_uri": "https://localhost:8080/",
     "height": 265
    },
    "colab_type": "code",
    "id": "7fE2gr-NjCpD",
    "outputId": "b5d857f2-f8d5-4324-83b3-aa3de937226f",
    "tags": [
     "solution"
    ]
   },
   "outputs": [],
   "source": [
    "selected_features = np.array(new_features)[model_final.support_]\n",
    "final_features_impo = model_final.estimator_.feature_importances_\n",
    "\n",
    "pd.Series(final_features_impo,\n",
    "          index=selected_features\n",
    "          ).sort_values().plot.barh();"
   ]
  }
 ],
 "metadata": {
  "celltoolbar": "Tags",
  "colab": {
   "authorship_tag": "ABX9TyOJWB9s6S9wS5YLk8la7mLZ",
   "include_colab_link": true,
   "name": "Feature_Engineering_with_Scikit_Learn.ipynb",
   "provenance": []
  },
  "kernelspec": {
   "display_name": "Python 3",
   "language": "python",
   "name": "python3"
  },
  "language_info": {
   "codemirror_mode": {
    "name": "ipython",
    "version": 3
   },
   "file_extension": ".py",
   "mimetype": "text/x-python",
   "name": "python",
   "nbconvert_exporter": "python",
   "pygments_lexer": "ipython3",
   "version": "3.7.6"
  }
 },
 "nbformat": 4,
 "nbformat_minor": 1
}
