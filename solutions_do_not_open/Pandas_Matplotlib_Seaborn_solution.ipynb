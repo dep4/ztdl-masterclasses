{
 "cells": [
  {
   "cell_type": "markdown",
   "metadata": {
    "colab_type": "text",
    "id": "view-in-github"
   },
   "source": [
    "<a href=\"https://colab.research.google.com/github/zerotodeeplearning/ztdl-masterclasses/blob/master/solutions_do_not_open/Pandas_Matplotlib_Seaborn_solution.ipynb\" target=\"_parent\"><img src=\"https://colab.research.google.com/assets/colab-badge.svg\" alt=\"Open In Colab\"/></a>"
   ]
  },
  {
   "cell_type": "markdown",
   "metadata": {
    "colab_type": "text",
    "id": "2bwH96hViwS7"
   },
   "source": [
    "## Learn with us: www.zerotodeeplearning.com\n",
    "\n",
    "Copyright © 2021: Zero to Deep Learning ® Catalit LLC."
   ]
  },
  {
   "cell_type": "code",
   "execution_count": null,
   "metadata": {
    "colab": {},
    "colab_type": "code",
    "id": "bFidPKNdkVPg"
   },
   "outputs": [],
   "source": [
    "# Licensed under the Apache License, Version 2.0 (the \"License\");\n",
    "# you may not use this file except in compliance with the License.\n",
    "# You may obtain a copy of the License at\n",
    "#\n",
    "# https://www.apache.org/licenses/LICENSE-2.0\n",
    "#\n",
    "# Unless required by applicable law or agreed to in writing, software\n",
    "# distributed under the License is distributed on an \"AS IS\" BASIS,\n",
    "# WITHOUT WARRANTIES OR CONDITIONS OF ANY KIND, either express or implied.\n",
    "# See the License for the specific language governing permissions and\n",
    "# limitations under the License."
   ]
  },
  {
   "cell_type": "markdown",
   "metadata": {
    "colab_type": "text",
    "id": "SmEPoIGasbtX"
   },
   "source": [
    "Documentation links:\n",
    "\n",
    "- [Google Colab](https://colab.research.google.com/notebooks/intro.ipynb)\n",
    "- [Numpy](https://docs.scipy.org/doc/)\n",
    "- [Pandas](https://pandas.pydata.org/docs/getting_started/index.html)\n",
    "- [Pandas Cheatsheet](https://pandas.pydata.org/Pandas_Cheat_Sheet.pdf)\n",
    "- [Matplotlib](https://matplotlib.org/)\n",
    "- [Matplotlib Cheat Sheet](https://s3.amazonaws.com/assets.datacamp.com/blog_assets/Python_Matplotlib_Cheat_Sheet.pdf)\n",
    "- [Seaborn](https://seaborn.pydata.org/)\n",
    "- [Scikit-learn](https://scikit-learn.org/stable/user_guide.html)\n",
    "- [Scikit-learn Cheat Sheet](https://s3.amazonaws.com/assets.datacamp.com/blog_assets/Scikit_Learn_Cheat_Sheet_Python.pdf)\n",
    "- [Scikit-learn Flow Chart](https://scikit-learn.org/stable/tutorial/machine_learning_map/index.html)"
   ]
  },
  {
   "cell_type": "markdown",
   "metadata": {
    "colab_type": "text",
    "id": "DvoukA2tkGV4"
   },
   "source": [
    "# Pandas Matplotlib Seaborn"
   ]
  },
  {
   "cell_type": "code",
   "execution_count": null,
   "metadata": {
    "colab": {
     "base_uri": "https://localhost:8080/",
     "height": 71
    },
    "colab_type": "code",
    "id": "4FuISqRNH8Pb",
    "outputId": "9371c06e-9bc9-49ce-bbdb-dd6e3dd21b1f"
   },
   "outputs": [],
   "source": [
    "import numpy as np\n",
    "import pandas as pd\n",
    "import matplotlib.pyplot as plt\n",
    "import seaborn as sns"
   ]
  },
  {
   "cell_type": "markdown",
   "metadata": {
    "colab_type": "text",
    "id": "bjXXavXGIwAL"
   },
   "source": [
    "## Google Colab\n",
    "\n",
    "Colaboratory is an online environment that allows you to write and execute Python in the browser.\n",
    "\n",
    "- Zero configuration required\n",
    "- Free access to GPUs and TPUs\n",
    "- Easy sharing\n",
    "\n",
    "It's based on [Jupyter Notebook](https://jupyter.org/)\n",
    "\n",
    "If you've never used it before it's a good idea to read the [tutorial here](https://colab.research.google.com/notebooks/intro.ipynb)."
   ]
  },
  {
   "cell_type": "markdown",
   "metadata": {
    "colab_type": "text",
    "id": "0c8gc-GuLufF"
   },
   "source": [
    "### Keyboard shortcuts\n",
    "\n",
    "Here are some of the most common commands. Try them out:\n",
    "\n",
    "\n",
    "- `⌘/Ctrl+M H` => open the keyboard shortcut help\n",
    "- `⌘/Ctrl+M A` => Create a cell above\n",
    "- `⌘/Ctrl+M B` => Create a cell below\n",
    "- `⌘/Ctrl+M D` => Delete current cell\n",
    "- `⌘/Ctrl+M M` => Convert cell to Markdown\n",
    "- `⌘/Ctrl+M Y` => Convert cell to Code\n",
    "- `Shift+Enter` => Run cell and select next cell\n",
    "- `Ctrl+Space`, `Option+Esc` or `Tab` => Autocomplete\n"
   ]
  },
  {
   "cell_type": "code",
   "execution_count": null,
   "metadata": {
    "colab": {},
    "colab_type": "code",
    "id": "Tz9RI9oWIvzM"
   },
   "outputs": [],
   "source": []
  },
  {
   "cell_type": "markdown",
   "metadata": {
    "colab_type": "text",
    "id": "dETiZZSmLZd4"
   },
   "source": [
    "### Saving your work\n",
    "\n",
    "- Colab notebooks are automatically saved in your Google Drive\n",
    "- You can export them to Github too\n",
    "- You can download them to your local computer"
   ]
  },
  {
   "cell_type": "code",
   "execution_count": null,
   "metadata": {
    "colab": {},
    "colab_type": "code",
    "id": "OvrFg0S6LcCh"
   },
   "outputs": [],
   "source": []
  },
  {
   "cell_type": "markdown",
   "metadata": {
    "colab_type": "text",
    "id": "tk__qLa-Htmu"
   },
   "source": [
    "## Pandas\n",
    "\n",
    "Pandas is an open source library providing high-performance, easy-to-use data structures and data analysis tools for the Python programming language. Let's explore some of its functionality together."
   ]
  },
  {
   "cell_type": "markdown",
   "metadata": {
    "colab_type": "text",
    "id": "KUPl5pxtH6V8"
   },
   "source": [
    "### Reading and exploring data"
   ]
  },
  {
   "cell_type": "code",
   "execution_count": null,
   "metadata": {
    "colab": {},
    "colab_type": "code",
    "id": "X31dwzhPINxQ"
   },
   "outputs": [],
   "source": [
    "url = \"https://raw.githubusercontent.com/zerotodeeplearning/ztdl-masterclasses/master/data/\""
   ]
  },
  {
   "cell_type": "code",
   "execution_count": null,
   "metadata": {
    "colab": {},
    "colab_type": "code",
    "id": "CqLzew9eIJl1"
   },
   "outputs": [],
   "source": [
    "df = pd.read_csv(url + \"titanic-train.csv\")"
   ]
  },
  {
   "cell_type": "code",
   "execution_count": null,
   "metadata": {
    "colab": {
     "base_uri": "https://localhost:8080/",
     "height": 238
    },
    "colab_type": "code",
    "id": "kDlHZj4dIWTo",
    "outputId": "384edecf-6209-494a-a73b-4daee3a399bc"
   },
   "outputs": [],
   "source": [
    "df.head()"
   ]
  },
  {
   "cell_type": "code",
   "execution_count": null,
   "metadata": {
    "colab": {
     "base_uri": "https://localhost:8080/",
     "height": 340
    },
    "colab_type": "code",
    "id": "Gfx8dwRhIrqB",
    "outputId": "9023b525-aec9-4f5b-f093-d86c7958a188"
   },
   "outputs": [],
   "source": [
    "df.info()"
   ]
  },
  {
   "cell_type": "code",
   "execution_count": null,
   "metadata": {
    "colab": {
     "base_uri": "https://localhost:8080/",
     "height": 297
    },
    "colab_type": "code",
    "id": "A6b2J3tLIt0J",
    "outputId": "2066a3ab-85e7-40d9-b474-8ef13c08067a"
   },
   "outputs": [],
   "source": [
    "df.describe()"
   ]
  },
  {
   "cell_type": "markdown",
   "metadata": {
    "colab_type": "text",
    "id": "8PRqT_YdL0_u"
   },
   "source": [
    "### Plotting\n",
    "\n",
    "Matplotlib and Seaborn are great libraries for plotting and exploring data visually.\n",
    "\n",
    "You can take inspiration from their plot galleries:\n",
    "\n",
    "- [Matplotlib Gallery](https://matplotlib.org/3.2.1/gallery/index.html)\n",
    "- [Seaborn Gallery](https://seaborn.pydata.org/examples/index.html)"
   ]
  },
  {
   "cell_type": "code",
   "execution_count": null,
   "metadata": {
    "colab": {
     "base_uri": "https://localhost:8080/",
     "height": 279
    },
    "colab_type": "code",
    "id": "rCxCrG_-MB6i",
    "outputId": "2ca2bbe8-a48c-420d-f16c-dd07ac5c0075"
   },
   "outputs": [],
   "source": [
    "df[['Age', 'Fare']].plot.scatter(x='Age', y='Fare');"
   ]
  },
  {
   "cell_type": "code",
   "execution_count": null,
   "metadata": {
    "colab": {},
    "colab_type": "code",
    "id": "7ZYYdKTgMZrB"
   },
   "outputs": [],
   "source": [
    "survived_counts = df['Survived'].value_counts()"
   ]
  },
  {
   "cell_type": "code",
   "execution_count": null,
   "metadata": {
    "colab": {
     "base_uri": "https://localhost:8080/",
     "height": 278
    },
    "colab_type": "code",
    "id": "Wena0sjpMNMp",
    "outputId": "43f4410b-35c3-4d9f-81ce-7a822e3626a3"
   },
   "outputs": [],
   "source": [
    "survived_counts.plot.bar(title='Dead / Survived');"
   ]
  },
  {
   "cell_type": "code",
   "execution_count": null,
   "metadata": {
    "colab": {
     "base_uri": "https://localhost:8080/",
     "height": 303
    },
    "colab_type": "code",
    "id": "XWQU0k3aMUXA",
    "outputId": "e09c5d3f-8959-4f45-a5bc-ac959a40a360"
   },
   "outputs": [],
   "source": [
    "survived_counts.plot.pie(\n",
    "    figsize=(5, 5),\n",
    "    explode=[0, 0.15],\n",
    "    labels=['Dead', 'Survived'],\n",
    "    autopct='%1.1f%%',\n",
    "    shadow=True,\n",
    "    startangle=90,\n",
    "    fontsize=16);"
   ]
  },
  {
   "cell_type": "code",
   "execution_count": null,
   "metadata": {
    "colab": {
     "base_uri": "https://localhost:8080/",
     "height": 295
    },
    "colab_type": "code",
    "id": "ToaNAOR0MaiM",
    "outputId": "700aac38-2472-4b07-9bc8-812525d135d5"
   },
   "outputs": [],
   "source": [
    "df['Age'].plot.hist(\n",
    "    bins=16,\n",
    "    range=(0, 80),\n",
    "    title='Passenger age distribution')\n",
    "plt.xlabel(\"Age\");"
   ]
  },
  {
   "cell_type": "code",
   "execution_count": null,
   "metadata": {
    "colab": {
     "base_uri": "https://localhost:8080/",
     "height": 747
    },
    "colab_type": "code",
    "id": "otALb4pSMcmu",
    "outputId": "4b3593db-9c35-4672-ee8a-93b9b9bb7431"
   },
   "outputs": [],
   "source": [
    "sns.pairplot(df[['Age', 'Pclass', 'Fare', 'SibSp', 'Survived']],\n",
    "             hue='Survived');"
   ]
  },
  {
   "cell_type": "code",
   "execution_count": null,
   "metadata": {
    "colab": {
     "base_uri": "https://localhost:8080/",
     "height": 458
    },
    "colab_type": "code",
    "id": "SyKScZ4kMfuR",
    "outputId": "4fb44184-47a4-42e1-b063-63c51f551be4"
   },
   "outputs": [],
   "source": [
    "sns.jointplot(x='Age', y='Fare', data=df)"
   ]
  },
  {
   "cell_type": "markdown",
   "metadata": {
    "colab_type": "text",
    "id": "hHgMurbDMi9k"
   },
   "source": [
    "### Indexing\n",
    "\n",
    "Retrieving elements by row, by column or both. Try to understand each of the following statements"
   ]
  },
  {
   "cell_type": "code",
   "execution_count": null,
   "metadata": {
    "colab": {
     "base_uri": "https://localhost:8080/",
     "height": 221
    },
    "colab_type": "code",
    "id": "W8ufAix7NOTi",
    "outputId": "e323e53d-8b29-486b-8795-8f22b2ebf5e9"
   },
   "outputs": [],
   "source": [
    "df['Ticket']"
   ]
  },
  {
   "cell_type": "code",
   "execution_count": null,
   "metadata": {
    "colab": {
     "base_uri": "https://localhost:8080/",
     "height": 419
    },
    "colab_type": "code",
    "id": "esCaFAbbNO1_",
    "outputId": "7256cd96-b325-4dbb-cf72-26e84cd8d4d5"
   },
   "outputs": [],
   "source": [
    "df[['Fare', 'Ticket']]"
   ]
  },
  {
   "cell_type": "code",
   "execution_count": null,
   "metadata": {
    "colab": {
     "base_uri": "https://localhost:8080/",
     "height": 238
    },
    "colab_type": "code",
    "id": "bsNYk5bjNQaX",
    "outputId": "97db148d-4be9-4fd9-8420-1dc15e9c99e3"
   },
   "outputs": [],
   "source": [
    "df.iloc[3]"
   ]
  },
  {
   "cell_type": "code",
   "execution_count": null,
   "metadata": {
    "colab": {
     "base_uri": "https://localhost:8080/",
     "height": 173
    },
    "colab_type": "code",
    "id": "eBl5VSbUNUGq",
    "outputId": "d4061935-aee4-4e1c-d469-92fd0505fce1"
   },
   "outputs": [],
   "source": [
    "df.iloc[0:4, 4:6]"
   ]
  },
  {
   "cell_type": "code",
   "execution_count": null,
   "metadata": {
    "colab": {
     "base_uri": "https://localhost:8080/",
     "height": 119
    },
    "colab_type": "code",
    "id": "Mw15BuPVNnzB",
    "outputId": "8c0a5d12-88e2-4864-8a79-1b1850edce78"
   },
   "outputs": [],
   "source": [
    "df.loc[0:4, 'Ticket']"
   ]
  },
  {
   "cell_type": "code",
   "execution_count": null,
   "metadata": {
    "colab": {
     "base_uri": "https://localhost:8080/",
     "height": 204
    },
    "colab_type": "code",
    "id": "pvH1w856Nowy",
    "outputId": "2df41d77-7d0c-4dd8-f8f9-c1d269aac2d5"
   },
   "outputs": [],
   "source": [
    "df.loc[0:4, ['Fare', 'Ticket']]"
   ]
  },
  {
   "cell_type": "markdown",
   "metadata": {
    "colab_type": "text",
    "id": "jeL2w8oVNppf"
   },
   "source": [
    "### Selections\n",
    "\n",
    "Retrieving part of the dataframe based on a condition. Try to understand each of the following statements."
   ]
  },
  {
   "cell_type": "code",
   "execution_count": null,
   "metadata": {
    "colab": {
     "base_uri": "https://localhost:8080/",
     "height": 204
    },
    "colab_type": "code",
    "id": "WaLJee-YNrk6",
    "outputId": "6e7653ad-b66a-40d0-8d94-17fbfe4ff257"
   },
   "outputs": [],
   "source": [
    "df[df.Age > 70]"
   ]
  },
  {
   "cell_type": "code",
   "execution_count": null,
   "metadata": {
    "colab": {
     "base_uri": "https://localhost:8080/",
     "height": 80
    },
    "colab_type": "code",
    "id": "kTcl3svMNs3A",
    "outputId": "ac76d48b-a1d7-46e8-c3af-a983fbea8e0e"
   },
   "outputs": [],
   "source": [
    "df[(df['Age'] == 11) & (df['SibSp'] == 5)]"
   ]
  },
  {
   "cell_type": "markdown",
   "metadata": {
    "colab_type": "text",
    "id": "gSU0xGaRNzTt"
   },
   "source": [
    "### Distinct elements"
   ]
  },
  {
   "cell_type": "code",
   "execution_count": null,
   "metadata": {
    "colab": {
     "base_uri": "https://localhost:8080/",
     "height": 34
    },
    "colab_type": "code",
    "id": "rJpgvAvNNwjg",
    "outputId": "31b38e39-9169-4e1f-83b7-0113960141d5"
   },
   "outputs": [],
   "source": [
    "df['Embarked'].unique()"
   ]
  },
  {
   "cell_type": "markdown",
   "metadata": {
    "colab_type": "text",
    "id": "UhnkeqBJNyCH"
   },
   "source": [
    "### Group-by & Sorting"
   ]
  },
  {
   "cell_type": "code",
   "execution_count": null,
   "metadata": {
    "colab": {
     "base_uri": "https://localhost:8080/",
     "height": 85
    },
    "colab_type": "code",
    "id": "zVWOOC8uN3YH",
    "outputId": "83f28904-524e-4a51-f389-dc2a1a8bf2ee"
   },
   "outputs": [],
   "source": [
    "# Find average age of passengers that survived vs. died\n",
    "df.groupby('Survived')['Age'].mean()"
   ]
  },
  {
   "cell_type": "code",
   "execution_count": null,
   "metadata": {
    "colab": {
     "base_uri": "https://localhost:8080/",
     "height": 204
    },
    "colab_type": "code",
    "id": "KOacGI8EN68q",
    "outputId": "6b13de5c-71a3-45e1-fd05-3a680e065967"
   },
   "outputs": [],
   "source": [
    "df.sort_values('Age', ascending = False).head()"
   ]
  },
  {
   "cell_type": "markdown",
   "metadata": {
    "colab_type": "text",
    "id": "CZ1N8633N8QP"
   },
   "source": [
    "### Join (merge)"
   ]
  },
  {
   "cell_type": "code",
   "execution_count": null,
   "metadata": {
    "colab": {
     "base_uri": "https://localhost:8080/",
     "height": 204
    },
    "colab_type": "code",
    "id": "k17AGoEkN_en",
    "outputId": "4feca399-06bb-4d1f-e434-627d2761c6ec"
   },
   "outputs": [],
   "source": [
    "df1 = df[['PassengerId', 'Survived']]\n",
    "df2 = df[['PassengerId', 'Age']]\n",
    "\n",
    "pd.merge(df1, df2, on='PassengerId').head()"
   ]
  },
  {
   "cell_type": "markdown",
   "metadata": {
    "colab_type": "text",
    "id": "1h4k6TzFOBZP"
   },
   "source": [
    "### Pivot Tables"
   ]
  },
  {
   "cell_type": "code",
   "execution_count": null,
   "metadata": {
    "colab": {
     "base_uri": "https://localhost:8080/",
     "height": 173
    },
    "colab_type": "code",
    "id": "iE9-Ve4DOE7U",
    "outputId": "16955a14-b4e2-4f6d-ef37-137ed8dd519c"
   },
   "outputs": [],
   "source": [
    "df.pivot_table(index='Pclass', columns='Survived', values='PassengerId', aggfunc='count')"
   ]
  },
  {
   "cell_type": "code",
   "execution_count": null,
   "metadata": {
    "colab": {
     "base_uri": "https://localhost:8080/",
     "height": 85
    },
    "colab_type": "code",
    "id": "L57zmq-COGFt",
    "outputId": "08364556-73bf-4b42-e6ed-2f437729daa4"
   },
   "outputs": [],
   "source": [
    "df['Pclass'].value_counts()"
   ]
  },
  {
   "cell_type": "markdown",
   "metadata": {
    "colab_type": "text",
    "id": "Va3bjO0ROHBm"
   },
   "source": [
    "### Time series data"
   ]
  },
  {
   "cell_type": "code",
   "execution_count": null,
   "metadata": {
    "colab": {},
    "colab_type": "code",
    "id": "VlquXzB1OJz0"
   },
   "outputs": [],
   "source": [
    "dfts = pd.read_csv(url + 'time_series_covid19_confirmed_global.csv')\n",
    "df1 = dfts.drop(['Lat', 'Long'], axis=1).groupby('Country/Region').sum().transpose()"
   ]
  },
  {
   "cell_type": "code",
   "execution_count": null,
   "metadata": {
    "colab": {
     "base_uri": "https://localhost:8080/",
     "height": 304
    },
    "colab_type": "code",
    "id": "Hgm_iMhAQgXJ",
    "outputId": "208756a9-9141-40f2-e96d-871d4fd1129b"
   },
   "outputs": [],
   "source": [
    "df1.head()"
   ]
  },
  {
   "cell_type": "code",
   "execution_count": null,
   "metadata": {
    "colab": {
     "base_uri": "https://localhost:8080/",
     "height": 34
    },
    "colab_type": "code",
    "id": "oKacRI1eQnix",
    "outputId": "c6edc12d-f24e-420b-ce89-1d5c934ae324"
   },
   "outputs": [],
   "source": [
    "df1.index.dtype"
   ]
  },
  {
   "cell_type": "code",
   "execution_count": null,
   "metadata": {
    "colab": {},
    "colab_type": "code",
    "id": "BCWJdqpDQkkf"
   },
   "outputs": [],
   "source": [
    "df1.index = pd.to_datetime(df1.index)"
   ]
  },
  {
   "cell_type": "code",
   "execution_count": null,
   "metadata": {
    "colab": {
     "base_uri": "https://localhost:8080/",
     "height": 34
    },
    "colab_type": "code",
    "id": "T7EOIw_NmMnb",
    "outputId": "cc126abf-3c01-43b3-eca4-6e0505bf9520"
   },
   "outputs": [],
   "source": [
    "df1.index.dtype"
   ]
  },
  {
   "cell_type": "code",
   "execution_count": null,
   "metadata": {
    "colab": {
     "base_uri": "https://localhost:8080/",
     "height": 293
    },
    "colab_type": "code",
    "id": "izzvEieqQxxb",
    "outputId": "42112fb9-961d-45a2-95e7-6ef4997c1902"
   },
   "outputs": [],
   "source": [
    "df1[['Italy','US']].plot(logy=True)\n",
    "plt.title(\"COVID-19 confirmed Cases\");"
   ]
  },
  {
   "cell_type": "markdown",
   "metadata": {
    "colab_type": "text",
    "id": "BD4XnZyEQ5lK"
   },
   "source": [
    "### Exercise 1:\n",
    "\n",
    "Use `df`, Pandas and your knowledge of Python to answer the following questions:\n",
    "\n",
    "- What data type is the object `df`? (hint: use the `type()`) function\n",
    "- select passengers that survived\n",
    "- calculate average price paid by survived and dead people in each class (use a pivot table)\n",
    "- Plot the histogram of Fares"
   ]
  },
  {
   "cell_type": "code",
   "execution_count": null,
   "metadata": {
    "colab": {
     "base_uri": "https://localhost:8080/",
     "height": 34
    },
    "colab_type": "code",
    "id": "A6fUUmKmV3Fn",
    "outputId": "0119639b-e9b0-459e-fab3-29dc1a8f8e5b",
    "tags": [
     "solution",
     "empty"
    ]
   },
   "outputs": [],
   "source": [
    "type(df)"
   ]
  },
  {
   "cell_type": "code",
   "execution_count": null,
   "metadata": {
    "colab": {
     "base_uri": "https://localhost:8080/",
     "height": 470
    },
    "colab_type": "code",
    "id": "SRO_9xt6ki49",
    "outputId": "ec787c20-df1b-4b16-8625-08dbb3da0a3a",
    "tags": [
     "solution"
    ]
   },
   "outputs": [],
   "source": [
    "df[df['Survived']==1]"
   ]
  },
  {
   "cell_type": "code",
   "execution_count": null,
   "metadata": {
    "colab": {
     "base_uri": "https://localhost:8080/",
     "height": 173
    },
    "colab_type": "code",
    "id": "rR2FS2bDkjHK",
    "outputId": "1601283c-efa7-4e97-f212-dcc860e0fc15",
    "tags": [
     "solution"
    ]
   },
   "outputs": [],
   "source": [
    "df.pivot_table(index='Pclass',\n",
    "               columns='Survived',\n",
    "               values='Fare',\n",
    "               aggfunc='mean').round(2)"
   ]
  },
  {
   "cell_type": "code",
   "execution_count": null,
   "metadata": {
    "colab": {
     "base_uri": "https://localhost:8080/",
     "height": 281
    },
    "colab_type": "code",
    "id": "Eb5ehnqukjA4",
    "outputId": "9e00c511-9ec5-445b-a00c-379c711027b1",
    "tags": [
     "solution"
    ]
   },
   "outputs": [],
   "source": [
    "df['Fare'].plot.hist(bins=50)\n",
    "plt.xlabel('Fare');"
   ]
  },
  {
   "cell_type": "markdown",
   "metadata": {
    "colab_type": "text",
    "id": "WsDKg3Uiki1P"
   },
   "source": [
    "\n",
    "### Exercise 2:\n",
    "\n",
    "Here are some additional questions you can use to test your skills. Feel free to try as many as you'd like.\n",
    "\n",
    "\n",
    "#### Pandas data types:\n",
    "- What data type is the object `df['Age']`?\n",
    "- What data type are the values contained in the object `df['Age']`. (hint: use the `.dtype` attribute)\n",
    "- What data type is the object `df[['Age', 'Fare']]`\n",
    "\n",
    "#### Selections\n",
    "- select passengers that embarked in port S\n",
    "- select male passengers\n",
    "- select passengers who paid less than 40.000 and were in third class\n",
    "- find the names of passegner Ids 674\n",
    "\n",
    "#### Aggregations\n",
    "- calculate the average age of passengers using the method `.mean()`\n",
    "- count the number of survived and the number of dead passengers using the method `.value_counts()`\n",
    "- count the number of survived and dead by Sex (Use a double Groupby)\n",
    "- calculate average price paid by survived and dead people in each class (use a pivot table)\n",
    "- (Advanced) calculate the average survival rate by Sex and Pclass (use a pivot table). Bonus points if you also count the total number in each group.\n",
    "\n",
    "#### Plots\n",
    "- Plot the histogram of Fares\n",
    "- Use the `.value_counts()` method to count how many passegers there are in each class and plot the counts using either a `bar` or a `pie` chart.\n",
    "- Use a heatmap plot to visualize the survival rates by Sex and Pclass calculated above\n",
    "\n",
    "#### Time Series\n",
    "For these questions use `df1` instead of `df`\n",
    "\n",
    "- Plot the time evolution of another country (not US, not Italy). Bonus point if you add a title.\n",
    "- Use the `.diff()` method to calculate the number of daily new cases\n",
    "- Plot some countries (e.g. US and Italy)\n",
    "- (Advanced) Use the `pd.Grouper` to aggregate the new cases from daily to weekly\n",
    "- (Advanced) Create a new DataFrame with aligned data by shifting every country to the day where 1000 cases where reported. Plot a few countries to compare the evolution from that day forward."
   ]
  },
  {
   "cell_type": "code",
   "execution_count": null,
   "metadata": {
    "colab": {
     "base_uri": "https://localhost:8080/",
     "height": 34
    },
    "colab_type": "code",
    "id": "fyto7LwyV5Vk",
    "outputId": "8458ff05-8da3-4097-e4d3-d76868719cb9",
    "tags": [
     "solution",
     "empty"
    ]
   },
   "outputs": [],
   "source": [
    "type(df['Age'])"
   ]
  },
  {
   "cell_type": "code",
   "execution_count": null,
   "metadata": {
    "colab": {
     "base_uri": "https://localhost:8080/",
     "height": 34
    },
    "colab_type": "code",
    "id": "w4b5gdE-V6jC",
    "outputId": "9cf2f872-68e9-4a84-f64a-055e82c27f33",
    "tags": [
     "solution"
    ]
   },
   "outputs": [],
   "source": [
    "df['Age'].dtype"
   ]
  },
  {
   "cell_type": "code",
   "execution_count": null,
   "metadata": {
    "colab": {
     "base_uri": "https://localhost:8080/",
     "height": 34
    },
    "colab_type": "code",
    "id": "G_WUEReGV942",
    "outputId": "1f2713f2-0c65-492c-e55e-e5885fe6ede2",
    "tags": [
     "solution"
    ]
   },
   "outputs": [],
   "source": [
    "type(df[['Age', 'Fare']])"
   ]
  },
  {
   "cell_type": "code",
   "execution_count": null,
   "metadata": {
    "colab": {
     "base_uri": "https://localhost:8080/",
     "height": 419
    },
    "colab_type": "code",
    "id": "V4LTSFM0WFnJ",
    "outputId": "98877e95-eb66-486f-b3c0-5a810838d2b8",
    "tags": [
     "solution"
    ]
   },
   "outputs": [],
   "source": [
    "df[df['Embarked'] == 'S']"
   ]
  },
  {
   "cell_type": "code",
   "execution_count": null,
   "metadata": {
    "colab": {
     "base_uri": "https://localhost:8080/",
     "height": 419
    },
    "colab_type": "code",
    "id": "CcKfrxnJWQtU",
    "outputId": "9a724010-3153-47ff-dd1a-7f44b46deefe",
    "tags": [
     "solution"
    ]
   },
   "outputs": [],
   "source": [
    "df[df['Sex'] == 'male']"
   ]
  },
  {
   "cell_type": "code",
   "execution_count": null,
   "metadata": {
    "colab": {
     "base_uri": "https://localhost:8080/",
     "height": 419
    },
    "colab_type": "code",
    "id": "U1g3nSlbWYyq",
    "outputId": "6bd3e1ee-cbdc-4581-c79c-1996c5bb6086",
    "tags": [
     "solution"
    ]
   },
   "outputs": [],
   "source": [
    "df[(df['Fare'] < 40000) & (df['Pclass'] == 3)]"
   ]
  },
  {
   "cell_type": "code",
   "execution_count": null,
   "metadata": {
    "colab": {
     "base_uri": "https://localhost:8080/",
     "height": 51
    },
    "colab_type": "code",
    "id": "5SfDQwklWg68",
    "outputId": "e021633c-1edd-45b6-bea8-e488db44ab4d",
    "tags": [
     "solution"
    ]
   },
   "outputs": [],
   "source": [
    "df.loc[df['PassengerId'] == 674, 'Name']"
   ]
  },
  {
   "cell_type": "code",
   "execution_count": null,
   "metadata": {
    "colab": {
     "base_uri": "https://localhost:8080/",
     "height": 34
    },
    "colab_type": "code",
    "id": "zwq3c15oXGIK",
    "outputId": "556a2e9e-2aba-4b2d-88a2-a5b0f7114961",
    "tags": [
     "solution"
    ]
   },
   "outputs": [],
   "source": [
    "df['Age'].mean()"
   ]
  },
  {
   "cell_type": "code",
   "execution_count": null,
   "metadata": {
    "colab": {
     "base_uri": "https://localhost:8080/",
     "height": 68
    },
    "colab_type": "code",
    "id": "f9tf3jtaXIDr",
    "outputId": "94183855-e31b-4b2c-ef7d-8a183363106f",
    "tags": [
     "solution"
    ]
   },
   "outputs": [],
   "source": [
    "df['Survived'].value_counts()"
   ]
  },
  {
   "cell_type": "code",
   "execution_count": null,
   "metadata": {
    "colab": {
     "base_uri": "https://localhost:8080/",
     "height": 119
    },
    "colab_type": "code",
    "id": "jkvlMu7sXUQv",
    "outputId": "d5a698dd-94f1-4e8a-d5eb-f945fecd8054",
    "tags": [
     "solution"
    ]
   },
   "outputs": [],
   "source": [
    "df.groupby(['Sex', 'Survived'])['PassengerId'].count()"
   ]
  },
  {
   "cell_type": "code",
   "execution_count": null,
   "metadata": {
    "colab": {
     "base_uri": "https://localhost:8080/",
     "height": 204
    },
    "colab_type": "code",
    "id": "0AZ94pXBXywm",
    "outputId": "d2ce53d8-8465-448d-dad5-f23479469e8a",
    "tags": [
     "solution"
    ]
   },
   "outputs": [],
   "source": [
    "surv_rate = df.pivot_table(index='Pclass',\n",
    "                           columns='Sex',\n",
    "                           values='Survived',\n",
    "                           aggfunc=['mean'])\n",
    "surv_rate.round(2)"
   ]
  },
  {
   "cell_type": "code",
   "execution_count": null,
   "metadata": {
    "colab": {
     "base_uri": "https://localhost:8080/",
     "height": 204
    },
    "colab_type": "code",
    "id": "t0IRnHEHZC54",
    "outputId": "44deba10-3e44-4d54-9f19-8ddd69f61397",
    "tags": [
     "solution"
    ]
   },
   "outputs": [],
   "source": [
    "df.pivot_table(index='Pclass',\n",
    "               columns='Sex',\n",
    "               values='Survived',\n",
    "               aggfunc=['count', 'sum'])"
   ]
  },
  {
   "cell_type": "code",
   "execution_count": null,
   "metadata": {
    "colab": {},
    "colab_type": "code",
    "id": "OE7mjgKzYlY8",
    "tags": [
     "solution"
    ]
   },
   "outputs": [],
   "source": [
    "passengers_per_class = df['Pclass'].value_counts()"
   ]
  },
  {
   "cell_type": "code",
   "execution_count": null,
   "metadata": {
    "colab": {
     "base_uri": "https://localhost:8080/",
     "height": 278
    },
    "colab_type": "code",
    "id": "M7DMJ_tRYy4o",
    "outputId": "e94ffa29-abda-4344-c1a7-4010335bfab8",
    "tags": [
     "solution"
    ]
   },
   "outputs": [],
   "source": [
    "passengers_per_class.plot.bar(title='Passengers per Class');"
   ]
  },
  {
   "cell_type": "code",
   "execution_count": null,
   "metadata": {
    "colab": {
     "base_uri": "https://localhost:8080/",
     "height": 264
    },
    "colab_type": "code",
    "id": "UYxzDJJ4Y4BJ",
    "outputId": "b191848c-0c96-42dc-e0b4-0ab791db4166",
    "tags": [
     "solution"
    ]
   },
   "outputs": [],
   "source": [
    "passengers_per_class.plot.pie(title='Passengers per Class');"
   ]
  },
  {
   "cell_type": "code",
   "execution_count": null,
   "metadata": {
    "colab": {
     "base_uri": "https://localhost:8080/",
     "height": 279
    },
    "colab_type": "code",
    "id": "Qr6fm2z5Y6_Q",
    "outputId": "41710a61-1571-4259-fe56-ccb0527f657a",
    "tags": [
     "solution"
    ]
   },
   "outputs": [],
   "source": [
    "sns.heatmap(surv_rate, cmap='RdYlGn');"
   ]
  },
  {
   "cell_type": "code",
   "execution_count": null,
   "metadata": {
    "colab": {
     "base_uri": "https://localhost:8080/",
     "height": 277
    },
    "colab_type": "code",
    "id": "GqpueB2XZ_5D",
    "outputId": "f8d8f370-1b01-4456-e5eb-f34aebe03275",
    "tags": [
     "solution"
    ]
   },
   "outputs": [],
   "source": [
    "df1['Spain'].plot(logy=True);"
   ]
  },
  {
   "cell_type": "code",
   "execution_count": null,
   "metadata": {
    "colab": {},
    "colab_type": "code",
    "id": "FzSK5c3DaDmu",
    "tags": [
     "solution"
    ]
   },
   "outputs": [],
   "source": [
    "new_cases = df1.diff()"
   ]
  },
  {
   "cell_type": "code",
   "execution_count": null,
   "metadata": {
    "colab": {
     "base_uri": "https://localhost:8080/",
     "height": 277
    },
    "colab_type": "code",
    "id": "FC38X7FfaHws",
    "outputId": "dec5b802-3e20-419b-9959-ead68c7e7a69",
    "tags": [
     "solution"
    ]
   },
   "outputs": [],
   "source": [
    "new_cases[['US', 'Italy']].plot();"
   ]
  },
  {
   "cell_type": "code",
   "execution_count": null,
   "metadata": {
    "colab": {
     "base_uri": "https://localhost:8080/",
     "height": 277
    },
    "colab_type": "code",
    "id": "FYg9RP8_aV_S",
    "outputId": "a218636b-bec8-405b-fd28-015e1c961bdd",
    "tags": [
     "solution"
    ]
   },
   "outputs": [],
   "source": [
    "new_cases[['US', 'Italy']].groupby(pd.Grouper(freq='W')).sum().plot();"
   ]
  },
  {
   "cell_type": "code",
   "execution_count": null,
   "metadata": {
    "colab": {},
    "colab_type": "code",
    "id": "7kpz6rRHarV5",
    "tags": [
     "solution"
    ]
   },
   "outputs": [],
   "source": [
    "values_above_1000 = df1[df1 > 1000].dropna(how='all', axis=1)\n",
    "\n",
    "countries = values_above_1000.columns\n",
    "\n",
    "values_above_1000_shifted = pd.DataFrame(np.nan,\n",
    "                                         index=np.arange(len(values_above_1000)),\n",
    "                                         columns=countries)\n",
    "\n",
    "\n",
    "for c in countries:\n",
    "    non_null = values_above_1000[c].dropna().values\n",
    "    n = len(non_null)\n",
    "    values_above_1000_shifted.loc[:n-1, c]= non_null"
   ]
  },
  {
   "cell_type": "code",
   "execution_count": null,
   "metadata": {
    "colab": {
     "base_uri": "https://localhost:8080/",
     "height": 265
    },
    "colab_type": "code",
    "id": "f56y_id_bMtq",
    "outputId": "bd19842f-66e9-45ac-a654-cb9c1216e8a1",
    "tags": [
     "solution"
    ]
   },
   "outputs": [],
   "source": [
    "values_above_1000_shifted[['US', 'Italy', 'Spain', 'Korea, South']].plot(logy=True);"
   ]
  }
 ],
 "metadata": {
  "celltoolbar": "Tags",
  "colab": {
   "authorship_tag": "ABX9TyOJWB9s6S9wS5YLk8la7mLZ",
   "include_colab_link": true,
   "name": "Pandas_Matplotlib_Seaborn.ipynb",
   "provenance": []
  },
  "kernelspec": {
   "display_name": "Python 3",
   "language": "python",
   "name": "python3"
  },
  "language_info": {
   "codemirror_mode": {
    "name": "ipython",
    "version": 3
   },
   "file_extension": ".py",
   "mimetype": "text/x-python",
   "name": "python",
   "nbconvert_exporter": "python",
   "pygments_lexer": "ipython3",
   "version": "3.7.7"
  }
 },
 "nbformat": 4,
 "nbformat_minor": 1
}
