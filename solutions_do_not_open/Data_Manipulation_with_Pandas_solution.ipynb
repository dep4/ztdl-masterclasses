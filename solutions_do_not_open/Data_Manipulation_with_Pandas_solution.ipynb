{
 "cells": [
  {
   "cell_type": "markdown",
   "metadata": {
    "colab_type": "text",
    "id": "view-in-github"
   },
   "source": [
    "<a href=\"https://colab.research.google.com/github/zerotodeeplearning/ztdl-masterclasses/blob/master/solutions_do_not_open/Data_Manipulation_with_Pandas_solution.ipynb\" target=\"_parent\"><img src=\"https://colab.research.google.com/assets/colab-badge.svg\" alt=\"Open In Colab\"/></a>"
   ]
  },
  {
   "cell_type": "markdown",
   "metadata": {
    "colab_type": "text",
    "id": "2bwH96hViwS7"
   },
   "source": [
    "## Learn with us: www.zerotodeeplearning.com\n",
    "\n",
    "Copyright © 2021: Zero to Deep Learning ® Catalit LLC."
   ]
  },
  {
   "cell_type": "code",
   "execution_count": null,
   "metadata": {
    "colab": {},
    "colab_type": "code",
    "id": "bFidPKNdkVPg"
   },
   "outputs": [],
   "source": [
    "# Licensed under the Apache License, Version 2.0 (the \"License\");\n",
    "# you may not use this file except in compliance with the License.\n",
    "# You may obtain a copy of the License at\n",
    "#\n",
    "# https://www.apache.org/licenses/LICENSE-2.0\n",
    "#\n",
    "# Unless required by applicable law or agreed to in writing, software\n",
    "# distributed under the License is distributed on an \"AS IS\" BASIS,\n",
    "# WITHOUT WARRANTIES OR CONDITIONS OF ANY KIND, either express or implied.\n",
    "# See the License for the specific language governing permissions and\n",
    "# limitations under the License."
   ]
  },
  {
   "cell_type": "markdown",
   "metadata": {
    "colab_type": "text",
    "id": "DvoukA2tkGV4"
   },
   "source": [
    "# Data Manipulation with Pandas"
   ]
  },
  {
   "cell_type": "markdown",
   "metadata": {
    "colab_type": "text",
    "id": "a2c3dtIpqJQO"
   },
   "source": [
    "Pandas is an open source library providing high-performance, easy-to-use data structures and data analysis tools for the Python programming language.\n",
    "\n",
    "You can find it here: http://pandas.pydata.org/\n",
    "\n",
    "And the documentation can be found here: https://pandas.pydata.org/docs/getting_started/index.html\n",
    "\n",
    "In this notebook we review some of its functionality."
   ]
  },
  {
   "cell_type": "code",
   "execution_count": null,
   "metadata": {
    "colab": {},
    "colab_type": "code",
    "id": "oc7GxG8yKVJL"
   },
   "outputs": [],
   "source": [
    "import pandas as pd\n",
    "import matplotlib.pyplot as plt\n",
    "import matplotlib.dates as mdates\n",
    "import seaborn as sns"
   ]
  },
  {
   "cell_type": "code",
   "execution_count": null,
   "metadata": {
    "colab": {},
    "colab_type": "code",
    "id": "oEhGeaf9qJQR"
   },
   "outputs": [],
   "source": [
    "pd.__version__"
   ]
  },
  {
   "cell_type": "code",
   "execution_count": null,
   "metadata": {
    "colab": {},
    "colab_type": "code",
    "id": "s0dZzGI9qJQT"
   },
   "outputs": [],
   "source": [
    "sns.__version__"
   ]
  },
  {
   "cell_type": "markdown",
   "metadata": {
    "colab_type": "text",
    "id": "BTun_fKVKQWD"
   },
   "source": [
    "### Reading data from multiple sources"
   ]
  },
  {
   "cell_type": "code",
   "execution_count": null,
   "metadata": {
    "colab": {},
    "colab_type": "code",
    "id": "8qGLbftIqJQW"
   },
   "outputs": [],
   "source": [
    "url = \"https://raw.githubusercontent.com/zerotodeeplearning/ztdl-masterclasses/master/data/\""
   ]
  },
  {
   "cell_type": "code",
   "execution_count": null,
   "metadata": {
    "colab": {},
    "colab_type": "code",
    "id": "PgND6MsjshTC"
   },
   "outputs": [],
   "source": [
    "#csv\n",
    "df = pd.read_csv(url + \"time_series_covid19_confirmed_global.csv\")"
   ]
  },
  {
   "cell_type": "code",
   "execution_count": null,
   "metadata": {
    "colab": {},
    "colab_type": "code",
    "id": "pM4zCZGDsr1E"
   },
   "outputs": [],
   "source": [
    "df.head()"
   ]
  },
  {
   "cell_type": "code",
   "execution_count": null,
   "metadata": {
    "colab": {},
    "colab_type": "code",
    "id": "r7hot1pxsslm"
   },
   "outputs": [],
   "source": [
    "# json\n",
    "df = pd.read_json(url + \"gdp.json\")"
   ]
  },
  {
   "cell_type": "code",
   "execution_count": null,
   "metadata": {
    "colab": {},
    "colab_type": "code",
    "id": "QUx1qylXLAIa"
   },
   "outputs": [],
   "source": [
    "df.head()"
   ]
  },
  {
   "cell_type": "code",
   "execution_count": null,
   "metadata": {
    "colab": {},
    "colab_type": "code",
    "id": "5bZPqdA-ME8f"
   },
   "outputs": [],
   "source": [
    "#html\n",
    "dfl = pd.read_html(url + \"FDIC_%20Failed%20Bank%20List.htm\")\n",
    "\n",
    "print(type(dfl))\n",
    "print(len(dfl))"
   ]
  },
  {
   "cell_type": "code",
   "execution_count": null,
   "metadata": {
    "colab": {},
    "colab_type": "code",
    "id": "KF3cFGEnMTH8"
   },
   "outputs": [],
   "source": [
    "dfl[0].head()"
   ]
  },
  {
   "cell_type": "markdown",
   "metadata": {
    "colab_type": "text",
    "id": "kEGpa0b0qJQp"
   },
   "source": [
    "### Quick exploration\n",
    "\n",
    "Commands to quickly inspect the dataset"
   ]
  },
  {
   "cell_type": "code",
   "execution_count": null,
   "metadata": {
    "colab": {},
    "colab_type": "code",
    "id": "wZF2KwA9qJQp"
   },
   "outputs": [],
   "source": [
    "df = pd.read_csv(url + \"titanic-train.csv\")"
   ]
  },
  {
   "cell_type": "code",
   "execution_count": null,
   "metadata": {
    "colab": {},
    "colab_type": "code",
    "id": "mq1vBKwuqJQr"
   },
   "outputs": [],
   "source": [
    "df.head()"
   ]
  },
  {
   "cell_type": "code",
   "execution_count": null,
   "metadata": {
    "colab": {},
    "colab_type": "code",
    "id": "zP6NgCkCqJQt"
   },
   "outputs": [],
   "source": [
    "df.info()"
   ]
  },
  {
   "cell_type": "code",
   "execution_count": null,
   "metadata": {
    "colab": {},
    "colab_type": "code",
    "id": "Ido-qIQVqJQv"
   },
   "outputs": [],
   "source": [
    "df.describe()"
   ]
  },
  {
   "cell_type": "markdown",
   "metadata": {
    "colab_type": "text",
    "id": "0Yj83qd4qJQx"
   },
   "source": [
    "### Plotting"
   ]
  },
  {
   "cell_type": "code",
   "execution_count": null,
   "metadata": {
    "colab": {},
    "colab_type": "code",
    "id": "S9A6IPlyqJQy"
   },
   "outputs": [],
   "source": [
    "survived_counts = df['Survived'].value_counts()\n",
    "survived_counts"
   ]
  },
  {
   "cell_type": "code",
   "execution_count": null,
   "metadata": {
    "colab": {},
    "colab_type": "code",
    "id": "CMnPoowaqJQ0"
   },
   "outputs": [],
   "source": [
    "survived_counts.plot.bar(title='Dead / Survived');"
   ]
  },
  {
   "cell_type": "code",
   "execution_count": null,
   "metadata": {
    "colab": {},
    "colab_type": "code",
    "id": "lOZXvtPiqJQ2"
   },
   "outputs": [],
   "source": [
    "survived_counts.plot.pie(\n",
    "    figsize=(5, 5),\n",
    "    explode=[0, 0.15],\n",
    "    labels=['Dead', 'Survived'],\n",
    "    autopct='%1.1f%%',\n",
    "    shadow=True,\n",
    "    startangle=90,\n",
    "    fontsize=16);"
   ]
  },
  {
   "cell_type": "code",
   "execution_count": null,
   "metadata": {
    "colab": {},
    "colab_type": "code",
    "id": "LtFuP3icqJQ4"
   },
   "outputs": [],
   "source": [
    "df['Age']"
   ]
  },
  {
   "cell_type": "code",
   "execution_count": null,
   "metadata": {
    "colab": {},
    "colab_type": "code",
    "id": "gRp96bgiqJQ6"
   },
   "outputs": [],
   "source": [
    "df['Age'].plot.hist(\n",
    "    bins=16,\n",
    "    range=(0, 80),\n",
    "    title='Passenger age distribution')\n",
    "plt.xlabel(\"Age\");"
   ]
  },
  {
   "cell_type": "code",
   "execution_count": null,
   "metadata": {
    "colab": {},
    "colab_type": "code",
    "id": "VVzqVeOoqJQ7"
   },
   "outputs": [],
   "source": [
    "df['Age'].plot.hist(\n",
    "    bins=80,\n",
    "    range=(0, 80),\n",
    "    title='Passenger cumulative age distibution',\n",
    "    cumulative=True,\n",
    "    density=True)\n",
    "plt.xlabel(\"Age\")\n",
    "plt.axhline(0.25, color='red')\n",
    "plt.axhline(0.5, color='red')\n",
    "plt.axhline(0.75, color='red');"
   ]
  },
  {
   "cell_type": "markdown",
   "metadata": {
    "colab_type": "text",
    "id": "6MqP-UvpqJQ9"
   },
   "source": [
    "### Fancy plotting with seaborn"
   ]
  },
  {
   "cell_type": "code",
   "execution_count": null,
   "metadata": {
    "colab": {},
    "colab_type": "code",
    "id": "ZdopJhU-qJQ9"
   },
   "outputs": [],
   "source": [
    "sns.pairplot(df[['Age', 'Pclass', 'Fare', 'SibSp', 'Survived']],\n",
    "             hue='Survived');"
   ]
  },
  {
   "cell_type": "code",
   "execution_count": null,
   "metadata": {
    "colab": {},
    "colab_type": "code",
    "id": "yTLPL5EtqJQ_"
   },
   "outputs": [],
   "source": [
    "sns.jointplot(x='Age', y='Fare', data=df)"
   ]
  },
  {
   "cell_type": "code",
   "execution_count": null,
   "metadata": {
    "colab": {},
    "colab_type": "code",
    "id": "zt6VlWTMqJRB"
   },
   "outputs": [],
   "source": [
    "corr = df.corr()\n",
    "sns.heatmap(corr);"
   ]
  },
  {
   "cell_type": "markdown",
   "metadata": {
    "colab_type": "text",
    "id": "P-p-rTdXqJRD"
   },
   "source": [
    "### Indexing\n",
    "\n",
    "Retrieving elements by row, by column or both. Try to understand each of the following statements"
   ]
  },
  {
   "cell_type": "code",
   "execution_count": null,
   "metadata": {
    "colab": {},
    "colab_type": "code",
    "id": "SZA0jWpAqJRD"
   },
   "outputs": [],
   "source": [
    "df['Ticket']"
   ]
  },
  {
   "cell_type": "code",
   "execution_count": null,
   "metadata": {
    "colab": {},
    "colab_type": "code",
    "id": "Z8Ioc4s6qJRF"
   },
   "outputs": [],
   "source": [
    "df[['Fare', 'Ticket']]"
   ]
  },
  {
   "cell_type": "code",
   "execution_count": null,
   "metadata": {
    "colab": {},
    "colab_type": "code",
    "id": "mf6rCgfGqJRH"
   },
   "outputs": [],
   "source": [
    "df.iloc[3]"
   ]
  },
  {
   "cell_type": "code",
   "execution_count": null,
   "metadata": {
    "colab": {},
    "colab_type": "code",
    "id": "a0rMAbcNqJRI"
   },
   "outputs": [],
   "source": [
    "df.iloc[3, 4]"
   ]
  },
  {
   "cell_type": "code",
   "execution_count": null,
   "metadata": {
    "colab": {},
    "colab_type": "code",
    "id": "pbdwVHvYqJRK"
   },
   "outputs": [],
   "source": [
    "df.loc[0:4,'Ticket']"
   ]
  },
  {
   "cell_type": "code",
   "execution_count": null,
   "metadata": {
    "colab": {},
    "colab_type": "code",
    "id": "EuGoeOJpqJRN"
   },
   "outputs": [],
   "source": [
    "df.loc[0:4, ['Fare', 'Ticket']]"
   ]
  },
  {
   "cell_type": "markdown",
   "metadata": {
    "colab_type": "text",
    "id": "ii8W8cl2qJRQ"
   },
   "source": [
    "### Selections\n",
    "\n",
    "Retrieving part of the dataframe based on a condition. Try to understand each of the following statements."
   ]
  },
  {
   "cell_type": "code",
   "execution_count": null,
   "metadata": {
    "colab": {},
    "colab_type": "code",
    "id": "RLQ3S5xZqJRQ"
   },
   "outputs": [],
   "source": [
    "df[df.Age > 70]"
   ]
  },
  {
   "cell_type": "code",
   "execution_count": null,
   "metadata": {
    "colab": {},
    "colab_type": "code",
    "id": "tgjoz4usqJRS"
   },
   "outputs": [],
   "source": [
    "df[(df['Age'] == 11) & (df['SibSp'] == 5)]"
   ]
  },
  {
   "cell_type": "code",
   "execution_count": null,
   "metadata": {
    "colab": {},
    "colab_type": "code",
    "id": "1DfLF6-YqJRT"
   },
   "outputs": [],
   "source": [
    "df[(df.Age == 11) | (df.SibSp == 5)]"
   ]
  },
  {
   "cell_type": "code",
   "execution_count": null,
   "metadata": {
    "colab": {},
    "colab_type": "code",
    "id": "8mRz-YggqJRV"
   },
   "outputs": [],
   "source": [
    "df.query('(Age == 11) & (SibSp == 5)')"
   ]
  },
  {
   "cell_type": "code",
   "execution_count": null,
   "metadata": {
    "colab": {},
    "colab_type": "code",
    "id": "Lol7UCoBqJRX"
   },
   "outputs": [],
   "source": [
    "df.sort_values('Age', ascending = False).head()"
   ]
  },
  {
   "cell_type": "markdown",
   "metadata": {
    "colab_type": "text",
    "id": "S3wdVTv2qJRY"
   },
   "source": [
    "### Distinct elements"
   ]
  },
  {
   "cell_type": "code",
   "execution_count": null,
   "metadata": {
    "colab": {},
    "colab_type": "code",
    "id": "wnA1zSgiqJRZ"
   },
   "outputs": [],
   "source": [
    "df['Embarked'].unique()"
   ]
  },
  {
   "cell_type": "markdown",
   "metadata": {
    "colab_type": "text",
    "id": "9oT4fBe0qJRb"
   },
   "source": [
    "### Group by\n",
    "\n",
    "Pandas supports many SQL-like operations like group by, order by and join. In pandas they are called:\n",
    "- groupby\n",
    "- sort_values\n",
    "- merge\n",
    "\n",
    "Try to make sense of each of the following expressions:"
   ]
  },
  {
   "cell_type": "code",
   "execution_count": null,
   "metadata": {
    "colab": {},
    "colab_type": "code",
    "id": "sRXQst5kqJRb"
   },
   "outputs": [],
   "source": [
    "# Find average age of passengers that survived vs. died\n",
    "df.groupby('Survived')['Age'].mean()"
   ]
  },
  {
   "cell_type": "code",
   "execution_count": null,
   "metadata": {
    "colab": {},
    "colab_type": "code",
    "id": "ks6GFg-hqJRd"
   },
   "outputs": [],
   "source": [
    "df.sort_values('Age', ascending = False).head()"
   ]
  },
  {
   "cell_type": "markdown",
   "metadata": {
    "colab_type": "text",
    "id": "gaU7w-9ZqJRg"
   },
   "source": [
    "### Join (merge)"
   ]
  },
  {
   "cell_type": "code",
   "execution_count": null,
   "metadata": {
    "colab": {},
    "colab_type": "code",
    "id": "hoZG7hniqJRg"
   },
   "outputs": [],
   "source": [
    "df1 = df[['PassengerId', 'Survived']]\n",
    "df2 = df[['PassengerId', 'Age']]\n",
    "\n",
    "pd.merge(df1, df2, on='PassengerId').head()"
   ]
  },
  {
   "cell_type": "markdown",
   "metadata": {
    "colab_type": "text",
    "id": "bNC_ZcG8qJRh"
   },
   "source": [
    "### Pivot Tables\n",
    "\n",
    "Pandas also supports Excel-like functionality like pivot tables."
   ]
  },
  {
   "cell_type": "code",
   "execution_count": null,
   "metadata": {
    "colab": {},
    "colab_type": "code",
    "id": "MRb0CyoqqJRi"
   },
   "outputs": [],
   "source": [
    "df.pivot_table(index='Pclass', columns='Survived', values='PassengerId', aggfunc='count')"
   ]
  },
  {
   "cell_type": "code",
   "execution_count": null,
   "metadata": {
    "colab": {},
    "colab_type": "code",
    "id": "8edst5deqJRj"
   },
   "outputs": [],
   "source": [
    "df['Pclass'].value_counts()"
   ]
  },
  {
   "cell_type": "markdown",
   "metadata": {
    "colab_type": "text",
    "id": "RqyflXWPqJRl"
   },
   "source": [
    "### Exercise 1:\n",
    "\n",
    "Try doing a few of these:\n",
    "\n",
    "- select passengers that survived\n",
    "- select passengers that embarked in port S\n",
    "- select male passengers\n",
    "- select passengers who paid less than 40.000 and were in third class\n",
    "- locate the name of passegner Id 674\n",
    "- calculate the average age of passengers using the function mean()\n",
    "- count the number of survived and the number of dead passengers\n",
    "- count the number of males and females\n",
    "- count the number of survived and dead per each gender\n",
    "- calculate average price paid by survived and dead people in each class"
   ]
  },
  {
   "cell_type": "code",
   "execution_count": null,
   "metadata": {
    "colab": {},
    "colab_type": "code",
    "id": "9mZBuwBWqJRl",
    "tags": [
     "solution",
     "empty"
    ]
   },
   "outputs": [],
   "source": [
    "df.query('Survived == 1').head()"
   ]
  },
  {
   "cell_type": "code",
   "execution_count": null,
   "metadata": {
    "colab": {},
    "colab_type": "code",
    "id": "mhSysGxUqJRn",
    "tags": [
     "solution"
    ]
   },
   "outputs": [],
   "source": [
    "df.query('Embarked == \"S\"').head()"
   ]
  },
  {
   "cell_type": "code",
   "execution_count": null,
   "metadata": {
    "colab": {},
    "colab_type": "code",
    "id": "0dhNlVJWqJRo",
    "tags": [
     "solution"
    ]
   },
   "outputs": [],
   "source": [
    "df[df['Sex'] == 'male'].head()"
   ]
  },
  {
   "cell_type": "code",
   "execution_count": null,
   "metadata": {
    "colab": {},
    "colab_type": "code",
    "id": "6yJJNTwDqJRq",
    "tags": [
     "solution"
    ]
   },
   "outputs": [],
   "source": [
    "df[(df.Fare < 40000) & (df.Pclass == 3)].head()"
   ]
  },
  {
   "cell_type": "code",
   "execution_count": null,
   "metadata": {
    "colab": {},
    "colab_type": "code",
    "id": "4RXQyDqjqJRs",
    "tags": [
     "solution"
    ]
   },
   "outputs": [],
   "source": [
    "df.query('PassengerId == 674')"
   ]
  },
  {
   "cell_type": "code",
   "execution_count": null,
   "metadata": {
    "colab": {},
    "colab_type": "code",
    "id": "nXi6FxC0qJRt",
    "tags": [
     "solution"
    ]
   },
   "outputs": [],
   "source": [
    "df['Age'].mean()"
   ]
  },
  {
   "cell_type": "code",
   "execution_count": null,
   "metadata": {
    "colab": {},
    "colab_type": "code",
    "id": "-P0p7w50qJRw",
    "tags": [
     "solution"
    ]
   },
   "outputs": [],
   "source": [
    "df['Survived'].value_counts()"
   ]
  },
  {
   "cell_type": "code",
   "execution_count": null,
   "metadata": {
    "colab": {},
    "colab_type": "code",
    "id": "W77KgZ8jqJRx",
    "tags": [
     "solution"
    ]
   },
   "outputs": [],
   "source": [
    "df['Sex'].value_counts()"
   ]
  },
  {
   "cell_type": "code",
   "execution_count": null,
   "metadata": {
    "colab": {},
    "colab_type": "code",
    "id": "ITms2aB-qJR0",
    "tags": [
     "solution"
    ]
   },
   "outputs": [],
   "source": [
    "df.pivot_table(index='Survived', columns='Sex', values='PassengerId', aggfunc='count')"
   ]
  },
  {
   "cell_type": "code",
   "execution_count": null,
   "metadata": {
    "colab": {},
    "colab_type": "code",
    "id": "wHTRiTwnqJR1",
    "tags": [
     "solution"
    ]
   },
   "outputs": [],
   "source": [
    "df.pivot_table(index='Survived', columns='Pclass', values='Fare', aggfunc='mean')"
   ]
  },
  {
   "cell_type": "markdown",
   "metadata": {
    "colab_type": "text",
    "id": "t11aXKg9qJR5"
   },
   "source": [
    "### Time series data"
   ]
  },
  {
   "cell_type": "code",
   "execution_count": null,
   "metadata": {
    "colab": {},
    "colab_type": "code",
    "id": "3uyILVmnqJR5"
   },
   "outputs": [],
   "source": [
    "df = pd.read_csv(url + \"time_series_covid19_confirmed_global.csv\")"
   ]
  },
  {
   "cell_type": "code",
   "execution_count": null,
   "metadata": {
    "colab": {},
    "colab_type": "code",
    "id": "WEdrGMQVqJR7"
   },
   "outputs": [],
   "source": [
    "df.head()"
   ]
  },
  {
   "cell_type": "markdown",
   "metadata": {
    "colab_type": "text",
    "id": "D4jIe7TtqJR9"
   },
   "source": [
    "### Dropping columns"
   ]
  },
  {
   "cell_type": "code",
   "execution_count": null,
   "metadata": {
    "colab": {},
    "colab_type": "code",
    "id": "3yRzKqDcqJR9"
   },
   "outputs": [],
   "source": [
    "df1 = df.drop(['Lat', 'Long'], axis=1)\n",
    "df1"
   ]
  },
  {
   "cell_type": "markdown",
   "metadata": {
    "colab_type": "text",
    "id": "WHTRRCE8qJSA"
   },
   "source": [
    "### Groupby + Aggregation"
   ]
  },
  {
   "cell_type": "code",
   "execution_count": null,
   "metadata": {
    "colab": {},
    "colab_type": "code",
    "id": "6h2IwmFTqJSA"
   },
   "outputs": [],
   "source": [
    "dfcountries = df1.groupby('Country/Region').sum().transpose()\n",
    "dfcountries"
   ]
  },
  {
   "cell_type": "markdown",
   "metadata": {
    "colab_type": "text",
    "id": "23shWiZyqJSB"
   },
   "source": [
    "### Data Time index"
   ]
  },
  {
   "cell_type": "code",
   "execution_count": null,
   "metadata": {
    "colab": {},
    "colab_type": "code",
    "id": "yJouYnndqJSC"
   },
   "outputs": [],
   "source": [
    "dfcountries.index"
   ]
  },
  {
   "cell_type": "code",
   "execution_count": null,
   "metadata": {
    "colab": {},
    "colab_type": "code",
    "id": "OXqX_7U-qJSE"
   },
   "outputs": [],
   "source": [
    "dfcountries.index = pd.to_datetime(dfcountries.index)"
   ]
  },
  {
   "cell_type": "code",
   "execution_count": null,
   "metadata": {
    "colab": {},
    "colab_type": "code",
    "id": "WG6yJPu0qJSF"
   },
   "outputs": [],
   "source": [
    "dfcountries.index"
   ]
  },
  {
   "cell_type": "code",
   "execution_count": null,
   "metadata": {
    "colab": {},
    "colab_type": "code",
    "id": "un5n4AX_qJSH"
   },
   "outputs": [],
   "source": [
    "dfcountries.head()"
   ]
  },
  {
   "cell_type": "code",
   "execution_count": null,
   "metadata": {
    "colab": {},
    "colab_type": "code",
    "id": "1VyxSJzkqJSI"
   },
   "outputs": [],
   "source": [
    "series = dfcountries['Italy']\n",
    "series[series > 100].plot(style='o-', logy=True, title='Italy')\n",
    "plt.ylabel('Confirmed Cases');"
   ]
  },
  {
   "cell_type": "code",
   "execution_count": null,
   "metadata": {
    "colab": {},
    "colab_type": "code",
    "id": "AEmAoHR4qJSJ"
   },
   "outputs": [],
   "source": [
    "country = 'Italy'\n",
    "ts = dfcountries[country].diff()\n",
    "ts = ts[ts>0]\n",
    "\n",
    "\n",
    "fig, ax = plt.subplots(figsize=(10,6))\n",
    "ax.bar(ts.index, ts.values)\n",
    "ax.xaxis.set_major_locator(mdates.WeekdayLocator())\n",
    "ax.xaxis.set_major_formatter(mdates.DateFormatter('%b %d'))\n",
    "ax.set_title(f'{country}: New cases')\n",
    "ax.set_ylabel('Count')\n",
    "ax.set_xlabel('Date');"
   ]
  },
  {
   "cell_type": "markdown",
   "metadata": {
    "colab_type": "text",
    "id": "U67wuZ__qJSK"
   },
   "source": [
    "### Exercise 2:\n",
    "\n",
    "- find the top 20 countries by number of cases. You will need to use selections and these methods:\n",
    "    - `.tail()`\n",
    "    - `.transpose`\n",
    "    - `.sort_values`\n",
    "\n",
    "    Your goal is to obtain a Pandas Series that looks like this:\n",
    "  ```\n",
    "  Country/Region\n",
    "  US                188172\n",
    "  Italy             105792\n",
    "  Spain              95923\n",
    "  China              82279\n",
    "  Germany            71808\n",
    "  France             52827\n",
    "  ...\n",
    "   ```\n",
    "- use a horizontal bar plot to plot them\n",
    "- bonus points if you add title and labels"
   ]
  },
  {
   "cell_type": "code",
   "execution_count": null,
   "metadata": {
    "colab": {},
    "colab_type": "code",
    "id": "CbOIQblFqJSK",
    "tags": [
     "solution",
     "empty"
    ]
   },
   "outputs": [],
   "source": [
    "top_countries = dfcountries.tail(1).transpose().iloc[:,0].sort_values(ascending=False).head(20)\n",
    "top_countries"
   ]
  },
  {
   "cell_type": "code",
   "execution_count": null,
   "metadata": {
    "colab": {},
    "colab_type": "code",
    "id": "Gbq5aQPlqJSL",
    "tags": [
     "solution"
    ]
   },
   "outputs": [],
   "source": [
    "top_countries.sort_values().plot.barh(\n",
    "    title='Total cases',\n",
    "    figsize=(15, 10));"
   ]
  },
  {
   "cell_type": "code",
   "execution_count": null,
   "metadata": {
    "colab": {},
    "colab_type": "code",
    "id": "E8oVKk_mqJSN"
   },
   "outputs": [],
   "source": []
  }
 ],
 "metadata": {
  "celltoolbar": "Tags",
  "colab": {
   "name": "Data_Manipulation_with_Pandas_solution.ipynb",
   "provenance": []
  },
  "kernelspec": {
   "display_name": "Python 3",
   "language": "python",
   "name": "python3"
  },
  "language_info": {
   "codemirror_mode": {
    "name": "ipython",
    "version": 3
   },
   "file_extension": ".py",
   "mimetype": "text/x-python",
   "name": "python",
   "nbconvert_exporter": "python",
   "pygments_lexer": "ipython3",
   "version": "3.7.7"
  }
 },
 "nbformat": 4,
 "nbformat_minor": 1
}
