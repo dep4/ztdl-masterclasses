{
 "cells": [
  {
   "cell_type": "markdown",
   "metadata": {
    "colab_type": "text",
    "id": "view-in-github"
   },
   "source": [
    "<a href=\"https://colab.research.google.com/github/zerotodeeplearning/ztdl-masterclasses/blob/master/solutions_do_not_open/Transfer_Learning_solution.ipynb\" target=\"_parent\"><img src=\"https://colab.research.google.com/assets/colab-badge.svg\" alt=\"Open In Colab\"/></a>"
   ]
  },
  {
   "cell_type": "markdown",
   "metadata": {
    "colab_type": "text",
    "id": "2bwH96hViwS7"
   },
   "source": [
    "## Learn with us: www.zerotodeeplearning.com\n",
    "\n",
    "Copyright © 2021: Zero to Deep Learning ® Catalit LLC."
   ]
  },
  {
   "cell_type": "code",
   "execution_count": null,
   "metadata": {
    "colab": {},
    "colab_type": "code",
    "id": "bFidPKNdkVPg"
   },
   "outputs": [],
   "source": [
    "# Licensed under the Apache License, Version 2.0 (the \"License\");\n",
    "# you may not use this file except in compliance with the License.\n",
    "# You may obtain a copy of the License at\n",
    "#\n",
    "# https://www.apache.org/licenses/LICENSE-2.0\n",
    "#\n",
    "# Unless required by applicable law or agreed to in writing, software\n",
    "# distributed under the License is distributed on an \"AS IS\" BASIS,\n",
    "# WITHOUT WARRANTIES OR CONDITIONS OF ANY KIND, either express or implied.\n",
    "# See the License for the specific language governing permissions and\n",
    "# limitations under the License."
   ]
  },
  {
   "cell_type": "markdown",
   "metadata": {
    "colab_type": "text",
    "id": "DvoukA2tkGV4"
   },
   "source": [
    "# Transfer Learning"
   ]
  },
  {
   "cell_type": "code",
   "execution_count": null,
   "metadata": {
    "colab": {
     "base_uri": "https://localhost:8080/",
     "height": 71
    },
    "colab_type": "code",
    "id": "0TYXHLIOghhG",
    "outputId": "8d873227-c102-40a2-e3a9-4c39d890057f"
   },
   "outputs": [],
   "source": [
    "import numpy as np\n",
    "import pandas as pd\n",
    "import matplotlib.pyplot as plt\n",
    "import seaborn as sns\n",
    "import tensorflow as tf\n",
    "import os\n",
    "from tensorflow.keras.preprocessing.image import ImageDataGenerator"
   ]
  },
  {
   "cell_type": "code",
   "execution_count": null,
   "metadata": {
    "colab": {},
    "colab_type": "code",
    "id": "ARwAerL1gkqU"
   },
   "outputs": [],
   "source": [
    "# sports_images_path = tf.keras.utils.get_file(\n",
    "#     'sports_images',\n",
    "#     'https://archive.org/download/ztdl_sports_images/sports_images.tgz',\n",
    "#      untar=True)"
   ]
  },
  {
   "cell_type": "code",
   "execution_count": null,
   "metadata": {
    "colab": {
     "base_uri": "https://localhost:8080/",
     "height": 85
    },
    "colab_type": "code",
    "id": "g8n1rfcigk6g",
    "outputId": "e5b9415e-23de-4052-f0d6-41c899205544"
   },
   "outputs": [],
   "source": [
    "![[ ! -f sports_images.tar.gz ]] && gsutil cp gs://ztdl-datasets/sports_images.tar.gz .\n",
    "![[ ! -d sports_images ]] && echo \"Extracting images...\" && tar zxf sports_images.tar.gz\n",
    "sports_images_path  = './sports_images'"
   ]
  },
  {
   "cell_type": "code",
   "execution_count": null,
   "metadata": {
    "colab": {},
    "colab_type": "code",
    "id": "3e6dvL4XgmL5"
   },
   "outputs": [],
   "source": [
    "train_path = os.path.join(sports_images_path, 'train')\n",
    "test_path = os.path.join(sports_images_path, 'test')"
   ]
  },
  {
   "cell_type": "code",
   "execution_count": null,
   "metadata": {
    "colab": {},
    "colab_type": "code",
    "id": "rWT1oLksgv-k"
   },
   "outputs": [],
   "source": [
    "batch_size = 32\n",
    "img_size = 299"
   ]
  },
  {
   "cell_type": "code",
   "execution_count": null,
   "metadata": {
    "colab": {},
    "colab_type": "code",
    "id": "1egDl8BTg6fn"
   },
   "outputs": [],
   "source": [
    "from tensorflow.keras.applications.xception import Xception\n",
    "from tensorflow.keras.applications.xception import preprocess_input\n",
    "from tensorflow.keras.models import Sequential\n",
    "from tensorflow.keras.layers import Dense, Dropout"
   ]
  },
  {
   "cell_type": "code",
   "execution_count": null,
   "metadata": {
    "colab": {
     "base_uri": "https://localhost:8080/",
     "height": 71
    },
    "colab_type": "code",
    "id": "KawGbcgTg7yi",
    "outputId": "953a8677-e660-4845-912f-a2bda268d6fd"
   },
   "outputs": [],
   "source": [
    "base_model = Xception(include_top=False,\n",
    "                      weights='imagenet',\n",
    "                      input_shape=(img_size, img_size, 3),\n",
    "                      pooling='avg')"
   ]
  },
  {
   "cell_type": "code",
   "execution_count": null,
   "metadata": {
    "colab": {},
    "colab_type": "code",
    "id": "FzxVrjNAg-Fm"
   },
   "outputs": [],
   "source": [
    "model = Sequential([\n",
    "    base_model,\n",
    "    Dense(20, activation='softmax')\n",
    "])\n",
    "\n",
    "model.compile(optimizer='rmsprop',\n",
    "              loss='sparse_categorical_crossentropy',\n",
    "              metrics=['accuracy'])"
   ]
  },
  {
   "cell_type": "code",
   "execution_count": null,
   "metadata": {
    "colab": {},
    "colab_type": "code",
    "id": "q2DArwumhBeP"
   },
   "outputs": [],
   "source": [
    "model.layers[0].trainable = False"
   ]
  },
  {
   "cell_type": "code",
   "execution_count": null,
   "metadata": {
    "colab": {
     "base_uri": "https://localhost:8080/",
     "height": 221
    },
    "colab_type": "code",
    "id": "tSmqGEXjhCl0",
    "outputId": "caa410a7-c36e-464e-fd33-8f9b83403b6c"
   },
   "outputs": [],
   "source": [
    "model.summary()"
   ]
  },
  {
   "cell_type": "code",
   "execution_count": null,
   "metadata": {
    "colab": {},
    "colab_type": "code",
    "id": "t1advKcvhKGT"
   },
   "outputs": [],
   "source": [
    "datagen = ImageDataGenerator(\n",
    "    preprocessing_function=preprocess_input)"
   ]
  },
  {
   "cell_type": "code",
   "execution_count": null,
   "metadata": {
    "colab": {
     "base_uri": "https://localhost:8080/",
     "height": 34
    },
    "colab_type": "code",
    "id": "G98Jq79DhM1Q",
    "outputId": "5e761cc6-2f4c-4b13-e231-6871514656ed"
   },
   "outputs": [],
   "source": [
    "train_generator = datagen.flow_from_directory(\n",
    "    train_path,\n",
    "    target_size=(img_size, img_size),\n",
    "    batch_size=batch_size,\n",
    "    class_mode = 'sparse',\n",
    "    shuffle=True)"
   ]
  },
  {
   "cell_type": "code",
   "execution_count": null,
   "metadata": {
    "colab": {
     "base_uri": "https://localhost:8080/",
     "height": 51
    },
    "colab_type": "code",
    "id": "CjdGrLk8hc2b",
    "outputId": "f6313756-753f-4dbc-a542-6d031d6f7def"
   },
   "outputs": [],
   "source": [
    "model.fit(train_generator,\n",
    "          epochs=1,\n",
    "          steps_per_epoch=len(train_generator))"
   ]
  },
  {
   "cell_type": "markdown",
   "metadata": {
    "colab_type": "text",
    "id": "2_uFBHYRhfJu"
   },
   "source": [
    "### Exercise 1:\n",
    "\n",
    "Improve the model above\n",
    "\n",
    "- Insert a few more layers between the `base_model` and the output `Dense` layer. You could include:\n",
    "    - Additional `Dense` layers\n",
    "    - `Dropout` layers\n",
    "    - `BatchNormalization` layers\n",
    "    \n",
    "    ```python\n",
    "    model = Sequential([\n",
    "        base_model,\n",
    "        # YOUR CODE HERE\n",
    "        Dense(20, activation='softmax')\n",
    "    ])\n",
    "    ```\n",
    "- Compile the model\n",
    "- Freeze the `base_model` weights\n",
    "- Fit the model on the `train_generator`\n",
    "\n",
    "- Define a new `test_generator` using the `test_path` and a `batch_size` of 500 and use it to create test batch:\n",
    "    ```python\n",
    "    test_generator = datagen.flow_from_directory(\n",
    "        # YOUR CODE HERE\n",
    "    )\n",
    "    \n",
    "    X_test, y_test = test_generator.next()\n",
    "    ```\n",
    "- Generate predictions on the test batch (these will be probabilities) and use the `.argmax()` function to extract the predicted classes\n",
    "- Evaluate your predictions using the `classification_report` and `confusion_matrix`"
   ]
  },
  {
   "cell_type": "code",
   "execution_count": null,
   "metadata": {},
   "outputs": [],
   "source": [
    "from sklearn.metrics import classification_report, confusion_matrix"
   ]
  },
  {
   "cell_type": "code",
   "execution_count": null,
   "metadata": {
    "colab": {},
    "colab_type": "code",
    "id": "QDZ7CBXjiGLP",
    "tags": [
     "solution",
     "empty"
    ]
   },
   "outputs": [],
   "source": [
    "model = Sequential([\n",
    "    base_model,\n",
    "    Dense(256, activation='relu'),\n",
    "    Dropout(0.5),\n",
    "    Dense(20, activation='softmax')\n",
    "])\n",
    "\n",
    "model.compile(optimizer='rmsprop',\n",
    "              loss='sparse_categorical_crossentropy',\n",
    "              metrics=['accuracy'])\n",
    "\n",
    "model.layers[0].trainable=False"
   ]
  },
  {
   "cell_type": "code",
   "execution_count": null,
   "metadata": {
    "colab": {
     "base_uri": "https://localhost:8080/",
     "height": 102
    },
    "colab_type": "code",
    "id": "w5fBKVM1jC4i",
    "outputId": "c52bf1fc-8453-4629-f727-44e09af8fe90",
    "tags": [
     "solution"
    ]
   },
   "outputs": [],
   "source": [
    "model.fit(train_generator,\n",
    "          epochs=2,\n",
    "          steps_per_epoch=len(train_generator))"
   ]
  },
  {
   "cell_type": "code",
   "execution_count": null,
   "metadata": {
    "colab": {
     "base_uri": "https://localhost:8080/",
     "height": 34
    },
    "colab_type": "code",
    "id": "f5DfIeLSjIZu",
    "outputId": "142c630a-8ed3-410c-d161-0ebb157dec0f",
    "tags": [
     "solution"
    ]
   },
   "outputs": [],
   "source": [
    "test_generator = datagen.flow_from_directory(\n",
    "    test_path,\n",
    "    target_size=(img_size, img_size),\n",
    "    batch_size=500,\n",
    "    class_mode = 'sparse',\n",
    "    shuffle=True)"
   ]
  },
  {
   "cell_type": "code",
   "execution_count": null,
   "metadata": {
    "colab": {},
    "colab_type": "code",
    "id": "j_eKpWPYkQ6v",
    "tags": [
     "solution"
    ]
   },
   "outputs": [],
   "source": [
    "X_test, y_test = test_generator.next()"
   ]
  },
  {
   "cell_type": "code",
   "execution_count": null,
   "metadata": {
    "colab": {},
    "colab_type": "code",
    "id": "nAl-u1JzkE9t",
    "tags": [
     "solution"
    ]
   },
   "outputs": [],
   "source": [
    "y_test_pred_proba = model.predict(X_test)"
   ]
  },
  {
   "cell_type": "code",
   "execution_count": null,
   "metadata": {
    "colab": {},
    "colab_type": "code",
    "id": "PzHwqJD0lPNV",
    "tags": [
     "solution"
    ]
   },
   "outputs": [],
   "source": [
    "y_test_pred = y_test_pred_proba.argmax(axis=1)"
   ]
  },
  {
   "cell_type": "code",
   "execution_count": null,
   "metadata": {
    "colab": {
     "base_uri": "https://localhost:8080/",
     "height": 34
    },
    "colab_type": "code",
    "id": "XpZVL8pTlWVQ",
    "outputId": "132402f5-e192-4fb0-ca21-bcdc51f093ae",
    "tags": [
     "solution"
    ]
   },
   "outputs": [],
   "source": [
    "y_test_pred_proba.shape"
   ]
  },
  {
   "cell_type": "code",
   "execution_count": null,
   "metadata": {
    "colab": {},
    "colab_type": "code",
    "id": "4K824nNDk_rb",
    "tags": [
     "solution"
    ]
   },
   "outputs": [],
   "source": [
    "classes_dict = test_generator.class_indices\n",
    "classes = list(classes_dict.keys())"
   ]
  },
  {
   "cell_type": "code",
   "execution_count": null,
   "metadata": {
    "colab": {
     "base_uri": "https://localhost:8080/",
     "height": 476
    },
    "colab_type": "code",
    "id": "h3ZVYAeGk1gN",
    "outputId": "b54d3122-89ca-4eee-a7f1-1ecb46989279",
    "tags": [
     "solution"
    ]
   },
   "outputs": [],
   "source": [
    "print(classification_report(y_test, y_test_pred, target_names=classes))"
   ]
  },
  {
   "cell_type": "code",
   "execution_count": null,
   "metadata": {
    "colab": {
     "base_uri": "https://localhost:8080/",
     "height": 616
    },
    "colab_type": "code",
    "id": "ckTVgnhmlG6N",
    "outputId": "d7840bd3-ca26-43d9-9bf0-27d33bf2ae99",
    "tags": [
     "solution"
    ]
   },
   "outputs": [],
   "source": [
    "cm = confusion_matrix(y_test, y_test_pred)\n",
    "\n",
    "pd.DataFrame(cm,\n",
    "             index=classes,\n",
    "             columns=classes).style.bar(color='lightgreen', vmin=0, vmax=50)"
   ]
  },
  {
   "cell_type": "markdown",
   "metadata": {
    "colab": {},
    "colab_type": "code",
    "id": "OqZpyjgXlJWt"
   },
   "source": [
    "### Exercise 2: Tensorflow Hub\n",
    "\n",
    "Pre-trained models can also be found on [TensorFlow Hub](https://www.tensorflow.org/hub)\n",
    "\n",
    "They can be loaded by providing the appropriate link to the `hub.KerasLayer` layer.\n",
    "\n",
    "- Load the model provided here: https://tfhub.dev/google/bit/m-r50x3/1 into a Keras layer, call it `base_model_2`\n",
    "- Define a new transfer learning model like the previous one and check that it trains correctly on the train generator\n",
    "- You may have to adapt the generator with the following preprocessing function: `lambda x:(x/127.5) - 1`"
   ]
  },
  {
   "cell_type": "code",
   "execution_count": null,
   "metadata": {},
   "outputs": [],
   "source": [
    "import tensorflow_hub as hub"
   ]
  },
  {
   "cell_type": "code",
   "execution_count": null,
   "metadata": {
    "tags": [
     "solution",
     "empty"
    ]
   },
   "outputs": [],
   "source": [
    "base_model_2 = hub.KerasLayer(\"https://tfhub.dev/google/bit/m-r50x3/1\")"
   ]
  },
  {
   "cell_type": "code",
   "execution_count": null,
   "metadata": {
    "tags": [
     "solution"
    ]
   },
   "outputs": [],
   "source": [
    "datagen = ImageDataGenerator(preprocessing_function=lambda x:(x/127.5) - 1)\n",
    "\n",
    "train_generator = datagen.flow_from_directory(\n",
    "    train_path,\n",
    "    target_size=(img_size, img_size),\n",
    "    batch_size=batch_size,\n",
    "    class_mode = 'sparse',\n",
    "    shuffle=True)"
   ]
  },
  {
   "cell_type": "code",
   "execution_count": null,
   "metadata": {
    "tags": [
     "solution"
    ]
   },
   "outputs": [],
   "source": [
    "model = Sequential([\n",
    "  base_model_2,\n",
    "  Dense(256, activation='relu'),\n",
    "  Dropout(0.5),\n",
    "  Dense(20, activation='softmax')\n",
    "])\n",
    "\n",
    "model.compile(optimizer='rmsprop',\n",
    "              loss='sparse_categorical_crossentropy',\n",
    "              metrics=['accuracy'])\n",
    "\n",
    "model.layers[0].trainable=False"
   ]
  },
  {
   "cell_type": "code",
   "execution_count": null,
   "metadata": {
    "tags": [
     "solution"
    ]
   },
   "outputs": [],
   "source": [
    "model.fit(train_generator,\n",
    "          epochs=2,\n",
    "          steps_per_epoch=len(train_generator))"
   ]
  }
 ],
 "metadata": {
  "accelerator": "GPU",
  "celltoolbar": "Tags",
  "colab": {
   "authorship_tag": "ABX9TyOJWB9s6S9wS5YLk8la7mLZ",
   "include_colab_link": true,
   "name": "Transfer_Learning.ipynb",
   "provenance": []
  },
  "kernelspec": {
   "display_name": "Python 3",
   "language": "python",
   "name": "python3"
  },
  "language_info": {
   "codemirror_mode": {
    "name": "ipython",
    "version": 3
   },
   "file_extension": ".py",
   "mimetype": "text/x-python",
   "name": "python",
   "nbconvert_exporter": "python",
   "pygments_lexer": "ipython3",
   "version": "3.7.7"
  }
 },
 "nbformat": 4,
 "nbformat_minor": 1
}
