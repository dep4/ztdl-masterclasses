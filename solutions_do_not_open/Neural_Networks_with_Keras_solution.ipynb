{
 "cells": [
  {
   "cell_type": "markdown",
   "source": [
    "<a href=\"https://colab.research.google.com/github/zerotodeeplearning/ztdl-masterclasses/blob/master/solutions_do_not_open/Neural_Networks_with_Keras_solution.ipynb\" target=\"_parent\"><img src=\"https://colab.research.google.com/assets/colab-badge.svg\" alt=\"Open In Colab\"/></a>"
   ],
   "metadata": {
    "colab_type": "text",
    "id": "view-in-github"
   }
  },
  {
   "cell_type": "markdown",
   "source": [
    "## Learn with us: www.zerotodeeplearning.com\n",
    "\n",
    "Copyright © 2021: Zero to Deep Learning ® Catalit LLC."
   ],
   "metadata": {
    "colab_type": "text",
    "id": "2bwH96hViwS7"
   }
  },
  {
   "cell_type": "code",
   "execution_count": null,
   "source": [
    "# Licensed under the Apache License, Version 2.0 (the \"License\");\n",
    "# you may not use this file except in compliance with the License.\n",
    "# You may obtain a copy of the License at\n",
    "#\n",
    "# https://www.apache.org/licenses/LICENSE-2.0\n",
    "#\n",
    "# Unless required by applicable law or agreed to in writing, software\n",
    "# distributed under the License is distributed on an \"AS IS\" BASIS,\n",
    "# WITHOUT WARRANTIES OR CONDITIONS OF ANY KIND, either express or implied.\n",
    "# See the License for the specific language governing permissions and\n",
    "# limitations under the License."
   ],
   "outputs": [],
   "metadata": {
    "colab": {},
    "colab_type": "code",
    "id": "bFidPKNdkVPg"
   }
  },
  {
   "cell_type": "markdown",
   "source": [
    "# Neural Networks with Keras"
   ],
   "metadata": {
    "colab_type": "text",
    "id": "DvoukA2tkGV4"
   }
  },
  {
   "cell_type": "code",
   "execution_count": null,
   "source": [
    "import matplotlib.pyplot as plt\n",
    "import pandas as pd\n",
    "import numpy as np\n",
    "import seaborn as sns"
   ],
   "outputs": [],
   "metadata": {}
  },
  {
   "cell_type": "markdown",
   "source": [
    "## Shallow and Deep Networks"
   ],
   "metadata": {}
  },
  {
   "cell_type": "code",
   "execution_count": null,
   "source": [
    "from sklearn.datasets import make_moons"
   ],
   "outputs": [],
   "metadata": {}
  },
  {
   "cell_type": "code",
   "execution_count": null,
   "source": [
    "X, y = make_moons(n_samples=1000, noise=0.1, random_state=0)\n",
    "\n",
    "sns.scatterplot(X[:, 0], X[:, 1], hue=y);"
   ],
   "outputs": [],
   "metadata": {}
  },
  {
   "cell_type": "code",
   "execution_count": null,
   "source": [
    "X.shape"
   ],
   "outputs": [],
   "metadata": {}
  },
  {
   "cell_type": "code",
   "execution_count": null,
   "source": [
    "from sklearn.model_selection import train_test_split"
   ],
   "outputs": [],
   "metadata": {}
  },
  {
   "cell_type": "code",
   "execution_count": null,
   "source": [
    "X_train, X_test, y_train, y_test = train_test_split(X, y,\n",
    "                                                    test_size=0.3,\n",
    "                                                    random_state=0)"
   ],
   "outputs": [],
   "metadata": {}
  },
  {
   "cell_type": "code",
   "execution_count": null,
   "source": [
    "from tensorflow.keras.models import Sequential\n",
    "from tensorflow.keras.layers import Dense, Flatten\n",
    "from tensorflow.keras.optimizers import SGD, Adam\n",
    "from tensorflow.keras.losses import BinaryCrossentropy, SparseCategoricalCrossentropy"
   ],
   "outputs": [],
   "metadata": {}
  },
  {
   "cell_type": "markdown",
   "source": [
    "### Shallow Model"
   ],
   "metadata": {}
  },
  {
   "cell_type": "code",
   "execution_count": null,
   "source": [
    "model = Sequential([\n",
    "    Dense(1, input_shape=(2,))\n",
    "])\n",
    "\n",
    "model.compile(optimizer=Adam(learning_rate=0.05),\n",
    "              loss=BinaryCrossentropy(from_logits=True),\n",
    "              metrics=['accuracy'])"
   ],
   "outputs": [],
   "metadata": {}
  },
  {
   "cell_type": "code",
   "execution_count": null,
   "source": [
    "model.summary()"
   ],
   "outputs": [],
   "metadata": {}
  },
  {
   "cell_type": "code",
   "execution_count": null,
   "source": [
    "h = model.fit(X_train, y_train, epochs=50,\n",
    "              verbose=0, validation_split=0.1)"
   ],
   "outputs": [],
   "metadata": {}
  },
  {
   "cell_type": "code",
   "execution_count": null,
   "source": [
    "pd.DataFrame(h.history).plot();"
   ],
   "outputs": [],
   "metadata": {}
  },
  {
   "cell_type": "code",
   "execution_count": null,
   "source": [
    "def plot_decision_boundary(model, X, y):\n",
    "    amin, bmin = X.min(axis=0) - 0.1\n",
    "    amax, bmax = X.max(axis=0) + 0.1\n",
    "    hticks = np.linspace(amin, amax, 101)\n",
    "    vticks = np.linspace(bmin, bmax, 101)\n",
    "    \n",
    "    aa, bb = np.meshgrid(hticks, vticks)\n",
    "    ab = np.c_[aa.ravel(), bb.ravel()]\n",
    "    \n",
    "    c = model.predict(ab)\n",
    "    cc = c.reshape(aa.shape)\n",
    "\n",
    "    plt.figure(figsize=(12, 8))\n",
    "    plt.contourf(aa, bb, cc, cmap='bwr', alpha=0.2)\n",
    "    sns.scatterplot(X[:, 0], X[:, 1], hue=y);"
   ],
   "outputs": [],
   "metadata": {}
  },
  {
   "cell_type": "code",
   "execution_count": null,
   "source": [
    "plot_decision_boundary(model, X, y)"
   ],
   "outputs": [],
   "metadata": {}
  },
  {
   "cell_type": "code",
   "execution_count": null,
   "source": [
    "loss, accuracy = model.evaluate(X_test, y_test, verbose=0)"
   ],
   "outputs": [],
   "metadata": {}
  },
  {
   "cell_type": "code",
   "execution_count": null,
   "source": [
    "accuracy"
   ],
   "outputs": [],
   "metadata": {}
  },
  {
   "cell_type": "markdown",
   "source": [
    "### Exercise 1: Deep model\n",
    "\n",
    "The model above was not able to perfectly classify the data. Build a deep model with at least 1 or 2 hidden layers and re-train it on the data. You should be able to obtain 100% accuracy. Remember to include the activation function in the definition of each layer.\n",
    "\n",
    "- Define a model\n",
    "- Compile the model\n",
    "- Fit the model\n",
    "- Plot the training history\n",
    "- Plot the decision boundary\n",
    "- Compare the model performance on training and test set\n",
    "- Print the confusion matrix for the test set (bonus points if you make it pretty)"
   ],
   "metadata": {}
  },
  {
   "cell_type": "code",
   "execution_count": null,
   "source": [
    "from sklearn.metrics import accuracy_score, confusion_matrix"
   ],
   "outputs": [],
   "metadata": {}
  },
  {
   "cell_type": "code",
   "execution_count": null,
   "source": [
    "model = Sequential([\n",
    "    Dense(4, input_shape=(2,), activation='tanh'),\n",
    "    Dense(2, activation='tanh'),\n",
    "    Dense(1, activation='sigmoid')\n",
    "])\n",
    "\n",
    "model.compile(optimizer=Adam(learning_rate=0.01),\n",
    "              loss='binary_crossentropy',\n",
    "              metrics=['accuracy'])"
   ],
   "outputs": [],
   "metadata": {
    "tags": [
     "solution",
     "empty"
    ]
   }
  },
  {
   "cell_type": "code",
   "execution_count": null,
   "source": [
    "h = model.fit(X_train, y_train, epochs=100,\n",
    "              verbose=0, validation_split=0.1)"
   ],
   "outputs": [],
   "metadata": {
    "tags": [
     "solution"
    ]
   }
  },
  {
   "cell_type": "code",
   "execution_count": null,
   "source": [
    "pd.DataFrame(h.history).plot();"
   ],
   "outputs": [],
   "metadata": {
    "tags": [
     "solution"
    ]
   }
  },
  {
   "cell_type": "code",
   "execution_count": null,
   "source": [
    "plot_decision_boundary(model, X, y)"
   ],
   "outputs": [],
   "metadata": {
    "tags": [
     "solution"
    ]
   }
  },
  {
   "cell_type": "code",
   "execution_count": null,
   "source": [
    "y_train_pred = np.argmax(model.predict(X_train),axis=1)\n",
    "y_test_pred = np.argmax(model.predict(X_test),axis=1)\n",
    "\n",
    "print(\"The Accuracy score on the Train set is:\\t{:0.3f}\".format(accuracy_score(y_train, y_train_pred)))\n",
    "print(\"The Accuracy score on the Test set is:\\t{:0.3f}\".format(accuracy_score(y_test, y_test_pred)))"
   ],
   "outputs": [],
   "metadata": {
    "tags": [
     "solution"
    ]
   }
  },
  {
   "cell_type": "code",
   "execution_count": null,
   "source": [
    "cm = confusion_matrix(y_test, y_test_pred)\n",
    "pd.DataFrame(cm)"
   ],
   "outputs": [],
   "metadata": {
    "tags": [
     "solution"
    ]
   }
  },
  {
   "cell_type": "markdown",
   "source": [
    "## Multiclass classification with Images"
   ],
   "metadata": {}
  },
  {
   "cell_type": "code",
   "execution_count": null,
   "source": [
    "from tensorflow.keras.datasets import fashion_mnist"
   ],
   "outputs": [],
   "metadata": {}
  },
  {
   "cell_type": "code",
   "execution_count": null,
   "source": [
    "(X_train, y_train), (X_test, y_test) = fashion_mnist.load_data()\n",
    "X_train, X_test = X_train / 255.0, X_test / 255.0"
   ],
   "outputs": [],
   "metadata": {}
  },
  {
   "cell_type": "code",
   "execution_count": null,
   "source": [
    "label_description = [\n",
    "    \"T-shirt/top\",\n",
    "    \"Trouser\",\n",
    "    \"Pullover\",\n",
    "    \"Dress\",\n",
    "    \"Coat\",\n",
    "    \"Sandal\",\n",
    "    \"Shirt\",\n",
    "    \"Sneaker\",\n",
    "    \"Bag\",\n",
    "    \"Ankle boot\"\n",
    "]"
   ],
   "outputs": [],
   "metadata": {}
  },
  {
   "cell_type": "code",
   "execution_count": null,
   "source": [
    "X_train.shape"
   ],
   "outputs": [],
   "metadata": {}
  },
  {
   "cell_type": "code",
   "execution_count": null,
   "source": [
    "y_train.shape"
   ],
   "outputs": [],
   "metadata": {}
  },
  {
   "cell_type": "code",
   "execution_count": null,
   "source": [
    "plt.figure(figsize=(10, 10))\n",
    "for i in range(16):\n",
    "    plt.subplot(4, 4, i+1)\n",
    "    plt.imshow(X_train[i], cmap='gray')\n",
    "    plt.title(label_description[y_train[i]])\n",
    "    plt.axis('off')"
   ],
   "outputs": [],
   "metadata": {}
  },
  {
   "cell_type": "code",
   "execution_count": null,
   "source": [
    "model = Sequential([\n",
    "    Flatten(input_shape=(28, 28)),\n",
    "    Dense(256, activation='relu'),\n",
    "    Dense(128, activation='relu'),\n",
    "    Dense(10, activation='softmax')\n",
    "])\n",
    "\n",
    "model.compile('adam',\n",
    "              loss='sparse_categorical_crossentropy',\n",
    "              metrics=['accuracy'])"
   ],
   "outputs": [],
   "metadata": {}
  },
  {
   "cell_type": "code",
   "execution_count": null,
   "source": [
    "h = model.fit(X_train, y_train, epochs=5, validation_split=0.1)"
   ],
   "outputs": [],
   "metadata": {}
  },
  {
   "cell_type": "code",
   "execution_count": null,
   "source": [
    "pd.DataFrame(h.history).plot();"
   ],
   "outputs": [],
   "metadata": {}
  },
  {
   "cell_type": "code",
   "execution_count": null,
   "source": [
    "y_pred = model.predict(X_test)"
   ],
   "outputs": [],
   "metadata": {}
  },
  {
   "cell_type": "code",
   "execution_count": null,
   "source": [
    "y_pred[:5]"
   ],
   "outputs": [],
   "metadata": {}
  },
  {
   "cell_type": "code",
   "execution_count": null,
   "source": [
    "y_test"
   ],
   "outputs": [],
   "metadata": {}
  },
  {
   "cell_type": "code",
   "execution_count": null,
   "source": [
    "y_pred_class = np.argmax(y_pred, axis=-1)"
   ],
   "outputs": [],
   "metadata": {}
  },
  {
   "cell_type": "code",
   "execution_count": null,
   "source": [
    "y_pred_class"
   ],
   "outputs": [],
   "metadata": {}
  },
  {
   "cell_type": "code",
   "execution_count": null,
   "source": [
    "from sklearn.metrics import classification_report"
   ],
   "outputs": [],
   "metadata": {}
  },
  {
   "cell_type": "code",
   "execution_count": null,
   "source": [
    "print(classification_report(y_test, y_pred_class, target_names=label_description))"
   ],
   "outputs": [],
   "metadata": {}
  },
  {
   "cell_type": "code",
   "execution_count": null,
   "source": [
    "cm = confusion_matrix(y_test, y_pred_class)\n",
    "df = pd.DataFrame(cm, index=label_description, columns=label_description)\n",
    "df"
   ],
   "outputs": [],
   "metadata": {}
  },
  {
   "cell_type": "markdown",
   "source": [
    "### Exercise 2: Convolutional networks and GPU\n",
    "\n",
    "Use a convolutional model to improve the performance. Write a model like this one:\n",
    "\n",
    "```python\n",
    "model = Sequential([\n",
    "    Reshape(target_shape=(28, 28, 1),\n",
    "            input_shape=(28, 28)),\n",
    "    Conv2D(# your code here),\n",
    "    Conv2D(# your code here),\n",
    "    MaxPooling2D(),\n",
    "    Flatten(),\n",
    "    Dense(# your code here),\n",
    "    Dense(# your code here)\n",
    "])\n",
    "```\n",
    "\n",
    "And train it on the data for 5 epochs. You should be able to bring the accuracy above 90%.\n",
    "Bonus points if you figure out how to change Colab's `Notebook settings` to use GPU acceleration.\n",
    "\n",
    "Remember to display the confusion matrix for the test set."
   ],
   "metadata": {}
  },
  {
   "cell_type": "code",
   "execution_count": null,
   "source": [
    "from tensorflow.keras.layers import Reshape, Conv2D, MaxPooling2D"
   ],
   "outputs": [],
   "metadata": {}
  },
  {
   "cell_type": "code",
   "execution_count": null,
   "source": [
    "model = Sequential([\n",
    "    Reshape(target_shape=(28, 28, 1),\n",
    "            input_shape=(28, 28)),\n",
    "    Conv2D(32, (3, 3), activation='relu'),\n",
    "    Conv2D(32, (3, 3), activation='relu'),\n",
    "    MaxPooling2D(),\n",
    "    Flatten(),\n",
    "    Dense(128, activation='relu'),\n",
    "    Dense(10, activation='softmax')\n",
    "])\n",
    "\n",
    "model.compile('adam',\n",
    "              loss='sparse_categorical_crossentropy',\n",
    "              metrics=['accuracy'])"
   ],
   "outputs": [],
   "metadata": {
    "tags": [
     "solution",
     "empty"
    ]
   }
  },
  {
   "cell_type": "code",
   "execution_count": null,
   "source": [
    "h = model.fit(X_train, y_train, epochs=3, validation_split=0.1)"
   ],
   "outputs": [],
   "metadata": {
    "tags": [
     "solution"
    ]
   }
  },
  {
   "cell_type": "code",
   "execution_count": null,
   "source": [
    "pd.DataFrame(h.history).plot();"
   ],
   "outputs": [],
   "metadata": {
    "tags": [
     "solution"
    ]
   }
  },
  {
   "cell_type": "code",
   "execution_count": null,
   "source": [
    "y_test_pred = np.argmax(model.predict(X_test),axis=1)\n"
   ],
   "outputs": [],
   "metadata": {
    "tags": [
     "solution"
    ]
   }
  },
  {
   "cell_type": "code",
   "execution_count": null,
   "source": [
    "cm = confusion_matrix(y_test, y_test_pred)\n",
    "df = pd.DataFrame(cm, index=label_description, columns=label_description)\n",
    "df"
   ],
   "outputs": [],
   "metadata": {
    "tags": [
     "solution"
    ]
   }
  }
 ],
 "metadata": {
  "celltoolbar": "Tags",
  "colab": {
   "authorship_tag": "ABX9TyOJWB9s6S9wS5YLk8la7mLZ",
   "include_colab_link": true,
   "name": "Neural_Networks_with_Keras_solution.ipynb",
   "provenance": []
  },
  "kernelspec": {
   "display_name": "Python 3",
   "language": "python",
   "name": "python3"
  },
  "language_info": {
   "codemirror_mode": {
    "name": "ipython",
    "version": 3
   },
   "file_extension": ".py",
   "mimetype": "text/x-python",
   "name": "python",
   "nbconvert_exporter": "python",
   "pygments_lexer": "ipython3",
   "version": "3.7.7"
  }
 },
 "nbformat": 4,
 "nbformat_minor": 1
}