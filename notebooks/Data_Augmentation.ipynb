{
 "cells": [
  {
   "cell_type": "markdown",
   "metadata": {
    "colab_type": "text",
    "id": "view-in-github"
   },
   "source": [
    "<a href=\"https://colab.research.google.com/github/zerotodeeplearning/ztdl-masterclasses/blob/master/notebooks/Data_Augmentation.ipynb\" target=\"_parent\"><img src=\"https://colab.research.google.com/assets/colab-badge.svg\" alt=\"Open In Colab\"/></a>"
   ]
  },
  {
   "cell_type": "markdown",
   "metadata": {
    "colab_type": "text",
    "id": "2bwH96hViwS7"
   },
   "source": [
    "## Learn with us: www.zerotodeeplearning.com\n",
    "\n",
    "Copyright © 2021: Zero to Deep Learning ® Catalit LLC."
   ]
  },
  {
   "cell_type": "code",
   "execution_count": null,
   "metadata": {
    "colab": {},
    "colab_type": "code",
    "id": "bFidPKNdkVPg"
   },
   "outputs": [],
   "source": [
    "# Licensed under the Apache License, Version 2.0 (the \"License\");\n",
    "# you may not use this file except in compliance with the License.\n",
    "# You may obtain a copy of the License at\n",
    "#\n",
    "# https://www.apache.org/licenses/LICENSE-2.0\n",
    "#\n",
    "# Unless required by applicable law or agreed to in writing, software\n",
    "# distributed under the License is distributed on an \"AS IS\" BASIS,\n",
    "# WITHOUT WARRANTIES OR CONDITIONS OF ANY KIND, either express or implied.\n",
    "# See the License for the specific language governing permissions and\n",
    "# limitations under the License."
   ]
  },
  {
   "cell_type": "markdown",
   "metadata": {
    "colab_type": "text",
    "id": "DvoukA2tkGV4"
   },
   "source": [
    "# Data Augmentation"
   ]
  },
  {
   "cell_type": "code",
   "execution_count": null,
   "metadata": {
    "colab": {},
    "colab_type": "code",
    "id": "d85dZiUHNQsQ"
   },
   "outputs": [],
   "source": [
    "import numpy as np\n",
    "import pandas as pd\n",
    "import matplotlib.pyplot as plt\n",
    "import seaborn as sns\n",
    "import tensorflow as tf\n",
    "import os\n",
    "from tensorflow.keras.preprocessing import image"
   ]
  },
  {
   "cell_type": "code",
   "execution_count": null,
   "metadata": {
    "colab": {},
    "colab_type": "code",
    "id": "W9rpfDisNSs9"
   },
   "outputs": [],
   "source": [
    "# sports_images_path = tf.keras.utils.get_file(\n",
    "#     'sports_images',\n",
    "#     'https://archive.org/download/ztdl_sports_images/sports_images.tgz',\n",
    "#      untar=True)"
   ]
  },
  {
   "cell_type": "code",
   "execution_count": null,
   "metadata": {
    "colab": {
     "base_uri": "https://localhost:8080/",
     "height": 68
    },
    "colab_type": "code",
    "id": "WeovACo4OyAM",
    "outputId": "97bf6652-1b99-4108-ef1e-a0b8f249c691"
   },
   "outputs": [],
   "source": [
    "![[ ! -f sports_images.tar.gz ]] && gsutil cp gs://ztdl-datasets/sports_images.tar.gz .\n",
    "![[ ! -d sports_images ]] && echo \"Extracting images...\" && tar zxf sports_images.tar.gz\n",
    "sports_images_path  = './sports_images'"
   ]
  },
  {
   "cell_type": "code",
   "execution_count": null,
   "metadata": {
    "colab": {},
    "colab_type": "code",
    "id": "FOjyb1QXV7Vz"
   },
   "outputs": [],
   "source": [
    "train_path = os.path.join(sports_images_path, 'train')\n",
    "test_path = os.path.join(sports_images_path, 'test')"
   ]
  },
  {
   "cell_type": "code",
   "execution_count": null,
   "metadata": {
    "colab": {},
    "colab_type": "code",
    "id": "Z_pFvoKoWCG9"
   },
   "outputs": [],
   "source": [
    "batch_size = 16\n",
    "img_size = 224"
   ]
  },
  {
   "cell_type": "code",
   "execution_count": null,
   "metadata": {
    "colab": {},
    "colab_type": "code",
    "id": "Rdrw2B16Nbvk"
   },
   "outputs": [],
   "source": [
    "datagen = image.ImageDataGenerator(\n",
    "    rescale=1./255.,\n",
    "    rotation_range=15,\n",
    "    width_shift_range=0.2,\n",
    "    height_shift_range=0.2,\n",
    "    shear_range=5,\n",
    "    zoom_range=0.2,\n",
    "    horizontal_flip=True,\n",
    "    fill_mode='nearest')"
   ]
  },
  {
   "cell_type": "code",
   "execution_count": null,
   "metadata": {
    "colab": {
     "base_uri": "https://localhost:8080/",
     "height": 241
    },
    "colab_type": "code",
    "id": "EynSA1dQYXmp",
    "outputId": "138ccfdf-22ce-43cf-f8f2-ab4ca1786961"
   },
   "outputs": [],
   "source": [
    "input_path = os.path.join(train_path, 'Beach volleyball/1e9ce0e76695de2e5d1f6964ab8c538.jpg')\n",
    "img = image.load_img(input_path, target_size=(img_size, img_size))\n",
    "img"
   ]
  },
  {
   "cell_type": "code",
   "execution_count": null,
   "metadata": {
    "colab": {},
    "colab_type": "code",
    "id": "L3L_2T8u8U-S"
   },
   "outputs": [],
   "source": [
    "img_array = image.img_to_array(img)"
   ]
  },
  {
   "cell_type": "code",
   "execution_count": null,
   "metadata": {
    "colab": {},
    "colab_type": "code",
    "id": "qVX0AA7J8U6r"
   },
   "outputs": [],
   "source": [
    "img_tensor = np.expand_dims(img_array, axis=0)"
   ]
  },
  {
   "cell_type": "code",
   "execution_count": null,
   "metadata": {
    "colab": {
     "base_uri": "https://localhost:8080/",
     "height": 717
    },
    "colab_type": "code",
    "id": "ohkU-lku8U2R",
    "outputId": "c837cc3a-f688-4eab-94be-e487bcdeec37"
   },
   "outputs": [],
   "source": [
    "plt.figure(figsize=(10, 10))\n",
    "\n",
    "i = 0\n",
    "for im in datagen.flow(img_tensor, batch_size=1):\n",
    "    i += 1\n",
    "    if i > 16:\n",
    "        break\n",
    "    plt.subplot(4, 4, i)\n",
    "    plt.imshow(im[0])\n",
    "    plt.axis('off')\n",
    "\n",
    "plt.tight_layout()"
   ]
  },
  {
   "cell_type": "markdown",
   "metadata": {
    "colab_type": "text",
    "id": "ppplZ34g8UyI"
   },
   "source": [
    "### Exercise 1\n",
    "\n",
    "- Use the `flow_from_directory` method of the data generator to produce a batch of images of sports flowing from the training directory `train_path`.\n",
    "- display the images with their labels\n",
    "\n",
    "Your code should look like:\n",
    "\n",
    "```python\n",
    "train_datagen = datagen.flow_from_directory(\n",
    "    # YOUR CODE HERE\n",
    ")\n",
    "\n",
    "batch, labels = train_datagen.next()\n",
    "\n",
    "plt.figure(figsize=(10, 10))\n",
    "for i in range(len(batch)):\n",
    "    # YOUR CODE HERE\n",
    "```"
   ]
  },
  {
   "cell_type": "code",
   "execution_count": null,
   "metadata": {
    "collapsed": true
   },
   "outputs": [],
   "source": []
  },
  {
   "cell_type": "markdown",
   "metadata": {
    "colab_type": "text",
    "id": "wCq_t4tVC0rE"
   },
   "source": [
    "### Tensorflow Data Generators"
   ]
  },
  {
   "cell_type": "code",
   "execution_count": null,
   "metadata": {
    "colab": {},
    "colab_type": "code",
    "id": "6K5TN9MV-_G8"
   },
   "outputs": [],
   "source": [
    "from imutils import paths"
   ]
  },
  {
   "cell_type": "code",
   "execution_count": null,
   "metadata": {
    "colab": {},
    "colab_type": "code",
    "id": "tmUpG2Nziik7"
   },
   "outputs": [],
   "source": [
    "def parse_images(im_path):\n",
    "  im = tf.io.read_file(im_path)\n",
    "  im = tf.image.decode_jpeg(im, channels=3)\n",
    "  im = tf.image.convert_image_dtype(im, tf.float32)\n",
    "  im = tf.image.resize(im, [img_size, img_size])\n",
    "  label = tf.strings.split(im_path, os.path.sep)[-2]\n",
    "  return (im, label)"
   ]
  },
  {
   "cell_type": "code",
   "execution_count": null,
   "metadata": {
    "colab": {},
    "colab_type": "code",
    "id": "lvu-1nO8ny3k"
   },
   "outputs": [],
   "source": [
    "im_paths = list(paths.list_images(train_path))\n",
    "path_ds = tf.data.Dataset.from_tensor_slices((im_paths))"
   ]
  },
  {
   "cell_type": "code",
   "execution_count": null,
   "metadata": {
    "colab": {},
    "colab_type": "code",
    "id": "Idc45mpUoDJW"
   },
   "outputs": [],
   "source": [
    "AUTO = tf.data.experimental.AUTOTUNE"
   ]
  },
  {
   "cell_type": "code",
   "execution_count": null,
   "metadata": {
    "colab": {},
    "colab_type": "code",
    "id": "2xC7x6F0oD9e"
   },
   "outputs": [],
   "source": [
    "train_ds = (\n",
    "    path_ds\n",
    "    .map(parse_images, num_parallel_calls=AUTO)\n",
    "    .shuffle(10000)\n",
    "    .batch(batch_size)\n",
    "    .prefetch(AUTO)\n",
    ")"
   ]
  },
  {
   "cell_type": "code",
   "execution_count": null,
   "metadata": {
    "colab": {},
    "colab_type": "code",
    "id": "IWITasIDoqiV"
   },
   "outputs": [],
   "source": [
    "batch, labels = next(iter(train_ds))"
   ]
  },
  {
   "cell_type": "code",
   "execution_count": null,
   "metadata": {
    "colab": {
     "base_uri": "https://localhost:8080/",
     "height": 729
    },
    "colab_type": "code",
    "id": "WilMQSo5pruo",
    "outputId": "5cb0fd38-9dd7-4c8f-f195-009964c07e34"
   },
   "outputs": [],
   "source": [
    "plt.figure(figsize=(10, 10))\n",
    "for i in range(len(batch)):\n",
    "  plt.subplot(4, 4, i+1)\n",
    "  plt.imshow(batch[i])\n",
    "  plt.title(labels[i].numpy().decode('utf-8'))\n",
    "  plt.axis('off')\n",
    "\n",
    "plt.tight_layout()"
   ]
  },
  {
   "cell_type": "markdown",
   "metadata": {
    "colab_type": "text",
    "id": "JqEEhAzWC4dX"
   },
   "source": [
    "### Exercise 2: Data augmentation with Keras layers\n",
    "\n",
    "Keras provides a few experimental layers to include data augmentation in the model.\n",
    "\n",
    "- Define a data augmentation model using a `Sequential` model with a few layers from the `tensorflow.keras.layers.experimental.preprocessing` submodule.\n",
    "- Apply this model on the batch using the flag `training=True` to ensure data augmentation is applied\n",
    "- Visualize the augmented images as above\n",
    "- What are the advantages of including data augmentation in the model?"
   ]
  },
  {
   "cell_type": "code",
   "execution_count": null,
   "metadata": {
    "collapsed": true
   },
   "outputs": [],
   "source": []
  }
 ],
 "metadata": {
  "accelerator": "GPU",
  "colab": {
   "authorship_tag": "ABX9TyOJWB9s6S9wS5YLk8la7mLZ",
   "include_colab_link": true,
   "name": "Data_Augmentation.ipynb",
   "provenance": []
  },
  "kernelspec": {
   "display_name": "Python 3",
   "language": "python",
   "name": "python3"
  },
  "language_info": {
   "codemirror_mode": {
    "name": "ipython",
    "version": 3
   },
   "file_extension": ".py",
   "mimetype": "text/x-python",
   "name": "python",
   "nbconvert_exporter": "python",
   "pygments_lexer": "ipython3",
   "version": "3.7.7"
  }
 },
 "nbformat": 4,
 "nbformat_minor": 1
}
