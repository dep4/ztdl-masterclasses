{
 "cells": [
  {
   "cell_type": "markdown",
   "metadata": {
    "colab_type": "text",
    "id": "view-in-github"
   },
   "source": [
    "<a href=\"https://colab.research.google.com/github/zerotodeeplearning/ztdl-masterclasses/blob/master/notebooks/Bag_of_Words_Features_for_Text.ipynb\" target=\"_parent\"><img src=\"https://colab.research.google.com/assets/colab-badge.svg\" alt=\"Open In Colab\"/></a>"
   ]
  },
  {
   "cell_type": "markdown",
   "metadata": {
    "colab_type": "text",
    "id": "2bwH96hViwS7"
   },
   "source": [
    "## Learn with us: www.zerotodeeplearning.com\n",
    "\n",
    "Copyright © 2021: Zero to Deep Learning ® Catalit LLC."
   ]
  },
  {
   "cell_type": "code",
   "execution_count": null,
   "metadata": {
    "colab": {},
    "colab_type": "code",
    "id": "bFidPKNdkVPg"
   },
   "outputs": [],
   "source": [
    "# Licensed under the Apache License, Version 2.0 (the \"License\");\n",
    "# you may not use this file except in compliance with the License.\n",
    "# You may obtain a copy of the License at\n",
    "#\n",
    "# https://www.apache.org/licenses/LICENSE-2.0\n",
    "#\n",
    "# Unless required by applicable law or agreed to in writing, software\n",
    "# distributed under the License is distributed on an \"AS IS\" BASIS,\n",
    "# WITHOUT WARRANTIES OR CONDITIONS OF ANY KIND, either express or implied.\n",
    "# See the License for the specific language governing permissions and\n",
    "# limitations under the License."
   ]
  },
  {
   "cell_type": "markdown",
   "metadata": {
    "colab_type": "text",
    "id": "DvoukA2tkGV4"
   },
   "source": [
    "# Bag of Words Features for Text"
   ]
  },
  {
   "cell_type": "code",
   "execution_count": null,
   "metadata": {
    "colab": {},
    "colab_type": "code",
    "id": "E_M8roMVL96v"
   },
   "outputs": [],
   "source": [
    "import numpy as np\n",
    "import pandas as pd\n",
    "import matplotlib.pyplot as plt\n",
    "import seaborn as sns"
   ]
  },
  {
   "cell_type": "code",
   "execution_count": null,
   "metadata": {},
   "outputs": [],
   "source": [
    "url = \"https://raw.githubusercontent.com/zerotodeeplearning/ztdl-masterclasses/master/data/\""
   ]
  },
  {
   "cell_type": "code",
   "execution_count": null,
   "metadata": {
    "colab": {
     "base_uri": "https://localhost:8080/",
     "height": 204
    },
    "colab_type": "code",
    "id": "y3QSpYME7d8A",
    "outputId": "f78c014e-4580-4b19-eb39-0ccc75756210"
   },
   "outputs": [],
   "source": [
    "df = pd.read_csv(url + 'wikipedia_languages.csv')\n",
    "df.head()"
   ]
  },
  {
   "cell_type": "code",
   "execution_count": null,
   "metadata": {},
   "outputs": [],
   "source": [
    "classes = df['language'].unique()\n",
    "classes"
   ]
  },
  {
   "cell_type": "code",
   "execution_count": null,
   "metadata": {
    "colab": {
     "base_uri": "https://localhost:8080/",
     "height": 1000
    },
    "colab_type": "code",
    "id": "NXGatDM_75HK",
    "outputId": "90d836c4-ba19-4e83-8aa4-c4541de6d2b5"
   },
   "outputs": [],
   "source": [
    "for language in classes:\n",
    "  print(df[df['language'] == language].head())\n",
    "  print()"
   ]
  },
  {
   "cell_type": "code",
   "execution_count": null,
   "metadata": {
    "colab": {
     "base_uri": "https://localhost:8080/",
     "height": 374
    },
    "colab_type": "code",
    "id": "AkhJhPnR8VYa",
    "outputId": "5e0ad514-e122-465d-bf69-0b4f0a6ff6a6"
   },
   "outputs": [],
   "source": [
    "df['language'].value_counts()"
   ]
  },
  {
   "cell_type": "code",
   "execution_count": null,
   "metadata": {
    "colab": {
     "base_uri": "https://localhost:8080/",
     "height": 170
    },
    "colab_type": "code",
    "id": "42T2OxmiAx0g",
    "outputId": "151409d8-ec37-492f-92d1-cae6789a9293"
   },
   "outputs": [],
   "source": [
    "df.info()"
   ]
  },
  {
   "cell_type": "markdown",
   "metadata": {},
   "source": [
    "### Classification based on alphabet"
   ]
  },
  {
   "cell_type": "code",
   "execution_count": null,
   "metadata": {
    "colab": {},
    "colab_type": "code",
    "id": "Vbv6RyReDzCI"
   },
   "outputs": [],
   "source": [
    "from sklearn.feature_extraction.text import TfidfVectorizer, CountVectorizer\n",
    "from sklearn.pipeline import make_pipeline\n",
    "from sklearn.linear_model import LogisticRegression\n",
    "from sklearn.model_selection import train_test_split\n",
    "from sklearn.metrics import classification_report, confusion_matrix"
   ]
  },
  {
   "cell_type": "code",
   "execution_count": null,
   "metadata": {
    "colab": {},
    "colab_type": "code",
    "id": "yWxG_A0YD1VH"
   },
   "outputs": [],
   "source": [
    "df_train, df_test = train_test_split(df, test_size=0.15, random_state=0)\n",
    "docs_train = df_train['sentence']\n",
    "docs_test = df_test['sentence']\n",
    "y_train = df_train['language']\n",
    "y_test = df_test['language']"
   ]
  },
  {
   "cell_type": "code",
   "execution_count": null,
   "metadata": {
    "colab": {},
    "colab_type": "code",
    "id": "-3ka2MRfHVBM"
   },
   "outputs": [],
   "source": [
    "all_text = df_train.groupby('language')['sentence'].agg('sum')"
   ]
  },
  {
   "cell_type": "code",
   "execution_count": null,
   "metadata": {
    "colab": {
     "base_uri": "https://localhost:8080/",
     "height": 391
    },
    "colab_type": "code",
    "id": "Sb-TE9ydHU-a",
    "outputId": "13ff894c-2bad-4348-ba0d-db5c949542b0"
   },
   "outputs": [],
   "source": [
    "all_text"
   ]
  },
  {
   "cell_type": "code",
   "execution_count": null,
   "metadata": {
    "colab": {},
    "colab_type": "code",
    "id": "nQG1IySnIciI"
   },
   "outputs": [],
   "source": [
    "world_alphabets = []\n",
    "for language in classes:\n",
    "  list_of_chars = list(all_text.loc[language])\n",
    "  top_chars_counts = pd.Series(list_of_chars).value_counts().head(20)\n",
    "  top_chars_list = list(top_chars_counts.index)\n",
    "  world_alphabets.extend(top_chars_list)"
   ]
  },
  {
   "cell_type": "code",
   "execution_count": null,
   "metadata": {
    "colab": {
     "base_uri": "https://localhost:8080/",
     "height": 34
    },
    "colab_type": "code",
    "id": "h23xorafHU7L",
    "outputId": "bbb0f9e9-326d-4ac4-fb11-44adf90975a7"
   },
   "outputs": [],
   "source": [
    "unique_letters = np.unique(world_alphabets)\n",
    "len(unique_letters)"
   ]
  },
  {
   "cell_type": "code",
   "execution_count": null,
   "metadata": {
    "colab": {},
    "colab_type": "code",
    "id": "k9fw_1X0LviU"
   },
   "outputs": [],
   "source": [
    "cnt_vect = CountVectorizer(analyzer='char', \n",
    "                           vocabulary=unique_letters)"
   ]
  },
  {
   "cell_type": "code",
   "execution_count": null,
   "metadata": {},
   "outputs": [],
   "source": [
    "model = make_pipeline(cnt_vect,\n",
    "                      LogisticRegression(solver='liblinear'))"
   ]
  },
  {
   "cell_type": "code",
   "execution_count": null,
   "metadata": {
    "colab": {},
    "colab_type": "code",
    "id": "LM62Q3qWLvfP"
   },
   "outputs": [],
   "source": [
    "def display_language(language):\n",
    "  samples = df.loc[df['language'] == language, 'sentence'].iloc[:150]\n",
    "  features = cnt_vect.transform(samples)\n",
    "  plt.imshow(features.todense())\n",
    "  plt.title(language)\n",
    "  plt.axis('off')"
   ]
  },
  {
   "cell_type": "code",
   "execution_count": null,
   "metadata": {
    "colab": {
     "base_uri": "https://localhost:8080/",
     "height": 513
    },
    "colab_type": "code",
    "id": "rAsZ0xq0Lvb3",
    "outputId": "cad9cccc-20bb-48c5-fdcc-be18019362e4"
   },
   "outputs": [],
   "source": [
    "plt.figure(figsize=(10, 7))\n",
    "for i, language in enumerate(classes):\n",
    "  plt.subplot(4, 5, i+1)\n",
    "  display_language(language)\n",
    "\n",
    "plt.tight_layout()"
   ]
  },
  {
   "cell_type": "code",
   "execution_count": null,
   "metadata": {},
   "outputs": [],
   "source": [
    "model.fit(docs_train, y_train)"
   ]
  },
  {
   "cell_type": "code",
   "execution_count": null,
   "metadata": {},
   "outputs": [],
   "source": [
    "model.score(docs_train, y_train)"
   ]
  },
  {
   "cell_type": "code",
   "execution_count": null,
   "metadata": {},
   "outputs": [],
   "source": [
    "model.score(docs_test, y_test)"
   ]
  },
  {
   "cell_type": "markdown",
   "metadata": {},
   "source": [
    "### Exercise 1: TFIDF Vectorizer\n",
    "\n",
    "The classification based on alphabet worked, but didn't get great results. Can we improve it using TFIDF?\n",
    "\n",
    "- Build a new model that uses the `TfidfVectorizer` to vectorize the text\n",
    "- Configure the `TfidfVectorizer` to analyze the text by characters, using character ngrams of 1 to 3 characters, you may also introduce a limit on the maximum number of features\n",
    "- Use a pipeline with an estimator of your choice and train and evaluate the model on training and test set. What's the highest score you can get?\n",
    "\n",
    "\n",
    "Your code will look like:\n",
    "```python\n",
    "tfidf_vect = TfidfVectorizer(# YOUR CODE HERE\n",
    ")\n",
    "\n",
    "model = make_pipeline(# YOUR CODE HERE\n",
    "    \n",
    "# YOUR CODE HERE\n",
    "```"
   ]
  },
  {
   "cell_type": "code",
   "execution_count": null,
   "metadata": {
    "collapsed": true
   },
   "outputs": [],
   "source": []
  },
  {
   "cell_type": "markdown",
   "metadata": {},
   "source": [
    "### Exercise 2: Investigation of results\n",
    "\n",
    "Let's dig deeper into the results we got.\n",
    "\n",
    "- Use the model to predict the labels on `docs_test`\n",
    "- Use a `classification_report` to inspect the precision and recall of each language, which languages work and which do not?\n",
    "- Dig deeper into the results by displaying a `confusion_matrix`. Which languages get mixed?\n",
    "- Bonus points if you can display the confusion matrix nicely with Pandas\n",
    "- Inspect some of the confused items. Use numpy to select the rows in `docs_test` for which 2 languages are confused. Can you see what the problem is? Are the labels accurate?"
   ]
  },
  {
   "cell_type": "code",
   "execution_count": null,
   "metadata": {
    "collapsed": true
   },
   "outputs": [],
   "source": []
  }
 ],
 "metadata": {
  "colab": {
   "authorship_tag": "ABX9TyOJWB9s6S9wS5YLk8la7mLZ",
   "include_colab_link": true,
   "name": "Bag_of_Words_Features_for_Text.ipynb",
   "provenance": []
  },
  "kernelspec": {
   "display_name": "Python 3",
   "language": "python",
   "name": "python3"
  },
  "language_info": {
   "codemirror_mode": {
    "name": "ipython",
    "version": 3
   },
   "file_extension": ".py",
   "mimetype": "text/x-python",
   "name": "python",
   "nbconvert_exporter": "python",
   "pygments_lexer": "ipython3",
   "version": "3.8.5"
  }
 },
 "nbformat": 4,
 "nbformat_minor": 1
}
