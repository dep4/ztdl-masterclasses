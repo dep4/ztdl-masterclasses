{
 "cells": [
  {
   "cell_type": "markdown",
   "metadata": {
    "colab_type": "text",
    "id": "view-in-github"
   },
   "source": [
    "<a href=\"https://colab.research.google.com/github/zerotodeeplearning/ztdl-masterclasses/blob/master/notebooks/Pre-trained_Models.ipynb\" target=\"_parent\"><img src=\"https://colab.research.google.com/assets/colab-badge.svg\" alt=\"Open In Colab\"/></a>"
   ]
  },
  {
   "cell_type": "markdown",
   "metadata": {
    "colab_type": "text",
    "id": "2bwH96hViwS7"
   },
   "source": [
    "## Learn with us: www.zerotodeeplearning.com\n",
    "\n",
    "Copyright © 2021: Zero to Deep Learning ® Catalit LLC."
   ]
  },
  {
   "cell_type": "code",
   "execution_count": null,
   "metadata": {
    "colab": {},
    "colab_type": "code",
    "id": "bFidPKNdkVPg"
   },
   "outputs": [],
   "source": [
    "# Licensed under the Apache License, Version 2.0 (the \"License\");\n",
    "# you may not use this file except in compliance with the License.\n",
    "# You may obtain a copy of the License at\n",
    "#\n",
    "# https://www.apache.org/licenses/LICENSE-2.0\n",
    "#\n",
    "# Unless required by applicable law or agreed to in writing, software\n",
    "# distributed under the License is distributed on an \"AS IS\" BASIS,\n",
    "# WITHOUT WARRANTIES OR CONDITIONS OF ANY KIND, either express or implied.\n",
    "# See the License for the specific language governing permissions and\n",
    "# limitations under the License."
   ]
  },
  {
   "cell_type": "markdown",
   "metadata": {
    "colab_type": "text",
    "id": "DvoukA2tkGV4"
   },
   "source": [
    "# Pre-trained Models"
   ]
  },
  {
   "cell_type": "code",
   "execution_count": null,
   "metadata": {
    "colab": {
     "base_uri": "https://localhost:8080/",
     "height": 71
    },
    "colab_type": "code",
    "id": "d85dZiUHNQsQ",
    "outputId": "6d5ae1b2-94d2-46b5-cc91-2d7f378dbe0d"
   },
   "outputs": [],
   "source": [
    "import numpy as np\n",
    "import pandas as pd\n",
    "import matplotlib.pyplot as plt\n",
    "import seaborn as sns\n",
    "import tensorflow as tf\n",
    "import os\n",
    "from tensorflow.keras.preprocessing.image import ImageDataGenerator"
   ]
  },
  {
   "cell_type": "code",
   "execution_count": null,
   "metadata": {
    "colab": {},
    "colab_type": "code",
    "id": "W9rpfDisNSs9"
   },
   "outputs": [],
   "source": [
    "# sports_images_path = tf.keras.utils.get_file(\n",
    "#     'sports_images',\n",
    "#     'https://archive.org/download/ztdl_sports_images/sports_images.tgz',\n",
    "#      untar=True)"
   ]
  },
  {
   "cell_type": "code",
   "execution_count": null,
   "metadata": {
    "colab": {
     "base_uri": "https://localhost:8080/",
     "height": 85
    },
    "colab_type": "code",
    "id": "WeovACo4OyAM",
    "outputId": "b94a4421-6933-4bc6-ef2c-d7ae0b94f9fe"
   },
   "outputs": [],
   "source": [
    "![[ ! -f sports_images.tar.gz ]] && gsutil cp gs://ztdl-datasets/sports_images.tar.gz .\n",
    "![[ ! -d sports_images ]] && echo \"Extracting images...\" && tar zxf sports_images.tar.gz\n",
    "sports_images_path  = './sports_images'"
   ]
  },
  {
   "cell_type": "code",
   "execution_count": null,
   "metadata": {
    "colab": {},
    "colab_type": "code",
    "id": "FOjyb1QXV7Vz"
   },
   "outputs": [],
   "source": [
    "train_path = os.path.join(sports_images_path, 'train')\n",
    "test_path = os.path.join(sports_images_path, 'test')"
   ]
  },
  {
   "cell_type": "code",
   "execution_count": null,
   "metadata": {
    "colab": {},
    "colab_type": "code",
    "id": "Z_pFvoKoWCG9"
   },
   "outputs": [],
   "source": [
    "batch_size = 16\n",
    "img_size = 224"
   ]
  },
  {
   "cell_type": "code",
   "execution_count": null,
   "metadata": {
    "colab": {
     "base_uri": "https://localhost:8080/",
     "height": 34
    },
    "colab_type": "code",
    "id": "Rdrw2B16Nbvk",
    "outputId": "47882729-d933-4d56-a246-3331d0d57bfd"
   },
   "outputs": [],
   "source": [
    "train_datagen = ImageDataGenerator() \\\n",
    "  .flow_from_directory(train_path, \n",
    "                       target_size = (img_size, img_size),\n",
    "                       batch_size = batch_size,\n",
    "                       class_mode = 'sparse')"
   ]
  },
  {
   "cell_type": "code",
   "execution_count": null,
   "metadata": {
    "colab": {},
    "colab_type": "code",
    "id": "cGajfv80aSAx"
   },
   "outputs": [],
   "source": [
    "try:\n",
    "  assert(train_datagen.samples == 11414)\n",
    "except:\n",
    "  raise Exception(\"Found less images than expected. Please remove the files and download again.\")"
   ]
  },
  {
   "cell_type": "code",
   "execution_count": null,
   "metadata": {
    "colab": {
     "base_uri": "https://localhost:8080/",
     "height": 357
    },
    "colab_type": "code",
    "id": "EynSA1dQYXmp",
    "outputId": "af532aa2-81a5-4c70-dc6c-c52d19fddf16"
   },
   "outputs": [],
   "source": [
    "classes_dict = train_datagen.class_indices\n",
    "classes = list(classes_dict.keys())\n",
    "classes"
   ]
  },
  {
   "cell_type": "code",
   "execution_count": null,
   "metadata": {
    "colab": {},
    "colab_type": "code",
    "id": "tIkegTC6OBXm"
   },
   "outputs": [],
   "source": [
    "batch, labels = train_datagen.next()"
   ]
  },
  {
   "cell_type": "code",
   "execution_count": null,
   "metadata": {
    "colab": {
     "base_uri": "https://localhost:8080/",
     "height": 34
    },
    "colab_type": "code",
    "id": "zLRf7hw-OVEJ",
    "outputId": "bcb1d8dc-bcc2-4761-c4b2-13c11c64f5e8"
   },
   "outputs": [],
   "source": [
    "batch.shape"
   ]
  },
  {
   "cell_type": "code",
   "execution_count": null,
   "metadata": {
    "colab": {
     "base_uri": "https://localhost:8080/",
     "height": 34
    },
    "colab_type": "code",
    "id": "kgEYuiQIOdQz",
    "outputId": "cd0f7749-167e-4396-a9b3-5a78f16949f8"
   },
   "outputs": [],
   "source": [
    "labels.shape"
   ]
  },
  {
   "cell_type": "code",
   "execution_count": null,
   "metadata": {
    "colab": {
     "base_uri": "https://localhost:8080/",
     "height": 729
    },
    "colab_type": "code",
    "id": "6DtXLmjJXv1h",
    "outputId": "79ec0a29-685c-4486-bc86-da8b76314a7d"
   },
   "outputs": [],
   "source": [
    "plt.figure(figsize=(10, 10))\n",
    "for i in range(len(batch)):\n",
    "  plt.subplot(4, 4, i+1)\n",
    "  plt.imshow(batch[i].astype('int'))\n",
    "  plt.title(classes[int(labels[i])])\n",
    "  plt.axis('off')\n",
    "\n",
    "plt.tight_layout()"
   ]
  },
  {
   "cell_type": "markdown",
   "metadata": {
    "colab_type": "text",
    "id": "747dcRNTcyd8"
   },
   "source": [
    "### Pre-trained model\n",
    "\n",
    "Let's use a Resnet50 model to classify the images without any training."
   ]
  },
  {
   "cell_type": "code",
   "execution_count": null,
   "metadata": {
    "colab": {},
    "colab_type": "code",
    "id": "vBr666G4brF2"
   },
   "outputs": [],
   "source": [
    "from PIL import Image\n",
    "from io import BytesIO\n",
    "from IPython.display import HTML\n",
    "import base64"
   ]
  },
  {
   "cell_type": "code",
   "execution_count": null,
   "metadata": {
    "colab": {},
    "colab_type": "code",
    "id": "x89Bz-YGWtDq"
   },
   "outputs": [],
   "source": [
    "from tensorflow.keras.applications.resnet50 import ResNet50\n",
    "from tensorflow.keras.applications.resnet50 import preprocess_input as preprocess_input_resnet50\n",
    "from tensorflow.keras.applications.resnet50 import decode_predictions as decode_predictions_resnet50"
   ]
  },
  {
   "cell_type": "code",
   "execution_count": null,
   "metadata": {
    "colab": {},
    "colab_type": "code",
    "id": "koJUZBJ1XoFB"
   },
   "outputs": [],
   "source": [
    "model = ResNet50(weights='imagenet')"
   ]
  },
  {
   "cell_type": "code",
   "execution_count": null,
   "metadata": {
    "colab": {},
    "colab_type": "code",
    "id": "LUJhln6OXpir"
   },
   "outputs": [],
   "source": [
    "batch_preprocessed = preprocess_input_resnet50(batch.copy())"
   ]
  },
  {
   "cell_type": "code",
   "execution_count": null,
   "metadata": {
    "colab": {},
    "colab_type": "code",
    "id": "80ZtJSA7Zrl1"
   },
   "outputs": [],
   "source": [
    "predictions = model.predict(batch_preprocessed)"
   ]
  },
  {
   "cell_type": "code",
   "execution_count": null,
   "metadata": {
    "colab": {},
    "colab_type": "code",
    "id": "sTpyKMonZsfr"
   },
   "outputs": [],
   "source": [
    "decoded_top_3 = decode_predictions_resnet50(predictions, top=3)"
   ]
  },
  {
   "cell_type": "code",
   "execution_count": null,
   "metadata": {
    "colab": {},
    "colab_type": "code",
    "id": "_ZqTpZ7of2xs"
   },
   "outputs": [],
   "source": [
    "def image_formatter(a):\n",
    "  im = Image.fromarray(a)\n",
    "  im.thumbnail((28, 28), Image.LANCZOS)\n",
    "  with BytesIO() as buffer:\n",
    "    im.save(buffer, 'jpeg')\n",
    "    im_base64 = base64.b64encode(buffer.getvalue()).decode()\n",
    "  return f'<img src=\"data:image/jpeg;base64,{im_base64}\">'"
   ]
  },
  {
   "cell_type": "code",
   "execution_count": null,
   "metadata": {
    "colab": {},
    "colab_type": "code",
    "id": "ZX-wlYoqZ7Ms"
   },
   "outputs": [],
   "source": [
    "def display_batch(batch, decoded_top_3):\n",
    "  res = []\n",
    "  for i, top3 in enumerate(decoded_top_3):\n",
    "    im = image_formatter(batch[i].astype('uint8'))\n",
    "    cl = classes[int(labels[i])]\n",
    "    line = [im, cl]\n",
    "    for item in top3:\n",
    "      line = line + list(item[1:])\n",
    "    res.append(line)\n",
    "\n",
    "\n",
    "  res_df = pd.DataFrame(res,\n",
    "                        columns=['image', 'ground_truth',\n",
    "                                'top_1', 'prob_1',\n",
    "                                'top_2', 'prob_2',\n",
    "                                'top_3', 'prob_3'])\n",
    "\n",
    "  \n",
    "  return res_df.style.bar(color='lightgreen', vmin=0, vmax=1)"
   ]
  },
  {
   "cell_type": "code",
   "execution_count": null,
   "metadata": {
    "colab": {
     "base_uri": "https://localhost:8080/",
     "height": 616
    },
    "colab_type": "code",
    "id": "YAVSXBUBfAMA",
    "outputId": "3132c787-a01f-4b12-d09a-e94e0f71798d"
   },
   "outputs": [],
   "source": [
    "display_batch(batch, decoded_top_3)"
   ]
  },
  {
   "cell_type": "markdown",
   "metadata": {
    "colab_type": "text",
    "id": "1VTTr4NxrPkX"
   },
   "source": [
    "### Exercise 1:\n",
    "\n",
    "Use a different pre-trained model from the ones provided at: https://keras.io/applications/\n",
    "\n",
    "Do the predictions match?\n",
    "\n",
    "You will need to:\n",
    "- import the pre-trained model\n",
    "- import the corresponding `preprocess_input` and `decode_predictions`\n",
    "- check the correct imput shape for your chosen model and possibly re-load a new batch with updated image size\n",
    "- pipe the batch through the predict function and display the results"
   ]
  },
  {
   "cell_type": "code",
   "execution_count": null,
   "metadata": {
    "collapsed": true
   },
   "outputs": [],
   "source": []
  }
 ],
 "metadata": {
  "accelerator": "GPU",
  "colab": {
   "authorship_tag": "ABX9TyOJWB9s6S9wS5YLk8la7mLZ",
   "include_colab_link": true,
   "name": "Pre-trained_Models.ipynb",
   "provenance": []
  },
  "kernelspec": {
   "display_name": "Python 3",
   "language": "python",
   "name": "python3"
  },
  "language_info": {
   "codemirror_mode": {
    "name": "ipython",
    "version": 3
   },
   "file_extension": ".py",
   "mimetype": "text/x-python",
   "name": "python",
   "nbconvert_exporter": "python",
   "pygments_lexer": "ipython3",
   "version": "3.7.7"
  }
 },
 "nbformat": 4,
 "nbformat_minor": 1
}
