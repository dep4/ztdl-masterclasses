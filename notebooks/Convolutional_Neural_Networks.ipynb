{
 "cells": [
  {
   "cell_type": "markdown",
   "metadata": {
    "colab_type": "text",
    "id": "view-in-github"
   },
   "source": [
    "<a href=\"https://colab.research.google.com/github/zerotodeeplearning/ztdl-masterclasses/blob/master/notebooks/Convolutional_Neural_Networks.ipynb\" target=\"_parent\"><img src=\"https://colab.research.google.com/assets/colab-badge.svg\" alt=\"Open In Colab\"/></a>"
   ]
  },
  {
   "cell_type": "markdown",
   "metadata": {
    "colab_type": "text",
    "id": "2bwH96hViwS7"
   },
   "source": [
    "## Learn with us: www.zerotodeeplearning.com\n",
    "\n",
    "Copyright © 2021: Zero to Deep Learning ® Catalit LLC."
   ]
  },
  {
   "cell_type": "code",
   "execution_count": null,
   "metadata": {
    "colab": {},
    "colab_type": "code",
    "id": "bFidPKNdkVPg"
   },
   "outputs": [],
   "source": [
    "# Licensed under the Apache License, Version 2.0 (the \"License\");\n",
    "# you may not use this file except in compliance with the License.\n",
    "# You may obtain a copy of the License at\n",
    "#\n",
    "# https://www.apache.org/licenses/LICENSE-2.0\n",
    "#\n",
    "# Unless required by applicable law or agreed to in writing, software\n",
    "# distributed under the License is distributed on an \"AS IS\" BASIS,\n",
    "# WITHOUT WARRANTIES OR CONDITIONS OF ANY KIND, either express or implied.\n",
    "# See the License for the specific language governing permissions and\n",
    "# limitations under the License."
   ]
  },
  {
   "cell_type": "markdown",
   "metadata": {
    "colab_type": "text",
    "id": "DvoukA2tkGV4"
   },
   "source": [
    "# Convolutional Neural Networks"
   ]
  },
  {
   "cell_type": "markdown",
   "metadata": {
    "colab_type": "text",
    "id": "FzmH9mCk9rRz"
   },
   "source": [
    "This notebook is best run using a GPU backend"
   ]
  },
  {
   "cell_type": "code",
   "execution_count": null,
   "metadata": {
    "colab": {
     "base_uri": "https://localhost:8080/",
     "height": 71
    },
    "colab_type": "code",
    "id": "Ht1kA7fs_zoa",
    "outputId": "944eb390-d018-4901-83ca-b3fd2783986b"
   },
   "outputs": [],
   "source": [
    "import numpy as np\n",
    "import pandas as pd\n",
    "import matplotlib.pyplot as plt\n",
    "import seaborn as sns\n",
    "import tensorflow as tf\n",
    "from tensorflow.keras.datasets import fashion_mnist\n",
    "from tensorflow.keras.models import Sequential\n",
    "from tensorflow.keras.layers import Dense, Dropout, Activation\n",
    "from tensorflow.keras.layers import Conv2D, MaxPooling2D, AveragePooling2D, Flatten"
   ]
  },
  {
   "cell_type": "code",
   "execution_count": null,
   "metadata": {
    "colab": {
     "base_uri": "https://localhost:8080/",
     "height": 153
    },
    "colab_type": "code",
    "id": "P4LmzphkJVUT",
    "outputId": "9ef5526c-fc13-43fa-a5b7-13025c29c0a5"
   },
   "outputs": [],
   "source": [
    "(X_train, y_train), (X_test, y_test) = fashion_mnist.load_data()\n",
    "\n",
    "X_train = X_train.reshape(-1, 28, 28, 1).astype('float32') / 255.0\n",
    "X_test = X_test.reshape(-1, 28, 28, 1).astype('float32') / 255.0"
   ]
  },
  {
   "cell_type": "code",
   "execution_count": null,
   "metadata": {
    "colab": {
     "base_uri": "https://localhost:8080/",
     "height": 34
    },
    "colab_type": "code",
    "id": "XPavxNEx9z7v",
    "outputId": "3a27e81f-71f2-4c31-93c4-3c236b14f91c"
   },
   "outputs": [],
   "source": [
    "X_train.shape"
   ]
  },
  {
   "cell_type": "code",
   "execution_count": null,
   "metadata": {
    "colab": {
     "base_uri": "https://localhost:8080/",
     "height": 119
    },
    "colab_type": "code",
    "id": "c6xBFIScQ1D6",
    "outputId": "b79a6875-2d8a-471e-96f5-a3f712c787be"
   },
   "outputs": [],
   "source": [
    "model = Sequential([\n",
    "    Conv2D(32, (3, 3), input_shape=(28, 28, 1), activation='relu'),\n",
    "    Flatten(),\n",
    "    Dense(10, activation='softmax')\n",
    "])\n",
    "\n",
    "model.compile(loss='sparse_categorical_crossentropy',\n",
    "              optimizer='rmsprop',\n",
    "              metrics=['accuracy'])\n",
    "\n",
    "h = model.fit(X_train, y_train, batch_size=128, epochs=3, validation_split=0.1)"
   ]
  },
  {
   "cell_type": "code",
   "execution_count": null,
   "metadata": {
    "colab": {
     "base_uri": "https://localhost:8080/",
     "height": 282
    },
    "colab_type": "code",
    "id": "mrv1w9K-Q4hX",
    "outputId": "910ee78c-67fb-4b16-df20-e290e4e754c2"
   },
   "outputs": [],
   "source": [
    "pd.DataFrame(h.history).plot()"
   ]
  },
  {
   "cell_type": "markdown",
   "metadata": {
    "colab_type": "text",
    "id": "7yuEBC8FRHIt"
   },
   "source": [
    "### Exercise 1: A better CNN\n",
    "\n",
    "The CNN we just implemented is very basic. Improve its design by adding layers before and after the `Flatten` layer. It is up to you what the model will be. Here are some things you may consider:\n",
    "\n",
    "- how many convolutional layers to use?\n",
    "- what filter size?\n",
    "- how many filters in each layer?\n",
    "- what activation function?\n",
    "- pooling? what type?\n",
    "- how many fully-connected layers after Flatten?\n",
    "- dropout or batch normalization?\n",
    "- what batch size for training?\n",
    "\n",
    "Once you've defined your new model, compile it and train it on the straining data for 5 epochs. Can you get the accuracy above 90% ?\n",
    "\n",
    "Your code should look like:\n",
    "\n",
    "```python\n",
    "model = Sequential([\n",
    "\n",
    "  # YOUR CODE HERE\n",
    "  # ...\n",
    "])\n",
    "\n",
    "model.compile(# YOUR CODE HERE)\n",
    "\n",
    "\n",
    "model.fit(# YOUR CODE HERE)\n",
    "```"
   ]
  },
  {
   "cell_type": "code",
   "execution_count": null,
   "metadata": {
    "collapsed": true
   },
   "outputs": [],
   "source": []
  },
  {
   "cell_type": "markdown",
   "metadata": {
    "colab_type": "text",
    "id": "MxKCdPmK9VVl"
   },
   "source": [
    "### Exercise 2: Modularize the network\n",
    "\n",
    "You may have noticed that, as a network becomes deeper, some parts can be naturally grouped to be considered small sub-networks or modules within the larger architecture. Can we leverage this fact and build a network made of modules?\n",
    "\n",
    "Define 2 functions to achieve that.\n",
    "\n",
    "#### Function 1\n",
    "The first function should return a block with the following components:\n",
    "- Conv2D with variable number of filters and `'same'` padding.\n",
    "- Conv2D with variable number of filters\n",
    "- Optional BatchNormalization\n",
    "- MaxPooling2D\n",
    "- Dropout\n",
    "\n",
    "Use the functional API to do this, and write a function with the following signature:\n",
    "```python\n",
    "def cnn_block(inputs, n_filters, activation, dropout, bn):\n",
    "  x = ....(inputs)\n",
    "  ....\n",
    "  return x\n",
    "```\n",
    "\n",
    "#### Function 2\n",
    "The second function should return a compiled model, it should use the first function to include CNN blocks and it should have the following signature:\n",
    "\n",
    "```python\n",
    "def convolutional_model(n_blocks=2):\n",
    "  inputs = Input(shape=(28, 28, 1))\n",
    "  x = inputs\n",
    "\n",
    "  for i in range(n_blocks):\n",
    "    x = cnn_block(x, 32, 'relu', 0.4, True)\n",
    "  \n",
    "  # YOUR CODE HERE\n",
    "  # ..\n",
    "\n",
    "  outputs = Dense(10)(x)\n",
    "\n",
    "  model = Model(# YOUR CODE HERE)\n",
    "\n",
    "  model.compile(\n",
    "     # YOUR CODE HERE\n",
    "  )\n",
    "  return model\n",
    "```\n",
    "\n",
    "Test your functions by creating a model and training it for 1 epoch"
   ]
  },
  {
   "cell_type": "code",
   "execution_count": null,
   "metadata": {
    "colab": {},
    "colab_type": "code",
    "id": "urC2h_2K_EQa"
   },
   "outputs": [],
   "source": [
    "from tensorflow.keras.layers import Input, BatchNormalization\n",
    "from tensorflow.keras.models import Model\n",
    "from tensorflow.keras.losses import SparseCategoricalCrossentropy\n",
    "from tensorflow.keras.optimizers import SGD, Adam, RMSprop, Adamax"
   ]
  },
  {
   "cell_type": "code",
   "execution_count": null,
   "metadata": {
    "collapsed": true
   },
   "outputs": [],
   "source": []
  },
  {
   "cell_type": "markdown",
   "metadata": {
    "colab_type": "text",
    "id": "msk1DBq4WUvK"
   },
   "source": [
    "### Exercise 3: Hyperparameter search with Tensorboard\n",
    "\n",
    "Extend your search for the best model using what you've learned in the Hyperparameter tuning class.\n",
    "\n",
    "Take the `convolutional_model` function from the previous exercise and modify it to accept hyperparameters.\n",
    "\n",
    "You could define a dictionary to hold your ranges:\n",
    "\n",
    "```python\n",
    "hp_ranges = {\n",
    "    'n_blocks': # YOUR CODE HERE\n",
    "    'n_conv_filters_1': # YOUR CODE HERE\n",
    "    # YOUR CODE HERE\n",
    "    # ...\n",
    "}\n",
    "```\n",
    "\n",
    "and then change the signature of your function to look like this:\n",
    "\n",
    "```python\n",
    "def convolutional_model(hparams):\n",
    "  inputs = Input(shape=(28, 28, 1))\n",
    "  x = inputs\n",
    "  \n",
    "  for i in range(hparams['n_blocks']):\n",
    "    x = cnn_block(x,\n",
    "                  hparams[f'n_conv_filters_{i+1}'],\n",
    "                  ...\n",
    "  # YOUR CODE HERE\n",
    "  # ...\n",
    "```\n",
    "\n",
    "Finally, sample the parameter space and see if you can identify important and unimportant parameters for this particular dataset. The `train_test_model` and search loop are provided for you."
   ]
  },
  {
   "cell_type": "code",
   "execution_count": null,
   "metadata": {
    "colab": {},
    "colab_type": "code",
    "id": "WBde3RNFVvXo"
   },
   "outputs": [],
   "source": [
    "from tensorflow.keras.callbacks import TensorBoard\n",
    "from tensorboard.plugins.hparams import api as hp\n",
    "from sklearn.model_selection import ParameterGrid, ParameterSampler\n",
    "from scipy.stats.distributions import expon, uniform, randint"
   ]
  },
  {
   "cell_type": "code",
   "execution_count": null,
   "metadata": {
    "colab": {},
    "colab_type": "code",
    "id": "xsA6fcHYYAyn"
   },
   "outputs": [],
   "source": [
    "logdir = 'logs/hparam_tuning/'"
   ]
  },
  {
   "cell_type": "code",
   "execution_count": null,
   "metadata": {},
   "outputs": [],
   "source": [
    "# YOUR CODE HERE"
   ]
  },
  {
   "cell_type": "code",
   "execution_count": null,
   "metadata": {},
   "outputs": [],
   "source": [
    "def train_test_model(hparams, run):\n",
    "\n",
    "  model = convolutional_model(hparams)\n",
    "\n",
    "  model.fit(X_train, y_train, epochs=5,\n",
    "            verbose=2,\n",
    "            batch_size=hparams['batch_size'],\n",
    "            validation_split=0.1,\n",
    "            callbacks=[TensorBoard(logdir + run_name)]\n",
    "            )\n",
    "  \n",
    "  model.fit(X_train, y_train, epochs=1,\n",
    "            verbose=2,\n",
    "            batch_size=hparams['batch_size'],\n",
    "            validation_split=0.1,\n",
    "            callbacks=[hp.KerasCallback(logdir+run, hparams)]\n",
    "            )"
   ]
  },
  {
   "cell_type": "code",
   "execution_count": null,
   "metadata": {
    "colab": {
     "base_uri": "https://localhost:8080/",
     "height": 700
    },
    "colab_type": "code",
    "id": "VgNO8G48XxgM",
    "outputId": "f28f17ec-29e0-4467-e571-72f12322f42a"
   },
   "outputs": [],
   "source": [
    "session_num = 0\n",
    "\n",
    "for hparams in ParameterSampler(hp_ranges, n_iter=50, random_state=0):\n",
    "  print(hparams)\n",
    "  run_name = \"run-%d\" % session_num\n",
    "  print('--- Starting trial: %s' % run_name)\n",
    "  train_test_model(hparams, run_name)\n",
    "  session_num += 1"
   ]
  },
  {
   "cell_type": "code",
   "execution_count": null,
   "metadata": {
    "colab": {},
    "colab_type": "code",
    "id": "2V51wxjdkRKA"
   },
   "outputs": [],
   "source": [
    "%load_ext tensorboard"
   ]
  },
  {
   "cell_type": "code",
   "execution_count": null,
   "metadata": {},
   "outputs": [],
   "source": [
    "%tensorboard --logdir logs"
   ]
  },
  {
   "cell_type": "code",
   "execution_count": null,
   "metadata": {
    "collapsed": true
   },
   "outputs": [],
   "source": []
  }
 ],
 "metadata": {
  "accelerator": "GPU",
  "colab": {
   "authorship_tag": "ABX9TyOJWB9s6S9wS5YLk8la7mLZ",
   "include_colab_link": true,
   "name": "Convolutional_Neural_Networks.ipynb",
   "provenance": []
  },
  "kernelspec": {
   "display_name": "Python 3",
   "language": "python",
   "name": "python3"
  },
  "language_info": {
   "codemirror_mode": {
    "name": "ipython",
    "version": 3
   },
   "file_extension": ".py",
   "mimetype": "text/x-python",
   "name": "python",
   "nbconvert_exporter": "python",
   "pygments_lexer": "ipython3",
   "version": "3.7.7"
  }
 },
 "nbformat": 4,
 "nbformat_minor": 1
}
