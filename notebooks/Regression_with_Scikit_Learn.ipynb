{
 "cells": [
  {
   "cell_type": "markdown",
   "metadata": {
    "colab_type": "text",
    "id": "view-in-github"
   },
   "source": [
    "<a href=\"https://colab.research.google.com/github/zerotodeeplearning/ztdl-masterclasses/blob/master/notebooks/Regression_with_Scikit_Learn.ipynb\" target=\"_parent\"><img src=\"https://colab.research.google.com/assets/colab-badge.svg\" alt=\"Open In Colab\"/></a>"
   ]
  },
  {
   "cell_type": "markdown",
   "metadata": {
    "colab_type": "text",
    "id": "2bwH96hViwS7"
   },
   "source": [
    "#### Copyright 2020 Catalit LLC."
   ]
  },
  {
   "cell_type": "code",
   "execution_count": null,
   "metadata": {
    "colab": {},
    "colab_type": "code",
    "id": "bFidPKNdkVPg"
   },
   "outputs": [],
   "source": [
    "# Licensed under the Apache License, Version 2.0 (the \"License\");\n",
    "# you may not use this file except in compliance with the License.\n",
    "# You may obtain a copy of the License at\n",
    "#\n",
    "# https://www.apache.org/licenses/LICENSE-2.0\n",
    "#\n",
    "# Unless required by applicable law or agreed to in writing, software\n",
    "# distributed under the License is distributed on an \"AS IS\" BASIS,\n",
    "# WITHOUT WARRANTIES OR CONDITIONS OF ANY KIND, either express or implied.\n",
    "# See the License for the specific language governing permissions and\n",
    "# limitations under the License."
   ]
  },
  {
   "cell_type": "markdown",
   "metadata": {
    "colab_type": "text",
    "id": "Kp9gijfO4FhR"
   },
   "source": [
    "Documentation links:\n",
    "\n",
    "- [Google Colab](https://colab.research.google.com/notebooks/intro.ipynb)\n",
    "- [Numpy](https://docs.scipy.org/doc/)\n",
    "- [Pandas](https://pandas.pydata.org/docs/getting_started/index.html)\n",
    "- [Pandas Cheatsheet](https://pandas.pydata.org/Pandas_Cheat_Sheet.pdf)\n",
    "- [Matplotlib](https://matplotlib.org/)\n",
    "- [Matplotlib Cheat Sheet](https://s3.amazonaws.com/assets.datacamp.com/blog_assets/Python_Matplotlib_Cheat_Sheet.pdf)\n",
    "- [Seaborn](https://seaborn.pydata.org/)\n",
    "- [Scikit-learn](https://scikit-learn.org/stable/user_guide.html)\n",
    "- [Scikit-learn Cheat Sheet](https://s3.amazonaws.com/assets.datacamp.com/blog_assets/Scikit_Learn_Cheat_Sheet_Python.pdf)\n",
    "- [Scikit-learn Flow Chart](https://scikit-learn.org/stable/tutorial/machine_learning_map/index.html)"
   ]
  },
  {
   "cell_type": "markdown",
   "metadata": {
    "colab_type": "text",
    "id": "r8oZpjCNotv3"
   },
   "source": [
    "# Regression with Scikit Learn"
   ]
  },
  {
   "cell_type": "code",
   "execution_count": null,
   "metadata": {
    "colab": {
     "base_uri": "https://localhost:8080/",
     "height": 71
    },
    "colab_type": "code",
    "id": "3_MOM9fSox1A",
    "outputId": "a87bb77b-94d4-47b8-e76c-7d1d5a9c467f"
   },
   "outputs": [],
   "source": [
    "import numpy as np\n",
    "import pandas as pd\n",
    "import matplotlib.pyplot as plt\n",
    "import seaborn as sns"
   ]
  },
  {
   "cell_type": "code",
   "execution_count": null,
   "metadata": {
    "colab": {},
    "colab_type": "code",
    "id": "4CkSVJzvo1db"
   },
   "outputs": [],
   "source": [
    "url = \"https://raw.githubusercontent.com/zerotodeeplearning/ztdl-masterclasses/master/data/\""
   ]
  },
  {
   "cell_type": "markdown",
   "metadata": {
    "colab_type": "text",
    "id": "ykht-Pr4o2u3"
   },
   "source": [
    "## Regression"
   ]
  },
  {
   "cell_type": "code",
   "execution_count": null,
   "metadata": {
    "colab": {},
    "colab_type": "code",
    "id": "ePS1wpKeo4bq"
   },
   "outputs": [],
   "source": [
    "df = pd.read_csv(url + 'weight-height.csv')"
   ]
  },
  {
   "cell_type": "code",
   "execution_count": null,
   "metadata": {
    "colab": {
     "base_uri": "https://localhost:8080/",
     "height": 204
    },
    "colab_type": "code",
    "id": "eFsEtJ0uo5Wk",
    "outputId": "7a598415-81d8-4394-baee-b66342ede2ca"
   },
   "outputs": [],
   "source": [
    "df.head()"
   ]
  },
  {
   "cell_type": "code",
   "execution_count": null,
   "metadata": {
    "colab": {
     "base_uri": "https://localhost:8080/",
     "height": 279
    },
    "colab_type": "code",
    "id": "nY3ePCduo6Od",
    "outputId": "586d0e0f-1c7d-4877-8564-a5bcab10633a"
   },
   "outputs": [],
   "source": [
    "sns.scatterplot(data=df,\n",
    "                x='Height',\n",
    "                y='Weight');"
   ]
  },
  {
   "cell_type": "code",
   "execution_count": null,
   "metadata": {
    "colab": {},
    "colab_type": "code",
    "id": "Gjoi8T31pGBW"
   },
   "outputs": [],
   "source": [
    "from sklearn.linear_model import LinearRegression\n",
    "from sklearn.model_selection import train_test_split"
   ]
  },
  {
   "cell_type": "code",
   "execution_count": null,
   "metadata": {
    "colab": {},
    "colab_type": "code",
    "id": "QE0OqmoSpKir"
   },
   "outputs": [],
   "source": [
    "X = df[['Height']].values\n",
    "y = df['Weight'].values"
   ]
  },
  {
   "cell_type": "code",
   "execution_count": null,
   "metadata": {
    "colab": {},
    "colab_type": "code",
    "id": "ZlRQZdY3pHsT"
   },
   "outputs": [],
   "source": [
    "X_train, X_test, y_train, y_test = train_test_split(\n",
    "    X, y, test_size=0.2, random_state=0)"
   ]
  },
  {
   "cell_type": "code",
   "execution_count": null,
   "metadata": {
    "colab": {},
    "colab_type": "code",
    "id": "R0VAILn4pLNW"
   },
   "outputs": [],
   "source": [
    "model = LinearRegression()"
   ]
  },
  {
   "cell_type": "code",
   "execution_count": null,
   "metadata": {
    "colab": {
     "base_uri": "https://localhost:8080/",
     "height": 34
    },
    "colab_type": "code",
    "id": "QLZ5tJHRpNXj",
    "outputId": "708737a7-00a1-4f7b-a091-60b43daf8216"
   },
   "outputs": [],
   "source": [
    "model.fit(X_train, y_train)"
   ]
  },
  {
   "cell_type": "code",
   "execution_count": null,
   "metadata": {
    "colab": {
     "base_uri": "https://localhost:8080/",
     "height": 34
    },
    "colab_type": "code",
    "id": "JO0dGYpJpNs7",
    "outputId": "c94dec5a-8a00-4af6-af70-655ac101b923"
   },
   "outputs": [],
   "source": [
    "model.score(X_train, y_train)"
   ]
  },
  {
   "cell_type": "code",
   "execution_count": null,
   "metadata": {
    "colab": {
     "base_uri": "https://localhost:8080/",
     "height": 34
    },
    "colab_type": "code",
    "id": "JCb0w9QepO4K",
    "outputId": "c34081cf-ad93-4838-95da-b426c550c2aa"
   },
   "outputs": [],
   "source": [
    "model.score(X_test, y_test)"
   ]
  },
  {
   "cell_type": "code",
   "execution_count": null,
   "metadata": {
    "colab": {},
    "colab_type": "code",
    "id": "FFtByWtDpPwx"
   },
   "outputs": [],
   "source": [
    "y_pred_test = model.predict(X_test)"
   ]
  },
  {
   "cell_type": "markdown",
   "metadata": {
    "colab_type": "text",
    "id": "-fsQT9Fip4gK"
   },
   "source": [
    "## Plot the line of best fit"
   ]
  },
  {
   "cell_type": "code",
   "execution_count": null,
   "metadata": {
    "colab": {
     "base_uri": "https://localhost:8080/",
     "height": 295
    },
    "colab_type": "code",
    "id": "hSNaUy5gp4Bq",
    "outputId": "cb7a3ffd-834a-4507-d2fc-e5a5e2461fe1"
   },
   "outputs": [],
   "source": [
    "plt.scatter(X_test, y_test)\n",
    "plt.plot(X_test, y_pred_test, color='red')\n",
    "plt.title(\"Model coef: {:0.3f}, Intercept: {:0.2f}\".format(model.coef_[0], model.intercept_))\n",
    "plt.xlabel(\"Height\")\n",
    "plt.ylabel(\"Weight\");"
   ]
  },
  {
   "cell_type": "markdown",
   "metadata": {
    "colab_type": "text",
    "id": "yqkYlyvts9J7"
   },
   "source": [
    "### Compare true and predicted values ($y$ vs $\\hat{y}$)"
   ]
  },
  {
   "cell_type": "code",
   "execution_count": null,
   "metadata": {
    "colab": {
     "base_uri": "https://localhost:8080/",
     "height": 296
    },
    "colab_type": "code",
    "id": "4ssSFg4spacj",
    "outputId": "09965b29-c32e-45ec-c770-106c36691c24"
   },
   "outputs": [],
   "source": [
    "plt.scatter(y_test, y_pred_test)\n",
    "plt.xlabel(\"True Values\")\n",
    "plt.ylabel(\"Predicted Values\")\n",
    "\n",
    "m = y_test.min()\n",
    "M = y_test.max()\n",
    "\n",
    "plt.plot((m, M), (m, M), color='red');"
   ]
  },
  {
   "cell_type": "markdown",
   "metadata": {
    "colab_type": "text",
    "id": "mE5l6e_Bpf4d"
   },
   "source": [
    "### Exercise 1: multiple features\n",
    "\n",
    "More features: `sqft`, `bdrms`, `age`, `price`\n",
    "\n",
    "- load the dataset `housing-data.csv`\n",
    "- visualize the data using `sns.pairplot`\n",
    "- add more columns in the feature definition `X = ...`\n",
    "- train and evaluate a Linear regression model to predict `price`\n",
    "- compare predictions with actual values\n",
    "- is your score good?\n",
    "- change the `random_state` in the train/test split function. Does the score stay stable?"
   ]
  },
  {
   "cell_type": "code",
   "execution_count": null,
   "metadata": {
    "collapsed": true
   },
   "outputs": [],
   "source": []
  },
  {
   "cell_type": "markdown",
   "metadata": {
    "colab_type": "text",
    "id": "4jca_bjV6oym"
   },
   "source": [
    "### Exercise 2\n",
    "\n",
    "- Encapsulate the split/train/evaluate steps into a single function with signature:\n",
    "\n",
    "```python\n",
    "def train_eval(random_state=0):\n",
    "  # YOUR CODE HERE\n",
    "\n",
    "  return train_score, test_score\n",
    "```\n",
    "- Compare the performance of the model for several random states\n",
    "\n",
    "- Bonus points if you plot a histogram of train and test scores"
   ]
  },
  {
   "cell_type": "code",
   "execution_count": null,
   "metadata": {
    "colab": {},
    "colab_type": "code",
    "id": "UB7pAmcz8YHz"
   },
   "outputs": [],
   "source": [
    "from sklearn.metrics import r2_score"
   ]
  },
  {
   "cell_type": "code",
   "execution_count": null,
   "metadata": {
    "collapsed": true
   },
   "outputs": [],
   "source": []
  },
  {
   "cell_type": "markdown",
   "metadata": {
    "colab_type": "text",
    "id": "ItFIiByt9Yuf"
   },
   "source": [
    "### Exercise 3:\n",
    "\n",
    "Let's see how easy it is to test different models on a larger dataset.\n",
    "\n",
    "Here we load the California Housing dataset from Scikit Learn. Your goal is to define a function that:\n",
    "- trains a model\n",
    "- plots `y_pred` vs `y_true`\n",
    "\n",
    "You can skip doing train/test split for this exercise.\n",
    "\n",
    "Then compare the performance of the models given below:\n",
    "- `sklearn.linear_model.LinearRegression`\n",
    "- `sklearn.ensembleGradient.BoostingRegressor`\n",
    "- `sklearn.ensembleRandom.ForestRegressor`\n",
    "- `sklearn.linear_model.Ridge`\n",
    "- `sklearn.linear_model.Lasso`\n",
    "\n",
    "Function signature:\n",
    "\n",
    "```python\n",
    "def train_eval_plot(model):\n",
    "  # YOUR CODE HERE\n",
    "\n",
    "```"
   ]
  },
  {
   "cell_type": "code",
   "execution_count": null,
   "metadata": {
    "colab": {},
    "colab_type": "code",
    "id": "uLURkZ5FBpeL"
   },
   "outputs": [],
   "source": [
    "from sklearn.datasets import load_boston, fetch_california_housing\n",
    "from sklearn.ensemble import GradientBoostingRegressor\n",
    "from sklearn.ensemble import RandomForestRegressor\n",
    "from sklearn.linear_model import Ridge, Lasso"
   ]
  },
  {
   "cell_type": "code",
   "execution_count": null,
   "metadata": {
    "colab": {
     "base_uri": "https://localhost:8080/",
     "height": 204
    },
    "colab_type": "code",
    "id": "XOhQ98q5B1wv",
    "outputId": "d9f44524-5b1f-43d9-b936-576156b48ce8"
   },
   "outputs": [],
   "source": [
    "dataset = fetch_california_housing()\n",
    "y = dataset.target\n",
    "\n",
    "Xdf = pd.DataFrame(dataset.data, columns=dataset.feature_names)\n",
    "X = Xdf.values\n",
    "\n",
    "Xdf.head()"
   ]
  },
  {
   "cell_type": "code",
   "execution_count": null,
   "metadata": {
    "colab": {
     "base_uri": "https://localhost:8080/",
     "height": 714
    },
    "colab_type": "code",
    "id": "kiXHqZizB7Rh",
    "outputId": "eee90541-2fda-4f10-998e-359113dde54a"
   },
   "outputs": [],
   "source": [
    "print(dataset.DESCR)"
   ]
  },
  {
   "cell_type": "code",
   "execution_count": null,
   "metadata": {
    "collapsed": true
   },
   "outputs": [],
   "source": []
  }
 ],
 "metadata": {
  "colab": {
   "authorship_tag": "ABX9TyOJWB9s6S9wS5YLk8la7mLZ",
   "include_colab_link": true,
   "name": "Regression_with_Scikit_Learn.ipynb",
   "provenance": []
  },
  "kernelspec": {
   "display_name": "Python 3",
   "language": "python",
   "name": "python3"
  },
  "language_info": {
   "codemirror_mode": {
    "name": "ipython",
    "version": 3
   },
   "file_extension": ".py",
   "mimetype": "text/x-python",
   "name": "python",
   "nbconvert_exporter": "python",
   "pygments_lexer": "ipython3",
   "version": "3.7.6"
  }
 },
 "nbformat": 4,
 "nbformat_minor": 1
}
