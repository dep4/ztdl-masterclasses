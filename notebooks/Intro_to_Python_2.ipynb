{
 "cells": [
  {
   "cell_type": "markdown",
   "metadata": {
    "colab_type": "text",
    "id": "view-in-github"
   },
   "source": [
    "<a href=\"https://colab.research.google.com/github/zerotodeeplearning/ztdl-masterclasses/blob/master/notebooks/Intro_to_Python_2.ipynb\" target=\"_parent\"><img src=\"https://colab.research.google.com/assets/colab-badge.svg\" alt=\"Open In Colab\"/></a>"
   ]
  },
  {
   "cell_type": "markdown",
   "metadata": {
    "colab_type": "text",
    "id": "2bwH96hViwS7"
   },
   "source": [
    "## Learn with us: www.zerotodeeplearning.com\n",
    "\n",
    "Copyright © 2021: Zero to Deep Learning ® Catalit LLC."
   ]
  },
  {
   "cell_type": "code",
   "execution_count": null,
   "metadata": {
    "colab": {},
    "colab_type": "code",
    "id": "bFidPKNdkVPg"
   },
   "outputs": [],
   "source": [
    "# Licensed under the Apache License, Version 2.0 (the \"License\");\n",
    "# you may not use this file except in compliance with the License.\n",
    "# You may obtain a copy of the License at\n",
    "#\n",
    "# https://www.apache.org/licenses/LICENSE-2.0\n",
    "#\n",
    "# Unless required by applicable law or agreed to in writing, software\n",
    "# distributed under the License is distributed on an \"AS IS\" BASIS,\n",
    "# WITHOUT WARRANTIES OR CONDITIONS OF ANY KIND, either express or implied.\n",
    "# See the License for the specific language governing permissions and\n",
    "# limitations under the License."
   ]
  },
  {
   "cell_type": "markdown",
   "id": "c008e499",
   "metadata": {},
   "source": [
    "# Introduction to Python 2"
   ]
  },
  {
   "cell_type": "markdown",
   "id": "7bcef76f",
   "metadata": {},
   "source": [
    "## Functions"
   ]
  },
  {
   "cell_type": "code",
   "execution_count": null,
   "id": "da6ed0a1",
   "metadata": {},
   "outputs": [],
   "source": [
    "def square(x):\n",
    "  return x**2"
   ]
  },
  {
   "cell_type": "code",
   "execution_count": null,
   "id": "082cd599",
   "metadata": {},
   "outputs": [],
   "source": [
    "square(2)"
   ]
  },
  {
   "cell_type": "code",
   "execution_count": null,
   "id": "14e103d1",
   "metadata": {},
   "outputs": [],
   "source": [
    "square(3.2)"
   ]
  },
  {
   "cell_type": "code",
   "execution_count": null,
   "id": "07666856",
   "metadata": {},
   "outputs": [],
   "source": [
    "def power(x, n=2):\n",
    "  return x**n"
   ]
  },
  {
   "cell_type": "code",
   "execution_count": null,
   "id": "b1cb5ab2",
   "metadata": {},
   "outputs": [],
   "source": [
    "power(4)"
   ]
  },
  {
   "cell_type": "code",
   "execution_count": null,
   "id": "a29db87b",
   "metadata": {},
   "outputs": [],
   "source": [
    "power(4, 3)"
   ]
  },
  {
   "cell_type": "code",
   "execution_count": null,
   "id": "c38a95a1",
   "metadata": {},
   "outputs": [],
   "source": [
    "power(4, 1.5)"
   ]
  },
  {
   "cell_type": "code",
   "execution_count": null,
   "id": "f7d7948a",
   "metadata": {},
   "outputs": [],
   "source": [
    "power?"
   ]
  },
  {
   "cell_type": "code",
   "execution_count": null,
   "id": "3a80d29d",
   "metadata": {},
   "outputs": [],
   "source": [
    "def power_with_doc(x, n=2):\n",
    "  \"\"\"\n",
    "  Elevates x to the power n\n",
    "  \n",
    "  Parameters\n",
    "  ----------\n",
    "  x : input number\n",
    "  n : exponent (default 2)\n",
    "  \n",
    "  Returns\n",
    "  -------\n",
    "  y : x**n\n",
    "  \"\"\"\n",
    "  return x**n"
   ]
  },
  {
   "cell_type": "code",
   "execution_count": null,
   "id": "a73c34b4",
   "metadata": {},
   "outputs": [],
   "source": [
    "power_with_doc?"
   ]
  },
  {
   "cell_type": "code",
   "execution_count": null,
   "id": "a2cf2b45",
   "metadata": {},
   "outputs": [],
   "source": [
    "def power_with_doc_and_variable_annotation(x: float, n: float =2) -> float:\n",
    "  \"\"\"\n",
    "  Elevates x to the power n\n",
    "  \n",
    "  Parameters\n",
    "  ----------\n",
    "  x : float, input number\n",
    "  n : float, exponent (default 2)\n",
    "  \n",
    "  Returns\n",
    "  -------\n",
    "  y : x**n\n",
    "  \"\"\"\n",
    "  return x**n"
   ]
  },
  {
   "cell_type": "markdown",
   "id": "89abc32b",
   "metadata": {},
   "source": [
    "## Exercise 1"
   ]
  },
  {
   "cell_type": "markdown",
   "id": "cf2928c6",
   "metadata": {},
   "source": [
    "Write the following functions:\n",
    "- A function `cube` that calculates the cube of a number.\n",
    "- A function `truncate` that takes a string and returns the first n characters, where n is s keyword argument of the function. If the input string is shorter than n, the function should pad the result with `#` so that the returned string always has a length of 10 characters.\n",
    "- A function `set_intersection` that takes 2 sets as input and it returns the subset of elements present in both sets\n",
    "\n",
    "Bonus points: Write some test cases to verify that your functions work correctly"
   ]
  },
  {
   "cell_type": "code",
   "execution_count": null,
   "metadata": {
    "collapsed": true
   },
   "outputs": [],
   "source": []
  },
  {
   "cell_type": "markdown",
   "id": "e89a2288",
   "metadata": {},
   "source": [
    "## Classes"
   ]
  },
  {
   "cell_type": "code",
   "execution_count": null,
   "id": "4fee1b19",
   "metadata": {},
   "outputs": [],
   "source": [
    "class Person:\n",
    "  \n",
    "  def __init__(self, name, age=0):\n",
    "    self.name = name\n",
    "    self.age = age\n",
    "    self.relations = {}\n",
    "    \n",
    "  def birthday(self):\n",
    "    self.age = self.age + 1\n",
    "  \n",
    "  def marry(self, spouse):\n",
    "    self.relations['spouse'] = spouse\n",
    "    spouse.relations['spouse'] = self\n",
    "  \n",
    "  def have_baby(self, baby_name):\n",
    "    baby = Person(baby_name)\n",
    "    if 'babies' in self.relations.keys():\n",
    "      self.relations['babies'].append(baby)\n",
    "    else:\n",
    "      self.relations['babies'] = [baby]\n",
    "  \n",
    "  def __repr__(self):\n",
    "    return f\"{self.name}, {self.age} years old, with relations to {self.relations}\"\n"
   ]
  },
  {
   "cell_type": "code",
   "execution_count": null,
   "id": "f5b48797",
   "metadata": {},
   "outputs": [],
   "source": [
    "john = Person('John', 31)"
   ]
  },
  {
   "cell_type": "code",
   "execution_count": null,
   "id": "ea95f685",
   "metadata": {},
   "outputs": [],
   "source": [
    "john"
   ]
  },
  {
   "cell_type": "code",
   "execution_count": null,
   "id": "160f16c1",
   "metadata": {},
   "outputs": [],
   "source": [
    "john.birthday()"
   ]
  },
  {
   "cell_type": "code",
   "execution_count": null,
   "id": "71f0964d",
   "metadata": {},
   "outputs": [],
   "source": [
    "john"
   ]
  },
  {
   "cell_type": "code",
   "execution_count": null,
   "id": "67d2ac42",
   "metadata": {},
   "outputs": [],
   "source": [
    "jane = Person('Jane', 30)"
   ]
  },
  {
   "cell_type": "code",
   "execution_count": null,
   "id": "0a36dd3f",
   "metadata": {},
   "outputs": [],
   "source": [
    "jane"
   ]
  },
  {
   "cell_type": "code",
   "execution_count": null,
   "id": "1c1dc71e",
   "metadata": {},
   "outputs": [],
   "source": [
    "john.marry(jane)"
   ]
  },
  {
   "cell_type": "code",
   "execution_count": null,
   "id": "7ed9f607",
   "metadata": {},
   "outputs": [],
   "source": [
    "john"
   ]
  },
  {
   "cell_type": "code",
   "execution_count": null,
   "id": "af153d26",
   "metadata": {},
   "outputs": [],
   "source": [
    "jane"
   ]
  },
  {
   "cell_type": "code",
   "execution_count": null,
   "id": "61984838",
   "metadata": {},
   "outputs": [],
   "source": [
    "john.have_baby('jim')"
   ]
  },
  {
   "cell_type": "code",
   "execution_count": null,
   "id": "b95ef1b5",
   "metadata": {},
   "outputs": [],
   "source": [
    "john"
   ]
  },
  {
   "cell_type": "code",
   "execution_count": null,
   "id": "e559dcbb",
   "metadata": {},
   "outputs": [],
   "source": [
    "john.have_baby('Kat')"
   ]
  },
  {
   "cell_type": "code",
   "execution_count": null,
   "id": "eaed070b",
   "metadata": {},
   "outputs": [],
   "source": [
    "john"
   ]
  },
  {
   "cell_type": "markdown",
   "id": "471022ed",
   "metadata": {},
   "source": [
    "## Exercise 2"
   ]
  },
  {
   "cell_type": "markdown",
   "id": "cabb31f5",
   "metadata": {},
   "source": [
    "Write 2 classes:\n",
    "\n",
    "- write a class named `Sample`:\n",
    "    - attributes:\n",
    "        - sample_id: int\n",
    "        - content: string\n",
    "        - in_freezer: bool\n",
    "        - volume: float (default 0)\n",
    "    - methods:\n",
    "        - `freeze`: switches `in_freezer` to True\n",
    "        - `thaw`: switches `in_freezer` to False\n",
    "        - `add(volume)`: add volume to the current value of volume\n",
    "        - `collect()`: retuns the current value of volume\n",
    "        - `__repr__()`: returns a string with the id, content, in_freezer and volume\n",
    "\n",
    "\n",
    "\n",
    "- write a class named `Experiment`:\n",
    "    - attributes:\n",
    "        - experiment_id: int\n",
    "        - date: str or datetime\n",
    "        - samples: list of Samples (default to empty)\n",
    "        - volume: the total volume in the experiment (default to zero)\n",
    "    \n",
    "    - methods:\n",
    "        - `add_sample`: append a sample to the list\n",
    "        - `run`: iterates over the list of samples, thaws each of them and adds the amount to the total volume\n",
    "        - `__repr__()`: returns a string with the id, date, samples and total volume"
   ]
  },
  {
   "cell_type": "code",
   "execution_count": null,
   "metadata": {
    "collapsed": true
   },
   "outputs": [],
   "source": []
  }
 ],
 "metadata": {
  "colab": {
   "authorship_tag": "ABX9TyOJWB9s6S9wS5YLk8la7mLZ",
   "include_colab_link": true,
   "name": "Intro_to_Python_2.ipynb",
   "provenance": []
  },
  "kernelspec": {
   "display_name": "Python 3 (ipykernel)",
   "language": "python",
   "name": "python3"
  },
  "language_info": {
   "codemirror_mode": {
    "name": "ipython",
    "version": 3
   },
   "file_extension": ".py",
   "mimetype": "text/x-python",
   "name": "python",
   "nbconvert_exporter": "python",
   "pygments_lexer": "ipython3",
   "version": "3.9.12"
  }
 },
 "nbformat": 4,
 "nbformat_minor": 1
}
