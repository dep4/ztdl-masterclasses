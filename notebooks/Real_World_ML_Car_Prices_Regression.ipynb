{
 "cells": [
  {
   "cell_type": "markdown",
   "metadata": {
    "colab_type": "text",
    "id": "view-in-github"
   },
   "source": [
    "<a href=\"https://colab.research.google.com/github/zerotodeeplearning/ztdl-masterclasses/blob/master/notebooks/Real_World_ML_Car_Prices_Regression.ipynb\" target=\"_parent\"><img src=\"https://colab.research.google.com/assets/colab-badge.svg\" alt=\"Open In Colab\"/></a>"
   ]
  },
  {
   "cell_type": "markdown",
   "metadata": {
    "colab_type": "text",
    "id": "2bwH96hViwS7"
   },
   "source": [
    "## Learn with us: www.zerotodeeplearning.com\n",
    "\n",
    "Copyright © 2021: Zero to Deep Learning ® Catalit LLC."
   ]
  },
  {
   "cell_type": "code",
   "execution_count": null,
   "metadata": {
    "colab": {},
    "colab_type": "code",
    "id": "bFidPKNdkVPg"
   },
   "outputs": [],
   "source": [
    "# Licensed under the Apache License, Version 2.0 (the \"License\");\n",
    "# you may not use this file except in compliance with the License.\n",
    "# You may obtain a copy of the License at\n",
    "#\n",
    "# https://www.apache.org/licenses/LICENSE-2.0\n",
    "#\n",
    "# Unless required by applicable law or agreed to in writing, software\n",
    "# distributed under the License is distributed on an \"AS IS\" BASIS,\n",
    "# WITHOUT WARRANTIES OR CONDITIONS OF ANY KIND, either express or implied.\n",
    "# See the License for the specific language governing permissions and\n",
    "# limitations under the License."
   ]
  },
  {
   "cell_type": "markdown",
   "metadata": {
    "colab_type": "text",
    "id": "DvoukA2tkGV4"
   },
   "source": [
    "# Real World ML Car Prices Regression"
   ]
  },
  {
   "cell_type": "markdown",
   "metadata": {},
   "source": [
    "This is a long exercise with a complex dataset. It is intended to approximate a real world case where data is not clean and you need to compare several approaches and make decisions."
   ]
  },
  {
   "cell_type": "markdown",
   "metadata": {
    "colab_type": "text",
    "id": "T-uIz5xuU2Jz"
   },
   "source": [
    "## Exercise 1: Get the data\n",
    "\n",
    "Original Dataset from: https://www.kaggle.com/austinreese/craigslist-carstrucks-data\n",
    "\n",
    "Mirrored for convenience at https://archive.org/download/craigslist-carstrucks-data/craigslist-carstrucks-data.zip\n",
    "\n",
    "\n",
    "Use your knowledge of shell commands to download and unzip the dataset. (Hint: to pass a command to the shell use `!`)"
   ]
  },
  {
   "cell_type": "code",
   "execution_count": null,
   "metadata": {
    "collapsed": true
   },
   "outputs": [],
   "source": []
  },
  {
   "cell_type": "code",
   "execution_count": null,
   "metadata": {
    "cellView": "both",
    "colab": {
     "base_uri": "https://localhost:8080/",
     "height": 459
    },
    "colab_type": "code",
    "id": "3rLGx2gKUhT_",
    "outputId": "9f9a89d5-a693-4b3d-e317-da06538e5fa1"
   },
   "outputs": [],
   "source": [
    "#@title Update and load  libraries\n",
    "!pip install -U -q pandas_profiling missingno optuna\n",
    "\n",
    "import pandas as pd\n",
    "import numpy as np\n",
    "import matplotlib.pyplot as plt\n",
    "import plotly.express as px\n",
    "import seaborn as sns\n",
    "import pandas_profiling as pp\n",
    "import missingno as msno"
   ]
  },
  {
   "cell_type": "markdown",
   "metadata": {
    "colab_type": "text",
    "id": "IuJmjVbkomq0"
   },
   "source": [
    "## Exercise 2: Load the dataset\n",
    "\n",
    "- Load the dataset into a Pandas DataFrame\n",
    "- Explore it using the `.head()` and `.info()` methods"
   ]
  },
  {
   "cell_type": "code",
   "execution_count": null,
   "metadata": {
    "collapsed": true
   },
   "outputs": [],
   "source": []
  },
  {
   "cell_type": "markdown",
   "metadata": {
    "colab_type": "text",
    "id": "HFyOP4s-4JEf"
   },
   "source": [
    "## Exercise 3: Missing data & Categorical data\n",
    "\n",
    "- Use the `msno.matrix(...)` command to visualize missing data\n",
    "- Create a new DataFrame called `df_stats` with the following properties:\n",
    "  - the index should countain the names of the columns in `df`\n",
    "  - the with 3 columns:\n",
    "    - `perc_missing`: the percentage of missing data in that column\n",
    "    - `n_uniques`: the number of unique values in that column (cardinality)\n",
    "    - `dtype`: the data type of that column\n",
    "\n",
    "The result should look like:\n",
    "\n",
    "\n",
    "||perc_missing|n_uniques|dtype|\n",
    "|:-:|-:|-:|-:|\n",
    "|**state**|0.000000|51|object|\n",
    "|**region**|0.000000|403|object|\n",
    "|**...**|...|...|\n",
    "\n",
    "\n"
   ]
  },
  {
   "cell_type": "code",
   "execution_count": null,
   "metadata": {
    "collapsed": true
   },
   "outputs": [],
   "source": []
  },
  {
   "cell_type": "markdown",
   "metadata": {
    "colab_type": "text",
    "id": "twJ_v0344yam"
   },
   "source": [
    "## Exercise 4: Data Cleaning\n",
    "\n",
    "Based on the resulta of the previous exercise, observe that there are few cases:\n",
    "- columns with no missing\n",
    "- columns with few missing data (< 2%)\n",
    "- columns with lots of missing data that can be dropped (> 20%)\n",
    "- columns with lots of missng data but likely important features. (Manufacturer (5%) and Odometer (17%))\n",
    "\n",
    "\n",
    "Create a new dataset called `dfclean`, starting from a copy of `df` and apply following procedures:\n",
    "- drop columns with more than 20% missing data for now\n",
    "- impute missing `odometer` with 0 and add indicator colum `odometer_missing` that is true when `odometer` has been imputed\n",
    "- impute missing `manufacturer` with `unknown`\n",
    "- impute missing `model` with `unknown`\n",
    "- impute missing `description` with an empty string `''`\n",
    "\n",
    "- drop rows with missing data from the remaining data\n",
    "- drop columns with unique identifiers such as: `id`, `url` and `region_url`\n",
    "- drop `image_url`. We could use images in a second stage, but let's ignore it for now\n",
    "\n",
    "Once you're done, check `dfclean.info()`. It should read:\n",
    "\n",
    "```\n",
    "<class 'pandas.core.frame.DataFrame'>\n",
    "Int64Index: 421257 entries, 0 to 435848\n",
    "Data columns (total 14 columns):\n",
    " #   Column            Non-Null Count   Dtype  \n",
    "---  ------            --------------   -----  \n",
    " 0   region            421257 non-null  object \n",
    " 1   price             421257 non-null  int64  \n",
    " 2   year              421257 non-null  float64\n",
    " 3   manufacturer      421257 non-null  object \n",
    " 4   model             421257 non-null  object \n",
    " 5   fuel              421257 non-null  object \n",
    " 6   odometer          421257 non-null  float64\n",
    " 7   title_status      421257 non-null  object \n",
    " 8   transmission      421257 non-null  object \n",
    " 9   description       421257 non-null  object \n",
    " 10  state             421257 non-null  object \n",
    " 11  lat               421257 non-null  float64\n",
    " 12  long              421257 non-null  float64\n",
    " 13  odometer_is_null  421257 non-null  bool   \n",
    "dtypes: bool(1), float64(4), int64(1), object(8)\n",
    "memory usage: 45.4+ MB\n",
    "``` "
   ]
  },
  {
   "cell_type": "code",
   "execution_count": null,
   "metadata": {
    "collapsed": true
   },
   "outputs": [],
   "source": []
  },
  {
   "cell_type": "markdown",
   "metadata": {
    "colab_type": "text",
    "id": "K11V8sxts80a"
   },
   "source": [
    "## Exercise 5: Pandas Profile Report\n",
    "\n",
    "Use the `pp.ProfileReport(...)` function to generate a report about `dfclean` and read it. What other things can you say about the dataset?"
   ]
  },
  {
   "cell_type": "code",
   "execution_count": null,
   "metadata": {
    "collapsed": true
   },
   "outputs": [],
   "source": []
  },
  {
   "cell_type": "markdown",
   "metadata": {
    "colab_type": "text",
    "id": "mFHjqFzntR93"
   },
   "source": [
    "## Exercise 6: Price data exploration\n",
    "\n",
    "The `price` column is going to be the target of our regression models. Let's explore it first.\n",
    "\n",
    "- Create a new variable called `y = dfclean['price']`\n",
    "- Sort it and inspect the largest and smallest values. Do you notice anything strange?\n",
    "- Plot the sorted price variable and see how it changes. Use a Log scale for better insights.\n",
    "- Use a cumulative histogram to identify reasonable thresholds for minimum and maximum prices.\n",
    "\n",
    "You should observe that there are 3 price regimes:\n",
    "- roughly 10% of the cars have very low or zero price\n",
    "- most of the remaining cars are between \\$100 and \\$100,000\n",
    "- negligible fraction with price over \\$100,000\n",
    "\n",
    "\n",
    "Further dig into the cars with low price by visualizing some rows with price lower than \\$100. You will notice that:\n",
    "\n",
    "- Some of those rows are generic ads for a car dealer, not a specific vehicles\n",
    "- Some of those rows contain scraping errors\n",
    "\n",
    "=> remove rows with price < \\$100 from `dfclean`"
   ]
  },
  {
   "cell_type": "code",
   "execution_count": null,
   "metadata": {
    "collapsed": true
   },
   "outputs": [],
   "source": []
  },
  {
   "cell_type": "markdown",
   "metadata": {
    "colab_type": "text",
    "id": "YfmwLrKpvaTj"
   },
   "source": [
    "## Exercise 7: Numerical features\n",
    "\n",
    "Let's explore the numerical features, their ranges and their distributions.\n",
    "\n",
    "- create a variable `num_columns` that contains the names of the numerical columns. You can find them with the `.select_dtypes` method\n",
    "- use the `.describe` method to see what the minimum and maximum values are for each of them.\n",
    "- Plot a histogram for each of the numerical features\n",
    "- If the feature is extremely skewed try plotting the histogram of `np.log10(feature + 1)` for better visualization.\n",
    "- BONUS: display all the plots in the same figure using `plt.subplot`"
   ]
  },
  {
   "cell_type": "code",
   "execution_count": null,
   "metadata": {
    "collapsed": true
   },
   "outputs": [],
   "source": []
  },
  {
   "cell_type": "markdown",
   "metadata": {
    "colab_type": "text",
    "id": "c5gWiEsdwZQX"
   },
   "source": [
    "## Exercise 8: Categorical features\n",
    "\n",
    "- Create a new variable called `cat_columns` that contains the features with categorical data (not numbers)\n",
    "- Similarly to how you did for `df`, calculate the cardinality of each column, i.e. the number of distinct values.\n",
    "\n",
    "Observe that there are 2 types of categorical columns:\n",
    "- low cardinality (x <= 450) => we will 1-hot-encode these\n",
    "- high cardinality (> 30000) => we will hashing, vectorize or embeddings to treat these."
   ]
  },
  {
   "cell_type": "code",
   "execution_count": null,
   "metadata": {
    "collapsed": true
   },
   "outputs": [],
   "source": []
  },
  {
   "cell_type": "markdown",
   "metadata": {
    "colab_type": "text",
    "id": "lr1YM92U_pGG"
   },
   "source": [
    "## Exercise 9: Map\n",
    "\n",
    "Display a map with a sample of 10000 cars.\n",
    "- Use the `px.scatter_mapbox` function\n",
    "- Use `df.sample` to extract a sample\n",
    "- Use the `lat` and `long` columns\n",
    "\n",
    "You will observe that cars are mostly in the US, with very few outliers"
   ]
  },
  {
   "cell_type": "code",
   "execution_count": null,
   "metadata": {
    "collapsed": true
   },
   "outputs": [],
   "source": []
  },
  {
   "cell_type": "markdown",
   "metadata": {
    "colab_type": "text",
    "id": "6tdQ9lp9YTLP"
   },
   "source": [
    "## Exercise 10: Outliers\n",
    "\n",
    "Let's further investigate outliers.\n",
    "\n",
    "- Display a scatter plot of `price` VS `year` and notice that there are some cars with extremely high prices.\n",
    "- Look at some of the rows where price > \\$100,000\n",
    "\n",
    "Notice that:\n",
    "- in some cases it's probably missing the cents dot (adding two digits at the price)\n",
    "- in some cases its clearly nonsense (111111, 121212)\n",
    "- in some cases it may be a luxury or old car\n",
    "- in some cases it may be a mistake\n",
    "\n",
    "it's less than 500 cars total\n",
    "\n",
    "=> drop all cars with price > \\$100,000 for now\n",
    "\n",
    "- Draw a new scatter plot of `price` VS `year` to see if you notice any trend.\n",
    "- BONUS: use the `sns.boxplot` function for fancier plots\n",
    "- BONUS: repeat the plots using `np.log10(price)` VS `year`"
   ]
  },
  {
   "cell_type": "code",
   "execution_count": null,
   "metadata": {
    "collapsed": true
   },
   "outputs": [],
   "source": []
  },
  {
   "cell_type": "markdown",
   "metadata": {
    "colab_type": "text",
    "id": "LbS2mAVPy985"
   },
   "source": [
    "## Exercise 11: Odometer inspection\n",
    "\n",
    "- Display a scatter plot of `price` VS `log10(odometer)` and of `log10(price)` VS `log10(odometer)` to see if there's any correlation\n",
    "- Use a `sns.barplot` to display the average odometer for each car `manufacturer`\n",
    "- Notice that there's a distinct group of cars with odometer < 500\n",
    "- Inspect some rows for that group. Can you guess what happened there?\n",
    "- Decide what to do with those rows. Will you impute them? Will you ignore them? Will you drop them?"
   ]
  },
  {
   "cell_type": "code",
   "execution_count": null,
   "metadata": {
    "collapsed": true
   },
   "outputs": [],
   "source": []
  },
  {
   "cell_type": "markdown",
   "metadata": {
    "colab_type": "text",
    "id": "XuYrzSHpe8Mt"
   },
   "source": [
    "Most likely odometers < 500 are in thousands of miles instead of miles. Impute later, ignore for now and leave as is."
   ]
  },
  {
   "cell_type": "markdown",
   "metadata": {
    "colab_type": "text",
    "id": "iBBOIF89GUHU"
   },
   "source": [
    "## Exercise 12: Naive Machine Learning\n",
    "\n",
    "Let's build our first machine learning model. It will most likely be very bad, but it will allow us to close the loop, defining a metric and a baseline."
   ]
  },
  {
   "cell_type": "markdown",
   "metadata": {
    "colab_type": "text",
    "id": "UmIEUJtb2bQz"
   },
   "source": [
    "### Part 1: Baseline\n",
    "\n",
    "- Create a new variable called `y` that contains the `price` and drop `price` from `dfclean`\n",
    "- Create a baseline model that always predicts the average price\n",
    "- Score the model with:\n",
    "  - Mean Squared Error\n",
    "  - Mean Absolute Error\n",
    "  - Mean Absolute Percentage Error (MAPE): use this function:\n",
    "  ```python\n",
    "  def mape(y_true, y_pred): \n",
    "      mask = (y_true != 0)\n",
    "      return (np.fabs(y_true - y_pred)/y_true)[mask].mean() \n",
    "  ```\n",
    "  - R2 Score\n",
    "  - Plot of `y_predicted` VS `y_true`"
   ]
  },
  {
   "cell_type": "code",
   "execution_count": null,
   "metadata": {
    "collapsed": true
   },
   "outputs": [],
   "source": []
  },
  {
   "cell_type": "markdown",
   "metadata": {
    "colab_type": "text",
    "id": "Jdu_HGUI2iGP"
   },
   "source": [
    "### Part 2: Linear Regression\n",
    "\n",
    "- Use the `LinearRegression` class from Scikit Learn\n",
    "- Build a simple model that uses only `year` and `odometer` as features\n",
    "- Evaluate the model with all the scores used for the baseline"
   ]
  },
  {
   "cell_type": "code",
   "execution_count": null,
   "metadata": {
    "collapsed": true
   },
   "outputs": [],
   "source": []
  },
  {
   "cell_type": "markdown",
   "metadata": {
    "colab_type": "text",
    "id": "sXr6KVITJOD5"
   },
   "source": [
    "## Exercise 13: Ideas\n",
    "\n",
    "Now that you've created your first model, make a list of idea of things that you could try in order to improve the model. These ideas could involve:\n",
    "- data manipulation\n",
    "- feature engineering\n",
    "- model selection\n",
    "- tooling and infrastructure\n",
    "\n",
    "Generate at least 10-15 ideas."
   ]
  },
  {
   "cell_type": "code",
   "execution_count": null,
   "metadata": {
    "collapsed": true
   },
   "outputs": [],
   "source": []
  },
  {
   "cell_type": "markdown",
   "metadata": {
    "colab_type": "text",
    "id": "fbtair48AQSx"
   },
   "source": [
    "## Exercise 14: Assessing ideas\n",
    "\n",
    "Bucket your ideas into 3 groups:\n",
    "- EASY. These should be straightforward to code if you know the API and their execution should not take more than a few minutes.\n",
    "- MEDIUM. These could take a little longer to code and may take a bit more to execute. The whole experiment should be achievable within a few hours.\n",
    "- HARD. These are good ideas that are time consuming, either because the implementation is not straightforward, or because decision are involved (e.g. how to impute missing data or how to better deal with outliers) or because their evaluation will take a long time.\n",
    "\n",
    "- Make a plan of your next steps that involves doing all the easy ideas and possibly some of the medium ideas\n"
   ]
  },
  {
   "cell_type": "code",
   "execution_count": null,
   "metadata": {
    "collapsed": true
   },
   "outputs": [],
   "source": []
  },
  {
   "cell_type": "markdown",
   "metadata": {
    "colab_type": "text",
    "id": "WaKAPYpzA9xq"
   },
   "source": [
    "## Exercise 15: First and easiest idea\n",
    "\n",
    "My first and easiest idea is to predict the Log10 of prices and perform a Train / Val / Test split. I will also create a small sample X_sample to allow for quick experimentation.\n",
    "\n",
    "My sample sizes will be:\n",
    "\n",
    "```\n",
    "Train set size: 351475 | 80.6% of original df\n",
    "Validation set size: 20000 | 4.59% of original df\n",
    "Test set size: 20000 | 4.59% of original df\n",
    "\n",
    "Small Training sample size: 35147 | 10.0% of training set\n",
    "```\n",
    "\n",
    "You can go ahead and implement your first and easiest idea or follow along and implement this one."
   ]
  },
  {
   "cell_type": "code",
   "execution_count": null,
   "metadata": {
    "collapsed": true
   },
   "outputs": [],
   "source": []
  },
  {
   "cell_type": "markdown",
   "metadata": {
    "colab_type": "text",
    "id": "Qmo5Iz0w_kRp"
   },
   "source": [
    "## Exercise 16: Next idea\n",
    "\n",
    "Let's build some tools that will facilitate assessing other ideas. In particular build a `train_val_model` function with the signature:\n",
    "\n",
    "```python\n",
    "def train_val_model(model, model_name, X_train, y_train, X_val, y_val):\n",
    "    ....\n",
    "    ....\n",
    "    return pd.DataFrame(results,\n",
    "                        columns=[model_name],\n",
    "                        index=['model',\n",
    "                               'r2_score_train', 'r2_score_val',\n",
    "                               'mape_train', 'mape_val',\n",
    "                               'mse_train', 'mse_val',\n",
    "                               'mae_train', 'mae_val',\n",
    "                               'train_time', 'pred_time'])\n",
    "```\n",
    "\n",
    "Feel free to implement your next easiest idea or follow along and implement this one."
   ]
  },
  {
   "cell_type": "code",
   "execution_count": null,
   "metadata": {
    "collapsed": true
   },
   "outputs": [],
   "source": []
  },
  {
   "cell_type": "markdown",
   "metadata": {
    "colab_type": "text",
    "id": "8XCeApx2-4mo"
   },
   "source": [
    "## Exercise 17: Next idea\n",
    "\n",
    "Let's 1-hot encode the categorical columns with more than 2 and less than 500 distinct values.\n",
    "\n",
    "- You can use `ColumnTransformer` and `OneHotEncoder` transformers or `pd.get_dummies`.\n",
    "- You can also calculate following 3 additional features at this stage:\n",
    "  - the car age as 2020 - year\n",
    "  - the Log10 of odometer\n",
    "  - the `odometer_is_null` indicator column\n",
    "\n",
    "Feel free to implement your next easiest idea or follow along and implement this one.\n",
    "\n",
    "If you decide to implement this idea, check the shape of your `X_train` dataset. After 1-hot encoding it should be:\n",
    "\n",
    "`X_train.shape: (351475, 514)`"
   ]
  },
  {
   "cell_type": "code",
   "execution_count": null,
   "metadata": {
    "collapsed": true
   },
   "outputs": [],
   "source": []
  },
  {
   "cell_type": "markdown",
   "metadata": {
    "colab_type": "text",
    "id": "Rsiq8gI-6iKX"
   },
   "source": [
    "## Exercise 18: Next idea\n",
    "\n",
    "New baseline.\n",
    "\n",
    "Use a `DummyRegressor` to create a new baseline model and score it."
   ]
  },
  {
   "cell_type": "code",
   "execution_count": null,
   "metadata": {
    "collapsed": true
   },
   "outputs": [],
   "source": []
  },
  {
   "cell_type": "markdown",
   "metadata": {
    "colab_type": "text",
    "id": "f4NUW0V96zc8"
   },
   "source": [
    "## Exercise 19: Next idea\n",
    "\n",
    "Let's iterate on different models and see which one has the best performance. Feel free to implement this one or your next best idea.\n",
    "\n",
    "To iterate on models:\n",
    "- Load all the necessary model classes from `sklearn`, `xgboost`, `lightgbm`\n",
    "- Make a list of model instances\n",
    "- Iterate on the model instances:\n",
    "  - train the models on `X_train` or on `X_sample` for convenience\n",
    "  - evaluate the models on `X_val`\n",
    "  - accumulate your results in a DataFrame called `df_results` so that they are easy to compare"
   ]
  },
  {
   "cell_type": "code",
   "execution_count": null,
   "metadata": {
    "collapsed": true
   },
   "outputs": [],
   "source": []
  },
  {
   "cell_type": "markdown",
   "metadata": {
    "colab_type": "text",
    "id": "ps3D5NcK8KAE"
   },
   "source": [
    "## Exercise 20: Next idea\n",
    "\n",
    "Best model tuning. Let's look for the best combination of hyperparameters in the best model. The best performance was achieved with a `LGBMRegressor` with default parameters. Let's look for the best hyperparameter combination using 2 tricks:\n",
    "\n",
    "- Let's leverage the fact that LightGBM can understand categorical columns. We will create a new set of features where categorical columns are encoded with `OrdinalEncoder` instead of `OneHotEncoder`.\n",
    "- We will create a `lightgbm.Dataset` with these features and train the model setting the `categorical_feature=` parameter\n",
    "- Let's further optimize the model using the `Optuna` package. We can follow the [example code](https://github.com/optuna/optuna/blob/master/examples/lightgbm_tuner_simple.py).\n",
    "\n",
    "Feel free to continue with your ideas or try to implement this one."
   ]
  },
  {
   "cell_type": "code",
   "execution_count": null,
   "metadata": {
    "collapsed": true
   },
   "outputs": [],
   "source": []
  },
  {
   "cell_type": "markdown",
   "metadata": {
    "colab_type": "text",
    "id": "TgGTLV-v9czf"
   },
   "source": [
    "## Conclusion and Next steps\n",
    "\n",
    "- Is your model good enough?\n",
    "- Can you deploy it?\n",
    "- What other things should you consider?\n",
    "- What are your next steps?"
   ]
  },
  {
   "cell_type": "code",
   "execution_count": null,
   "metadata": {
    "collapsed": true
   },
   "outputs": [],
   "source": []
  }
 ],
 "metadata": {
  "colab": {
   "authorship_tag": "ABX9TyOJWB9s6S9wS5YLk8la7mLZ",
   "collapsed_sections": [],
   "include_colab_link": true,
   "name": "Real_World_ML_Car_Prices_Regression.ipynb",
   "provenance": [],
   "toc_visible": true
  },
  "kernelspec": {
   "display_name": "Python 3",
   "language": "python",
   "name": "python3"
  },
  "language_info": {
   "codemirror_mode": {
    "name": "ipython",
    "version": 3
   },
   "file_extension": ".py",
   "mimetype": "text/x-python",
   "name": "python",
   "nbconvert_exporter": "python",
   "pygments_lexer": "ipython3",
   "version": "3.7.6"
  },
  "widgets": {
   "application/vnd.jupyter.widget-state+json": {
    "0e17ce6b881342bd880da87a8d598205": {
     "model_module": "@jupyter-widgets/controls",
     "model_name": "FloatProgressModel",
     "state": {
      "_dom_classes": [],
      "_model_module": "@jupyter-widgets/controls",
      "_model_module_version": "1.5.0",
      "_model_name": "FloatProgressModel",
      "_view_count": null,
      "_view_module": "@jupyter-widgets/controls",
      "_view_module_version": "1.5.0",
      "_view_name": "ProgressView",
      "bar_style": "success",
      "description": "Render HTML: 100%",
      "description_tooltip": null,
      "layout": "IPY_MODEL_b397eeddc6a04c41a27275cac53e5d38",
      "max": 1,
      "min": 0,
      "orientation": "horizontal",
      "style": "IPY_MODEL_ae1416f110e04ce9ac3eac0c08aa177c",
      "value": 1
     }
    },
    "163ec7e87f834649875aad90c3dc71fb": {
     "model_module": "@jupyter-widgets/controls",
     "model_name": "DescriptionStyleModel",
     "state": {
      "_model_module": "@jupyter-widgets/controls",
      "_model_module_version": "1.5.0",
      "_model_name": "DescriptionStyleModel",
      "_view_count": null,
      "_view_module": "@jupyter-widgets/base",
      "_view_module_version": "1.2.0",
      "_view_name": "StyleView",
      "description_width": ""
     }
    },
    "2568b83119a44045b193b2c9bc75ec7a": {
     "model_module": "@jupyter-widgets/base",
     "model_name": "LayoutModel",
     "state": {
      "_model_module": "@jupyter-widgets/base",
      "_model_module_version": "1.2.0",
      "_model_name": "LayoutModel",
      "_view_count": null,
      "_view_module": "@jupyter-widgets/base",
      "_view_module_version": "1.2.0",
      "_view_name": "LayoutView",
      "align_content": null,
      "align_items": null,
      "align_self": null,
      "border": null,
      "bottom": null,
      "display": null,
      "flex": null,
      "flex_flow": null,
      "grid_area": null,
      "grid_auto_columns": null,
      "grid_auto_flow": null,
      "grid_auto_rows": null,
      "grid_column": null,
      "grid_gap": null,
      "grid_row": null,
      "grid_template_areas": null,
      "grid_template_columns": null,
      "grid_template_rows": null,
      "height": null,
      "justify_content": null,
      "justify_items": null,
      "left": null,
      "margin": null,
      "max_height": null,
      "max_width": null,
      "min_height": null,
      "min_width": null,
      "object_fit": null,
      "object_position": null,
      "order": null,
      "overflow": null,
      "overflow_x": null,
      "overflow_y": null,
      "padding": null,
      "right": null,
      "top": null,
      "visibility": null,
      "width": null
     }
    },
    "275fe65ed61546a28d8bf4fd8e7f0239": {
     "model_module": "@jupyter-widgets/controls",
     "model_name": "HTMLModel",
     "state": {
      "_dom_classes": [],
      "_model_module": "@jupyter-widgets/controls",
      "_model_module_version": "1.5.0",
      "_model_name": "HTMLModel",
      "_view_count": null,
      "_view_module": "@jupyter-widgets/controls",
      "_view_module_version": "1.5.0",
      "_view_name": "HTMLView",
      "description": "",
      "description_tooltip": null,
      "layout": "IPY_MODEL_5d2dedf0e8444dda889db5187539bb1e",
      "placeholder": "​",
      "style": "IPY_MODEL_7c085038534848acb94e41d7849f016f",
      "value": " 1/1 [08:52&lt;00:00, 532.59s/it]"
     }
    },
    "46c10ca809934fa6a60097d75254773e": {
     "model_module": "@jupyter-widgets/controls",
     "model_name": "FloatProgressModel",
     "state": {
      "_dom_classes": [],
      "_model_module": "@jupyter-widgets/controls",
      "_model_module_version": "1.5.0",
      "_model_name": "FloatProgressModel",
      "_view_count": null,
      "_view_module": "@jupyter-widgets/controls",
      "_view_module_version": "1.5.0",
      "_view_name": "ProgressView",
      "bar_style": "success",
      "description": "Summarize dataset: 100%",
      "description_tooltip": null,
      "layout": "IPY_MODEL_4bdc6dced80e40208fd3fe6838c4c103",
      "max": 29,
      "min": 0,
      "orientation": "horizontal",
      "style": "IPY_MODEL_af69829d532b4bbdb36dca5682544b56",
      "value": 29
     }
    },
    "4bdc6dced80e40208fd3fe6838c4c103": {
     "model_module": "@jupyter-widgets/base",
     "model_name": "LayoutModel",
     "state": {
      "_model_module": "@jupyter-widgets/base",
      "_model_module_version": "1.2.0",
      "_model_name": "LayoutModel",
      "_view_count": null,
      "_view_module": "@jupyter-widgets/base",
      "_view_module_version": "1.2.0",
      "_view_name": "LayoutView",
      "align_content": null,
      "align_items": null,
      "align_self": null,
      "border": null,
      "bottom": null,
      "display": null,
      "flex": null,
      "flex_flow": null,
      "grid_area": null,
      "grid_auto_columns": null,
      "grid_auto_flow": null,
      "grid_auto_rows": null,
      "grid_column": null,
      "grid_gap": null,
      "grid_row": null,
      "grid_template_areas": null,
      "grid_template_columns": null,
      "grid_template_rows": null,
      "height": null,
      "justify_content": null,
      "justify_items": null,
      "left": null,
      "margin": null,
      "max_height": null,
      "max_width": null,
      "min_height": null,
      "min_width": null,
      "object_fit": null,
      "object_position": null,
      "order": null,
      "overflow": null,
      "overflow_x": null,
      "overflow_y": null,
      "padding": null,
      "right": null,
      "top": null,
      "visibility": null,
      "width": null
     }
    },
    "546b0cac1ee84b3a992a2317f9ab3663": {
     "model_module": "@jupyter-widgets/base",
     "model_name": "LayoutModel",
     "state": {
      "_model_module": "@jupyter-widgets/base",
      "_model_module_version": "1.2.0",
      "_model_name": "LayoutModel",
      "_view_count": null,
      "_view_module": "@jupyter-widgets/base",
      "_view_module_version": "1.2.0",
      "_view_name": "LayoutView",
      "align_content": null,
      "align_items": null,
      "align_self": null,
      "border": null,
      "bottom": null,
      "display": null,
      "flex": null,
      "flex_flow": null,
      "grid_area": null,
      "grid_auto_columns": null,
      "grid_auto_flow": null,
      "grid_auto_rows": null,
      "grid_column": null,
      "grid_gap": null,
      "grid_row": null,
      "grid_template_areas": null,
      "grid_template_columns": null,
      "grid_template_rows": null,
      "height": null,
      "justify_content": null,
      "justify_items": null,
      "left": null,
      "margin": null,
      "max_height": null,
      "max_width": null,
      "min_height": null,
      "min_width": null,
      "object_fit": null,
      "object_position": null,
      "order": null,
      "overflow": null,
      "overflow_x": null,
      "overflow_y": null,
      "padding": null,
      "right": null,
      "top": null,
      "visibility": null,
      "width": null
     }
    },
    "5a9ffbf010474c84a172e9441bb34d3a": {
     "model_module": "@jupyter-widgets/controls",
     "model_name": "HBoxModel",
     "state": {
      "_dom_classes": [],
      "_model_module": "@jupyter-widgets/controls",
      "_model_module_version": "1.5.0",
      "_model_name": "HBoxModel",
      "_view_count": null,
      "_view_module": "@jupyter-widgets/controls",
      "_view_module_version": "1.5.0",
      "_view_name": "HBoxView",
      "box_style": "",
      "children": [
       "IPY_MODEL_c9b6f9f9f7a84f39bc290d572ac46cea",
       "IPY_MODEL_a17ecc041b2c45938d7e546077ca3a5c"
      ],
      "layout": "IPY_MODEL_cbf6b4e93e6f4eadaf208407b15c3603"
     }
    },
    "5d2dedf0e8444dda889db5187539bb1e": {
     "model_module": "@jupyter-widgets/base",
     "model_name": "LayoutModel",
     "state": {
      "_model_module": "@jupyter-widgets/base",
      "_model_module_version": "1.2.0",
      "_model_name": "LayoutModel",
      "_view_count": null,
      "_view_module": "@jupyter-widgets/base",
      "_view_module_version": "1.2.0",
      "_view_name": "LayoutView",
      "align_content": null,
      "align_items": null,
      "align_self": null,
      "border": null,
      "bottom": null,
      "display": null,
      "flex": null,
      "flex_flow": null,
      "grid_area": null,
      "grid_auto_columns": null,
      "grid_auto_flow": null,
      "grid_auto_rows": null,
      "grid_column": null,
      "grid_gap": null,
      "grid_row": null,
      "grid_template_areas": null,
      "grid_template_columns": null,
      "grid_template_rows": null,
      "height": null,
      "justify_content": null,
      "justify_items": null,
      "left": null,
      "margin": null,
      "max_height": null,
      "max_width": null,
      "min_height": null,
      "min_width": null,
      "object_fit": null,
      "object_position": null,
      "order": null,
      "overflow": null,
      "overflow_x": null,
      "overflow_y": null,
      "padding": null,
      "right": null,
      "top": null,
      "visibility": null,
      "width": null
     }
    },
    "6b81eca1c03b4ede83a8ae1b91824825": {
     "model_module": "@jupyter-widgets/controls",
     "model_name": "ProgressStyleModel",
     "state": {
      "_model_module": "@jupyter-widgets/controls",
      "_model_module_version": "1.5.0",
      "_model_name": "ProgressStyleModel",
      "_view_count": null,
      "_view_module": "@jupyter-widgets/base",
      "_view_module_version": "1.2.0",
      "_view_name": "StyleView",
      "bar_color": null,
      "description_width": "initial"
     }
    },
    "785fb21b485b4d5280996d3547fac207": {
     "model_module": "@jupyter-widgets/controls",
     "model_name": "HTMLModel",
     "state": {
      "_dom_classes": [],
      "_model_module": "@jupyter-widgets/controls",
      "_model_module_version": "1.5.0",
      "_model_name": "HTMLModel",
      "_view_count": null,
      "_view_module": "@jupyter-widgets/controls",
      "_view_module_version": "1.5.0",
      "_view_name": "HTMLView",
      "description": "",
      "description_tooltip": null,
      "layout": "IPY_MODEL_e37da28c3a4d4737b90ed97eafa10f07",
      "placeholder": "​",
      "style": "IPY_MODEL_c345627658f14446a0471e80f669cef0",
      "value": " 29/29 [01:00&lt;00:00,  2.09s/it, Completed]"
     }
    },
    "7c085038534848acb94e41d7849f016f": {
     "model_module": "@jupyter-widgets/controls",
     "model_name": "DescriptionStyleModel",
     "state": {
      "_model_module": "@jupyter-widgets/controls",
      "_model_module_version": "1.5.0",
      "_model_name": "DescriptionStyleModel",
      "_view_count": null,
      "_view_module": "@jupyter-widgets/base",
      "_view_module_version": "1.2.0",
      "_view_name": "StyleView",
      "description_width": ""
     }
    },
    "8f331a5514d246db87135e68c1f47b58": {
     "model_module": "@jupyter-widgets/controls",
     "model_name": "HBoxModel",
     "state": {
      "_dom_classes": [],
      "_model_module": "@jupyter-widgets/controls",
      "_model_module_version": "1.5.0",
      "_model_name": "HBoxModel",
      "_view_count": null,
      "_view_module": "@jupyter-widgets/controls",
      "_view_module_version": "1.5.0",
      "_view_name": "HBoxView",
      "box_style": "",
      "children": [
       "IPY_MODEL_0e17ce6b881342bd880da87a8d598205",
       "IPY_MODEL_275fe65ed61546a28d8bf4fd8e7f0239"
      ],
      "layout": "IPY_MODEL_917785eccaf148fca3dfd56df767e663"
     }
    },
    "917785eccaf148fca3dfd56df767e663": {
     "model_module": "@jupyter-widgets/base",
     "model_name": "LayoutModel",
     "state": {
      "_model_module": "@jupyter-widgets/base",
      "_model_module_version": "1.2.0",
      "_model_name": "LayoutModel",
      "_view_count": null,
      "_view_module": "@jupyter-widgets/base",
      "_view_module_version": "1.2.0",
      "_view_name": "LayoutView",
      "align_content": null,
      "align_items": null,
      "align_self": null,
      "border": null,
      "bottom": null,
      "display": null,
      "flex": null,
      "flex_flow": null,
      "grid_area": null,
      "grid_auto_columns": null,
      "grid_auto_flow": null,
      "grid_auto_rows": null,
      "grid_column": null,
      "grid_gap": null,
      "grid_row": null,
      "grid_template_areas": null,
      "grid_template_columns": null,
      "grid_template_rows": null,
      "height": null,
      "justify_content": null,
      "justify_items": null,
      "left": null,
      "margin": null,
      "max_height": null,
      "max_width": null,
      "min_height": null,
      "min_width": null,
      "object_fit": null,
      "object_position": null,
      "order": null,
      "overflow": null,
      "overflow_x": null,
      "overflow_y": null,
      "padding": null,
      "right": null,
      "top": null,
      "visibility": null,
      "width": null
     }
    },
    "a17ecc041b2c45938d7e546077ca3a5c": {
     "model_module": "@jupyter-widgets/controls",
     "model_name": "HTMLModel",
     "state": {
      "_dom_classes": [],
      "_model_module": "@jupyter-widgets/controls",
      "_model_module_version": "1.5.0",
      "_model_name": "HTMLModel",
      "_view_count": null,
      "_view_module": "@jupyter-widgets/controls",
      "_view_module_version": "1.5.0",
      "_view_name": "HTMLView",
      "description": "",
      "description_tooltip": null,
      "layout": "IPY_MODEL_d746acefa1c0491ea3d9d370a5ea4da6",
      "placeholder": "​",
      "style": "IPY_MODEL_163ec7e87f834649875aad90c3dc71fb",
      "value": " 1/1 [12:42&lt;00:00, 762.45s/it]"
     }
    },
    "ab02e69cb3c34404bd268f6bfd9d4272": {
     "model_module": "@jupyter-widgets/controls",
     "model_name": "HBoxModel",
     "state": {
      "_dom_classes": [],
      "_model_module": "@jupyter-widgets/controls",
      "_model_module_version": "1.5.0",
      "_model_name": "HBoxModel",
      "_view_count": null,
      "_view_module": "@jupyter-widgets/controls",
      "_view_module_version": "1.5.0",
      "_view_name": "HBoxView",
      "box_style": "",
      "children": [
       "IPY_MODEL_46c10ca809934fa6a60097d75254773e",
       "IPY_MODEL_785fb21b485b4d5280996d3547fac207"
      ],
      "layout": "IPY_MODEL_2568b83119a44045b193b2c9bc75ec7a"
     }
    },
    "ae1416f110e04ce9ac3eac0c08aa177c": {
     "model_module": "@jupyter-widgets/controls",
     "model_name": "ProgressStyleModel",
     "state": {
      "_model_module": "@jupyter-widgets/controls",
      "_model_module_version": "1.5.0",
      "_model_name": "ProgressStyleModel",
      "_view_count": null,
      "_view_module": "@jupyter-widgets/base",
      "_view_module_version": "1.2.0",
      "_view_name": "StyleView",
      "bar_color": null,
      "description_width": "initial"
     }
    },
    "af69829d532b4bbdb36dca5682544b56": {
     "model_module": "@jupyter-widgets/controls",
     "model_name": "ProgressStyleModel",
     "state": {
      "_model_module": "@jupyter-widgets/controls",
      "_model_module_version": "1.5.0",
      "_model_name": "ProgressStyleModel",
      "_view_count": null,
      "_view_module": "@jupyter-widgets/base",
      "_view_module_version": "1.2.0",
      "_view_name": "StyleView",
      "bar_color": null,
      "description_width": "initial"
     }
    },
    "b397eeddc6a04c41a27275cac53e5d38": {
     "model_module": "@jupyter-widgets/base",
     "model_name": "LayoutModel",
     "state": {
      "_model_module": "@jupyter-widgets/base",
      "_model_module_version": "1.2.0",
      "_model_name": "LayoutModel",
      "_view_count": null,
      "_view_module": "@jupyter-widgets/base",
      "_view_module_version": "1.2.0",
      "_view_name": "LayoutView",
      "align_content": null,
      "align_items": null,
      "align_self": null,
      "border": null,
      "bottom": null,
      "display": null,
      "flex": null,
      "flex_flow": null,
      "grid_area": null,
      "grid_auto_columns": null,
      "grid_auto_flow": null,
      "grid_auto_rows": null,
      "grid_column": null,
      "grid_gap": null,
      "grid_row": null,
      "grid_template_areas": null,
      "grid_template_columns": null,
      "grid_template_rows": null,
      "height": null,
      "justify_content": null,
      "justify_items": null,
      "left": null,
      "margin": null,
      "max_height": null,
      "max_width": null,
      "min_height": null,
      "min_width": null,
      "object_fit": null,
      "object_position": null,
      "order": null,
      "overflow": null,
      "overflow_x": null,
      "overflow_y": null,
      "padding": null,
      "right": null,
      "top": null,
      "visibility": null,
      "width": null
     }
    },
    "c345627658f14446a0471e80f669cef0": {
     "model_module": "@jupyter-widgets/controls",
     "model_name": "DescriptionStyleModel",
     "state": {
      "_model_module": "@jupyter-widgets/controls",
      "_model_module_version": "1.5.0",
      "_model_name": "DescriptionStyleModel",
      "_view_count": null,
      "_view_module": "@jupyter-widgets/base",
      "_view_module_version": "1.2.0",
      "_view_name": "StyleView",
      "description_width": ""
     }
    },
    "c9b6f9f9f7a84f39bc290d572ac46cea": {
     "model_module": "@jupyter-widgets/controls",
     "model_name": "FloatProgressModel",
     "state": {
      "_dom_classes": [],
      "_model_module": "@jupyter-widgets/controls",
      "_model_module_version": "1.5.0",
      "_model_name": "FloatProgressModel",
      "_view_count": null,
      "_view_module": "@jupyter-widgets/controls",
      "_view_module_version": "1.5.0",
      "_view_name": "ProgressView",
      "bar_style": "success",
      "description": "Generate report structure: 100%",
      "description_tooltip": null,
      "layout": "IPY_MODEL_546b0cac1ee84b3a992a2317f9ab3663",
      "max": 1,
      "min": 0,
      "orientation": "horizontal",
      "style": "IPY_MODEL_6b81eca1c03b4ede83a8ae1b91824825",
      "value": 1
     }
    },
    "cbf6b4e93e6f4eadaf208407b15c3603": {
     "model_module": "@jupyter-widgets/base",
     "model_name": "LayoutModel",
     "state": {
      "_model_module": "@jupyter-widgets/base",
      "_model_module_version": "1.2.0",
      "_model_name": "LayoutModel",
      "_view_count": null,
      "_view_module": "@jupyter-widgets/base",
      "_view_module_version": "1.2.0",
      "_view_name": "LayoutView",
      "align_content": null,
      "align_items": null,
      "align_self": null,
      "border": null,
      "bottom": null,
      "display": null,
      "flex": null,
      "flex_flow": null,
      "grid_area": null,
      "grid_auto_columns": null,
      "grid_auto_flow": null,
      "grid_auto_rows": null,
      "grid_column": null,
      "grid_gap": null,
      "grid_row": null,
      "grid_template_areas": null,
      "grid_template_columns": null,
      "grid_template_rows": null,
      "height": null,
      "justify_content": null,
      "justify_items": null,
      "left": null,
      "margin": null,
      "max_height": null,
      "max_width": null,
      "min_height": null,
      "min_width": null,
      "object_fit": null,
      "object_position": null,
      "order": null,
      "overflow": null,
      "overflow_x": null,
      "overflow_y": null,
      "padding": null,
      "right": null,
      "top": null,
      "visibility": null,
      "width": null
     }
    },
    "d746acefa1c0491ea3d9d370a5ea4da6": {
     "model_module": "@jupyter-widgets/base",
     "model_name": "LayoutModel",
     "state": {
      "_model_module": "@jupyter-widgets/base",
      "_model_module_version": "1.2.0",
      "_model_name": "LayoutModel",
      "_view_count": null,
      "_view_module": "@jupyter-widgets/base",
      "_view_module_version": "1.2.0",
      "_view_name": "LayoutView",
      "align_content": null,
      "align_items": null,
      "align_self": null,
      "border": null,
      "bottom": null,
      "display": null,
      "flex": null,
      "flex_flow": null,
      "grid_area": null,
      "grid_auto_columns": null,
      "grid_auto_flow": null,
      "grid_auto_rows": null,
      "grid_column": null,
      "grid_gap": null,
      "grid_row": null,
      "grid_template_areas": null,
      "grid_template_columns": null,
      "grid_template_rows": null,
      "height": null,
      "justify_content": null,
      "justify_items": null,
      "left": null,
      "margin": null,
      "max_height": null,
      "max_width": null,
      "min_height": null,
      "min_width": null,
      "object_fit": null,
      "object_position": null,
      "order": null,
      "overflow": null,
      "overflow_x": null,
      "overflow_y": null,
      "padding": null,
      "right": null,
      "top": null,
      "visibility": null,
      "width": null
     }
    },
    "e37da28c3a4d4737b90ed97eafa10f07": {
     "model_module": "@jupyter-widgets/base",
     "model_name": "LayoutModel",
     "state": {
      "_model_module": "@jupyter-widgets/base",
      "_model_module_version": "1.2.0",
      "_model_name": "LayoutModel",
      "_view_count": null,
      "_view_module": "@jupyter-widgets/base",
      "_view_module_version": "1.2.0",
      "_view_name": "LayoutView",
      "align_content": null,
      "align_items": null,
      "align_self": null,
      "border": null,
      "bottom": null,
      "display": null,
      "flex": null,
      "flex_flow": null,
      "grid_area": null,
      "grid_auto_columns": null,
      "grid_auto_flow": null,
      "grid_auto_rows": null,
      "grid_column": null,
      "grid_gap": null,
      "grid_row": null,
      "grid_template_areas": null,
      "grid_template_columns": null,
      "grid_template_rows": null,
      "height": null,
      "justify_content": null,
      "justify_items": null,
      "left": null,
      "margin": null,
      "max_height": null,
      "max_width": null,
      "min_height": null,
      "min_width": null,
      "object_fit": null,
      "object_position": null,
      "order": null,
      "overflow": null,
      "overflow_x": null,
      "overflow_y": null,
      "padding": null,
      "right": null,
      "top": null,
      "visibility": null,
      "width": null
     }
    }
   }
  }
 },
 "nbformat": 4,
 "nbformat_minor": 1
}
